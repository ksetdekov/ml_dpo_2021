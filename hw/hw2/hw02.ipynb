{
  "nbformat": 4,
  "nbformat_minor": 0,
  "metadata": {
    "kernelspec": {
      "display_name": "BASE_ENV",
      "language": "python",
      "name": "base_env"
    },
    "language_info": {
      "codemirror_mode": {
        "name": "ipython",
        "version": 3
      },
      "file_extension": ".py",
      "mimetype": "text/x-python",
      "name": "python",
      "nbconvert_exporter": "python",
      "pygments_lexer": "ipython3",
      "version": "3.6.12"
    },
    "colab": {
      "name": "hw02.ipynb",
      "provenance": [],
      "include_colab_link": true
    }
  },
  "cells": [
    {
      "cell_type": "markdown",
      "metadata": {
        "id": "view-in-github",
        "colab_type": "text"
      },
      "source": [
        "<a href=\"https://colab.research.google.com/github/ksetdekov/ml_dpo_2021/blob/master/hw/hw2/hw02.ipynb\" target=\"_parent\"><img src=\"https://colab.research.google.com/assets/colab-badge.svg\" alt=\"Open In Colab\"/></a>"
      ]
    },
    {
      "cell_type": "markdown",
      "metadata": {
        "id": "1SHu26g4UI68"
      },
      "source": [
        "# Домашнее задание №2\n",
        "\n",
        "Задание выполнил: ```(Кирилл Сетдеков)```\n",
        "\n",
        "### Общая информация\n",
        "\n",
        "__Дата выдачи:__ 25.04.2021\n",
        "\n",
        "__Дедлайн:__ 05.05.2021 23:59\n",
        "\n",
        "# О задании\n",
        "\n",
        "В этом домашнем задании вы реализуете градиентный спуск и стохастический градиентный спуск для обучения линейной регрессии, попрактикуетесь в анализе данных и их обработке, а также примените модели линейной регрессии на практике и проанализируете результаты.\n",
        "\n",
        "Обратите внимание, что вам не только нужно написать код, но и в некоторых местах ответить на вопросы.\n",
        "\n",
        "\n",
        "### Оценивание и штрафы\n",
        "\n",
        "\n",
        "#### Gradient Descent [8 баллов]\n",
        "* [Задание 1](#task1) [1 балл]\n",
        "* [Задание 2](#task2) [2 балла]\n",
        "* [Задание 3](#task3) [3 балла]\n",
        "* [Задание 4](#task4) [2 балла]\n",
        "\n",
        "#### Linear Regression [8 баллов] + 2 бонусных\n",
        "* [Задание 1](#task21) [1 балл]\n",
        "* [Задание 2](#task22) [1 балл]\n",
        "* [Задание 3](#task23) [1 балл]\n",
        "* [Задание 4](#task24) [1 балл]\n",
        "* [Задание 5](#task25) [1 балл]\n",
        "* [Задание 6](#task26) [1 балл]\n",
        "* [Задание 7](#task27) [1 балл]\n",
        "* [Задание 8](#task28) [1 балл]\n",
        "* [Задание 9](#task29) [2 баллa]\n",
        "\n",
        "\n",
        "Итоговая оценка за домашнюю работу вычисляется по формуле: $$s \\cdot \\frac{10}{16},$$ где $s$ - сумма набранных балов. С учетом бонусов, за домашнее задание можно получить > 10 балов. \n",
        "\n",
        "За сдачу задания позже срока на итоговую оценку за задание накладывается штраф в размере 0.25 балла в день (от оценки в 10 бальной шкале), но получить отрицательную оценку нельзя.\n",
        "\n",
        "__Внимание!__ Домашнее задание выполняется самостоятельно. «Похожие» решения считаются плагиатом и все задействованные студенты (в том числе те, у кого списали) не могут получить за него больше 0 баллов.\n",
        "\n",
        "### Формат сдачи\n",
        "\n",
        "Загрузка файлов с решениями происходит в системе [Anytask](https://anytask.org/course/811). "
      ]
    },
    {
      "cell_type": "markdown",
      "metadata": {
        "id": "3JRnTcvqUI7I"
      },
      "source": [
        "## Часть 1. Gradient Descent\n",
        "\n",
        "Среднеквадратичная ошибка на всем датасете $(X, y) = \\{(x_1, y_1), \\ldots, (x_\\ell, y_\\ell)\\}$ для линейной регрессии с вектором весов $w$ (в предположении, что в данных есть единичный признак) представляется следующим образом:\n",
        "\n",
        "$$\n",
        "Q(w) = \\frac{1}{\\ell}\\|Xw - y\\|_2^2\n",
        "$$\n",
        "\n",
        "Градиент данного функционала потерь по $w$:\n",
        "\n",
        "$$\n",
        "\\nabla_w Q(w) = \\frac{2}{\\ell}X^T(Xw - y)\n",
        "$$"
      ]
    },
    {
      "cell_type": "code",
      "metadata": {
        "id": "RyAX4U9WUI7J"
      },
      "source": [
        "import matplotlib.pyplot as plt\n",
        "import numpy as np\n",
        "import pandas as pd\n",
        "\n",
        "%matplotlib inline"
      ],
      "execution_count": 1,
      "outputs": []
    },
    {
      "cell_type": "markdown",
      "metadata": {
        "id": "058cM0PqUI7K"
      },
      "source": [
        "Для тестирования реализованных вами методов будет использоваться датасет о ценах домов из `sklearn`."
      ]
    },
    {
      "cell_type": "code",
      "metadata": {
        "id": "UgtGf0m_UI7L"
      },
      "source": [
        "from sklearn.datasets import load_boston\n",
        "from sklearn.model_selection import train_test_split\n",
        "\n",
        "# загружаем данные\n",
        "data = load_boston()\n",
        "X = pd.DataFrame(data.data, columns=data.feature_names)\n",
        "y = data.target\n",
        "\n",
        "# делим данные на обучающую и тестовую часть\n",
        "X_train, X_test, y_train, y_test = train_test_split(np.array(X), y, test_size=0.3, random_state=10)"
      ],
      "execution_count": 3,
      "outputs": []
    },
    {
      "cell_type": "markdown",
      "metadata": {
        "id": "Ujjl1AFGUI7M"
      },
      "source": [
        "### Задание 1 <a id=\"task1\"></a>"
      ]
    },
    {
      "cell_type": "markdown",
      "metadata": {
        "id": "mwQksf3QUI7N"
      },
      "source": [
        "С линейной регрессией удобно работать в матрично-векторном виде, если предположить, что в данных есть единичный признак. Реализуйте функцию, которая принимает на вход матрицу объекты-признаки, и добавляет в нее столбец (первый), заполненный единицами. Примените написанную функцию к обучающей и тестовой части имеющихся данных.\n",
        "\n",
        "Например, если на вход подается матрица \n",
        "$$\n",
        "\\begin{pmatrix}\n",
        "2 & 4 & 4200\\\\\n",
        "0 & 10 & 5000\\\\\n",
        "2 & 2 & 1000\\\\\n",
        "\\end{pmatrix},\n",
        "$$\n",
        "то на выходе будет матрица\n",
        "$$\n",
        "\\begin{pmatrix}\n",
        "1 & 2 & 4 & 4200\\\\\n",
        "1 & 0 & 10 & 5000\\\\\n",
        "1 & 2 & 2 & 1000\\\\\n",
        "\\end{pmatrix}$$\n",
        "\n",
        "**Hint** \n",
        "- Вам могут пригодиться функции `np.concatenate`, `np.ones`"
      ]
    },
    {
      "cell_type": "code",
      "metadata": {
        "id": "nR77KVYjUI7N"
      },
      "source": [
        "# create function\n",
        "def add_identity_feature(X):\n",
        "    '''\n",
        "    INPUT:\n",
        "    X - np.array shape=(ℓ, d-1)\n",
        "    \n",
        "    OUTPUT:\n",
        "    X - np.array shape=(ℓ, d)\n",
        "    '''\n",
        "    leftmost = np.ones((X.shape[0], 1))\n",
        "    X = np.append(leftmost, X, axis=1)\n",
        "    return X\n",
        "\n",
        "X_train = add_identity_feature(X_train)\n",
        "X_test = add_identity_feature(X_test)\n"
      ],
      "execution_count": 4,
      "outputs": []
    },
    {
      "cell_type": "code",
      "metadata": {
        "id": "B6fyC3lBUI7O"
      },
      "source": [
        "# test yourself\n",
        "assert X_train.shape == (354, 14)\n",
        "assert len(X_train) == X_train.sum(axis=0)[0]\n",
        "\n",
        "assert X_test.shape == (152, 14)\n",
        "assert len(X_test) == X_test.sum(axis=0)[0]"
      ],
      "execution_count": 5,
      "outputs": []
    },
    {
      "cell_type": "markdown",
      "metadata": {
        "id": "rerObh2tUI7O"
      },
      "source": [
        "### Задание 2 <a id=\"task2\"></a>\n",
        "\n",
        "Реализуйте подсчет среднеквадратичной функции потерь и ее градиента по весам. Формулы должны быть реализованы в явном виде с помощью `numpy`, без использования циклов `for`."
      ]
    },
    {
      "cell_type": "markdown",
      "metadata": {
        "id": "8PyJmqSLUI7P"
      },
      "source": [
        "**Hint** \n",
        "- Для умножения матрицы на вектор (или матрицы на матрицу) можно использовать функцию `np.dot`. \n",
        "- Не забывайте, что оператор `*` используется только для поэлементного умножения.\n",
        "- Также может пригодиться функция `np.linalg.norm`"
      ]
    },
    {
      "cell_type": "code",
      "metadata": {
        "id": "Hj2nLG7xUI7P"
      },
      "source": [
        "def mse_loss(X, y, w):\n",
        "    \"\"\"\n",
        "    INPUT:\n",
        "    X - np.array shape=(ℓ, d)\n",
        "    y - np.array shape=(ℓ,)\n",
        "    w - np.array shape=(d,)\n",
        "    \n",
        "    OUTPUT:\n",
        "    loss - scalar\n",
        "    \"\"\"\n",
        "    \n",
        "    y_hat = X @ w\n",
        "    loss = np.linalg.norm(y - y_hat)\n",
        "    loss = (loss**2) / X.shape[0]\n",
        "\n",
        "    return loss\n",
        "\n",
        "\n",
        "def mse_grad(X, y, w):\n",
        "    \"\"\"\n",
        "    INPUT:\n",
        "    X - np.array shape=(ℓ, d)\n",
        "    y - np.array shape=(ℓ,)\n",
        "    w - np.array shape=(d,)\n",
        "    \n",
        "    OUTPUT:\n",
        "    grad - np.array shape=(d,)\n",
        "    \"\"\"\n",
        "\n",
        "    grad = (2/ X.shape[0]) *( X.T @ X @ w - X.T @ y)\n",
        "    return grad"
      ],
      "execution_count": 31,
      "outputs": []
    },
    {
      "cell_type": "markdown",
      "metadata": {
        "id": "foMHZhhgUI7Q"
      },
      "source": [
        "Посчитайте `result_mse_sklearn` используя функцию `mean_squared_error` из sklearn, чтобы сравнить c результатом вашей функции"
      ]
    },
    {
      "cell_type": "code",
      "metadata": {
        "id": "OiUrWE8qUI7R"
      },
      "source": [
        "from sklearn.metrics import mean_squared_error\n",
        "\n",
        "w = np.zeros(X_train.shape[1])\n",
        "\n",
        "result_mse_custom = mse_loss(X_train, y_train, w)\n",
        "result_mse_grad = mse_grad(X_train, y_train, w)\n",
        "\n",
        "\n",
        "result_mse_sklearn = mean_squared_error(y_train, np.dot(X_train,w))\n",
        "\n",
        "assert (X_train @ w).shape == y_train.shape\n",
        "assert np.allclose(result_mse_custom, result_mse_sklearn)\n",
        "assert np.allclose(result_mse_grad, np.array([-43.9424,  -99.9887, -675.8766, -444.0919,   -3.0395,  \n",
        "                                              -23.5569,   -282.6831,  -2829.3631,   -177.206 ,  -373.6983,\n",
        "                                              -16820.8966,   -796.6377, -16136.5175,   -477.6308]),rtol=1e-03)"
      ],
      "execution_count": 34,
      "outputs": []
    },
    {
      "cell_type": "markdown",
      "metadata": {
        "id": "dUcl44nwUI7S"
      },
      "source": [
        "### Задание 3  <a id=\"task3\"></a>\n",
        "\n",
        "Реализуйте класс для линейной регрессии. Он должен поддерживать обучение с помощью градиентного спуска (метод `fit`) и предсказание для выборки (метод `predict`).\n",
        "\n",
        "Метод `fit` должен возвращать список из значений функционала потерь на каждой итерации градиентного спуска. Напомним, что алгоритм градиентного спуска состоит из трех этапов:\n",
        "\n",
        "1. **Инициализация.** В данном случае вектор весов вы можете инициализировать нулями.\n",
        "2. **Шаг градиентного спуска.** Обновление весов с помощью антиградиента функционала потерь с заданной длиной шага (параметр `eta`). \n",
        "$$\n",
        "w^{t+1} = w^t - \\eta \\nabla Q(w^t)\n",
        "$$\n",
        "Для того, чтобы нарисовать график зависимости значения функционала потерь от номера итерации, необходимо на каждом шаге запоминать значение функционала потерь (обновлять список `self.loss_history`). На этом этапе вы можете использовать уже реализованные вами функции `mse_loss` и `mse_grad` из предыдущего задания.\n",
        "\n",
        "3. **Остановка.** В качестве критерия останова используйте $\\|w^t - w^{t - 1}\\| < \\varepsilon$ (значение $\\varepsilon$ задается параметром `tol`). В качестве дополнительного критерия останова используйте максимальное число итераций (параметр `max_iter`). Таким образом, даже если первый критерий не сработает, алгоритм все равно остановится после `max_iter` шагов."
      ]
    },
    {
      "cell_type": "code",
      "metadata": {
        "id": "ep78MfCDUI7U"
      },
      "source": [
        "class CustomLinearRegressionGD:\n",
        "    def __init__(self):\n",
        "        self.w = None\n",
        "        self.loss_history = None\n",
        "        \n",
        "    def fit(self, X, y, max_iter=100, tol=1e-6, eta=1e-6):\n",
        "        \"\"\"\n",
        "        ARGUMENTS:\n",
        "        max_iter - максимальное число шагов градиентного спуска\n",
        "        tol - значение эпсилон для критерия останова\n",
        "        eta - длина шага градиентного спуска (learning rate)\n",
        "        X - np.array of shape (ℓ, d)\n",
        "        y - np.array of shape (ℓ,)\n",
        "        \n",
        "        OUTPUT:\n",
        "        loss_hist - list \n",
        "        \"\"\"\n",
        "        \n",
        "        self.w = np.zeros(X.shape[1])\n",
        "        self.loss_history = [mse_loss(X, y, self.w)]\n",
        "        for t in range(max_iter):\n",
        "            next_w = self.w - eta * mse_grad(X, y, self.w)\n",
        "            self.w = next_w \n",
        "            self.loss_history.append(mse_loss(X, y, self.w))\n",
        "        \n",
        "        return self.loss_history\n",
        "        \n",
        "    def predict(self, X):\n",
        "        \"\"\"\n",
        "        ARGUMENTS:\n",
        "        X_test - np.array of shape (ℓ, d)\n",
        "        \n",
        "        OUTPUT:\n",
        "        y_pred - np.array of shape (ℓ,)\n",
        "        \"\"\"\n",
        "        # your code here\n",
        "        return y_pred"
      ],
      "execution_count": 35,
      "outputs": []
    },
    {
      "cell_type": "markdown",
      "metadata": {
        "id": "bfIlvqz4UI7U"
      },
      "source": [
        "Проверьте работу вашего класса. \n",
        "- Обучите линейную регрессию на обучающей части выборки.\n",
        "- Постройте график зависимости значения функционала потерь от итерации градиентного спуска. \n",
        "- Подберите вручную оптимальную длину шага градиентного спуска и посчитайте MSE на тестовой части с помощью функции `mean_squared_error` из `sklearn`. \n",
        "- Добейтесь того, чтобы значение MSE не превышало 100."
      ]
    },
    {
      "cell_type": "code",
      "metadata": {
        "id": "NFgi9JJiUI7V",
        "outputId": "a2c068d2-6005-4ee5-8e00-367dca0c8fd7",
        "colab": {
          "base_uri": "https://localhost:8080/"
        }
      },
      "source": [
        "lr = CustomLinearRegressionGD()\n",
        "lr.fit(X, y)"
      ],
      "execution_count": 36,
      "outputs": [
        {
          "output_type": "execute_result",
          "data": {
            "text/plain": [
              "[592.1469169960475,\n",
              " 196.24724722871895,\n",
              " 136.88337490947555,\n",
              " 124.94909597282222,\n",
              " 119.97944663875393,\n",
              " 116.28500716597888,\n",
              " 113.04250375902105,\n",
              " 110.11172393529547,\n",
              " 107.45028015685948,\n",
              " 105.03155379673996,\n",
              " 102.83302819063091,\n",
              " 100.8344831484161,\n",
              " 99.01758452882862,\n",
              " 97.36568339068513,\n",
              " 95.86365760331825,\n",
              " 94.49777133940988,\n",
              " 93.25554791822812,\n",
              " 92.12565437090629,\n",
              " 91.09779659664525,\n",
              " 90.1626241310744,\n",
              " 89.3116436445309,\n",
              " 88.53714036984591,\n",
              " 87.83210673272926,\n",
              " 87.19017752449857,\n",
              " 86.60557101742577,\n",
              " 86.07303547794999,\n",
              " 85.587800582943,\n",
              " 85.1455332895715,\n",
              " 84.74229775050175,\n",
              " 84.37451890361659,\n",
              " 84.03894939940746,\n",
              " 83.7326395600823,\n",
              " 83.45291009247553,\n",
              " 83.19732730232502,\n",
              " 82.96368058061759,\n",
              " 82.7499619537273,\n",
              " 82.55434750816141,\n",
              " 82.37518051807156,\n",
              " 82.21095611943996,\n",
              " 82.06030738915985,\n",
              " 81.92199270022508,\n",
              " 81.79488423605086,\n",
              " 81.67795755766811,\n",
              " 81.57028212727816,\n",
              " 81.47101270049797,\n",
              " 81.37938150766557,\n",
              " 81.29469115187284,\n",
              " 81.21630815802527,\n",
              " 81.14365711324896,\n",
              " 81.07621534443783,\n",
              " 81.01350808370192,\n",
              " 80.95510407699147,\n",
              " 80.90061159527201,\n",
              " 80.84967481134814,\n",
              " 80.8019705088194,\n",
              " 80.75720509272001,\n",
              " 80.7151118741894,\n",
              " 80.67544860405218,\n",
              " 80.63799523249187,\n",
              " 80.60255187409072,\n",
              " 80.56893695941208,\n",
              " 80.5369855560241,\n",
              " 80.50654784343224,\n",
              " 80.47748772781279,\n",
              " 80.44968158373123,\n",
              " 80.42301711120552,\n",
              " 80.39739229754048,\n",
              " 80.37271447432906,\n",
              " 80.34889946089724,\n",
              " 80.32587078626723,\n",
              " 80.30355898244291,\n",
              " 80.28190094247785,\n",
              " 80.26083933738877,\n",
              " 80.24032208651941,\n",
              " 80.22030187645501,\n",
              " 80.20073572403756,\n",
              " 80.18158457943835,\n",
              " 80.16281296561641,\n",
              " 80.14438865082703,\n",
              " 80.12628235115098,\n",
              " 80.10846746029215,\n",
              " 80.09091980414455,\n",
              " 80.07361741785733,\n",
              " 80.056540343336,\n",
              " 80.03967044530646,\n",
              " 80.02299124423975,\n",
              " 80.00648776459269,\n",
              " 79.99014639695974,\n",
              " 79.9739547728612,\n",
              " 79.95790165100931,\n",
              " 79.94197681400016,\n",
              " 79.9261709744755,\n",
              " 79.91047568988658,\n",
              " 79.89488328507147,\n",
              " 79.87938678192948,\n",
              " 79.86397983554188,\n",
              " 79.84865667614878,\n",
              " 79.83341205644467,\n",
              " 79.81824120370477,\n",
              " 79.80313977630054,\n",
              " 79.78810382420087]"
            ]
          },
          "metadata": {
            "tags": []
          },
          "execution_count": 36
        }
      ]
    },
    {
      "cell_type": "code",
      "metadata": {
        "id": "gsWAC1sCO2kp"
      },
      "source": [
        "loss_history = lr.loss_history"
      ],
      "execution_count": 39,
      "outputs": []
    },
    {
      "cell_type": "code",
      "metadata": {
        "id": "I_RgS6UIUI7V",
        "outputId": "091641ab-271a-4e61-ab01-c826f9415b3e",
        "colab": {
          "base_uri": "https://localhost:8080/",
          "height": 404
        }
      },
      "source": [
        "plt.figure(figsize=(10, 6))\n",
        "plt.plot(loss_history)\n",
        "plt.title('MSE loss dependence on GD iteration')\n",
        "plt.xlabel('GD iteration')\n",
        "plt.ylabel('Loss')\n",
        "plt.grid()\n",
        "plt.show()"
      ],
      "execution_count": 40,
      "outputs": [
        {
          "output_type": "display_data",
          "data": {
            "image/png": "[encoded data removed]",
            "text/plain": [
              "<Figure size 720x432 with 1 Axes>"
            ]
          },
          "metadata": {
            "tags": [],
            "needs_background": "light"
          }
        }
      ]
    },
    {
      "cell_type": "code",
      "metadata": {
        "id": "VMHmslsmUI7W",
        "outputId": "23cfdcf0-77b2-47a0-bc3d-0a02dc00ec0d"
      },
      "source": [
        "mse_test = mse_loss(X_test, y_test, lr.w)\n",
        "print(mse_test)\n",
        "assert len(loss_history) <= 1000\n",
        "assert mse_test <= 100"
      ],
      "execution_count": null,
      "outputs": [
        {
          "output_type": "stream",
          "text": [
            "93.86575118282471\n"
          ],
          "name": "stdout"
        }
      ]
    },
    {
      "cell_type": "markdown",
      "metadata": {
        "id": "z3rqBwb4UI7X"
      },
      "source": [
        "### Задание 4 <a id=\"task4\"></a>"
      ]
    },
    {
      "cell_type": "markdown",
      "metadata": {
        "id": "tEhVdvZpUI7Y"
      },
      "source": [
        "Как известно, масштабирование данных может помочь в сходимости градиентного спуска (вспомните, почему). Отмасштабируйте имеющиеся данные с помощью мин-макс шкалирования:\n",
        "\n",
        "$$\n",
        "x^j = \\frac{x^j - \\min(x^j)}{\\max(x^j) - \\min(x^j)},\n",
        "$$\n",
        "\n",
        "где $x^j$ - это вектор значений признака.\n",
        "\n",
        "Учтите, что единичный признак нормировать не надо (почему?). Так что либо придумайте способ, как отнормировать все столбцы, кроме единичного.\n",
        "\n",
        "Примените линейную регрессию с градиентным спуском к данным, подберите оптимальную длину шага. Добейтесь того, чтобы значение MSE не превышало 100.\n",
        "\n",
        "Опишите наблюдения. Изменилась ли ситуация?"
      ]
    },
    {
      "cell_type": "code",
      "metadata": {
        "id": "uP9a7wslUI7Y"
      },
      "source": [
        "# scale the data\n",
        "# your code here\n",
        "\n",
        "\n",
        "# train linear regression with gradient descent\n",
        "lr_scaled = CustomLinearRegressionGD()\n",
        "# your code here"
      ],
      "execution_count": null,
      "outputs": []
    },
    {
      "cell_type": "code",
      "metadata": {
        "id": "P6s8h52gUI7Z"
      },
      "source": [
        "plt.figure(figsize=(10, 6))\n",
        "plt.plot(loss_history)\n",
        "plt.title('MSE loss dependence on SGD iteration')\n",
        "plt.xlabel('SGD iteration')\n",
        "plt.ylabel('Loss')\n",
        "plt.grid()\n",
        "plt.show()"
      ],
      "execution_count": null,
      "outputs": []
    },
    {
      "cell_type": "markdown",
      "metadata": {
        "id": "Bo3oY_0jUI7a"
      },
      "source": [
        "``` Опишите свои наблюдения.```"
      ]
    },
    {
      "cell_type": "code",
      "metadata": {
        "id": "MdwmhibtUI7a",
        "outputId": "5d3a9bf8-523e-4f59-bc17-106c5039f3f1"
      },
      "source": [
        "mse_test = mse_loss(X_test_scaled, y_test, lr_scaled.w)\n",
        "print(mse_test)\n",
        "assert mse_test <= 100"
      ],
      "execution_count": null,
      "outputs": [
        {
          "output_type": "stream",
          "text": [
            "90.76566264251974\n"
          ],
          "name": "stdout"
        }
      ]
    },
    {
      "cell_type": "markdown",
      "metadata": {
        "id": "ASEVyc2oUI7b"
      },
      "source": [
        "# Часть 2 "
      ]
    },
    {
      "cell_type": "code",
      "metadata": {
        "id": "BY22qq7jUI7c"
      },
      "source": [
        "import matplotlib.pyplot as plt\n",
        "import numpy as np\n",
        "import pandas as pd\n",
        "\n",
        "from sklearn.linear_model import LinearRegression, Lasso, Ridge\n",
        "from sklearn.metrics import mean_squared_error\n",
        "from sklearn.model_selection import train_test_split, GridSearchCV\n",
        "from sklearn.preprocessing import MinMaxScaler, StandardScaler\n",
        "\n",
        "%matplotlib inline"
      ],
      "execution_count": null,
      "outputs": []
    },
    {
      "cell_type": "markdown",
      "metadata": {
        "id": "eC1DQcP5UI7d"
      },
      "source": [
        "В этой части вы поработаете с данными из другого соревнования на Kaggle: https://www.kaggle.com/c/house-prices-advanced-regression-techniques. Задача - предсказание цены дома.\n",
        "\n",
        "Данные можно скачать [тут](https://raw.githubusercontent.com/WeaselCMC/ml_dpo_2021/master/hw/hw2/train.csv)"
      ]
    },
    {
      "cell_type": "code",
      "metadata": {
        "id": "45lqIuKrUI7e",
        "outputId": "941066ea-2e44-469d-b65f-218b36f70420"
      },
      "source": [
        "data = pd.read_csv('train.csv', header=0)\n",
        "data.drop('Id', axis=1, inplace=True)\n",
        "data.shape"
      ],
      "execution_count": null,
      "outputs": [
        {
          "output_type": "execute_result",
          "data": {
            "text/plain": [
              "(1460, 80)"
            ]
          },
          "metadata": {
            "tags": []
          },
          "execution_count": 161
        }
      ]
    },
    {
      "cell_type": "code",
      "metadata": {
        "id": "brKRqJm5UI7e",
        "outputId": "475e2f70-bbb0-401a-8ae8-6171becbc9b3"
      },
      "source": [
        "data.head()"
      ],
      "execution_count": null,
      "outputs": [
        {
          "output_type": "execute_result",
          "data": {
            "text/html": [
              "<div>\n",
              "<style scoped>\n",
              "    .dataframe tbody tr th:only-of-type {\n",
              "        vertical-align: middle;\n",
              "    }\n",
              "\n",
              "    .dataframe tbody tr th {\n",
              "        vertical-align: top;\n",
              "    }\n",
              "\n",
              "    .dataframe thead th {\n",
              "        text-align: right;\n",
              "    }\n",
              "</style>\n",
              "<table border=\"1\" class=\"dataframe\">\n",
              "  <thead>\n",
              "    <tr style=\"text-align: right;\">\n",
              "      <th></th>\n",
              "      <th>MSSubClass</th>\n",
              "      <th>MSZoning</th>\n",
              "      <th>LotFrontage</th>\n",
              "      <th>LotArea</th>\n",
              "      <th>Street</th>\n",
              "      <th>Alley</th>\n",
              "      <th>LotShape</th>\n",
              "      <th>LandContour</th>\n",
              "      <th>Utilities</th>\n",
              "      <th>LotConfig</th>\n",
              "      <th>...</th>\n",
              "      <th>PoolArea</th>\n",
              "      <th>PoolQC</th>\n",
              "      <th>Fence</th>\n",
              "      <th>MiscFeature</th>\n",
              "      <th>MiscVal</th>\n",
              "      <th>MoSold</th>\n",
              "      <th>YrSold</th>\n",
              "      <th>SaleType</th>\n",
              "      <th>SaleCondition</th>\n",
              "      <th>SalePrice</th>\n",
              "    </tr>\n",
              "  </thead>\n",
              "  <tbody>\n",
              "    <tr>\n",
              "      <th>0</th>\n",
              "      <td>60</td>\n",
              "      <td>RL</td>\n",
              "      <td>65.0</td>\n",
              "      <td>8450</td>\n",
              "      <td>Pave</td>\n",
              "      <td>NaN</td>\n",
              "      <td>Reg</td>\n",
              "      <td>Lvl</td>\n",
              "      <td>AllPub</td>\n",
              "      <td>Inside</td>\n",
              "      <td>...</td>\n",
              "      <td>0</td>\n",
              "      <td>NaN</td>\n",
              "      <td>NaN</td>\n",
              "      <td>NaN</td>\n",
              "      <td>0</td>\n",
              "      <td>2</td>\n",
              "      <td>2008</td>\n",
              "      <td>WD</td>\n",
              "      <td>Normal</td>\n",
              "      <td>208500</td>\n",
              "    </tr>\n",
              "    <tr>\n",
              "      <th>1</th>\n",
              "      <td>20</td>\n",
              "      <td>RL</td>\n",
              "      <td>80.0</td>\n",
              "      <td>9600</td>\n",
              "      <td>Pave</td>\n",
              "      <td>NaN</td>\n",
              "      <td>Reg</td>\n",
              "      <td>Lvl</td>\n",
              "      <td>AllPub</td>\n",
              "      <td>FR2</td>\n",
              "      <td>...</td>\n",
              "      <td>0</td>\n",
              "      <td>NaN</td>\n",
              "      <td>NaN</td>\n",
              "      <td>NaN</td>\n",
              "      <td>0</td>\n",
              "      <td>5</td>\n",
              "      <td>2007</td>\n",
              "      <td>WD</td>\n",
              "      <td>Normal</td>\n",
              "      <td>181500</td>\n",
              "    </tr>\n",
              "    <tr>\n",
              "      <th>2</th>\n",
              "      <td>60</td>\n",
              "      <td>RL</td>\n",
              "      <td>68.0</td>\n",
              "      <td>11250</td>\n",
              "      <td>Pave</td>\n",
              "      <td>NaN</td>\n",
              "      <td>IR1</td>\n",
              "      <td>Lvl</td>\n",
              "      <td>AllPub</td>\n",
              "      <td>Inside</td>\n",
              "      <td>...</td>\n",
              "      <td>0</td>\n",
              "      <td>NaN</td>\n",
              "      <td>NaN</td>\n",
              "      <td>NaN</td>\n",
              "      <td>0</td>\n",
              "      <td>9</td>\n",
              "      <td>2008</td>\n",
              "      <td>WD</td>\n",
              "      <td>Normal</td>\n",
              "      <td>223500</td>\n",
              "    </tr>\n",
              "    <tr>\n",
              "      <th>3</th>\n",
              "      <td>70</td>\n",
              "      <td>RL</td>\n",
              "      <td>60.0</td>\n",
              "      <td>9550</td>\n",
              "      <td>Pave</td>\n",
              "      <td>NaN</td>\n",
              "      <td>IR1</td>\n",
              "      <td>Lvl</td>\n",
              "      <td>AllPub</td>\n",
              "      <td>Corner</td>\n",
              "      <td>...</td>\n",
              "      <td>0</td>\n",
              "      <td>NaN</td>\n",
              "      <td>NaN</td>\n",
              "      <td>NaN</td>\n",
              "      <td>0</td>\n",
              "      <td>2</td>\n",
              "      <td>2006</td>\n",
              "      <td>WD</td>\n",
              "      <td>Abnorml</td>\n",
              "      <td>140000</td>\n",
              "    </tr>\n",
              "    <tr>\n",
              "      <th>4</th>\n",
              "      <td>60</td>\n",
              "      <td>RL</td>\n",
              "      <td>84.0</td>\n",
              "      <td>14260</td>\n",
              "      <td>Pave</td>\n",
              "      <td>NaN</td>\n",
              "      <td>IR1</td>\n",
              "      <td>Lvl</td>\n",
              "      <td>AllPub</td>\n",
              "      <td>FR2</td>\n",
              "      <td>...</td>\n",
              "      <td>0</td>\n",
              "      <td>NaN</td>\n",
              "      <td>NaN</td>\n",
              "      <td>NaN</td>\n",
              "      <td>0</td>\n",
              "      <td>12</td>\n",
              "      <td>2008</td>\n",
              "      <td>WD</td>\n",
              "      <td>Normal</td>\n",
              "      <td>250000</td>\n",
              "    </tr>\n",
              "  </tbody>\n",
              "</table>\n",
              "<p>5 rows × 80 columns</p>\n",
              "</div>"
            ],
            "text/plain": [
              "   MSSubClass MSZoning  LotFrontage  LotArea Street Alley LotShape  \\\n",
              "0          60       RL         65.0     8450   Pave   NaN      Reg   \n",
              "1          20       RL         80.0     9600   Pave   NaN      Reg   \n",
              "2          60       RL         68.0    11250   Pave   NaN      IR1   \n",
              "3          70       RL         60.0     9550   Pave   NaN      IR1   \n",
              "4          60       RL         84.0    14260   Pave   NaN      IR1   \n",
              "\n",
              "  LandContour Utilities LotConfig  ... PoolArea PoolQC Fence MiscFeature  \\\n",
              "0         Lvl    AllPub    Inside  ...        0    NaN   NaN         NaN   \n",
              "1         Lvl    AllPub       FR2  ...        0    NaN   NaN         NaN   \n",
              "2         Lvl    AllPub    Inside  ...        0    NaN   NaN         NaN   \n",
              "3         Lvl    AllPub    Corner  ...        0    NaN   NaN         NaN   \n",
              "4         Lvl    AllPub       FR2  ...        0    NaN   NaN         NaN   \n",
              "\n",
              "  MiscVal MoSold  YrSold  SaleType  SaleCondition  SalePrice  \n",
              "0       0      2    2008        WD         Normal     208500  \n",
              "1       0      5    2007        WD         Normal     181500  \n",
              "2       0      9    2008        WD         Normal     223500  \n",
              "3       0      2    2006        WD        Abnorml     140000  \n",
              "4       0     12    2008        WD         Normal     250000  \n",
              "\n",
              "[5 rows x 80 columns]"
            ]
          },
          "metadata": {
            "tags": []
          },
          "execution_count": 162
        }
      ]
    },
    {
      "cell_type": "markdown",
      "metadata": {
        "id": "ZqH86-aoUI7f"
      },
      "source": [
        "### Задание 1 <a id=\"task21\"></a>"
      ]
    },
    {
      "cell_type": "markdown",
      "metadata": {
        "id": "UDhWjVyMUI7f"
      },
      "source": [
        "Есть ли в данных пропуски? Если да, то для каждого столбца, в котором они имеются, посчитайте их количество и их долю от общего числа значений. Что вы наблюдаете?"
      ]
    },
    {
      "cell_type": "code",
      "metadata": {
        "id": "PMSzy6x0UI7g"
      },
      "source": [
        "# your code here"
      ],
      "execution_count": null,
      "outputs": []
    },
    {
      "cell_type": "markdown",
      "metadata": {
        "id": "MUSIdxIsUI7g"
      },
      "source": [
        "``` Опишите свои наблюдения.```"
      ]
    },
    {
      "cell_type": "markdown",
      "metadata": {
        "id": "6VZxR2N7UI7g"
      },
      "source": [
        "### Задание 2 <a id=\"task22\"></a>"
      ]
    },
    {
      "cell_type": "markdown",
      "metadata": {
        "id": "JC_0pu24UI7g"
      },
      "source": [
        "Избавьтесь от пропусков. Заполните пропуски в колонках со значениями типа `object` (это можно проверить методом `.dtype` или `.dtypes`) отдельной категорией 'NaN', а в остальных (типа `float64` и `int64`) - средним по колонке.\n",
        "\n",
        "Проверьте, что вы действительно избавились от пропусков."
      ]
    },
    {
      "cell_type": "code",
      "metadata": {
        "id": "6fM6ABwBUI7h"
      },
      "source": [
        "# your code here"
      ],
      "execution_count": null,
      "outputs": []
    },
    {
      "cell_type": "markdown",
      "metadata": {
        "id": "xYCeQ_GhUI7h"
      },
      "source": [
        "### Задание 3 <a id=\"task23\"></a>"
      ]
    },
    {
      "cell_type": "markdown",
      "metadata": {
        "id": "lC7oIeGAUI7h"
      },
      "source": [
        "Для каждой колонки, выраженной числами (типа `float64` и `int64`), постройте гистограмму ее значений. Сильно ли отличается масштаб признаков? Отмасштабируйте признаки каким-нибудь методом (например, `StandardScaler` или `MinMaxScaler` из `sklearn`). \n",
        "\n",
        "**Не забудьте, что целевая переменная (столбец `'SalePrice'`) не входит в признаки!**"
      ]
    },
    {
      "cell_type": "code",
      "metadata": {
        "id": "tgNGoyMyUI7h"
      },
      "source": [
        "# your code here"
      ],
      "execution_count": null,
      "outputs": []
    },
    {
      "cell_type": "markdown",
      "metadata": {
        "id": "3aM57RfLUI7h"
      },
      "source": [
        "### Задание 4 <a id=\"task24\"></a>"
      ]
    },
    {
      "cell_type": "markdown",
      "metadata": {
        "id": "FFMWeWLjUI7i"
      },
      "source": [
        "Обработайте категориальные признаки. Примените к ним one-hot кодирование. Сколько получилось колонок у итогового датасета?"
      ]
    },
    {
      "cell_type": "code",
      "metadata": {
        "id": "rUJmsT79UI7i"
      },
      "source": [
        "# your code here"
      ],
      "execution_count": null,
      "outputs": []
    },
    {
      "cell_type": "markdown",
      "metadata": {
        "id": "gVSPa2inUI7i"
      },
      "source": [
        "### Задание 5 <a id=\"task25\"></a>"
      ]
    },
    {
      "cell_type": "markdown",
      "metadata": {
        "id": "7wqBy6qaUI7i"
      },
      "source": [
        "- Постройте гистограмму распределения предсказываемого значения. \n",
        "- Для избавления от разницы в масштабах, а также «смещения» распределения переменной в сторону нормального (что бывает полезно при статистическом анализе), можно прологарифмировать ее (это обратимое преобразование, поэтому целевую переменную легко восстановить). В данном случае воспользуйтесь `np.log1p`, чтобы сделать преобразование $y \\to \\ln\\left(1 + y\\right)$. \n",
        "- Постройте гистограмму распределения от нового предсказываемого значения. Опишите наблюдения.\n",
        "\n",
        "*В дальнейшем используйте в качестве предсказываемого значения вектор, который получился после логарифмирования.*"
      ]
    },
    {
      "cell_type": "code",
      "metadata": {
        "id": "cjXqC1c1UI7j"
      },
      "source": [
        "# your code here"
      ],
      "execution_count": null,
      "outputs": []
    },
    {
      "cell_type": "markdown",
      "metadata": {
        "id": "C7ZTWPpOUI7j"
      },
      "source": [
        "``` Опишите свои наблюдения.```"
      ]
    },
    {
      "cell_type": "markdown",
      "metadata": {
        "id": "fDb2goh-UI7j"
      },
      "source": [
        "---\n",
        "Перейдем непосредственно к построению моделей. Разобьем выборку на обучение и контроль.\n",
        "\n",
        "*Пожалуйста, **не меняйте** значение `random_state` в следующей ячейке.*"
      ]
    },
    {
      "cell_type": "code",
      "metadata": {
        "id": "JlTuB_MIUI7k"
      },
      "source": [
        "X_train, X_val, y_train, y_val = train_test_split(data.drop('SalePrice', axis=1), np.log1p(data['SalePrice']), random_state=13)"
      ],
      "execution_count": null,
      "outputs": []
    },
    {
      "cell_type": "code",
      "metadata": {
        "id": "zWc5LPLSUI7k",
        "outputId": "09096ccb-f2bf-46bc-f372-aabd42be45c9"
      },
      "source": [
        "X_train.shape, X_val.shape, y_train.shape, y_val.shape"
      ],
      "execution_count": null,
      "outputs": [
        {
          "output_type": "execute_result",
          "data": {
            "text/plain": [
              "((1095, 79), (365, 79), (1095,), (365,))"
            ]
          },
          "metadata": {
            "tags": []
          },
          "execution_count": 164
        }
      ]
    },
    {
      "cell_type": "markdown",
      "metadata": {
        "id": "Xkq9wwKgUI7k"
      },
      "source": [
        "### Задание 6 <a id=\"task26\"></a>"
      ]
    },
    {
      "cell_type": "markdown",
      "metadata": {
        "id": "rfswcFJjUI7k"
      },
      "source": [
        "Перейдем к построению моделей машинного обучения с помощью `sklearn`. Обучите модель линейной регрессии на обучающей выборке и оцените качество по метрике **Root** Mean Squared Error (корень из MSE) на обучающей и валидационной выборках. Что вы наблюдаете? Как вы можете объяснить такой результат?"
      ]
    },
    {
      "cell_type": "code",
      "metadata": {
        "id": "9zXZX3XiUI7l"
      },
      "source": [
        "# your code here"
      ],
      "execution_count": null,
      "outputs": []
    },
    {
      "cell_type": "markdown",
      "metadata": {
        "id": "BGyEX4t5UI7l"
      },
      "source": [
        "``` Опишите свои наблюдения.```"
      ]
    },
    {
      "cell_type": "markdown",
      "metadata": {
        "id": "7gMDETG0UI7l"
      },
      "source": [
        "### Задание 7 <a id=\"task27\"></a>"
      ]
    },
    {
      "cell_type": "markdown",
      "metadata": {
        "id": "CEkW9KktUI7l"
      },
      "source": [
        "Теперь примените методы линейной регрессии с регуляризацией - Lasso (L1) и Ridge (L2). \n",
        "\n",
        "Для подбора коэффициента регуляризации будем использовать росс-валидацию (вспомните, что такое кросс-валидация и зачем она нужна). \n",
        "\n",
        "`GridSearchCV` - это метод, который перебирает значения гиперпараметров (по заданной «сетке»), считает для каждого качество на кросс-валидации и позволяет выбрать лучший гиперпараметр. Более подробно вы можете познакомиться с методом в [документаци](https://scikit-learn.org/stable/modules/generated/sklearn.model_selection.GridSearchCV.html).\n",
        "\n",
        "1. Прочитайте документацию `sklearn.model_selection.GridSearchCV`\n",
        "2. Подбирите оптимальный гиперпараметр для LASSO:\n",
        "    - В качестве сетки используйте `np.logspace(-5, 1)`\n",
        "    - Используйте 5-Fold Cross-Validation\n",
        "3. Используя оптимельное значение гиперпаметра обучите модель на всей обучающей выборке, посчитайте ошибку на тренировочной и обучающей выборках\n",
        "4. Повторите п. 2-3 для модели Ridge"
      ]
    },
    {
      "cell_type": "code",
      "metadata": {
        "id": "CNlU0ciGUI7m",
        "outputId": "d310f4cf-b9bb-48b2-f094-ee6e6b4fbf9d"
      },
      "source": [
        "# пример \"сетки\"\n",
        "np.logspace(-5, 1)"
      ],
      "execution_count": null,
      "outputs": [
        {
          "output_type": "execute_result",
          "data": {
            "text/plain": [
              "array([1.00000000e-05, 1.32571137e-05, 1.75751062e-05, 2.32995181e-05,\n",
              "       3.08884360e-05, 4.09491506e-05, 5.42867544e-05, 7.19685673e-05,\n",
              "       9.54095476e-05, 1.26485522e-04, 1.67683294e-04, 2.22299648e-04,\n",
              "       2.94705170e-04, 3.90693994e-04, 5.17947468e-04, 6.86648845e-04,\n",
              "       9.10298178e-04, 1.20679264e-03, 1.59985872e-03, 2.12095089e-03,\n",
              "       2.81176870e-03, 3.72759372e-03, 4.94171336e-03, 6.55128557e-03,\n",
              "       8.68511374e-03, 1.15139540e-02, 1.52641797e-02, 2.02358965e-02,\n",
              "       2.68269580e-02, 3.55648031e-02, 4.71486636e-02, 6.25055193e-02,\n",
              "       8.28642773e-02, 1.09854114e-01, 1.45634848e-01, 1.93069773e-01,\n",
              "       2.55954792e-01, 3.39322177e-01, 4.49843267e-01, 5.96362332e-01,\n",
              "       7.90604321e-01, 1.04811313e+00, 1.38949549e+00, 1.84206997e+00,\n",
              "       2.44205309e+00, 3.23745754e+00, 4.29193426e+00, 5.68986603e+00,\n",
              "       7.54312006e+00, 1.00000000e+01])"
            ]
          },
          "metadata": {
            "tags": []
          },
          "execution_count": 167
        }
      ]
    },
    {
      "cell_type": "code",
      "metadata": {
        "id": "tG-jskQ9UI7m"
      },
      "source": [
        "# your Lasso code here"
      ],
      "execution_count": null,
      "outputs": []
    },
    {
      "cell_type": "code",
      "metadata": {
        "id": "GKP7iZ0QUI7m"
      },
      "source": [
        "# your Ridge code here"
      ],
      "execution_count": null,
      "outputs": []
    },
    {
      "cell_type": "markdown",
      "metadata": {
        "id": "mXPOrkSWUI7n"
      },
      "source": [
        "### Задание 8 <a id=\"task28\"></a>"
      ]
    },
    {
      "cell_type": "markdown",
      "metadata": {
        "id": "Z0uT2Y90UI7n"
      },
      "source": [
        "Постройте гистограммы значений весов для линейной регрессии, Lasso и Ridge. Опишите наблюдения. В чем различия между полученными наборами весов и почему?"
      ]
    },
    {
      "cell_type": "code",
      "metadata": {
        "id": "WkW3TwdQUI7n"
      },
      "source": [
        "# your code here"
      ],
      "execution_count": null,
      "outputs": []
    },
    {
      "cell_type": "markdown",
      "metadata": {
        "id": "dRa0oEHAUI7n"
      },
      "source": [
        "``` Опишите свои наблюдения.```"
      ]
    },
    {
      "cell_type": "markdown",
      "metadata": {
        "id": "9Y5J2dJDUI7o"
      },
      "source": [
        "### Задание 9 (Бонус) <a id=\"task29\"></a>\n",
        "\n",
        "\n",
        "- Скачайте тестовые данные из соревнования [Kaggle](https://www.kaggle.com/c/house-prices-advanced-regression-techniques/data?select=test.csv)\n",
        "- Примените к ним те же шаги предобработки (заполнение пропусков, масштабирование, и т.д.)\n",
        "- Выберите лучшую модель, которую вам удалось обучить и предскажите с ее помощью цену \n",
        "- На забудьте, что ваша модель предсказывает логарифм (см. Задание 5), так что нужно применить обраное преобразование\n",
        "- Загрузите ваши прогнозы на Kaggle (`Submit Prediction`) и узнайте их точность. "
      ]
    },
    {
      "cell_type": "code",
      "metadata": {
        "id": "4RI8I6-3UI7o"
      },
      "source": [
        "# your code here"
      ],
      "execution_count": null,
      "outputs": []
    }
  ]
}