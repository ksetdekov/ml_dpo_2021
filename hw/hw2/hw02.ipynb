{
  "nbformat": 4,
  "nbformat_minor": 0,
  "metadata": {
    "kernelspec": {
      "display_name": "BASE_ENV",
      "language": "python",
      "name": "base_env"
    },
    "language_info": {
      "codemirror_mode": {
        "name": "ipython",
        "version": 3
      },
      "file_extension": ".py",
      "mimetype": "text/x-python",
      "name": "python",
      "nbconvert_exporter": "python",
      "pygments_lexer": "ipython3",
      "version": "3.6.12"
    },
    "colab": {
      "name": "hw02.ipynb",
      "provenance": [],
      "toc_visible": true,
      "include_colab_link": true
    }
  },
  "cells": [
    {
      "cell_type": "markdown",
      "metadata": {
        "id": "view-in-github",
        "colab_type": "text"
      },
      "source": [
        "<a href=\"https://colab.research.google.com/github/ksetdekov/ml_dpo_2021/blob/master/hw/hw2/hw02.ipynb\" target=\"_parent\"><img src=\"https://colab.research.google.com/assets/colab-badge.svg\" alt=\"Open In Colab\"/></a>"
      ]
    },
    {
      "cell_type": "markdown",
      "metadata": {
        "id": "1SHu26g4UI68"
      },
      "source": [
        "# Домашнее задание №2\n",
        "\n",
        "Задание выполнил: ```(Кирилл Сетдеков)```\n",
        "\n",
        "### Общая информация\n",
        "\n",
        "__Дата выдачи:__ 25.04.2021\n",
        "\n",
        "__Дедлайн:__ 05.05.2021 23:59\n",
        "\n",
        "# О задании\n",
        "\n",
        "В этом домашнем задании вы реализуете градиентный спуск и стохастический градиентный спуск для обучения линейной регрессии, попрактикуетесь в анализе данных и их обработке, а также примените модели линейной регрессии на практике и проанализируете результаты.\n",
        "\n",
        "Обратите внимание, что вам не только нужно написать код, но и в некоторых местах ответить на вопросы.\n",
        "\n",
        "\n",
        "### Оценивание и штрафы\n",
        "\n",
        "\n",
        "#### Gradient Descent [8 баллов]\n",
        "* [Задание 1](#task1) [1 балл]\n",
        "* [Задание 2](#task2) [2 балла]\n",
        "* [Задание 3](#task3) [3 балла]\n",
        "* [Задание 4](#task4) [2 балла]\n",
        "\n",
        "#### Linear Regression [8 баллов] + 2 бонусных\n",
        "* [Задание 1](#task21) [1 балл]\n",
        "* [Задание 2](#task22) [1 балл]\n",
        "* [Задание 3](#task23) [1 балл]\n",
        "* [Задание 4](#task24) [1 балл]\n",
        "* [Задание 5](#task25) [1 балл]\n",
        "* [Задание 6](#task26) [1 балл]\n",
        "* [Задание 7](#task27) [1 балл]\n",
        "* [Задание 8](#task28) [1 балл]\n",
        "* [Задание 9](#task29) [2 баллa]\n",
        "\n",
        "\n",
        "Итоговая оценка за домашнюю работу вычисляется по формуле: $$s \\cdot \\frac{10}{16},$$ где $s$ - сумма набранных балов. С учетом бонусов, за домашнее задание можно получить > 10 балов. \n",
        "\n",
        "За сдачу задания позже срока на итоговую оценку за задание накладывается штраф в размере 0.25 балла в день (от оценки в 10 бальной шкале), но получить отрицательную оценку нельзя.\n",
        "\n",
        "__Внимание!__ Домашнее задание выполняется самостоятельно. «Похожие» решения считаются плагиатом и все задействованные студенты (в том числе те, у кого списали) не могут получить за него больше 0 баллов.\n",
        "\n",
        "### Формат сдачи\n",
        "\n",
        "Загрузка файлов с решениями происходит в системе [Anytask](https://anytask.org/course/811). "
      ]
    },
    {
      "cell_type": "markdown",
      "metadata": {
        "id": "3JRnTcvqUI7I"
      },
      "source": [
        "## Часть 1. Gradient Descent\n",
        "\n",
        "Среднеквадратичная ошибка на всем датасете $(X, y) = \\{(x_1, y_1), \\ldots, (x_\\ell, y_\\ell)\\}$ для линейной регрессии с вектором весов $w$ (в предположении, что в данных есть единичный признак) представляется следующим образом:\n",
        "\n",
        "$$\n",
        "Q(w) = \\frac{1}{\\ell}\\|Xw - y\\|_2^2\n",
        "$$\n",
        "\n",
        "Градиент данного функционала потерь по $w$:\n",
        "\n",
        "$$\n",
        "\\nabla_w Q(w) = \\frac{2}{\\ell}X^T(Xw - y)\n",
        "$$"
      ]
    },
    {
      "cell_type": "code",
      "metadata": {
        "id": "RyAX4U9WUI7J"
      },
      "source": [
        "import matplotlib.pyplot as plt\n",
        "import numpy as np\n",
        "import pandas as pd\n",
        "\n",
        "%matplotlib inline"
      ],
      "execution_count": 1,
      "outputs": []
    },
    {
      "cell_type": "markdown",
      "metadata": {
        "id": "058cM0PqUI7K"
      },
      "source": [
        "Для тестирования реализованных вами методов будет использоваться датасет о ценах домов из `sklearn`."
      ]
    },
    {
      "cell_type": "code",
      "metadata": {
        "id": "UgtGf0m_UI7L"
      },
      "source": [
        "from sklearn.datasets import load_boston\n",
        "from sklearn.model_selection import train_test_split\n",
        "\n",
        "# загружаем данные\n",
        "data = load_boston()\n",
        "X = pd.DataFrame(data.data, columns=data.feature_names)\n",
        "y = data.target\n",
        "\n",
        "# делим данные на обучающую и тестовую часть\n",
        "X_train, X_test, y_train, y_test = train_test_split(np.array(X), y, test_size=0.3, random_state=10)"
      ],
      "execution_count": 2,
      "outputs": []
    },
    {
      "cell_type": "markdown",
      "metadata": {
        "id": "Ujjl1AFGUI7M"
      },
      "source": [
        "### Задание 1 <a id=\"task1\"></a>"
      ]
    },
    {
      "cell_type": "markdown",
      "metadata": {
        "id": "mwQksf3QUI7N"
      },
      "source": [
        "С линейной регрессией удобно работать в матрично-векторном виде, если предположить, что в данных есть единичный признак. Реализуйте функцию, которая принимает на вход матрицу объекты-признаки, и добавляет в нее столбец (первый), заполненный единицами. Примените написанную функцию к обучающей и тестовой части имеющихся данных.\n",
        "\n",
        "Например, если на вход подается матрица \n",
        "$$\n",
        "\\begin{pmatrix}\n",
        "2 & 4 & 4200\\\\\n",
        "0 & 10 & 5000\\\\\n",
        "2 & 2 & 1000\\\\\n",
        "\\end{pmatrix},\n",
        "$$\n",
        "то на выходе будет матрица\n",
        "$$\n",
        "\\begin{pmatrix}\n",
        "1 & 2 & 4 & 4200\\\\\n",
        "1 & 0 & 10 & 5000\\\\\n",
        "1 & 2 & 2 & 1000\\\\\n",
        "\\end{pmatrix}$$\n",
        "\n",
        "**Hint** \n",
        "- Вам могут пригодиться функции `np.concatenate`, `np.ones`"
      ]
    },
    {
      "cell_type": "code",
      "metadata": {
        "id": "nR77KVYjUI7N"
      },
      "source": [
        "# create function\n",
        "def add_identity_feature(X):\n",
        "    '''\n",
        "    INPUT:\n",
        "    X - np.array shape=(ℓ, d-1)\n",
        "    \n",
        "    OUTPUT:\n",
        "    X - np.array shape=(ℓ, d)\n",
        "    '''\n",
        "    leftmost = np.ones((X.shape[0], 1))\n",
        "    X = np.append(leftmost, X, axis=1)\n",
        "    return X\n",
        "\n",
        "X_train = add_identity_feature(X_train)\n",
        "X_test = add_identity_feature(X_test)\n"
      ],
      "execution_count": 3,
      "outputs": []
    },
    {
      "cell_type": "code",
      "metadata": {
        "id": "B6fyC3lBUI7O"
      },
      "source": [
        "# test yourself\n",
        "assert X_train.shape == (354, 14)\n",
        "assert len(X_train) == X_train.sum(axis=0)[0]\n",
        "\n",
        "assert X_test.shape == (152, 14)\n",
        "assert len(X_test) == X_test.sum(axis=0)[0]"
      ],
      "execution_count": 4,
      "outputs": []
    },
    {
      "cell_type": "markdown",
      "metadata": {
        "id": "rerObh2tUI7O"
      },
      "source": [
        "### Задание 2 <a id=\"task2\"></a>\n",
        "\n",
        "Реализуйте подсчет среднеквадратичной функции потерь и ее градиента по весам. Формулы должны быть реализованы в явном виде с помощью `numpy`, без использования циклов `for`."
      ]
    },
    {
      "cell_type": "markdown",
      "metadata": {
        "id": "8PyJmqSLUI7P"
      },
      "source": [
        "**Hint** \n",
        "- Для умножения матрицы на вектор (или матрицы на матрицу) можно использовать функцию `np.dot`. \n",
        "- Не забывайте, что оператор `*` используется только для поэлементного умножения.\n",
        "- Также может пригодиться функция `np.linalg.norm`"
      ]
    },
    {
      "cell_type": "code",
      "metadata": {
        "id": "Hj2nLG7xUI7P"
      },
      "source": [
        "def mse_loss(X, y, w):\n",
        "    \"\"\"\n",
        "    INPUT:\n",
        "    X - np.array shape=(ℓ, d)\n",
        "    y - np.array shape=(ℓ,)\n",
        "    w - np.array shape=(d,)\n",
        "    \n",
        "    OUTPUT:\n",
        "    loss - scalar\n",
        "    \"\"\"\n",
        "    \n",
        "    y_hat = X @ w\n",
        "    loss = np.linalg.norm(y - y_hat)\n",
        "    loss = (loss**2) / X.shape[0]\n",
        "\n",
        "    return loss\n",
        "\n",
        "\n",
        "def mse_grad(X, y, w):\n",
        "    \"\"\"\n",
        "    INPUT:\n",
        "    X - np.array shape=(ℓ, d)\n",
        "    y - np.array shape=(ℓ,)\n",
        "    w - np.array shape=(d,)\n",
        "    \n",
        "    OUTPUT:\n",
        "    grad - np.array shape=(d,)\n",
        "    \"\"\"\n",
        "\n",
        "    grad = (2/ X.shape[0]) *( X.T @ X @ w - X.T @ y)\n",
        "    return grad"
      ],
      "execution_count": 5,
      "outputs": []
    },
    {
      "cell_type": "markdown",
      "metadata": {
        "id": "foMHZhhgUI7Q"
      },
      "source": [
        "Посчитайте `result_mse_sklearn` используя функцию `mean_squared_error` из sklearn, чтобы сравнить c результатом вашей функции"
      ]
    },
    {
      "cell_type": "code",
      "metadata": {
        "id": "OiUrWE8qUI7R"
      },
      "source": [
        "from sklearn.metrics import mean_squared_error\n",
        "\n",
        "w = np.zeros(X_train.shape[1])\n",
        "\n",
        "result_mse_custom = mse_loss(X_train, y_train, w)\n",
        "result_mse_grad = mse_grad(X_train, y_train, w)\n",
        "\n",
        "\n",
        "result_mse_sklearn = mean_squared_error(y_train, np.dot(X_train,w))\n",
        "\n",
        "assert (X_train @ w).shape == y_train.shape\n",
        "assert np.allclose(result_mse_custom, result_mse_sklearn)\n",
        "assert np.allclose(result_mse_grad, np.array([-43.9424,  -99.9887, -675.8766, -444.0919,   -3.0395,  \n",
        "                                              -23.5569,   -282.6831,  -2829.3631,   -177.206 ,  -373.6983,\n",
        "                                              -16820.8966,   -796.6377, -16136.5175,   -477.6308]),rtol=1e-03)"
      ],
      "execution_count": 6,
      "outputs": []
    },
    {
      "cell_type": "markdown",
      "metadata": {
        "id": "dUcl44nwUI7S"
      },
      "source": [
        "### Задание 3  <a id=\"task3\"></a>\n",
        "\n",
        "Реализуйте класс для линейной регрессии. Он должен поддерживать обучение с помощью градиентного спуска (метод `fit`) и предсказание для выборки (метод `predict`).\n",
        "\n",
        "Метод `fit` должен возвращать список из значений функционала потерь на каждой итерации градиентного спуска. Напомним, что алгоритм градиентного спуска состоит из трех этапов:\n",
        "\n",
        "1. **Инициализация.** В данном случае вектор весов вы можете инициализировать нулями.\n",
        "2. **Шаг градиентного спуска.** Обновление весов с помощью антиградиента функционала потерь с заданной длиной шага (параметр `eta`). \n",
        "$$\n",
        "w^{t+1} = w^t - \\eta \\nabla Q(w^t)\n",
        "$$\n",
        "Для того, чтобы нарисовать график зависимости значения функционала потерь от номера итерации, необходимо на каждом шаге запоминать значение функционала потерь (обновлять список `self.loss_history`). На этом этапе вы можете использовать уже реализованные вами функции `mse_loss` и `mse_grad` из предыдущего задания.\n",
        "\n",
        "3. **Остановка.** В качестве критерия останова используйте $\\|w^t - w^{t - 1}\\| < \\varepsilon$ (значение $\\varepsilon$ задается параметром `tol`). В качестве дополнительного критерия останова используйте максимальное число итераций (параметр `max_iter`). Таким образом, даже если первый критерий не сработает, алгоритм все равно остановится после `max_iter` шагов."
      ]
    },
    {
      "cell_type": "code",
      "metadata": {
        "id": "ep78MfCDUI7U"
      },
      "source": [
        "class CustomLinearRegressionGD:\n",
        "    def __init__(self):\n",
        "        self.w = None\n",
        "        self.loss_history = None\n",
        "        \n",
        "    def fit(self, X, y, max_iter=100, tol=1e-6, eta=1e-6):\n",
        "        \"\"\"\n",
        "        ARGUMENTS:\n",
        "        max_iter - максимальное число шагов градиентного спуска\n",
        "        tol - значение эпсилон для критерия останова\n",
        "        eta - длина шага градиентного спуска (learning rate)\n",
        "        X - np.array of shape (ℓ, d)\n",
        "        y - np.array of shape (ℓ,)\n",
        "        \n",
        "        OUTPUT:\n",
        "        loss_hist - list \n",
        "        \"\"\"\n",
        "        \n",
        "        self.w = np.zeros(X.shape[1])\n",
        "        self.loss_history = [mse_loss(X, y, self.w)]\n",
        "        for t in range(max_iter):\n",
        "            next_w = self.w - eta * mse_grad(X, y, self.w)\n",
        "            if np.linalg.norm(next_w - self.w) < tol:\n",
        "                break\n",
        "          \n",
        "            self.w = next_w \n",
        "            self.loss_history.append(mse_loss(X, y, self.w))\n",
        "\n",
        "        \n",
        "        return self.loss_history\n",
        "        \n",
        "    def predict(self, X):\n",
        "        \"\"\"\n",
        "        ARGUMENTS:\n",
        "        X_test - np.array of shape (ℓ, d)\n",
        "        \n",
        "        OUTPUT:\n",
        "        y_pred - np.array of shape (ℓ,)\n",
        "        \"\"\"\n",
        "        y_pred = X @ self.w\n",
        "        return y_pred"
      ],
      "execution_count": 7,
      "outputs": []
    },
    {
      "cell_type": "markdown",
      "metadata": {
        "id": "bfIlvqz4UI7U"
      },
      "source": [
        "Проверьте работу вашего класса. \n",
        "- Обучите линейную регрессию на обучающей части выборки.\n",
        "- Постройте график зависимости значения функционала потерь от итерации градиентного спуска. \n",
        "- Подберите вручную оптимальную длину шага градиентного спуска и посчитайте MSE на тестовой части с помощью функции `mean_squared_error` из `sklearn`. \n",
        "- Добейтесь того, чтобы значение MSE не превышало 100."
      ]
    },
    {
      "cell_type": "code",
      "metadata": {
        "id": "NFgi9JJiUI7V",
        "colab": {
          "base_uri": "https://localhost:8080/"
        },
        "outputId": "a695b6e1-14ad-4ed8-e16f-1416e56cf0ca"
      },
      "source": [
        "lr = CustomLinearRegressionGD()\n",
        "lr.fit(X_train, y_train, max_iter=900,eta=2e-6)\n",
        "\n",
        "y_pred = lr.predict(X_test)\n",
        "from sklearn.metrics import mean_squared_error\n",
        "mean_squared_error(y_test, y_pred)"
      ],
      "execution_count": 8,
      "outputs": [
        {
          "output_type": "execute_result",
          "data": {
            "text/plain": [
              "88.40518225710947"
            ]
          },
          "metadata": {
            "tags": []
          },
          "execution_count": 8
        }
      ]
    },
    {
      "cell_type": "code",
      "metadata": {
        "id": "I_RgS6UIUI7V",
        "colab": {
          "base_uri": "https://localhost:8080/",
          "height": 404
        },
        "outputId": "4b6d1c72-e058-4499-bc27-642d9fda41d1"
      },
      "source": [
        "plt.figure(figsize=(10, 6))\n",
        "plt.plot(lr.loss_history)\n",
        "plt.title('MSE loss dependence on GD iteration')\n",
        "plt.xlabel('GD iteration')\n",
        "plt.ylabel('Loss')\n",
        "plt.grid()\n",
        "plt.show()"
      ],
      "execution_count": 9,
      "outputs": [
        {
          "output_type": "display_data",
          "data": {
            "image/png": "[encoded data removed]",
            "text/plain": [
              "<Figure size 720x432 with 1 Axes>"
            ]
          },
          "metadata": {
            "tags": [],
            "needs_background": "light"
          }
        }
      ]
    },
    {
      "cell_type": "code",
      "metadata": {
        "id": "VMHmslsmUI7W",
        "colab": {
          "base_uri": "https://localhost:8080/"
        },
        "outputId": "933eadfb-92c5-4ce2-ec7c-53b06348e1df"
      },
      "source": [
        "mse_test = mse_loss( X_test, y_test, lr.w)\n",
        "print(mse_test)\n",
        "assert len(lr.loss_history) <= 1000\n",
        "assert mse_test <= 100"
      ],
      "execution_count": 10,
      "outputs": [
        {
          "output_type": "stream",
          "text": [
            "88.40518225710947\n"
          ],
          "name": "stdout"
        }
      ]
    },
    {
      "cell_type": "markdown",
      "metadata": {
        "id": "z3rqBwb4UI7X"
      },
      "source": [
        "### Задание 4 <a id=\"task4\"></a>"
      ]
    },
    {
      "cell_type": "markdown",
      "metadata": {
        "id": "tEhVdvZpUI7Y"
      },
      "source": [
        "Как известно, масштабирование данных может помочь в сходимости градиентного спуска (вспомните, почему). Отмасштабируйте имеющиеся данные с помощью мин-макс шкалирования:\n",
        "\n",
        "$$\n",
        "x^j = \\frac{x^j - \\min(x^j)}{\\max(x^j) - \\min(x^j)},\n",
        "$$\n",
        "\n",
        "где $x^j$ - это вектор значений признака.\n",
        "\n",
        "Учтите, что единичный признак нормировать не надо (почему?). Так что либо придумайте способ, как отнормировать все столбцы, кроме единичного.\n",
        "\n",
        "Примените линейную регрессию с градиентным спуском к данным, подберите оптимальную длину шага. Добейтесь того, чтобы значение MSE не превышало 100.\n",
        "\n",
        "Опишите наблюдения. Изменилась ли ситуация?"
      ]
    },
    {
      "cell_type": "code",
      "metadata": {
        "id": "AwV-ouWEKeTw"
      },
      "source": [
        "class MinMaxCustom:\n",
        "    def __init__(self):\n",
        "        self.mins = None\n",
        "        self.maxs = None\n",
        "        \n",
        "    def fit(self, X):\n",
        "        \"\"\"\n",
        "        ARGUMENTS:\n",
        "        X - np.array of shape (ℓ, d)\n",
        "\n",
        "        OUTPUT:\n",
        "        (mins, maxs) - tuple of mins and maxs for columns \n",
        "        \"\"\"\n",
        "        \n",
        "        (ones,values) =np.hsplit(X, [1])\n",
        "        self.mins = values.min(axis=0)\n",
        "        self.maxs = values.max(axis=0)\n",
        "        return (self.mins, self.maxs)\n",
        "        \n",
        "    def predict(self, X):\n",
        "        \"\"\"\n",
        "        ARGUMENTS:\n",
        "        X_raw - np.array of shape (ℓ, d)\n",
        "        \n",
        "        OUTPUT:\n",
        "        X_transformed - np.array of shape (ℓ, d)\n",
        "        \"\"\"\n",
        "        (ones,values) =np.hsplit(X, [1])\n",
        "        values = (values - self.mins) / (self.maxs - self.mins)\n",
        "        y_pred = np.hstack((ones,values))\n",
        "        return y_pred"
      ],
      "execution_count": 11,
      "outputs": []
    },
    {
      "cell_type": "code",
      "metadata": {
        "id": "uP9a7wslUI7Y",
        "colab": {
          "base_uri": "https://localhost:8080/"
        },
        "outputId": "0a9c6bd2-c6af-43ee-ed67-ec0c1c9af749"
      },
      "source": [
        "# scale the data\n",
        "scaler = MinMaxCustom()\n",
        "scaler.fit(X_train)\n",
        "\n",
        "X_train_scaled = scaler.predict(X_train)\n",
        "X_test_scaled = scaler.predict(X_test)\n",
        "\n",
        "\n",
        "# train linear regression with gradient descent\n",
        "lr_scaled = CustomLinearRegressionGD()\n",
        "lr_scaled.fit(X_train_scaled, y_train, max_iter=900,eta=8e-2)"
      ],
      "execution_count": 12,
      "outputs": [
        {
          "output_type": "execute_result",
          "data": {
            "text/plain": [
              "[560.428813559322,\n",
              " 179.2945669490673,\n",
              " 116.14601202643587,\n",
              " 101.58952159549125,\n",
              " 94.89085375210979,\n",
              " 89.8431769344091,\n",
              " 85.45852844650892,\n",
              " 81.54245658314154,\n",
              " 78.02530960284058,\n",
              " 74.86072782456134,\n",
              " 72.00982665240093,\n",
              " 69.43837071616599,\n",
              " 67.11595773459739,\n",
              " 65.01554889432319,\n",
              " 63.11308988131687,\n",
              " 61.38717969397101,\n",
              " 59.818776991693106,\n",
              " 58.39093907596891,\n",
              " 57.08858977896348,\n",
              " 55.89831304296403,\n",
              " 54.8081693445004,\n",
              " 53.80753243420369,\n",
              " 52.886944143715475,\n",
              " 52.03798525991438,\n",
              " 51.25316068807974,\n",
              " 50.52579732245804,\n",
              " 49.84995321775511,\n",
              " 49.22033681075537,\n",
              " 48.63223507971825,\n",
              " 48.08144965232346,\n",
              " 47.56423998243245,\n",
              " 47.077272813307225,\n",
              " 46.61757723152527,\n",
              " 46.18250469283901,\n",
              " 45.7696934697169,\n",
              " 45.377037031208204,\n",
              " 45.002655919938746,\n",
              " 44.64487273921413,\n",
              " 44.30218990604414,\n",
              " 43.9732698639982,\n",
              " 43.65691748368084,\n",
              " 43.35206440874501,\n",
              " 43.05775513215547,\n",
              " 42.773134611242966,\n",
              " 42.497437251280594,\n",
              " 42.22997710615933,\n",
              " 41.970139161498686,\n",
              " 41.71737158043351,\n",
              " 41.471178805571896,\n",
              " 41.23111542240714,\n",
              " 40.99678069994932,\n",
              " 40.76781373366473,\n",
              " 40.54388912410187,\n",
              " 40.32471313195599,\n",
              " 40.110020256880695,\n",
              " 39.89957019318678,\n",
              " 39.69314512075381,\n",
              " 39.49054729409203,\n",
              " 39.29159689659336,\n",
              " 39.09613013065773,\n",
              " 38.90399751762457,\n",
              " 38.715062384324305,\n",
              " 38.52919951562942,\n",
              " 38.346293954667026,\n",
              " 38.166239934383015,\n",
              " 37.98893992595286,\n",
              " 37.81430379113846,\n",
              " 37.64224802711765,\n",
              " 37.47269509358232,\n",
              " 37.30557281302946,\n",
              " 37.140813836173436,\n",
              " 36.97835516530058,\n",
              " 36.818137729180734,\n",
              " 36.66010600385704,\n",
              " 36.50420767426229,\n",
              " 36.35039333216969,\n",
              " 36.198616206481475,\n",
              " 36.04883192230118,\n",
              " 35.90099828562804,\n",
              " 35.75507509086094,\n",
              " 35.61102394861079,\n",
              " 35.46880813159573,\n",
              " 35.328392436639874,\n",
              " 35.18974306101452,\n",
              " 35.05282749155551,\n",
              " 34.917614405162745,\n",
              " 34.78407357944226,\n",
              " 34.652175812387526,\n",
              " 34.52189285011862,\n",
              " 34.39319732180563,\n",
              " 34.26606268099955,\n",
              " 34.14046315267884,\n",
              " 34.016373685396324,\n",
              " 33.89376990797873,\n",
              " 33.772628090291235,\n",
              " 33.65292510763331,\n",
              " 33.534638408379315,\n",
              " 33.41774598452006,\n",
              " 33.30222634479921,\n",
              " 33.188058490171684,\n",
              " 33.07522189134123,\n",
              " 32.963696468161096,\n",
              " 32.85346257070485,\n",
              " 32.74450096183579,\n",
              " 32.63679280112197,\n",
              " 32.53031962996035,\n",
              " 32.42506335778882,\n",
              " 32.32100624927731,\n",
              " 32.2181309124015,\n",
              " 32.11642028731299,\n",
              " 32.015857635928704,\n",
              " 31.916426532170938,\n",
              " 31.81811085279688,\n",
              " 31.72089476876224,\n",
              " 31.62476273707065,\n",
              " 31.529699493064637,\n",
              " 31.435690043118967,\n",
              " 31.34271965770149,\n",
              " 31.250773864769915,\n",
              " 31.159838443476524,\n",
              " 31.06989941815528,\n",
              " 30.980943052569124,\n",
              " 30.89295584439671,\n",
              " 30.805924519940547,\n",
              " 30.719836029040078,\n",
              " 30.634677540174668,\n",
              " 30.550436435743585,\n",
              " 30.467100307510414,\n",
              " 30.38465695220148,\n",
              " 30.303094367248125,\n",
              " 30.222400746664086,\n",
              " 30.142564477049813,\n",
              " 30.06357413371647,\n",
              " 29.985418476922845,\n",
              " 29.908086448219088,\n",
              " 29.831567166891777,\n",
              " 29.755849926505213,\n",
              " 29.680924191534288,\n",
              " 29.60677959408454,\n",
              " 29.53340593069574,\n",
              " 29.46079315922503,\n",
              " 29.38893139580661,\n",
              " 29.317810911884653,\n",
              " 29.24742213131661,\n",
              " 29.177755627544407,\n",
              " 29.108802120830767,\n",
              " 29.040552475558613,\n",
              " 28.97299769759124,\n",
              " 28.906128931691168,\n",
              " 28.83993745899604,\n",
              " 28.774414694549314,\n",
              " 28.709552184884515,\n",
              " 28.645341605661226,\n",
              " 28.581774759351173,\n",
              " 28.518843572973296,\n",
              " 28.45654009587613,\n",
              " 28.394856497566376,\n",
              " 28.333785065582287,\n",
              " 28.273318203410803,\n",
              " 28.21344842844726,\n",
              " 28.15416836999652,\n",
              " 28.095470767314488,\n",
              " 28.037348467689206,\n",
              " 27.979794424560165,\n",
              " 27.92280169567537,\n",
              " 27.866363441284836,\n",
              " 27.81047292236996,\n",
              " 27.755123498907743,\n",
              " 27.70030862816916,\n",
              " 27.646021863050784,\n",
              " 27.592256850439078,\n",
              " 27.53900732960642,\n",
              " 27.48626713063825,\n",
              " 27.434030172890676,\n",
              " 27.382290463477815,\n",
              " 27.33104209578818,\n",
              " 27.280279248029547,\n",
              " 27.229996181801674,\n",
              " 27.180187240696196,\n",
              " 27.13084684892325,\n",
              " 27.08196950996409,\n",
              " 27.033549805249233,\n",
              " 26.985582392861645,\n",
              " 26.938062006264275,\n",
              " 26.890983453051607,\n",
              " 26.844341613724573,\n",
              " 26.79813144048846,\n",
              " 26.752347956073187,\n",
              " 26.7069862525757,\n",
              " 26.662041490323816,\n",
              " 26.617508896761095,\n",
              " 26.573383765352574,\n",
              " 26.529661454510507,\n",
              " 26.486337386540036,\n",
              " 26.443407046604285,\n",
              " 26.40086598170839,\n",
              " 26.3587097997022,\n",
              " 26.31693416830129,\n",
              " 26.275534814125724,\n",
              " 26.234507521756406,\n",
              " 26.193848132808654,\n",
              " 26.153552545022453,\n",
              " 26.113616711369332,\n",
              " 26.074036639175283,\n",
              " 26.034808389259613,\n",
              " 25.995928075089182,\n",
              " 25.957391861947983,\n",
              " 25.919195966121507,\n",
              " 25.881336654095783,\n",
              " 25.843810241770736,\n",
              " 25.806613093687552,\n",
              " 25.769741622269777,\n",
              " 25.733192287077987,\n",
              " 25.696961594077628,\n",
              " 25.66104609491977,\n",
              " 25.62544238623467,\n",
              " 25.590147108937774,\n",
              " 25.555156947547843,\n",
              " 25.520468629517197,\n",
              " 25.48607892457358,\n",
              " 25.451984644073683,\n",
              " 25.41818264036784,\n",
              " 25.384669806175822,\n",
              " 25.3514430739736,\n",
              " 25.318499415390622,\n",
              " 25.28583584061768,\n",
              " 25.253449397824866,\n",
              " 25.221337172589752,\n",
              " 25.189496287335345,\n",
              " 25.15792390077764,\n",
              " 25.126617207382857,\n",
              " 25.095573436833845,\n",
              " 25.064789853505605,\n",
              " 25.034263755949866,\n",
              " 25.00399247638838,\n",
              " 24.97397338021488,\n",
              " 24.944203865505465,\n",
              " 24.91468136253729,\n",
              " 24.88540333331548,\n",
              " 24.856367271107864,\n",
              " 24.827570699987774,\n",
              " 24.799011174384344,\n",
              " 24.770686278640465,\n",
              " 24.742593626578124,\n",
              " 24.71473086107105,\n",
              " 24.687095653624446,\n",
              " 24.659685703961717,\n",
              " 24.632498739618196,\n",
              " 24.605532515541416,\n",
              " 24.578784813698203,\n",
              " 24.552253442688176,\n",
              " 24.525936237363613,\n",
              " 24.499831058455637,\n",
              " 24.47393579220652,\n",
              " 24.448248350008008,\n",
              " 24.422766668045625,\n",
              " 24.39748870694877,\n",
              " 24.372412451446518,\n",
              " 24.347535910029006,\n",
              " 24.32285711461439,\n",
              " 24.298374120221176,\n",
              " 24.27408500464583,\n",
              " 24.249987868145688,\n",
              " 24.226080833126872,\n",
              " 24.20236204383729,\n",
              " 24.178829666064637,\n",
              " 24.155481886839095,\n",
              " 24.132316914140922,\n",
              " 24.10933297661271,\n",
              " 24.08652832327607,\n",
              " 24.06390122325312,\n",
              " 24.041449965492117,\n",
              " 24.019172858497594,\n",
              " 23.997068230064738,\n",
              " 23.975134427018,\n",
              " 23.953369814953717,\n",
              " 23.931772777986914,\n",
              " 23.910341718502032,\n",
              " 23.889075056907526,\n",
              " 23.86797123139436,\n",
              " 23.847028697698306,\n",
              " 23.826245928865806,\n",
              " 23.805621415023626,\n",
              " 23.78515366315201,\n",
              " 23.76484119686142,\n",
              " 23.744682556172563,\n",
              " 23.72467629730009,\n",
              " 23.704820992439313,\n",
              " 23.685115229556448,\n",
              " 23.665557612181978,\n",
              " 23.646146759207163,\n",
              " 23.62688130468366,\n",
              " 23.6077598976263,\n",
              " 23.588781201818755,\n",
              " 23.569943895622142,\n",
              " 23.551246671786693,\n",
              " 23.532688237266072,\n",
              " 23.514267313034644,\n",
              " 23.49598263390742,\n",
              " 23.477832948362725,\n",
              " 23.459817018367577,\n",
              " 23.441933619205617,\n",
              " 23.42418153930764,\n",
              " 23.40655958008467,\n",
              " 23.389066555763506,\n",
              " 23.371701293224657,\n",
              " 23.354462631842857,\n",
              " 23.337349423329673,\n",
              " 23.320360531578686,\n",
              " 23.30349483251286,\n",
              " 23.286751213934057,\n",
              " 23.270128575374947,\n",
              " 23.25362582795298,\n",
              " 23.23724189422648,\n",
              " 23.220975708052855,\n",
              " 23.204826214448975,\n",
              " 23.188792369453385,\n",
              " 23.17287313999072,\n",
              " 23.157067503737867,\n",
              " 23.14137444899231,\n",
              " 23.125792974542136,\n",
              " 23.110322089538098,\n",
              " 23.094960813367347,\n",
              " 23.079708175529156,\n",
              " 23.06456321551223,\n",
              " 23.049524982673944,\n",
              " 23.03459253612115,\n",
              " 23.019764944592776,\n",
              " 23.005041286344067,\n",
              " 22.990420649032455,\n",
              " 22.975902129604997,\n",
              " 22.961484834187488,\n",
              " 22.947167877975076,\n",
              " 22.932950385124443,\n",
              " 22.918831488647424,\n",
              " 22.904810330306223,\n",
              " 22.89088606050998,\n",
              " 22.877057838212885,\n",
              " 22.863324830813628,\n",
              " 22.849686214056238,\n",
              " 22.83614117193235,\n",
              " 22.822688896584808,\n",
              " 22.809328588212537,\n",
              " 22.7960594549768,\n",
              " 22.78288071290867,\n",
              " 22.769791585817856,\n",
              " 22.756791305202658,\n",
              " 22.743879110161245,\n",
              " 22.731054247304144,\n",
              " 22.71831597066776,\n",
              " 22.705663541629324,\n",
              " 22.693096228822768,\n",
              " 22.68061330805585,\n",
              " 22.66821406222833,\n",
              " 22.655897781251305,\n",
              " 22.643663761967613,\n",
              " 22.63151130807319,\n",
              " 22.61943973003972,\n",
              " 22.607448345038023,\n",
              " 22.59553647686268,\n",
              " 22.58370345585756,\n",
              " 22.57194861884235,\n",
              " 22.56027130904006,\n",
              " 22.548670876005467,\n",
              " 22.537146675554517,\n",
              " 22.525698069694673,\n",
              " 22.5143244265561,\n",
              " 22.50302512032384,\n",
              " 22.491799531170805,\n",
              " 22.480647045191656,\n",
              " 22.46956705433759,\n",
              " 22.45855895635188,\n",
              " 22.44762215470634,\n",
              " 22.436756058538545,\n",
              " 22.425960082589864,\n",
              " 22.41523364714436,\n",
              " 22.404576177968345,\n",
              " 22.39398710625084,\n",
              " 22.38346586854474,\n",
              " 22.373011906708644,\n",
              " 22.36262466784961,\n",
              " 22.35230360426644,\n",
              " 22.342048173393824,\n",
              " 22.331857837747144,\n",
              " 22.3217320648679,\n",
              " 22.311670327269965,\n",
              " 22.301672102386398,\n",
              " 22.291736872516957,\n",
              " 22.281864124776288,\n",
              " 22.272053351042743,\n",
              " 22.262304047907826,\n",
              " 22.252615716626288,\n",
              " 22.2429878630668,\n",
              " 22.233419997663326,\n",
              " 22.22391163536695,\n",
              " 22.21446229559845,\n",
              " 22.20507150220134,\n",
              " 22.195738783395544,\n",
              " 22.186463671731655,\n",
              " 22.177245704045657,\n",
              " 22.168084421414314,\n",
              " 22.15897936911104,\n",
              " 22.149930096562287,\n",
              " 22.140936157304544,\n",
              " 22.131997108941714,\n",
              " 22.12311251310317,\n",
              " 22.114281935402204,\n",
              " 22.105504945395005,\n",
              " 22.09678111654011,\n",
              " 22.088110026158404,\n",
              " 22.079491255393503,\n",
              " 22.070924389172706,\n",
              " 22.06240901616831,\n",
              " 22.0539447287595,\n",
              " 22.045531122994568,\n",
              " 22.03716779855364,\n",
              " 22.028854358711886,\n",
              " 22.020590410303083,\n",
              " 22.012375563683616,\n",
              " 22.00420943269697,\n",
              " 21.996091634638557,\n",
              " 21.988021790220976,\n",
              " 21.979999523539732,\n",
              " 21.972024462039244,\n",
              " 21.964096236479378,\n",
              " 21.956214480902247,\n",
              " 21.948378832599467,\n",
              " 21.940588932079788,\n",
              " 21.932844423037047,\n",
              " 21.925144952318526,\n",
              " 21.91749016989371,\n",
              " 21.90987972882332,\n",
              " 21.90231328522872,\n",
              " 21.894790498261763,\n",
              " 21.88731103007484,\n",
              " 21.87987454579137,\n",
              " 21.87248071347661,\n",
              " 21.8651292041087,\n",
              " 21.857819691550212,\n",
              " 21.850551852519832,\n",
              " 21.843325366564503,\n",
              " 21.836139916031804,\n",
              " 21.828995186042636,\n",
              " 21.821890864464265,\n",
              " 21.81482664188365,\n",
              " 21.80780221158096,\n",
              " 21.800817269503597,\n",
              " 21.79387151424033,\n",
              " 21.78696464699576,\n",
              " 21.78009637156509,\n",
              " 21.77326639430919,\n",
              " 21.766474424129854,\n",
              " 21.75972017244546,\n",
              " 21.753003353166736,\n",
              " 21.746323682672944,\n",
              " 21.739680879788203,\n",
              " 21.733074665758146,\n",
              " 21.726504764226824,\n",
              " 21.719970901213813,\n",
              " 21.713472805091616,\n",
              " 21.70701020656329,\n",
              " 21.700582838640322,\n",
              " 21.694190436620712,\n",
              " 21.687832738067378,\n",
              " 21.681509482786673,\n",
              " 21.675220412807235,\n",
              " 21.668965272358985,\n",
              " 21.662743807852415,\n",
              " 21.65655576785807,\n",
              " 21.65040090308623,\n",
              " 21.64427896636682,\n",
              " 21.638189712629554,\n",
              " 21.63213289888427,\n",
              " 21.62610828420146,\n",
              " 21.62011562969305,\n",
              " 21.6141546984933,\n",
              " 21.608225255740034,\n",
              " 21.602327068555926,\n",
              " 21.596459906030084,\n",
              " 21.590623539199765,\n",
              " 21.58481774103232,\n",
              " 21.579042286407326,\n",
              " 21.573296952098843,\n",
              " 21.567581516757983,\n",
              " 21.5618957608955,\n",
              " 21.55623946686469,\n",
              " 21.550612418844388,\n",
              " 21.54501440282221,\n",
              " 21.539445206577888,\n",
              " 21.53390461966684,\n",
              " 21.528392433403873,\n",
              " 21.522908440847093,\n",
              " 21.517452436781902,\n",
              " 21.512024217705278,\n",
              " 21.50662358181007,\n",
              " 21.501250328969597,\n",
              " 21.495904260722313,\n",
              " 21.490585180256627,\n",
              " 21.48529289239593,\n",
              " 21.480027203583735,\n",
              " 21.474787921868998,\n",
              " 21.469574856891526,\n",
              " 21.464387819867596,\n",
              " 21.459226623575695,\n",
              " 21.454091082342433,\n",
              " 21.448981012028483,\n",
              " 21.443896230014854,\n",
              " 21.438836555189088,\n",
              " 21.43380180793182,\n",
              " 21.42879181010324,\n",
              " 21.423806385029856,\n",
              " 21.41884535749134,\n",
              " 21.413908553707504,\n",
              " 21.408995801325364,\n",
              " 21.404106929406403,\n",
              " 21.399241768413923,\n",
              " 21.394400150200514,\n",
              " 21.389581907995666,\n",
              " 21.38478687639348,\n",
              " 21.380014891340576,\n",
              " 21.375265790123933,\n",
              " 21.37053941135912,\n",
              " 21.36583559497838,\n",
              " 21.361154182219003,\n",
              " 21.35649501561177,\n",
              " 21.351857938969456,\n",
              " 21.34724279737548,\n",
              " 21.342649437172724,\n",
              " 21.338077705952355,\n",
              " 21.333527452542818,\n",
              " 21.328998526998937,\n",
              " 21.324490780591127,\n",
              " 21.320004065794617,\n",
              " 21.315538236278933,\n",
              " 21.311093146897388,\n",
              " 21.306668653676642,\n",
              " 21.302264613806432,\n",
              " 21.29788088562942,\n",
              " 21.293517328631,\n",
              " 21.289173803429385,\n",
              " 21.284850171765644,\n",
              " 21.280546296493924,\n",
              " 21.27626204157171,\n",
              " 21.27199727205021,\n",
              " 21.267751854064812,\n",
              " 21.263525654825656,\n",
              " 21.25931854260827,\n",
              " 21.2551303867443,\n",
              " 21.25096105761233,\n",
              " 21.24681042662883,\n",
              " 21.242678366239083,\n",
              " 21.238564749908317,\n",
              " 21.23446945211288,\n",
              " 21.230392348331414,\n",
              " 21.226333315036268,\n",
              " 21.22229222968488,\n",
              " 21.21826897071122,\n",
              " 21.21426341751745,\n",
              " 21.2102754504655,\n",
              " 21.20630495086884,\n",
              " 21.202351800984268,\n",
              " 21.19841588400378,\n",
              " 21.19449708404656,\n",
              " 21.190595286150973,\n",
              " 21.186710376266728,\n",
              " 21.18284224124698,\n",
              " 21.17899076884066,\n",
              " 21.17515584768474,\n",
              " 21.17133736729667,\n",
              " 21.167535218066817,\n",
              " 21.163749291251012,\n",
              " 21.15997947896316,\n",
              " 21.15622567416788,\n",
              " 21.1524877706733,\n",
              " 21.1487656631238,\n",
              " 21.145059246992957,\n",
              " 21.141368418576402,\n",
              " 21.137693074984888,\n",
              " 21.134033114137324,\n",
              " 21.130388434753936,\n",
              " 21.126758936349397,\n",
              " 21.12314451922616,\n",
              " 21.119545084467717,\n",
              " 21.115960533932032,\n",
              " 21.112390770244915,\n",
              " 21.108835696793555,\n",
              " 21.10529521772009,\n",
              " 21.101769237915196,\n",
              " 21.09825766301177,\n",
              " 21.094760399378668,\n",
              " 21.09127735411449,\n",
              " 21.087808435041406,\n",
              " 21.08435355069908,\n",
              " 21.080912610338626,\n",
              " 21.07748552391659,\n",
              " 21.07407220208904,\n",
              " 21.070672556205672,\n",
              " 21.06728649830396,\n",
              " 21.063913941103436,\n",
              " 21.060554797999917,\n",
              " 21.0572089830598,\n",
              " 21.053876411014546,\n",
              " 21.05055699725498,\n",
              " 21.047250657825856,\n",
              " 21.04395730942037,\n",
              " 21.040676869374682,\n",
              " 21.03740925566261,\n",
              " 21.03415438689026,\n",
              " 21.030912182290734,\n",
              " 21.027682561718947,\n",
              " 21.024465445646385,\n",
              " 21.02126075515601,\n",
              " 21.018068411937122,\n",
              " 21.01488833828035,\n",
              " 21.011720457072595,\n",
              " 21.00856469179214,\n",
              " 21.00542096650366,\n",
              " 21.002289205853394,\n",
              " 20.999169335064312,\n",
              " 20.99606127993129,\n",
              " 20.992964966816427,\n",
              " 20.989880322644282,\n",
              " 20.986807274897252,\n",
              " 20.983745751610922,\n",
              " 20.980695681369504,\n",
              " 20.97765699330129,\n",
              " 20.97462961707417,\n",
              " 20.97161348289114,\n",
              " 20.968608521485884,\n",
              " 20.965614664118426,\n",
              " 20.962631842570765,\n",
              " 20.95965998914255,\n",
              " 20.956699036646842,\n",
              " 20.953748918405864,\n",
              " 20.95080956824682,\n",
              " 20.94788092049773,\n",
              " 20.944962909983303,\n",
              " 20.942055472020865,\n",
              " 20.939158542416312,\n",
              " 20.936272057460073,\n",
              " 20.93339595392317,\n",
              " 20.930530169053213,\n",
              " 20.927674640570565,\n",
              " 20.924829306664392,\n",
              " 20.921994105988883,\n",
              " 20.919168977659414,\n",
              " 20.916353861248734,\n",
              " 20.9135486967833,\n",
              " 20.910753424739518,\n",
              " 20.90796798604006,\n",
              " 20.905192322050222,\n",
              " 20.902426374574333,\n",
              " 20.89967008585215,\n",
              " 20.896923398555295,\n",
              " 20.894186255783744,\n",
              " 20.89145860106236,\n",
              " 20.888740378337374,\n",
              " 20.886031531973007,\n",
              " 20.883332006748045,\n",
              " 20.880641747852444,\n",
              " 20.877960700884046,\n",
              " 20.875288811845184,\n",
              " 20.872626027139464,\n",
              " 20.869972293568456,\n",
              " 20.867327558328522,\n",
              " 20.864691769007525,\n",
              " 20.862064873581733,\n",
              " 20.85944682041265,\n",
              " 20.856837558243857,\n",
              " 20.854237036197972,\n",
              " 20.85164520377354,\n",
              " 20.849062010842005,\n",
              " 20.8464874076447,\n",
              " 20.84392134478985,\n",
              " 20.84136377324962,\n",
              " 20.83881464435713,\n",
              " 20.836273909803595,\n",
              " 20.83374152163542,\n",
              " 20.83121743225132,\n",
              " 20.82870159439949,\n",
              " 20.826193961174763,\n",
              " 20.82369448601589,\n",
              " 20.82120312270266,\n",
              " 20.81871982535327,\n",
              " 20.816244548421512,\n",
              " 20.813777246694123,\n",
              " 20.8113178752881,\n",
              " 20.808866389648042,\n",
              " 20.806422745543504,\n",
              " 20.803986899066423,\n",
              " 20.80155880662851,\n",
              " 20.79913842495866,\n",
              " 20.796725711100468,\n",
              " 20.79432062240966,\n",
              " 20.791923116551633,\n",
              " 20.789533151498897,\n",
              " 20.787150685528722,\n",
              " 20.784775677220626,\n",
              " 20.782408085453984,\n",
              " 20.78004786940562,\n",
              " 20.777694988547463,\n",
              " 20.77534940264414,\n",
              " 20.773011071750677,\n",
              " 20.770679956210163,\n",
              " 20.76835601665148,\n",
              " 20.766039213986975,\n",
              " 20.763729509410254,\n",
              " 20.761426864393908,\n",
              " 20.75913124068731,\n",
              " 20.756842600314386,\n",
              " 20.754560905571484,\n",
              " 20.752286119025136,\n",
              " 20.750018203509963,\n",
              " 20.747757122126544,\n",
              " 20.745502838239272,\n",
              " 20.743255315474276,\n",
              " 20.741014517717353,\n",
              " 20.738780409111907,\n",
              " 20.736552954056883,\n",
              " 20.734332117204783,\n",
              " 20.732117863459624,\n",
              " 20.72991015797496,\n",
              " 20.727708966151898,\n",
              " 20.725514253637137,\n",
              " 20.723325986321058,\n",
              " 20.721144130335766,\n",
              " 20.71896865205319,\n",
              " 20.71679951808318,\n",
              " 20.71463669527165,\n",
              " 20.7124801506987,\n",
              " 20.710329851676747,\n",
              " 20.708185765748762,\n",
              " 20.706047860686365,\n",
              " 20.7039161044881,\n",
              " 20.701790465377595,\n",
              " 20.699670911801817,\n",
              " 20.69755741242932,\n",
              " 20.695449936148492,\n",
              " 20.693348452065795,\n",
              " 20.691252929504127,\n",
              " 20.689163338001055,\n",
              " 20.687079647307154,\n",
              " 20.68500182738433,\n",
              " 20.6829298484042,\n",
              " 20.68086368074637,\n",
              " 20.678803294996882,\n",
              " 20.676748661946547,\n",
              " 20.674699752589373,\n",
              " 20.67265653812095,\n",
              " 20.67061898993691,\n",
              " 20.66858707963129,\n",
              " 20.666560778995073,\n",
              " 20.664540060014588,\n",
              " 20.662524894869982,\n",
              " 20.660515255933763,\n",
              " 20.65851111576923,\n",
              " 20.656512447129032,\n",
              " 20.65451922295367,\n",
              " 20.652531416370053,\n",
              " 20.650549000690013,\n",
              " 20.64857194940889,\n",
              " 20.6466002362041,\n",
              " 20.644633834933725,\n",
              " 20.64267271963509,\n",
              " 20.64071686452338,\n",
              " 20.63876624399026,\n",
              " 20.63682083260251,\n",
              " 20.634880605100637,\n",
              " 20.63294553639757,\n",
              " 20.631015601577275,\n",
              " 20.6290907758935,\n",
              " 20.627171034768367,\n",
              " 20.62525635379113,\n",
              " 20.62334670871687,\n",
              " 20.621442075465218,\n",
              " 20.619542430119058,\n",
              " 20.617647748923268,\n",
              " 20.615758008283503,\n",
              " 20.61387318476492,\n",
              " 20.61199325509094,\n",
              " 20.61011819614206,\n",
              " 20.60824798495463,\n",
              " 20.60638259871961,\n",
              " 20.60452201478144,\n",
              " 20.60266621063683,\n",
              " 20.600815163933582,\n",
              " 20.598968852469415,\n",
              " 20.597127254190866,\n",
              " 20.59529034719205,\n",
              " 20.593458109713662,\n",
              " 20.591630520141706,\n",
              " 20.58980755700648,\n",
              " 20.587989198981422,\n",
              " 20.58617542488203,\n",
              " 20.584366213664737,\n",
              " 20.58256154442593,\n",
              " 20.580761396400728,\n",
              " 20.578965748962045,\n",
              " 20.577174581619477,\n",
              " 20.575387874018283,\n",
              " 20.573605605938287,\n",
              " 20.571827757292954,\n",
              " 20.570054308128274,\n",
              " 20.56828523862178,\n",
              " 20.566520529081586,\n",
              " 20.564760159945312,\n",
              " 20.56300411177917,\n",
              " 20.561252365276918,\n",
              " 20.559504901258972,\n",
              " 20.55776170067134,\n",
              " 20.556022744584748,\n",
              " 20.554288014193656,\n",
              " 20.552557490815307,\n",
              " 20.55083115588882,\n",
              " 20.549108990974254,\n",
              " 20.547390977751686,\n",
              " 20.54567709802029,\n",
              " 20.543967333697463,\n",
              " 20.542261666817897,\n",
              " 20.5405600795327,\n",
              " 20.53886255410854,\n",
              " 20.537169072926723,\n",
              " 20.53547961848235,\n",
              " 20.53379417338347,\n",
              " 20.53211272035021,\n",
              " 20.53043524221392,\n",
              " 20.52876172191635,\n",
              " 20.527092142508806,\n",
              " 20.525426487151318,\n",
              " 20.523764739111844,\n",
              " 20.52210688176542,\n",
              " 20.520452898593405,\n",
              " 20.51880277318262,\n",
              " 20.517156489224583,\n",
              " 20.515514030514733,\n",
              " 20.513875380951646,\n",
              " 20.512240524536224,\n",
              " 20.51060944537097,\n",
              " 20.508982127659205,\n",
              " 20.507358555704304,\n",
              " 20.505738713908983,\n",
              " 20.504122586774486,\n",
              " 20.502510158899927,\n",
              " 20.500901414981485,\n",
              " 20.499296339811725,\n",
              " 20.49769491827887,\n",
              " 20.496097135366064,\n",
              " 20.49450297615068,\n",
              " 20.492912425803617,\n",
              " 20.49132546958858,\n",
              " 20.48974209286142,\n",
              " 20.48816228106943,\n",
              " 20.48658601975066,\n",
              " 20.48501329453323,\n",
              " 20.483444091134707,\n",
              " 20.481878395361385,\n",
              " 20.480316193107654,\n",
              " 20.478757470355323,\n",
              " 20.477202213173,\n",
              " 20.475650407715435,\n",
              " 20.474102040222867,\n",
              " 20.4725570970204,\n",
              " 20.471015564517383,\n",
              " 20.469477429206762,\n",
              " 20.467942677664514,\n",
              " 20.466411296548937,\n",
              " 20.46488327260015,\n",
              " 20.463358592639413,\n",
              " 20.461837243568535,\n",
              " 20.460319212369328,\n",
              " 20.45880448610297,\n",
              " 20.45729305190941,\n",
              " 20.45578489700685,\n",
              " 20.45428000869109,\n",
              " 20.45277837433503,\n",
              " 20.45127998138804,\n",
              " 20.449784817375427,\n",
              " 20.448292869897877,\n",
              " 20.446804126630916,\n",
              " 20.44531857532432,\n",
              " 20.443836203801588,\n",
              " 20.442356999959433,\n",
              " 20.440880951767188,\n",
              " 20.43940804726632,\n",
              " 20.437938274569888,\n",
              " 20.436471621861998,\n",
              " 20.43500807739732,\n",
              " 20.433547629500545,\n",
              " 20.432090266565893,\n",
              " 20.430635977056568,\n",
              " 20.42918474950431,\n",
              " 20.427736572508845,\n",
              " 20.42629143473743,\n",
              " 20.42484932492433,\n",
              " 20.42341023187033,\n",
              " 20.4219741444423,\n",
              " 20.42054105157263,\n",
              " 20.419110942258826,\n",
              " 20.41768380556303,\n",
              " 20.416259630611485,\n",
              " 20.414838406594168]"
            ]
          },
          "metadata": {
            "tags": []
          },
          "execution_count": 12
        }
      ]
    },
    {
      "cell_type": "code",
      "metadata": {
        "id": "P6s8h52gUI7Z",
        "colab": {
          "base_uri": "https://localhost:8080/",
          "height": 0
        },
        "outputId": "8e3af149-9bd6-4449-e1ba-b58bda537a63"
      },
      "source": [
        "plt.figure(figsize=(10, 6))\n",
        "plt.plot(lr_scaled.loss_history)\n",
        "plt.title('MSE loss dependence on SGD iteration')\n",
        "plt.xlabel('SGD iteration')\n",
        "plt.ylabel('Loss')\n",
        "plt.grid()\n",
        "plt.show()"
      ],
      "execution_count": 13,
      "outputs": [
        {
          "output_type": "display_data",
          "data": {
            "image/png": "[encoded data removed]",
            "text/plain": [
              "<Figure size 720x432 with 1 Axes>"
            ]
          },
          "metadata": {
            "tags": [],
            "needs_background": "light"
          }
        }
      ]
    },
    {
      "cell_type": "markdown",
      "metadata": {
        "id": "0--vVXZRVbWl"
      },
      "source": [
        "#### Наблюдения\n",
        "Сейчас трансформация применяется.\n",
        "Можно отметить, что на масштабированных данных получилось использовать скорость\n",
        "обучения $\\eta$ на 3 порядка больше, чем при исходном подходе в задании 3, при \n",
        "этом все равно решение сходится.\n",
        "\n",
        "Если применить $\\eta =0,08$ для исходных данных, то алгоритм не находит решение для $w$\n",
        "\n",
        "При этом получилось на тесте добиться меньшей ошибки $\\Rightarrow$ одни плюсы."
      ]
    },
    {
      "cell_type": "code",
      "metadata": {
        "id": "MdwmhibtUI7a",
        "colab": {
          "base_uri": "https://localhost:8080/"
        },
        "outputId": "5295249d-45f9-4b34-e5f3-da8c785800e7"
      },
      "source": [
        "mse_test = mse_loss(X_test_scaled, y_test, lr_scaled.w)\n",
        "print(mse_test)\n",
        "assert mse_test <= 100"
      ],
      "execution_count": 14,
      "outputs": [
        {
          "output_type": "stream",
          "text": [
            "29.589664033465397\n"
          ],
          "name": "stdout"
        }
      ]
    },
    {
      "cell_type": "markdown",
      "metadata": {
        "id": "ASEVyc2oUI7b"
      },
      "source": [
        "# Часть 2 "
      ]
    },
    {
      "cell_type": "code",
      "metadata": {
        "id": "BY22qq7jUI7c"
      },
      "source": [
        "import matplotlib.pyplot as plt\n",
        "import matplotlib.lines as lines\n",
        "\n",
        "import numpy as np\n",
        "import pandas as pd\n",
        "import requests\n",
        "\n",
        "from sklearn.linear_model import LinearRegression, Lasso, Ridge\n",
        "from sklearn.metrics import mean_squared_error\n",
        "from sklearn.model_selection import train_test_split, GridSearchCV\n",
        "from sklearn.preprocessing import MinMaxScaler, StandardScaler\n",
        "from sklearn.impute import SimpleImputer\n",
        "from itertools import combinations\n",
        "from sklearn.preprocessing import OneHotEncoder\n",
        "\n",
        "\n",
        "%matplotlib inline"
      ],
      "execution_count": 15,
      "outputs": []
    },
    {
      "cell_type": "markdown",
      "metadata": {
        "id": "nTQYYTWIrpC5"
      },
      "source": [
        "В этой части вы поработаете с данными из другого соревнования на Kaggle: https://www.kaggle.com/c/house-prices-advanced-regression-techniques. Задача - предсказание цены дома.\n",
        "\n",
        "Данные можно скачать [тут](https://raw.githubusercontent.com/WeaselCMC/ml_dpo_2021/master/hw/hw2/train.csv)"
      ]
    },
    {
      "cell_type": "code",
      "metadata": {
        "id": "45lqIuKrUI7e",
        "colab": {
          "base_uri": "https://localhost:8080/"
        },
        "outputId": "b24d3899-2483-4ba5-fdae-05e8bf326158"
      },
      "source": [
        "req = requests.get('https://raw.githubusercontent.com/WeaselCMC/ml_dpo_2021/master/hw/hw2/train.csv')\n",
        "url_content = req.content\n",
        "csv_file = open('train.csv', 'wb')\n",
        "\n",
        "csv_file.write(url_content)\n",
        "csv_file.close()\n",
        "\n",
        "data = pd.read_csv('train.csv', header=0)\n",
        "data.drop('Id', axis=1, inplace=True)\n",
        "data.shape"
      ],
      "execution_count": 16,
      "outputs": [
        {
          "output_type": "execute_result",
          "data": {
            "text/plain": [
              "(1460, 80)"
            ]
          },
          "metadata": {
            "tags": []
          },
          "execution_count": 16
        }
      ]
    },
    {
      "cell_type": "code",
      "metadata": {
        "id": "brKRqJm5UI7e",
        "colab": {
          "base_uri": "https://localhost:8080/",
          "height": 224
        },
        "outputId": "b0d9562e-2cd5-420e-8eb4-64f46741bcae"
      },
      "source": [
        "data.head()"
      ],
      "execution_count": 17,
      "outputs": [
        {
          "output_type": "execute_result",
          "data": {
            "text/html": [
              "<div>\n",
              "<style scoped>\n",
              "    .dataframe tbody tr th:only-of-type {\n",
              "        vertical-align: middle;\n",
              "    }\n",
              "\n",
              "    .dataframe tbody tr th {\n",
              "        vertical-align: top;\n",
              "    }\n",
              "\n",
              "    .dataframe thead th {\n",
              "        text-align: right;\n",
              "    }\n",
              "</style>\n",
              "<table border=\"1\" class=\"dataframe\">\n",
              "  <thead>\n",
              "    <tr style=\"text-align: right;\">\n",
              "      <th></th>\n",
              "      <th>MSSubClass</th>\n",
              "      <th>MSZoning</th>\n",
              "      <th>LotFrontage</th>\n",
              "      <th>LotArea</th>\n",
              "      <th>Street</th>\n",
              "      <th>Alley</th>\n",
              "      <th>LotShape</th>\n",
              "      <th>LandContour</th>\n",
              "      <th>Utilities</th>\n",
              "      <th>LotConfig</th>\n",
              "      <th>LandSlope</th>\n",
              "      <th>Neighborhood</th>\n",
              "      <th>Condition1</th>\n",
              "      <th>Condition2</th>\n",
              "      <th>BldgType</th>\n",
              "      <th>HouseStyle</th>\n",
              "      <th>OverallQual</th>\n",
              "      <th>OverallCond</th>\n",
              "      <th>YearBuilt</th>\n",
              "      <th>YearRemodAdd</th>\n",
              "      <th>RoofStyle</th>\n",
              "      <th>RoofMatl</th>\n",
              "      <th>Exterior1st</th>\n",
              "      <th>Exterior2nd</th>\n",
              "      <th>MasVnrType</th>\n",
              "      <th>MasVnrArea</th>\n",
              "      <th>ExterQual</th>\n",
              "      <th>ExterCond</th>\n",
              "      <th>Foundation</th>\n",
              "      <th>BsmtQual</th>\n",
              "      <th>BsmtCond</th>\n",
              "      <th>BsmtExposure</th>\n",
              "      <th>BsmtFinType1</th>\n",
              "      <th>BsmtFinSF1</th>\n",
              "      <th>BsmtFinType2</th>\n",
              "      <th>BsmtFinSF2</th>\n",
              "      <th>BsmtUnfSF</th>\n",
              "      <th>TotalBsmtSF</th>\n",
              "      <th>Heating</th>\n",
              "      <th>HeatingQC</th>\n",
              "      <th>CentralAir</th>\n",
              "      <th>Electrical</th>\n",
              "      <th>1stFlrSF</th>\n",
              "      <th>2ndFlrSF</th>\n",
              "      <th>LowQualFinSF</th>\n",
              "      <th>GrLivArea</th>\n",
              "      <th>BsmtFullBath</th>\n",
              "      <th>BsmtHalfBath</th>\n",
              "      <th>FullBath</th>\n",
              "      <th>HalfBath</th>\n",
              "      <th>BedroomAbvGr</th>\n",
              "      <th>KitchenAbvGr</th>\n",
              "      <th>KitchenQual</th>\n",
              "      <th>TotRmsAbvGrd</th>\n",
              "      <th>Functional</th>\n",
              "      <th>Fireplaces</th>\n",
              "      <th>FireplaceQu</th>\n",
              "      <th>GarageType</th>\n",
              "      <th>GarageYrBlt</th>\n",
              "      <th>GarageFinish</th>\n",
              "      <th>GarageCars</th>\n",
              "      <th>GarageArea</th>\n",
              "      <th>GarageQual</th>\n",
              "      <th>GarageCond</th>\n",
              "      <th>PavedDrive</th>\n",
              "      <th>WoodDeckSF</th>\n",
              "      <th>OpenPorchSF</th>\n",
              "      <th>EnclosedPorch</th>\n",
              "      <th>3SsnPorch</th>\n",
              "      <th>ScreenPorch</th>\n",
              "      <th>PoolArea</th>\n",
              "      <th>PoolQC</th>\n",
              "      <th>Fence</th>\n",
              "      <th>MiscFeature</th>\n",
              "      <th>MiscVal</th>\n",
              "      <th>MoSold</th>\n",
              "      <th>YrSold</th>\n",
              "      <th>SaleType</th>\n",
              "      <th>SaleCondition</th>\n",
              "      <th>SalePrice</th>\n",
              "    </tr>\n",
              "  </thead>\n",
              "  <tbody>\n",
              "    <tr>\n",
              "      <th>0</th>\n",
              "      <td>60</td>\n",
              "      <td>RL</td>\n",
              "      <td>65.0</td>\n",
              "      <td>8450</td>\n",
              "      <td>Pave</td>\n",
              "      <td>NaN</td>\n",
              "      <td>Reg</td>\n",
              "      <td>Lvl</td>\n",
              "      <td>AllPub</td>\n",
              "      <td>Inside</td>\n",
              "      <td>Gtl</td>\n",
              "      <td>CollgCr</td>\n",
              "      <td>Norm</td>\n",
              "      <td>Norm</td>\n",
              "      <td>1Fam</td>\n",
              "      <td>2Story</td>\n",
              "      <td>7</td>\n",
              "      <td>5</td>\n",
              "      <td>2003</td>\n",
              "      <td>2003</td>\n",
              "      <td>Gable</td>\n",
              "      <td>CompShg</td>\n",
              "      <td>VinylSd</td>\n",
              "      <td>VinylSd</td>\n",
              "      <td>BrkFace</td>\n",
              "      <td>196.0</td>\n",
              "      <td>Gd</td>\n",
              "      <td>TA</td>\n",
              "      <td>PConc</td>\n",
              "      <td>Gd</td>\n",
              "      <td>TA</td>\n",
              "      <td>No</td>\n",
              "      <td>GLQ</td>\n",
              "      <td>706</td>\n",
              "      <td>Unf</td>\n",
              "      <td>0</td>\n",
              "      <td>150</td>\n",
              "      <td>856</td>\n",
              "      <td>GasA</td>\n",
              "      <td>Ex</td>\n",
              "      <td>Y</td>\n",
              "      <td>SBrkr</td>\n",
              "      <td>856</td>\n",
              "      <td>854</td>\n",
              "      <td>0</td>\n",
              "      <td>1710</td>\n",
              "      <td>1</td>\n",
              "      <td>0</td>\n",
              "      <td>2</td>\n",
              "      <td>1</td>\n",
              "      <td>3</td>\n",
              "      <td>1</td>\n",
              "      <td>Gd</td>\n",
              "      <td>8</td>\n",
              "      <td>Typ</td>\n",
              "      <td>0</td>\n",
              "      <td>NaN</td>\n",
              "      <td>Attchd</td>\n",
              "      <td>2003.0</td>\n",
              "      <td>RFn</td>\n",
              "      <td>2</td>\n",
              "      <td>548</td>\n",
              "      <td>TA</td>\n",
              "      <td>TA</td>\n",
              "      <td>Y</td>\n",
              "      <td>0</td>\n",
              "      <td>61</td>\n",
              "      <td>0</td>\n",
              "      <td>0</td>\n",
              "      <td>0</td>\n",
              "      <td>0</td>\n",
              "      <td>NaN</td>\n",
              "      <td>NaN</td>\n",
              "      <td>NaN</td>\n",
              "      <td>0</td>\n",
              "      <td>2</td>\n",
              "      <td>2008</td>\n",
              "      <td>WD</td>\n",
              "      <td>Normal</td>\n",
              "      <td>208500</td>\n",
              "    </tr>\n",
              "    <tr>\n",
              "      <th>1</th>\n",
              "      <td>20</td>\n",
              "      <td>RL</td>\n",
              "      <td>80.0</td>\n",
              "      <td>9600</td>\n",
              "      <td>Pave</td>\n",
              "      <td>NaN</td>\n",
              "      <td>Reg</td>\n",
              "      <td>Lvl</td>\n",
              "      <td>AllPub</td>\n",
              "      <td>FR2</td>\n",
              "      <td>Gtl</td>\n",
              "      <td>Veenker</td>\n",
              "      <td>Feedr</td>\n",
              "      <td>Norm</td>\n",
              "      <td>1Fam</td>\n",
              "      <td>1Story</td>\n",
              "      <td>6</td>\n",
              "      <td>8</td>\n",
              "      <td>1976</td>\n",
              "      <td>1976</td>\n",
              "      <td>Gable</td>\n",
              "      <td>CompShg</td>\n",
              "      <td>MetalSd</td>\n",
              "      <td>MetalSd</td>\n",
              "      <td>None</td>\n",
              "      <td>0.0</td>\n",
              "      <td>TA</td>\n",
              "      <td>TA</td>\n",
              "      <td>CBlock</td>\n",
              "      <td>Gd</td>\n",
              "      <td>TA</td>\n",
              "      <td>Gd</td>\n",
              "      <td>ALQ</td>\n",
              "      <td>978</td>\n",
              "      <td>Unf</td>\n",
              "      <td>0</td>\n",
              "      <td>284</td>\n",
              "      <td>1262</td>\n",
              "      <td>GasA</td>\n",
              "      <td>Ex</td>\n",
              "      <td>Y</td>\n",
              "      <td>SBrkr</td>\n",
              "      <td>1262</td>\n",
              "      <td>0</td>\n",
              "      <td>0</td>\n",
              "      <td>1262</td>\n",
              "      <td>0</td>\n",
              "      <td>1</td>\n",
              "      <td>2</td>\n",
              "      <td>0</td>\n",
              "      <td>3</td>\n",
              "      <td>1</td>\n",
              "      <td>TA</td>\n",
              "      <td>6</td>\n",
              "      <td>Typ</td>\n",
              "      <td>1</td>\n",
              "      <td>TA</td>\n",
              "      <td>Attchd</td>\n",
              "      <td>1976.0</td>\n",
              "      <td>RFn</td>\n",
              "      <td>2</td>\n",
              "      <td>460</td>\n",
              "      <td>TA</td>\n",
              "      <td>TA</td>\n",
              "      <td>Y</td>\n",
              "      <td>298</td>\n",
              "      <td>0</td>\n",
              "      <td>0</td>\n",
              "      <td>0</td>\n",
              "      <td>0</td>\n",
              "      <td>0</td>\n",
              "      <td>NaN</td>\n",
              "      <td>NaN</td>\n",
              "      <td>NaN</td>\n",
              "      <td>0</td>\n",
              "      <td>5</td>\n",
              "      <td>2007</td>\n",
              "      <td>WD</td>\n",
              "      <td>Normal</td>\n",
              "      <td>181500</td>\n",
              "    </tr>\n",
              "    <tr>\n",
              "      <th>2</th>\n",
              "      <td>60</td>\n",
              "      <td>RL</td>\n",
              "      <td>68.0</td>\n",
              "      <td>11250</td>\n",
              "      <td>Pave</td>\n",
              "      <td>NaN</td>\n",
              "      <td>IR1</td>\n",
              "      <td>Lvl</td>\n",
              "      <td>AllPub</td>\n",
              "      <td>Inside</td>\n",
              "      <td>Gtl</td>\n",
              "      <td>CollgCr</td>\n",
              "      <td>Norm</td>\n",
              "      <td>Norm</td>\n",
              "      <td>1Fam</td>\n",
              "      <td>2Story</td>\n",
              "      <td>7</td>\n",
              "      <td>5</td>\n",
              "      <td>2001</td>\n",
              "      <td>2002</td>\n",
              "      <td>Gable</td>\n",
              "      <td>CompShg</td>\n",
              "      <td>VinylSd</td>\n",
              "      <td>VinylSd</td>\n",
              "      <td>BrkFace</td>\n",
              "      <td>162.0</td>\n",
              "      <td>Gd</td>\n",
              "      <td>TA</td>\n",
              "      <td>PConc</td>\n",
              "      <td>Gd</td>\n",
              "      <td>TA</td>\n",
              "      <td>Mn</td>\n",
              "      <td>GLQ</td>\n",
              "      <td>486</td>\n",
              "      <td>Unf</td>\n",
              "      <td>0</td>\n",
              "      <td>434</td>\n",
              "      <td>920</td>\n",
              "      <td>GasA</td>\n",
              "      <td>Ex</td>\n",
              "      <td>Y</td>\n",
              "      <td>SBrkr</td>\n",
              "      <td>920</td>\n",
              "      <td>866</td>\n",
              "      <td>0</td>\n",
              "      <td>1786</td>\n",
              "      <td>1</td>\n",
              "      <td>0</td>\n",
              "      <td>2</td>\n",
              "      <td>1</td>\n",
              "      <td>3</td>\n",
              "      <td>1</td>\n",
              "      <td>Gd</td>\n",
              "      <td>6</td>\n",
              "      <td>Typ</td>\n",
              "      <td>1</td>\n",
              "      <td>TA</td>\n",
              "      <td>Attchd</td>\n",
              "      <td>2001.0</td>\n",
              "      <td>RFn</td>\n",
              "      <td>2</td>\n",
              "      <td>608</td>\n",
              "      <td>TA</td>\n",
              "      <td>TA</td>\n",
              "      <td>Y</td>\n",
              "      <td>0</td>\n",
              "      <td>42</td>\n",
              "      <td>0</td>\n",
              "      <td>0</td>\n",
              "      <td>0</td>\n",
              "      <td>0</td>\n",
              "      <td>NaN</td>\n",
              "      <td>NaN</td>\n",
              "      <td>NaN</td>\n",
              "      <td>0</td>\n",
              "      <td>9</td>\n",
              "      <td>2008</td>\n",
              "      <td>WD</td>\n",
              "      <td>Normal</td>\n",
              "      <td>223500</td>\n",
              "    </tr>\n",
              "    <tr>\n",
              "      <th>3</th>\n",
              "      <td>70</td>\n",
              "      <td>RL</td>\n",
              "      <td>60.0</td>\n",
              "      <td>9550</td>\n",
              "      <td>Pave</td>\n",
              "      <td>NaN</td>\n",
              "      <td>IR1</td>\n",
              "      <td>Lvl</td>\n",
              "      <td>AllPub</td>\n",
              "      <td>Corner</td>\n",
              "      <td>Gtl</td>\n",
              "      <td>Crawfor</td>\n",
              "      <td>Norm</td>\n",
              "      <td>Norm</td>\n",
              "      <td>1Fam</td>\n",
              "      <td>2Story</td>\n",
              "      <td>7</td>\n",
              "      <td>5</td>\n",
              "      <td>1915</td>\n",
              "      <td>1970</td>\n",
              "      <td>Gable</td>\n",
              "      <td>CompShg</td>\n",
              "      <td>Wd Sdng</td>\n",
              "      <td>Wd Shng</td>\n",
              "      <td>None</td>\n",
              "      <td>0.0</td>\n",
              "      <td>TA</td>\n",
              "      <td>TA</td>\n",
              "      <td>BrkTil</td>\n",
              "      <td>TA</td>\n",
              "      <td>Gd</td>\n",
              "      <td>No</td>\n",
              "      <td>ALQ</td>\n",
              "      <td>216</td>\n",
              "      <td>Unf</td>\n",
              "      <td>0</td>\n",
              "      <td>540</td>\n",
              "      <td>756</td>\n",
              "      <td>GasA</td>\n",
              "      <td>Gd</td>\n",
              "      <td>Y</td>\n",
              "      <td>SBrkr</td>\n",
              "      <td>961</td>\n",
              "      <td>756</td>\n",
              "      <td>0</td>\n",
              "      <td>1717</td>\n",
              "      <td>1</td>\n",
              "      <td>0</td>\n",
              "      <td>1</td>\n",
              "      <td>0</td>\n",
              "      <td>3</td>\n",
              "      <td>1</td>\n",
              "      <td>Gd</td>\n",
              "      <td>7</td>\n",
              "      <td>Typ</td>\n",
              "      <td>1</td>\n",
              "      <td>Gd</td>\n",
              "      <td>Detchd</td>\n",
              "      <td>1998.0</td>\n",
              "      <td>Unf</td>\n",
              "      <td>3</td>\n",
              "      <td>642</td>\n",
              "      <td>TA</td>\n",
              "      <td>TA</td>\n",
              "      <td>Y</td>\n",
              "      <td>0</td>\n",
              "      <td>35</td>\n",
              "      <td>272</td>\n",
              "      <td>0</td>\n",
              "      <td>0</td>\n",
              "      <td>0</td>\n",
              "      <td>NaN</td>\n",
              "      <td>NaN</td>\n",
              "      <td>NaN</td>\n",
              "      <td>0</td>\n",
              "      <td>2</td>\n",
              "      <td>2006</td>\n",
              "      <td>WD</td>\n",
              "      <td>Abnorml</td>\n",
              "      <td>140000</td>\n",
              "    </tr>\n",
              "    <tr>\n",
              "      <th>4</th>\n",
              "      <td>60</td>\n",
              "      <td>RL</td>\n",
              "      <td>84.0</td>\n",
              "      <td>14260</td>\n",
              "      <td>Pave</td>\n",
              "      <td>NaN</td>\n",
              "      <td>IR1</td>\n",
              "      <td>Lvl</td>\n",
              "      <td>AllPub</td>\n",
              "      <td>FR2</td>\n",
              "      <td>Gtl</td>\n",
              "      <td>NoRidge</td>\n",
              "      <td>Norm</td>\n",
              "      <td>Norm</td>\n",
              "      <td>1Fam</td>\n",
              "      <td>2Story</td>\n",
              "      <td>8</td>\n",
              "      <td>5</td>\n",
              "      <td>2000</td>\n",
              "      <td>2000</td>\n",
              "      <td>Gable</td>\n",
              "      <td>CompShg</td>\n",
              "      <td>VinylSd</td>\n",
              "      <td>VinylSd</td>\n",
              "      <td>BrkFace</td>\n",
              "      <td>350.0</td>\n",
              "      <td>Gd</td>\n",
              "      <td>TA</td>\n",
              "      <td>PConc</td>\n",
              "      <td>Gd</td>\n",
              "      <td>TA</td>\n",
              "      <td>Av</td>\n",
              "      <td>GLQ</td>\n",
              "      <td>655</td>\n",
              "      <td>Unf</td>\n",
              "      <td>0</td>\n",
              "      <td>490</td>\n",
              "      <td>1145</td>\n",
              "      <td>GasA</td>\n",
              "      <td>Ex</td>\n",
              "      <td>Y</td>\n",
              "      <td>SBrkr</td>\n",
              "      <td>1145</td>\n",
              "      <td>1053</td>\n",
              "      <td>0</td>\n",
              "      <td>2198</td>\n",
              "      <td>1</td>\n",
              "      <td>0</td>\n",
              "      <td>2</td>\n",
              "      <td>1</td>\n",
              "      <td>4</td>\n",
              "      <td>1</td>\n",
              "      <td>Gd</td>\n",
              "      <td>9</td>\n",
              "      <td>Typ</td>\n",
              "      <td>1</td>\n",
              "      <td>TA</td>\n",
              "      <td>Attchd</td>\n",
              "      <td>2000.0</td>\n",
              "      <td>RFn</td>\n",
              "      <td>3</td>\n",
              "      <td>836</td>\n",
              "      <td>TA</td>\n",
              "      <td>TA</td>\n",
              "      <td>Y</td>\n",
              "      <td>192</td>\n",
              "      <td>84</td>\n",
              "      <td>0</td>\n",
              "      <td>0</td>\n",
              "      <td>0</td>\n",
              "      <td>0</td>\n",
              "      <td>NaN</td>\n",
              "      <td>NaN</td>\n",
              "      <td>NaN</td>\n",
              "      <td>0</td>\n",
              "      <td>12</td>\n",
              "      <td>2008</td>\n",
              "      <td>WD</td>\n",
              "      <td>Normal</td>\n",
              "      <td>250000</td>\n",
              "    </tr>\n",
              "  </tbody>\n",
              "</table>\n",
              "</div>"
            ],
            "text/plain": [
              "   MSSubClass MSZoning  LotFrontage  ...  SaleType SaleCondition SalePrice\n",
              "0          60       RL         65.0  ...        WD        Normal    208500\n",
              "1          20       RL         80.0  ...        WD        Normal    181500\n",
              "2          60       RL         68.0  ...        WD        Normal    223500\n",
              "3          70       RL         60.0  ...        WD       Abnorml    140000\n",
              "4          60       RL         84.0  ...        WD        Normal    250000\n",
              "\n",
              "[5 rows x 80 columns]"
            ]
          },
          "metadata": {
            "tags": []
          },
          "execution_count": 17
        }
      ]
    },
    {
      "cell_type": "markdown",
      "metadata": {
        "id": "ZqH86-aoUI7f"
      },
      "source": [
        "### Задание 1 <a id=\"task21\"></a>"
      ]
    },
    {
      "cell_type": "markdown",
      "metadata": {
        "id": "UDhWjVyMUI7f"
      },
      "source": [
        "Есть ли в данных пропуски? Если да, то для каждого столбца, в котором они имеются, посчитайте их количество и их долю от общего числа значений. Что вы наблюдаете?"
      ]
    },
    {
      "cell_type": "code",
      "metadata": {
        "id": "PMSzy6x0UI7g",
        "colab": {
          "base_uri": "https://localhost:8080/"
        },
        "outputId": "0d105354-57c0-45fe-ae61-f46e41af0733"
      },
      "source": [
        "misscount = data.isna().sum()\n",
        "misscount[misscount>0]"
      ],
      "execution_count": 18,
      "outputs": [
        {
          "output_type": "execute_result",
          "data": {
            "text/plain": [
              "LotFrontage      259\n",
              "Alley           1369\n",
              "MasVnrType         8\n",
              "MasVnrArea         8\n",
              "BsmtQual          37\n",
              "BsmtCond          37\n",
              "BsmtExposure      38\n",
              "BsmtFinType1      37\n",
              "BsmtFinType2      38\n",
              "Electrical         1\n",
              "FireplaceQu      690\n",
              "GarageType        81\n",
              "GarageYrBlt       81\n",
              "GarageFinish      81\n",
              "GarageQual        81\n",
              "GarageCond        81\n",
              "PoolQC          1453\n",
              "Fence           1179\n",
              "MiscFeature     1406\n",
              "dtype: int64"
            ]
          },
          "metadata": {
            "tags": []
          },
          "execution_count": 18
        }
      ]
    },
    {
      "cell_type": "code",
      "metadata": {
        "colab": {
          "base_uri": "https://localhost:8080/"
        },
        "id": "1ky-Li-KogTi",
        "outputId": "14356445-7d0e-4159-c301-4d318bbe484f"
      },
      "source": [
        "missratio = data.isna().mean()\n",
        "missratio[missratio>0]"
      ],
      "execution_count": 19,
      "outputs": [
        {
          "output_type": "execute_result",
          "data": {
            "text/plain": [
              "LotFrontage     0.177397\n",
              "Alley           0.937671\n",
              "MasVnrType      0.005479\n",
              "MasVnrArea      0.005479\n",
              "BsmtQual        0.025342\n",
              "BsmtCond        0.025342\n",
              "BsmtExposure    0.026027\n",
              "BsmtFinType1    0.025342\n",
              "BsmtFinType2    0.026027\n",
              "Electrical      0.000685\n",
              "FireplaceQu     0.472603\n",
              "GarageType      0.055479\n",
              "GarageYrBlt     0.055479\n",
              "GarageFinish    0.055479\n",
              "GarageQual      0.055479\n",
              "GarageCond      0.055479\n",
              "PoolQC          0.995205\n",
              "Fence           0.807534\n",
              "MiscFeature     0.963014\n",
              "dtype: float64"
            ]
          },
          "metadata": {
            "tags": []
          },
          "execution_count": 19
        }
      ]
    },
    {
      "cell_type": "markdown",
      "metadata": {
        "id": "MUSIdxIsUI7g"
      },
      "source": [
        "####  Наблюдения:\n",
        "Из 80 штук, есть 19 признаков, где существуют пропуски."
      ]
    },
    {
      "cell_type": "markdown",
      "metadata": {
        "id": "6VZxR2N7UI7g"
      },
      "source": [
        "### Задание 2 <a id=\"task22\"></a>"
      ]
    },
    {
      "cell_type": "markdown",
      "metadata": {
        "id": "JC_0pu24UI7g"
      },
      "source": [
        "Избавьтесь от пропусков. Заполните пропуски в колонках со значениями типа `object` (это можно проверить методом `.dtype` или `.dtypes`) отдельной категорией 'NaN', а в остальных (типа `float64` и `int64`) - средним по колонке.\n",
        "\n",
        "Проверьте, что вы действительно избавились от пропусков."
      ]
    },
    {
      "cell_type": "code",
      "metadata": {
        "id": "6fM6ABwBUI7h",
        "colab": {
          "base_uri": "https://localhost:8080/"
        },
        "outputId": "9a3316e0-fe13-4a2f-da6c-c6bb70b55698"
      },
      "source": [
        "cat_features_mask = (data.dtypes == \"object\").values\n",
        "\n",
        "\n",
        "X_real = data[data.columns[~cat_features_mask]]\n",
        "X_cat = data[data.columns[cat_features_mask]]\n",
        "\n",
        "# для вещественнозначных признаков заполним пропуски средними значениями\n",
        "mis_replacer = SimpleImputer(strategy=\"mean\")\n",
        "\n",
        "# для категориальных - пустыми строками\n",
        "cat_replacer = SimpleImputer(strategy=\"constant\", fill_value=\"NaN\")\n",
        "\n",
        "\n",
        "X_no_nans_real = pd.DataFrame(data=mis_replacer.fit_transform(X_real), columns=X_real.columns) # your code here\n",
        "X_no_nans_cat = pd.DataFrame(data=cat_replacer.fit_transform(X_cat), columns=X_cat.columns) # your code here\n",
        "\n",
        "X_no_nans = pd.concat([X_no_nans_real, X_no_nans_cat], axis=1)\n",
        "\n",
        "upd_misratio = X_no_nans.isna().mean()\n",
        "upd_misratio[upd_misratio>0]"
      ],
      "execution_count": 20,
      "outputs": [
        {
          "output_type": "execute_result",
          "data": {
            "text/plain": [
              "Series([], dtype: float64)"
            ]
          },
          "metadata": {
            "tags": []
          },
          "execution_count": 20
        }
      ]
    },
    {
      "cell_type": "markdown",
      "metadata": {
        "id": "_CAELJMapNMF"
      },
      "source": [
        "Мы получили пустую колонку в ```upd_misratio```, следовательно сейчас пропусков\n",
        "нет\n",
        "\n"
      ]
    },
    {
      "cell_type": "markdown",
      "metadata": {
        "id": "xYCeQ_GhUI7h"
      },
      "source": [
        "### Задание 3 <a id=\"task23\"></a>"
      ]
    },
    {
      "cell_type": "markdown",
      "metadata": {
        "id": "lC7oIeGAUI7h"
      },
      "source": [
        "Для каждой колонки, выраженной числами (типа `float64` и `int64`), постройте гистограмму ее значений. Сильно ли отличается масштаб признаков? Отмасштабируйте признаки каким-нибудь методом (например, `StandardScaler` или `MinMaxScaler` из `sklearn`). \n",
        "\n",
        "**Не забудьте, что целевая переменная (столбец `'SalePrice'`) не входит в признаки!**"
      ]
    },
    {
      "cell_type": "code",
      "metadata": {
        "id": "tgNGoyMyUI7h",
        "colab": {
          "base_uri": "https://localhost:8080/",
          "height": 0
        },
        "outputId": "57529a37-80f5-4d50-e6f4-7a160348fdae"
      },
      "source": [
        "X_to_scale = X_no_nans_real.loc[:, X_no_nans_real.columns != 'SalePrice']\n",
        "y = X_no_nans_real.SalePrice\n",
        "\n",
        "\n",
        "fig, axes = plt.subplots(len(X_to_scale.columns)//3, 3, figsize=(12, 48))\n",
        "\n",
        "i = 0\n",
        "for triaxis in axes:\n",
        "    for axis in triaxis:\n",
        "        X_to_scale.hist(column = X_to_scale.columns[i], bins = 25, ax=axis)\n",
        "        i = i+1"
      ],
      "execution_count": 21,
      "outputs": [
        {
          "output_type": "display_data",
          "data": {
            "image/png": "[encoded data removed]",
            "text/plain": [
              "<Figure size 864x3456 with 36 Axes>"
            ]
          },
          "metadata": {
            "tags": [],
            "needs_background": "light"
          }
        }
      ]
    },
    {
      "cell_type": "markdown",
      "metadata": {
        "id": "Y44u0BU2NUWH"
      },
      "source": [
        "Разница масштаба переменных примерно 4 порядка\n",
        "\n",
        "Есть штуки (число ванных комнат или очагов), есть сотни тысяч - площадь участка\n",
        "в квадратных футах.\n",
        "\n",
        "Сделаю стандартизацию."
      ]
    },
    {
      "cell_type": "code",
      "metadata": {
        "colab": {
          "base_uri": "https://localhost:8080/"
        },
        "id": "D0H2py2uOhuz",
        "outputId": "abc36169-61b6-4d49-829c-6aa22569cf8c"
      },
      "source": [
        "scaler = StandardScaler()\n",
        "scaler.fit(X_to_scale)\n",
        "print(scaler.mean_)\n",
        "X_normalized = scaler.transform(X_to_scale)\n",
        "X_normalized = pd.DataFrame(X_normalized, columns = X_to_scale.columns)"
      ],
      "execution_count": 22,
      "outputs": [
        {
          "output_type": "stream",
          "text": [
            "[5.68972603e+01 7.00499584e+01 1.05168281e+04 6.09931507e+00\n",
            " 5.57534247e+00 1.97126781e+03 1.98486575e+03 1.03685262e+02\n",
            " 4.43639726e+02 4.65493151e+01 5.67240411e+02 1.05742945e+03\n",
            " 1.16262671e+03 3.46992466e+02 5.84452055e+00 1.51546370e+03\n",
            " 4.25342466e-01 5.75342466e-02 1.56506849e+00 3.82876712e-01\n",
            " 2.86643836e+00 1.04657534e+00 6.51780822e+00 6.13013699e-01\n",
            " 1.97850616e+03 1.76712329e+00 4.72980137e+02 9.42445205e+01\n",
            " 4.66602740e+01 2.19541096e+01 3.40958904e+00 1.50609589e+01\n",
            " 2.75890411e+00 4.34890411e+01 6.32191781e+00 2.00781575e+03]\n"
          ],
          "name": "stdout"
        }
      ]
    },
    {
      "cell_type": "code",
      "metadata": {
        "colab": {
          "base_uri": "https://localhost:8080/",
          "height": 0
        },
        "id": "2zkoTEg-PTDr",
        "outputId": "b9a93890-f1da-47fb-a9e8-8a2ee0689de3"
      },
      "source": [
        "X_normalized"
      ],
      "execution_count": 23,
      "outputs": [
        {
          "output_type": "execute_result",
          "data": {
            "text/html": [
              "<div>\n",
              "<style scoped>\n",
              "    .dataframe tbody tr th:only-of-type {\n",
              "        vertical-align: middle;\n",
              "    }\n",
              "\n",
              "    .dataframe tbody tr th {\n",
              "        vertical-align: top;\n",
              "    }\n",
              "\n",
              "    .dataframe thead th {\n",
              "        text-align: right;\n",
              "    }\n",
              "</style>\n",
              "<table border=\"1\" class=\"dataframe\">\n",
              "  <thead>\n",
              "    <tr style=\"text-align: right;\">\n",
              "      <th></th>\n",
              "      <th>MSSubClass</th>\n",
              "      <th>LotFrontage</th>\n",
              "      <th>LotArea</th>\n",
              "      <th>OverallQual</th>\n",
              "      <th>OverallCond</th>\n",
              "      <th>YearBuilt</th>\n",
              "      <th>YearRemodAdd</th>\n",
              "      <th>MasVnrArea</th>\n",
              "      <th>BsmtFinSF1</th>\n",
              "      <th>BsmtFinSF2</th>\n",
              "      <th>BsmtUnfSF</th>\n",
              "      <th>TotalBsmtSF</th>\n",
              "      <th>1stFlrSF</th>\n",
              "      <th>2ndFlrSF</th>\n",
              "      <th>LowQualFinSF</th>\n",
              "      <th>GrLivArea</th>\n",
              "      <th>BsmtFullBath</th>\n",
              "      <th>BsmtHalfBath</th>\n",
              "      <th>FullBath</th>\n",
              "      <th>HalfBath</th>\n",
              "      <th>BedroomAbvGr</th>\n",
              "      <th>KitchenAbvGr</th>\n",
              "      <th>TotRmsAbvGrd</th>\n",
              "      <th>Fireplaces</th>\n",
              "      <th>GarageYrBlt</th>\n",
              "      <th>GarageCars</th>\n",
              "      <th>GarageArea</th>\n",
              "      <th>WoodDeckSF</th>\n",
              "      <th>OpenPorchSF</th>\n",
              "      <th>EnclosedPorch</th>\n",
              "      <th>3SsnPorch</th>\n",
              "      <th>ScreenPorch</th>\n",
              "      <th>PoolArea</th>\n",
              "      <th>MiscVal</th>\n",
              "      <th>MoSold</th>\n",
              "      <th>YrSold</th>\n",
              "    </tr>\n",
              "  </thead>\n",
              "  <tbody>\n",
              "    <tr>\n",
              "      <th>0</th>\n",
              "      <td>0.073375</td>\n",
              "      <td>-0.229372</td>\n",
              "      <td>-0.207142</td>\n",
              "      <td>0.651479</td>\n",
              "      <td>-0.517200</td>\n",
              "      <td>1.050994</td>\n",
              "      <td>0.878668</td>\n",
              "      <td>0.511418</td>\n",
              "      <td>0.575425</td>\n",
              "      <td>-0.288653</td>\n",
              "      <td>-0.944591</td>\n",
              "      <td>-0.459303</td>\n",
              "      <td>-0.793434</td>\n",
              "      <td>1.161852</td>\n",
              "      <td>-0.120242</td>\n",
              "      <td>0.370333</td>\n",
              "      <td>1.107810</td>\n",
              "      <td>-0.241061</td>\n",
              "      <td>0.789741</td>\n",
              "      <td>1.227585</td>\n",
              "      <td>0.163779</td>\n",
              "      <td>-0.211454</td>\n",
              "      <td>0.912210</td>\n",
              "      <td>-0.951226</td>\n",
              "      <td>1.021157</td>\n",
              "      <td>0.311725</td>\n",
              "      <td>0.351000</td>\n",
              "      <td>-0.752176</td>\n",
              "      <td>0.216503</td>\n",
              "      <td>-0.359325</td>\n",
              "      <td>-0.116339</td>\n",
              "      <td>-0.270208</td>\n",
              "      <td>-0.068692</td>\n",
              "      <td>-0.087688</td>\n",
              "      <td>-1.599111</td>\n",
              "      <td>0.138777</td>\n",
              "    </tr>\n",
              "    <tr>\n",
              "      <th>1</th>\n",
              "      <td>-0.872563</td>\n",
              "      <td>0.451936</td>\n",
              "      <td>-0.091886</td>\n",
              "      <td>-0.071836</td>\n",
              "      <td>2.179628</td>\n",
              "      <td>0.156734</td>\n",
              "      <td>-0.429577</td>\n",
              "      <td>-0.574410</td>\n",
              "      <td>1.171992</td>\n",
              "      <td>-0.288653</td>\n",
              "      <td>-0.641228</td>\n",
              "      <td>0.466465</td>\n",
              "      <td>0.257140</td>\n",
              "      <td>-0.795163</td>\n",
              "      <td>-0.120242</td>\n",
              "      <td>-0.482512</td>\n",
              "      <td>-0.819964</td>\n",
              "      <td>3.948809</td>\n",
              "      <td>0.789741</td>\n",
              "      <td>-0.761621</td>\n",
              "      <td>0.163779</td>\n",
              "      <td>-0.211454</td>\n",
              "      <td>-0.318683</td>\n",
              "      <td>0.600495</td>\n",
              "      <td>-0.104483</td>\n",
              "      <td>0.311725</td>\n",
              "      <td>-0.060731</td>\n",
              "      <td>1.626195</td>\n",
              "      <td>-0.704483</td>\n",
              "      <td>-0.359325</td>\n",
              "      <td>-0.116339</td>\n",
              "      <td>-0.270208</td>\n",
              "      <td>-0.068692</td>\n",
              "      <td>-0.087688</td>\n",
              "      <td>-0.489110</td>\n",
              "      <td>-0.614439</td>\n",
              "    </tr>\n",
              "    <tr>\n",
              "      <th>2</th>\n",
              "      <td>0.073375</td>\n",
              "      <td>-0.093110</td>\n",
              "      <td>0.073480</td>\n",
              "      <td>0.651479</td>\n",
              "      <td>-0.517200</td>\n",
              "      <td>0.984752</td>\n",
              "      <td>0.830215</td>\n",
              "      <td>0.323060</td>\n",
              "      <td>0.092907</td>\n",
              "      <td>-0.288653</td>\n",
              "      <td>-0.301643</td>\n",
              "      <td>-0.313369</td>\n",
              "      <td>-0.627826</td>\n",
              "      <td>1.189351</td>\n",
              "      <td>-0.120242</td>\n",
              "      <td>0.515013</td>\n",
              "      <td>1.107810</td>\n",
              "      <td>-0.241061</td>\n",
              "      <td>0.789741</td>\n",
              "      <td>1.227585</td>\n",
              "      <td>0.163779</td>\n",
              "      <td>-0.211454</td>\n",
              "      <td>-0.318683</td>\n",
              "      <td>0.600495</td>\n",
              "      <td>0.937776</td>\n",
              "      <td>0.311725</td>\n",
              "      <td>0.631726</td>\n",
              "      <td>-0.752176</td>\n",
              "      <td>-0.070361</td>\n",
              "      <td>-0.359325</td>\n",
              "      <td>-0.116339</td>\n",
              "      <td>-0.270208</td>\n",
              "      <td>-0.068692</td>\n",
              "      <td>-0.087688</td>\n",
              "      <td>0.990891</td>\n",
              "      <td>0.138777</td>\n",
              "    </tr>\n",
              "    <tr>\n",
              "      <th>3</th>\n",
              "      <td>0.309859</td>\n",
              "      <td>-0.456474</td>\n",
              "      <td>-0.096897</td>\n",
              "      <td>0.651479</td>\n",
              "      <td>-0.517200</td>\n",
              "      <td>-1.863632</td>\n",
              "      <td>-0.720298</td>\n",
              "      <td>-0.574410</td>\n",
              "      <td>-0.499274</td>\n",
              "      <td>-0.288653</td>\n",
              "      <td>-0.061670</td>\n",
              "      <td>-0.687324</td>\n",
              "      <td>-0.521734</td>\n",
              "      <td>0.937276</td>\n",
              "      <td>-0.120242</td>\n",
              "      <td>0.383659</td>\n",
              "      <td>1.107810</td>\n",
              "      <td>-0.241061</td>\n",
              "      <td>-1.026041</td>\n",
              "      <td>-0.761621</td>\n",
              "      <td>0.163779</td>\n",
              "      <td>-0.211454</td>\n",
              "      <td>0.296763</td>\n",
              "      <td>0.600495</td>\n",
              "      <td>0.812705</td>\n",
              "      <td>1.650307</td>\n",
              "      <td>0.790804</td>\n",
              "      <td>-0.752176</td>\n",
              "      <td>-0.176048</td>\n",
              "      <td>4.092524</td>\n",
              "      <td>-0.116339</td>\n",
              "      <td>-0.270208</td>\n",
              "      <td>-0.068692</td>\n",
              "      <td>-0.087688</td>\n",
              "      <td>-1.599111</td>\n",
              "      <td>-1.367655</td>\n",
              "    </tr>\n",
              "    <tr>\n",
              "      <th>4</th>\n",
              "      <td>0.073375</td>\n",
              "      <td>0.633618</td>\n",
              "      <td>0.375148</td>\n",
              "      <td>1.374795</td>\n",
              "      <td>-0.517200</td>\n",
              "      <td>0.951632</td>\n",
              "      <td>0.733308</td>\n",
              "      <td>1.364570</td>\n",
              "      <td>0.463568</td>\n",
              "      <td>-0.288653</td>\n",
              "      <td>-0.174865</td>\n",
              "      <td>0.199680</td>\n",
              "      <td>-0.045611</td>\n",
              "      <td>1.617877</td>\n",
              "      <td>-0.120242</td>\n",
              "      <td>1.299326</td>\n",
              "      <td>1.107810</td>\n",
              "      <td>-0.241061</td>\n",
              "      <td>0.789741</td>\n",
              "      <td>1.227585</td>\n",
              "      <td>1.390023</td>\n",
              "      <td>-0.211454</td>\n",
              "      <td>1.527656</td>\n",
              "      <td>0.600495</td>\n",
              "      <td>0.896086</td>\n",
              "      <td>1.650307</td>\n",
              "      <td>1.698485</td>\n",
              "      <td>0.780197</td>\n",
              "      <td>0.563760</td>\n",
              "      <td>-0.359325</td>\n",
              "      <td>-0.116339</td>\n",
              "      <td>-0.270208</td>\n",
              "      <td>-0.068692</td>\n",
              "      <td>-0.087688</td>\n",
              "      <td>2.100892</td>\n",
              "      <td>0.138777</td>\n",
              "    </tr>\n",
              "    <tr>\n",
              "      <th>...</th>\n",
              "      <td>...</td>\n",
              "      <td>...</td>\n",
              "      <td>...</td>\n",
              "      <td>...</td>\n",
              "      <td>...</td>\n",
              "      <td>...</td>\n",
              "      <td>...</td>\n",
              "      <td>...</td>\n",
              "      <td>...</td>\n",
              "      <td>...</td>\n",
              "      <td>...</td>\n",
              "      <td>...</td>\n",
              "      <td>...</td>\n",
              "      <td>...</td>\n",
              "      <td>...</td>\n",
              "      <td>...</td>\n",
              "      <td>...</td>\n",
              "      <td>...</td>\n",
              "      <td>...</td>\n",
              "      <td>...</td>\n",
              "      <td>...</td>\n",
              "      <td>...</td>\n",
              "      <td>...</td>\n",
              "      <td>...</td>\n",
              "      <td>...</td>\n",
              "      <td>...</td>\n",
              "      <td>...</td>\n",
              "      <td>...</td>\n",
              "      <td>...</td>\n",
              "      <td>...</td>\n",
              "      <td>...</td>\n",
              "      <td>...</td>\n",
              "      <td>...</td>\n",
              "      <td>...</td>\n",
              "      <td>...</td>\n",
              "      <td>...</td>\n",
              "    </tr>\n",
              "    <tr>\n",
              "      <th>1455</th>\n",
              "      <td>0.073375</td>\n",
              "      <td>-0.365633</td>\n",
              "      <td>-0.260560</td>\n",
              "      <td>-0.071836</td>\n",
              "      <td>-0.517200</td>\n",
              "      <td>0.918511</td>\n",
              "      <td>0.733308</td>\n",
              "      <td>-0.574410</td>\n",
              "      <td>-0.973018</td>\n",
              "      <td>-0.288653</td>\n",
              "      <td>0.873321</td>\n",
              "      <td>-0.238122</td>\n",
              "      <td>-0.542435</td>\n",
              "      <td>0.795198</td>\n",
              "      <td>-0.120242</td>\n",
              "      <td>0.250402</td>\n",
              "      <td>-0.819964</td>\n",
              "      <td>-0.241061</td>\n",
              "      <td>0.789741</td>\n",
              "      <td>1.227585</td>\n",
              "      <td>0.163779</td>\n",
              "      <td>-0.211454</td>\n",
              "      <td>0.296763</td>\n",
              "      <td>0.600495</td>\n",
              "      <td>0.854395</td>\n",
              "      <td>0.311725</td>\n",
              "      <td>-0.060731</td>\n",
              "      <td>-0.752176</td>\n",
              "      <td>-0.100558</td>\n",
              "      <td>-0.359325</td>\n",
              "      <td>-0.116339</td>\n",
              "      <td>-0.270208</td>\n",
              "      <td>-0.068692</td>\n",
              "      <td>-0.087688</td>\n",
              "      <td>0.620891</td>\n",
              "      <td>-0.614439</td>\n",
              "    </tr>\n",
              "    <tr>\n",
              "      <th>1456</th>\n",
              "      <td>-0.872563</td>\n",
              "      <td>0.679039</td>\n",
              "      <td>0.266407</td>\n",
              "      <td>-0.071836</td>\n",
              "      <td>0.381743</td>\n",
              "      <td>0.222975</td>\n",
              "      <td>0.151865</td>\n",
              "      <td>0.084843</td>\n",
              "      <td>0.759659</td>\n",
              "      <td>0.722112</td>\n",
              "      <td>0.049262</td>\n",
              "      <td>1.104925</td>\n",
              "      <td>2.355701</td>\n",
              "      <td>-0.795163</td>\n",
              "      <td>-0.120242</td>\n",
              "      <td>1.061367</td>\n",
              "      <td>1.107810</td>\n",
              "      <td>-0.241061</td>\n",
              "      <td>0.789741</td>\n",
              "      <td>-0.761621</td>\n",
              "      <td>0.163779</td>\n",
              "      <td>-0.211454</td>\n",
              "      <td>0.296763</td>\n",
              "      <td>2.152216</td>\n",
              "      <td>-0.021102</td>\n",
              "      <td>0.311725</td>\n",
              "      <td>0.126420</td>\n",
              "      <td>2.033231</td>\n",
              "      <td>-0.704483</td>\n",
              "      <td>-0.359325</td>\n",
              "      <td>-0.116339</td>\n",
              "      <td>-0.270208</td>\n",
              "      <td>-0.068692</td>\n",
              "      <td>-0.087688</td>\n",
              "      <td>-1.599111</td>\n",
              "      <td>1.645210</td>\n",
              "    </tr>\n",
              "    <tr>\n",
              "      <th>1457</th>\n",
              "      <td>0.309859</td>\n",
              "      <td>-0.183951</td>\n",
              "      <td>-0.147810</td>\n",
              "      <td>0.651479</td>\n",
              "      <td>3.078570</td>\n",
              "      <td>-1.002492</td>\n",
              "      <td>1.024029</td>\n",
              "      <td>-0.574410</td>\n",
              "      <td>-0.369871</td>\n",
              "      <td>-0.288653</td>\n",
              "      <td>0.701265</td>\n",
              "      <td>0.215641</td>\n",
              "      <td>0.065656</td>\n",
              "      <td>1.844744</td>\n",
              "      <td>-0.120242</td>\n",
              "      <td>1.569647</td>\n",
              "      <td>-0.819964</td>\n",
              "      <td>-0.241061</td>\n",
              "      <td>0.789741</td>\n",
              "      <td>-0.761621</td>\n",
              "      <td>1.390023</td>\n",
              "      <td>-0.211454</td>\n",
              "      <td>1.527656</td>\n",
              "      <td>2.152216</td>\n",
              "      <td>-1.563645</td>\n",
              "      <td>-1.026858</td>\n",
              "      <td>-1.033914</td>\n",
              "      <td>-0.752176</td>\n",
              "      <td>0.201405</td>\n",
              "      <td>-0.359325</td>\n",
              "      <td>-0.116339</td>\n",
              "      <td>-0.270208</td>\n",
              "      <td>-0.068692</td>\n",
              "      <td>4.953112</td>\n",
              "      <td>-0.489110</td>\n",
              "      <td>1.645210</td>\n",
              "    </tr>\n",
              "    <tr>\n",
              "      <th>1458</th>\n",
              "      <td>-0.872563</td>\n",
              "      <td>-0.093110</td>\n",
              "      <td>-0.080160</td>\n",
              "      <td>-0.795151</td>\n",
              "      <td>0.381743</td>\n",
              "      <td>-0.704406</td>\n",
              "      <td>0.539493</td>\n",
              "      <td>-0.574410</td>\n",
              "      <td>-0.865548</td>\n",
              "      <td>6.092188</td>\n",
              "      <td>-1.284176</td>\n",
              "      <td>0.046905</td>\n",
              "      <td>-0.218982</td>\n",
              "      <td>-0.795163</td>\n",
              "      <td>-0.120242</td>\n",
              "      <td>-0.832788</td>\n",
              "      <td>1.107810</td>\n",
              "      <td>-0.241061</td>\n",
              "      <td>-1.026041</td>\n",
              "      <td>-0.761621</td>\n",
              "      <td>-1.062465</td>\n",
              "      <td>-0.211454</td>\n",
              "      <td>-0.934130</td>\n",
              "      <td>-0.951226</td>\n",
              "      <td>-1.188432</td>\n",
              "      <td>-1.026858</td>\n",
              "      <td>-1.090059</td>\n",
              "      <td>2.168910</td>\n",
              "      <td>-0.704483</td>\n",
              "      <td>1.473789</td>\n",
              "      <td>-0.116339</td>\n",
              "      <td>-0.270208</td>\n",
              "      <td>-0.068692</td>\n",
              "      <td>-0.087688</td>\n",
              "      <td>-0.859110</td>\n",
              "      <td>1.645210</td>\n",
              "    </tr>\n",
              "    <tr>\n",
              "      <th>1459</th>\n",
              "      <td>-0.872563</td>\n",
              "      <td>0.224833</td>\n",
              "      <td>-0.058112</td>\n",
              "      <td>-0.795151</td>\n",
              "      <td>0.381743</td>\n",
              "      <td>-0.207594</td>\n",
              "      <td>-0.962566</td>\n",
              "      <td>-0.574410</td>\n",
              "      <td>0.847389</td>\n",
              "      <td>1.509640</td>\n",
              "      <td>-0.976285</td>\n",
              "      <td>0.452784</td>\n",
              "      <td>0.241615</td>\n",
              "      <td>-0.795163</td>\n",
              "      <td>-0.120242</td>\n",
              "      <td>-0.493934</td>\n",
              "      <td>1.107810</td>\n",
              "      <td>-0.241061</td>\n",
              "      <td>-1.026041</td>\n",
              "      <td>1.227585</td>\n",
              "      <td>0.163779</td>\n",
              "      <td>-0.211454</td>\n",
              "      <td>-0.318683</td>\n",
              "      <td>-0.951226</td>\n",
              "      <td>-0.563077</td>\n",
              "      <td>-1.026858</td>\n",
              "      <td>-0.921624</td>\n",
              "      <td>5.121921</td>\n",
              "      <td>0.322190</td>\n",
              "      <td>-0.359325</td>\n",
              "      <td>-0.116339</td>\n",
              "      <td>-0.270208</td>\n",
              "      <td>-0.068692</td>\n",
              "      <td>-0.087688</td>\n",
              "      <td>-0.119110</td>\n",
              "      <td>0.138777</td>\n",
              "    </tr>\n",
              "  </tbody>\n",
              "</table>\n",
              "<p>1460 rows × 36 columns</p>\n",
              "</div>"
            ],
            "text/plain": [
              "      MSSubClass  LotFrontage   LotArea  ...   MiscVal    MoSold    YrSold\n",
              "0       0.073375    -0.229372 -0.207142  ... -0.087688 -1.599111  0.138777\n",
              "1      -0.872563     0.451936 -0.091886  ... -0.087688 -0.489110 -0.614439\n",
              "2       0.073375    -0.093110  0.073480  ... -0.087688  0.990891  0.138777\n",
              "3       0.309859    -0.456474 -0.096897  ... -0.087688 -1.599111 -1.367655\n",
              "4       0.073375     0.633618  0.375148  ... -0.087688  2.100892  0.138777\n",
              "...          ...          ...       ...  ...       ...       ...       ...\n",
              "1455    0.073375    -0.365633 -0.260560  ... -0.087688  0.620891 -0.614439\n",
              "1456   -0.872563     0.679039  0.266407  ... -0.087688 -1.599111  1.645210\n",
              "1457    0.309859    -0.183951 -0.147810  ...  4.953112 -0.489110  1.645210\n",
              "1458   -0.872563    -0.093110 -0.080160  ... -0.087688 -0.859110  1.645210\n",
              "1459   -0.872563     0.224833 -0.058112  ... -0.087688 -0.119110  0.138777\n",
              "\n",
              "[1460 rows x 36 columns]"
            ]
          },
          "metadata": {
            "tags": []
          },
          "execution_count": 23
        }
      ]
    },
    {
      "cell_type": "markdown",
      "metadata": {
        "id": "3aM57RfLUI7h"
      },
      "source": [
        "### Задание 4 <a id=\"task24\"></a>"
      ]
    },
    {
      "cell_type": "markdown",
      "metadata": {
        "id": "FFMWeWLjUI7i"
      },
      "source": [
        "Обработайте категориальные признаки. Примените к ним one-hot кодирование. Сколько получилось колонок у итогового датасета?"
      ]
    },
    {
      "cell_type": "code",
      "metadata": {
        "colab": {
          "base_uri": "https://localhost:8080/",
          "height": 0
        },
        "id": "iM-WEmF4Se_h",
        "outputId": "07008178-f1fc-4790-bf56-8601e8d9bf29"
      },
      "source": [
        "fig, axes = plt.subplots(len(X_no_nans_cat.columns)//3, 3, figsize=(12, 48))\n",
        "\n",
        "i = 0\n",
        "for triaxis in axes:\n",
        "    for axis in triaxis:\n",
        "        # X_no_nans_cat.hist(column = X_no_nans_cat.columns[i], ax=axis)\n",
        "        X_no_nans_cat[X_no_nans_cat.columns[i]].value_counts().plot(kind='bar', title=X_no_nans_cat.columns[i], ax=axis)\n",
        "        i = i+1\n",
        "\n",
        "plt.tight_layout()"
      ],
      "execution_count": 24,
      "outputs": [
        {
          "output_type": "display_data",
          "data": {
            "image/png": "[encoded data removed]",
            "text/plain": [
              "<Figure size 864x3456 with 42 Axes>"
            ]
          },
          "metadata": {
            "tags": [],
            "needs_background": "light"
          }
        }
      ]
    },
    {
      "cell_type": "code",
      "metadata": {
        "id": "rUJmsT79UI7i",
        "colab": {
          "base_uri": "https://localhost:8080/"
        },
        "outputId": "f915fb75-23a8-44c2-84b6-59fadecffbcf"
      },
      "source": [
        "X_dum = pd.get_dummies(X_no_nans_cat, drop_first=True)\n",
        "print(X_dum.shape)"
      ],
      "execution_count": 25,
      "outputs": [
        {
          "output_type": "stream",
          "text": [
            "(1460, 225)\n"
          ],
          "name": "stdout"
        }
      ]
    },
    {
      "cell_type": "code",
      "metadata": {
        "colab": {
          "base_uri": "https://localhost:8080/"
        },
        "id": "r9K88KOmWbsE",
        "outputId": "c6b16aa2-add2-4a41-9a9a-dfbdc7499c78"
      },
      "source": [
        "print(f\"Мы получили суммарно {X_dum.shape[1]} дамми переменных из {X_no_nans_cat.shape[1]} исходных категориальных.\")"
      ],
      "execution_count": 26,
      "outputs": [
        {
          "output_type": "stream",
          "text": [
            "Мы получили суммарно 225 дамми переменных из 43 исходных категориальных.\n"
          ],
          "name": "stdout"
        }
      ]
    },
    {
      "cell_type": "markdown",
      "metadata": {
        "id": "pTfGyjB9aYB1"
      },
      "source": [
        "соберем обратно данные всех признаков в 1 таблицу"
      ]
    },
    {
      "cell_type": "code",
      "metadata": {
        "colab": {
          "base_uri": "https://localhost:8080/",
          "height": 0
        },
        "id": "lKf0nKcZacQ3",
        "outputId": "e9e1bd91-0d40-4932-d9d8-9af66e1348a3"
      },
      "source": [
        "X_transformed = pd.concat([X_normalized, X_dum], axis=1)\n",
        "X_transformed.head()"
      ],
      "execution_count": 27,
      "outputs": [
        {
          "output_type": "execute_result",
          "data": {
            "text/html": [
              "<div>\n",
              "<style scoped>\n",
              "    .dataframe tbody tr th:only-of-type {\n",
              "        vertical-align: middle;\n",
              "    }\n",
              "\n",
              "    .dataframe tbody tr th {\n",
              "        vertical-align: top;\n",
              "    }\n",
              "\n",
              "    .dataframe thead th {\n",
              "        text-align: right;\n",
              "    }\n",
              "</style>\n",
              "<table border=\"1\" class=\"dataframe\">\n",
              "  <thead>\n",
              "    <tr style=\"text-align: right;\">\n",
              "      <th></th>\n",
              "      <th>MSSubClass</th>\n",
              "      <th>LotFrontage</th>\n",
              "      <th>LotArea</th>\n",
              "      <th>OverallQual</th>\n",
              "      <th>OverallCond</th>\n",
              "      <th>YearBuilt</th>\n",
              "      <th>YearRemodAdd</th>\n",
              "      <th>MasVnrArea</th>\n",
              "      <th>BsmtFinSF1</th>\n",
              "      <th>BsmtFinSF2</th>\n",
              "      <th>BsmtUnfSF</th>\n",
              "      <th>TotalBsmtSF</th>\n",
              "      <th>1stFlrSF</th>\n",
              "      <th>2ndFlrSF</th>\n",
              "      <th>LowQualFinSF</th>\n",
              "      <th>GrLivArea</th>\n",
              "      <th>BsmtFullBath</th>\n",
              "      <th>BsmtHalfBath</th>\n",
              "      <th>FullBath</th>\n",
              "      <th>HalfBath</th>\n",
              "      <th>BedroomAbvGr</th>\n",
              "      <th>KitchenAbvGr</th>\n",
              "      <th>TotRmsAbvGrd</th>\n",
              "      <th>Fireplaces</th>\n",
              "      <th>GarageYrBlt</th>\n",
              "      <th>GarageCars</th>\n",
              "      <th>GarageArea</th>\n",
              "      <th>WoodDeckSF</th>\n",
              "      <th>OpenPorchSF</th>\n",
              "      <th>EnclosedPorch</th>\n",
              "      <th>3SsnPorch</th>\n",
              "      <th>ScreenPorch</th>\n",
              "      <th>PoolArea</th>\n",
              "      <th>MiscVal</th>\n",
              "      <th>MoSold</th>\n",
              "      <th>YrSold</th>\n",
              "      <th>MSZoning_FV</th>\n",
              "      <th>MSZoning_RH</th>\n",
              "      <th>MSZoning_RL</th>\n",
              "      <th>MSZoning_RM</th>\n",
              "      <th>...</th>\n",
              "      <th>GarageType_NaN</th>\n",
              "      <th>GarageFinish_NaN</th>\n",
              "      <th>GarageFinish_RFn</th>\n",
              "      <th>GarageFinish_Unf</th>\n",
              "      <th>GarageQual_Fa</th>\n",
              "      <th>GarageQual_Gd</th>\n",
              "      <th>GarageQual_NaN</th>\n",
              "      <th>GarageQual_Po</th>\n",
              "      <th>GarageQual_TA</th>\n",
              "      <th>GarageCond_Fa</th>\n",
              "      <th>GarageCond_Gd</th>\n",
              "      <th>GarageCond_NaN</th>\n",
              "      <th>GarageCond_Po</th>\n",
              "      <th>GarageCond_TA</th>\n",
              "      <th>PavedDrive_P</th>\n",
              "      <th>PavedDrive_Y</th>\n",
              "      <th>PoolQC_Fa</th>\n",
              "      <th>PoolQC_Gd</th>\n",
              "      <th>PoolQC_NaN</th>\n",
              "      <th>Fence_GdWo</th>\n",
              "      <th>Fence_MnPrv</th>\n",
              "      <th>Fence_MnWw</th>\n",
              "      <th>Fence_NaN</th>\n",
              "      <th>MiscFeature_NaN</th>\n",
              "      <th>MiscFeature_Othr</th>\n",
              "      <th>MiscFeature_Shed</th>\n",
              "      <th>MiscFeature_TenC</th>\n",
              "      <th>SaleType_CWD</th>\n",
              "      <th>SaleType_Con</th>\n",
              "      <th>SaleType_ConLD</th>\n",
              "      <th>SaleType_ConLI</th>\n",
              "      <th>SaleType_ConLw</th>\n",
              "      <th>SaleType_New</th>\n",
              "      <th>SaleType_Oth</th>\n",
              "      <th>SaleType_WD</th>\n",
              "      <th>SaleCondition_AdjLand</th>\n",
              "      <th>SaleCondition_Alloca</th>\n",
              "      <th>SaleCondition_Family</th>\n",
              "      <th>SaleCondition_Normal</th>\n",
              "      <th>SaleCondition_Partial</th>\n",
              "    </tr>\n",
              "  </thead>\n",
              "  <tbody>\n",
              "    <tr>\n",
              "      <th>0</th>\n",
              "      <td>0.073375</td>\n",
              "      <td>-0.229372</td>\n",
              "      <td>-0.207142</td>\n",
              "      <td>0.651479</td>\n",
              "      <td>-0.517200</td>\n",
              "      <td>1.050994</td>\n",
              "      <td>0.878668</td>\n",
              "      <td>0.511418</td>\n",
              "      <td>0.575425</td>\n",
              "      <td>-0.288653</td>\n",
              "      <td>-0.944591</td>\n",
              "      <td>-0.459303</td>\n",
              "      <td>-0.793434</td>\n",
              "      <td>1.161852</td>\n",
              "      <td>-0.120242</td>\n",
              "      <td>0.370333</td>\n",
              "      <td>1.107810</td>\n",
              "      <td>-0.241061</td>\n",
              "      <td>0.789741</td>\n",
              "      <td>1.227585</td>\n",
              "      <td>0.163779</td>\n",
              "      <td>-0.211454</td>\n",
              "      <td>0.912210</td>\n",
              "      <td>-0.951226</td>\n",
              "      <td>1.021157</td>\n",
              "      <td>0.311725</td>\n",
              "      <td>0.351000</td>\n",
              "      <td>-0.752176</td>\n",
              "      <td>0.216503</td>\n",
              "      <td>-0.359325</td>\n",
              "      <td>-0.116339</td>\n",
              "      <td>-0.270208</td>\n",
              "      <td>-0.068692</td>\n",
              "      <td>-0.087688</td>\n",
              "      <td>-1.599111</td>\n",
              "      <td>0.138777</td>\n",
              "      <td>0</td>\n",
              "      <td>0</td>\n",
              "      <td>1</td>\n",
              "      <td>0</td>\n",
              "      <td>...</td>\n",
              "      <td>0</td>\n",
              "      <td>0</td>\n",
              "      <td>1</td>\n",
              "      <td>0</td>\n",
              "      <td>0</td>\n",
              "      <td>0</td>\n",
              "      <td>0</td>\n",
              "      <td>0</td>\n",
              "      <td>1</td>\n",
              "      <td>0</td>\n",
              "      <td>0</td>\n",
              "      <td>0</td>\n",
              "      <td>0</td>\n",
              "      <td>1</td>\n",
              "      <td>0</td>\n",
              "      <td>1</td>\n",
              "      <td>0</td>\n",
              "      <td>0</td>\n",
              "      <td>1</td>\n",
              "      <td>0</td>\n",
              "      <td>0</td>\n",
              "      <td>0</td>\n",
              "      <td>1</td>\n",
              "      <td>1</td>\n",
              "      <td>0</td>\n",
              "      <td>0</td>\n",
              "      <td>0</td>\n",
              "      <td>0</td>\n",
              "      <td>0</td>\n",
              "      <td>0</td>\n",
              "      <td>0</td>\n",
              "      <td>0</td>\n",
              "      <td>0</td>\n",
              "      <td>0</td>\n",
              "      <td>1</td>\n",
              "      <td>0</td>\n",
              "      <td>0</td>\n",
              "      <td>0</td>\n",
              "      <td>1</td>\n",
              "      <td>0</td>\n",
              "    </tr>\n",
              "    <tr>\n",
              "      <th>1</th>\n",
              "      <td>-0.872563</td>\n",
              "      <td>0.451936</td>\n",
              "      <td>-0.091886</td>\n",
              "      <td>-0.071836</td>\n",
              "      <td>2.179628</td>\n",
              "      <td>0.156734</td>\n",
              "      <td>-0.429577</td>\n",
              "      <td>-0.574410</td>\n",
              "      <td>1.171992</td>\n",
              "      <td>-0.288653</td>\n",
              "      <td>-0.641228</td>\n",
              "      <td>0.466465</td>\n",
              "      <td>0.257140</td>\n",
              "      <td>-0.795163</td>\n",
              "      <td>-0.120242</td>\n",
              "      <td>-0.482512</td>\n",
              "      <td>-0.819964</td>\n",
              "      <td>3.948809</td>\n",
              "      <td>0.789741</td>\n",
              "      <td>-0.761621</td>\n",
              "      <td>0.163779</td>\n",
              "      <td>-0.211454</td>\n",
              "      <td>-0.318683</td>\n",
              "      <td>0.600495</td>\n",
              "      <td>-0.104483</td>\n",
              "      <td>0.311725</td>\n",
              "      <td>-0.060731</td>\n",
              "      <td>1.626195</td>\n",
              "      <td>-0.704483</td>\n",
              "      <td>-0.359325</td>\n",
              "      <td>-0.116339</td>\n",
              "      <td>-0.270208</td>\n",
              "      <td>-0.068692</td>\n",
              "      <td>-0.087688</td>\n",
              "      <td>-0.489110</td>\n",
              "      <td>-0.614439</td>\n",
              "      <td>0</td>\n",
              "      <td>0</td>\n",
              "      <td>1</td>\n",
              "      <td>0</td>\n",
              "      <td>...</td>\n",
              "      <td>0</td>\n",
              "      <td>0</td>\n",
              "      <td>1</td>\n",
              "      <td>0</td>\n",
              "      <td>0</td>\n",
              "      <td>0</td>\n",
              "      <td>0</td>\n",
              "      <td>0</td>\n",
              "      <td>1</td>\n",
              "      <td>0</td>\n",
              "      <td>0</td>\n",
              "      <td>0</td>\n",
              "      <td>0</td>\n",
              "      <td>1</td>\n",
              "      <td>0</td>\n",
              "      <td>1</td>\n",
              "      <td>0</td>\n",
              "      <td>0</td>\n",
              "      <td>1</td>\n",
              "      <td>0</td>\n",
              "      <td>0</td>\n",
              "      <td>0</td>\n",
              "      <td>1</td>\n",
              "      <td>1</td>\n",
              "      <td>0</td>\n",
              "      <td>0</td>\n",
              "      <td>0</td>\n",
              "      <td>0</td>\n",
              "      <td>0</td>\n",
              "      <td>0</td>\n",
              "      <td>0</td>\n",
              "      <td>0</td>\n",
              "      <td>0</td>\n",
              "      <td>0</td>\n",
              "      <td>1</td>\n",
              "      <td>0</td>\n",
              "      <td>0</td>\n",
              "      <td>0</td>\n",
              "      <td>1</td>\n",
              "      <td>0</td>\n",
              "    </tr>\n",
              "    <tr>\n",
              "      <th>2</th>\n",
              "      <td>0.073375</td>\n",
              "      <td>-0.093110</td>\n",
              "      <td>0.073480</td>\n",
              "      <td>0.651479</td>\n",
              "      <td>-0.517200</td>\n",
              "      <td>0.984752</td>\n",
              "      <td>0.830215</td>\n",
              "      <td>0.323060</td>\n",
              "      <td>0.092907</td>\n",
              "      <td>-0.288653</td>\n",
              "      <td>-0.301643</td>\n",
              "      <td>-0.313369</td>\n",
              "      <td>-0.627826</td>\n",
              "      <td>1.189351</td>\n",
              "      <td>-0.120242</td>\n",
              "      <td>0.515013</td>\n",
              "      <td>1.107810</td>\n",
              "      <td>-0.241061</td>\n",
              "      <td>0.789741</td>\n",
              "      <td>1.227585</td>\n",
              "      <td>0.163779</td>\n",
              "      <td>-0.211454</td>\n",
              "      <td>-0.318683</td>\n",
              "      <td>0.600495</td>\n",
              "      <td>0.937776</td>\n",
              "      <td>0.311725</td>\n",
              "      <td>0.631726</td>\n",
              "      <td>-0.752176</td>\n",
              "      <td>-0.070361</td>\n",
              "      <td>-0.359325</td>\n",
              "      <td>-0.116339</td>\n",
              "      <td>-0.270208</td>\n",
              "      <td>-0.068692</td>\n",
              "      <td>-0.087688</td>\n",
              "      <td>0.990891</td>\n",
              "      <td>0.138777</td>\n",
              "      <td>0</td>\n",
              "      <td>0</td>\n",
              "      <td>1</td>\n",
              "      <td>0</td>\n",
              "      <td>...</td>\n",
              "      <td>0</td>\n",
              "      <td>0</td>\n",
              "      <td>1</td>\n",
              "      <td>0</td>\n",
              "      <td>0</td>\n",
              "      <td>0</td>\n",
              "      <td>0</td>\n",
              "      <td>0</td>\n",
              "      <td>1</td>\n",
              "      <td>0</td>\n",
              "      <td>0</td>\n",
              "      <td>0</td>\n",
              "      <td>0</td>\n",
              "      <td>1</td>\n",
              "      <td>0</td>\n",
              "      <td>1</td>\n",
              "      <td>0</td>\n",
              "      <td>0</td>\n",
              "      <td>1</td>\n",
              "      <td>0</td>\n",
              "      <td>0</td>\n",
              "      <td>0</td>\n",
              "      <td>1</td>\n",
              "      <td>1</td>\n",
              "      <td>0</td>\n",
              "      <td>0</td>\n",
              "      <td>0</td>\n",
              "      <td>0</td>\n",
              "      <td>0</td>\n",
              "      <td>0</td>\n",
              "      <td>0</td>\n",
              "      <td>0</td>\n",
              "      <td>0</td>\n",
              "      <td>0</td>\n",
              "      <td>1</td>\n",
              "      <td>0</td>\n",
              "      <td>0</td>\n",
              "      <td>0</td>\n",
              "      <td>1</td>\n",
              "      <td>0</td>\n",
              "    </tr>\n",
              "    <tr>\n",
              "      <th>3</th>\n",
              "      <td>0.309859</td>\n",
              "      <td>-0.456474</td>\n",
              "      <td>-0.096897</td>\n",
              "      <td>0.651479</td>\n",
              "      <td>-0.517200</td>\n",
              "      <td>-1.863632</td>\n",
              "      <td>-0.720298</td>\n",
              "      <td>-0.574410</td>\n",
              "      <td>-0.499274</td>\n",
              "      <td>-0.288653</td>\n",
              "      <td>-0.061670</td>\n",
              "      <td>-0.687324</td>\n",
              "      <td>-0.521734</td>\n",
              "      <td>0.937276</td>\n",
              "      <td>-0.120242</td>\n",
              "      <td>0.383659</td>\n",
              "      <td>1.107810</td>\n",
              "      <td>-0.241061</td>\n",
              "      <td>-1.026041</td>\n",
              "      <td>-0.761621</td>\n",
              "      <td>0.163779</td>\n",
              "      <td>-0.211454</td>\n",
              "      <td>0.296763</td>\n",
              "      <td>0.600495</td>\n",
              "      <td>0.812705</td>\n",
              "      <td>1.650307</td>\n",
              "      <td>0.790804</td>\n",
              "      <td>-0.752176</td>\n",
              "      <td>-0.176048</td>\n",
              "      <td>4.092524</td>\n",
              "      <td>-0.116339</td>\n",
              "      <td>-0.270208</td>\n",
              "      <td>-0.068692</td>\n",
              "      <td>-0.087688</td>\n",
              "      <td>-1.599111</td>\n",
              "      <td>-1.367655</td>\n",
              "      <td>0</td>\n",
              "      <td>0</td>\n",
              "      <td>1</td>\n",
              "      <td>0</td>\n",
              "      <td>...</td>\n",
              "      <td>0</td>\n",
              "      <td>0</td>\n",
              "      <td>0</td>\n",
              "      <td>1</td>\n",
              "      <td>0</td>\n",
              "      <td>0</td>\n",
              "      <td>0</td>\n",
              "      <td>0</td>\n",
              "      <td>1</td>\n",
              "      <td>0</td>\n",
              "      <td>0</td>\n",
              "      <td>0</td>\n",
              "      <td>0</td>\n",
              "      <td>1</td>\n",
              "      <td>0</td>\n",
              "      <td>1</td>\n",
              "      <td>0</td>\n",
              "      <td>0</td>\n",
              "      <td>1</td>\n",
              "      <td>0</td>\n",
              "      <td>0</td>\n",
              "      <td>0</td>\n",
              "      <td>1</td>\n",
              "      <td>1</td>\n",
              "      <td>0</td>\n",
              "      <td>0</td>\n",
              "      <td>0</td>\n",
              "      <td>0</td>\n",
              "      <td>0</td>\n",
              "      <td>0</td>\n",
              "      <td>0</td>\n",
              "      <td>0</td>\n",
              "      <td>0</td>\n",
              "      <td>0</td>\n",
              "      <td>1</td>\n",
              "      <td>0</td>\n",
              "      <td>0</td>\n",
              "      <td>0</td>\n",
              "      <td>0</td>\n",
              "      <td>0</td>\n",
              "    </tr>\n",
              "    <tr>\n",
              "      <th>4</th>\n",
              "      <td>0.073375</td>\n",
              "      <td>0.633618</td>\n",
              "      <td>0.375148</td>\n",
              "      <td>1.374795</td>\n",
              "      <td>-0.517200</td>\n",
              "      <td>0.951632</td>\n",
              "      <td>0.733308</td>\n",
              "      <td>1.364570</td>\n",
              "      <td>0.463568</td>\n",
              "      <td>-0.288653</td>\n",
              "      <td>-0.174865</td>\n",
              "      <td>0.199680</td>\n",
              "      <td>-0.045611</td>\n",
              "      <td>1.617877</td>\n",
              "      <td>-0.120242</td>\n",
              "      <td>1.299326</td>\n",
              "      <td>1.107810</td>\n",
              "      <td>-0.241061</td>\n",
              "      <td>0.789741</td>\n",
              "      <td>1.227585</td>\n",
              "      <td>1.390023</td>\n",
              "      <td>-0.211454</td>\n",
              "      <td>1.527656</td>\n",
              "      <td>0.600495</td>\n",
              "      <td>0.896086</td>\n",
              "      <td>1.650307</td>\n",
              "      <td>1.698485</td>\n",
              "      <td>0.780197</td>\n",
              "      <td>0.563760</td>\n",
              "      <td>-0.359325</td>\n",
              "      <td>-0.116339</td>\n",
              "      <td>-0.270208</td>\n",
              "      <td>-0.068692</td>\n",
              "      <td>-0.087688</td>\n",
              "      <td>2.100892</td>\n",
              "      <td>0.138777</td>\n",
              "      <td>0</td>\n",
              "      <td>0</td>\n",
              "      <td>1</td>\n",
              "      <td>0</td>\n",
              "      <td>...</td>\n",
              "      <td>0</td>\n",
              "      <td>0</td>\n",
              "      <td>1</td>\n",
              "      <td>0</td>\n",
              "      <td>0</td>\n",
              "      <td>0</td>\n",
              "      <td>0</td>\n",
              "      <td>0</td>\n",
              "      <td>1</td>\n",
              "      <td>0</td>\n",
              "      <td>0</td>\n",
              "      <td>0</td>\n",
              "      <td>0</td>\n",
              "      <td>1</td>\n",
              "      <td>0</td>\n",
              "      <td>1</td>\n",
              "      <td>0</td>\n",
              "      <td>0</td>\n",
              "      <td>1</td>\n",
              "      <td>0</td>\n",
              "      <td>0</td>\n",
              "      <td>0</td>\n",
              "      <td>1</td>\n",
              "      <td>1</td>\n",
              "      <td>0</td>\n",
              "      <td>0</td>\n",
              "      <td>0</td>\n",
              "      <td>0</td>\n",
              "      <td>0</td>\n",
              "      <td>0</td>\n",
              "      <td>0</td>\n",
              "      <td>0</td>\n",
              "      <td>0</td>\n",
              "      <td>0</td>\n",
              "      <td>1</td>\n",
              "      <td>0</td>\n",
              "      <td>0</td>\n",
              "      <td>0</td>\n",
              "      <td>1</td>\n",
              "      <td>0</td>\n",
              "    </tr>\n",
              "  </tbody>\n",
              "</table>\n",
              "<p>5 rows × 261 columns</p>\n",
              "</div>"
            ],
            "text/plain": [
              "   MSSubClass  LotFrontage  ...  SaleCondition_Normal  SaleCondition_Partial\n",
              "0    0.073375    -0.229372  ...                     1                      0\n",
              "1   -0.872563     0.451936  ...                     1                      0\n",
              "2    0.073375    -0.093110  ...                     1                      0\n",
              "3    0.309859    -0.456474  ...                     0                      0\n",
              "4    0.073375     0.633618  ...                     1                      0\n",
              "\n",
              "[5 rows x 261 columns]"
            ]
          },
          "metadata": {
            "tags": []
          },
          "execution_count": 27
        }
      ]
    },
    {
      "cell_type": "markdown",
      "metadata": {
        "id": "ZJiVd4_KV55Y"
      },
      "source": [
        "### Задание 5"
      ]
    },
    {
      "cell_type": "markdown",
      "metadata": {
        "id": "7wqBy6qaUI7i"
      },
      "source": [
        "- Постройте гистограмму распределения предсказываемого значения. \n",
        "- Для избавления от разницы в масштабах, а также «смещения» распределения переменной в сторону нормального (что бывает полезно при статистическом анализе), можно прологарифмировать ее (это обратимое преобразование, поэтому целевую переменную легко восстановить). В данном случае воспользуйтесь `np.log1p`, чтобы сделать преобразование $y \\to \\ln\\left(1 + y\\right)$. \n",
        "- Постройте гистограмму распределения от нового предсказываемого значения. Опишите наблюдения.\n",
        "\n",
        "*В дальнейшем используйте в качестве предсказываемого значения вектор, который получился после логарифмирования.*"
      ]
    },
    {
      "cell_type": "code",
      "metadata": {
        "id": "cjXqC1c1UI7j",
        "colab": {
          "base_uri": "https://localhost:8080/",
          "height": 0
        },
        "outputId": "2da84053-b2ce-4147-93ae-b0a8a951011c"
      },
      "source": [
        "plt.figure(figsize=(10, 6))\n",
        "plt.hist(y)\n",
        "plt.title('Price distribution')\n",
        "plt.xlabel('Price')\n",
        "plt.ylabel('Count')\n",
        "plt.grid()\n",
        "plt.show()"
      ],
      "execution_count": 28,
      "outputs": [
        {
          "output_type": "display_data",
          "data": {
            "image/png": "[encoded data removed]",
            "text/plain": [
              "<Figure size 720x432 with 1 Axes>"
            ]
          },
          "metadata": {
            "tags": [],
            "needs_background": "light"
          }
        }
      ]
    },
    {
      "cell_type": "code",
      "metadata": {
        "colab": {
          "base_uri": "https://localhost:8080/",
          "height": 0
        },
        "id": "6kPKPg10ZO6f",
        "outputId": "8bfbcc35-5387-476e-e6d3-2294afb2d62c"
      },
      "source": [
        "y_log = np.log1p(y)\n",
        "plt.figure(figsize=(10, 6))\n",
        "plt.hist(y_log)\n",
        "plt.title('logPrice distribution')\n",
        "plt.xlabel('ln(Price)')\n",
        "plt.ylabel('Count')\n",
        "plt.grid()\n",
        "plt.show()"
      ],
      "execution_count": 29,
      "outputs": [
        {
          "output_type": "display_data",
          "data": {
            "image/png": "[encoded data removed]",
            "text/plain": [
              "<Figure size 720x432 with 1 Axes>"
            ]
          },
          "metadata": {
            "tags": [],
            "needs_background": "light"
          }
        }
      ]
    },
    {
      "cell_type": "markdown",
      "metadata": {
        "id": "C7ZTWPpOUI7j"
      },
      "source": [
        "После транформиации мы получили более симметричное распределение значений целевого признака, вероятно это поможет нам снизить влияние самых дорогих объектов на коэффициенты."
      ]
    },
    {
      "cell_type": "markdown",
      "metadata": {
        "id": "fDb2goh-UI7j"
      },
      "source": [
        "---\n",
        "Перейдем непосредственно к построению моделей. Разобьем выборку на обучение и контроль.\n",
        "\n",
        "*Пожалуйста, **не меняйте** значение `random_state` в следующей ячейке.*"
      ]
    },
    {
      "cell_type": "code",
      "metadata": {
        "id": "JlTuB_MIUI7k"
      },
      "source": [
        "X_train, X_val, y_train, y_val = train_test_split(X_transformed, np.log1p(data['SalePrice']), random_state=13)"
      ],
      "execution_count": 30,
      "outputs": []
    },
    {
      "cell_type": "code",
      "metadata": {
        "colab": {
          "base_uri": "https://localhost:8080/"
        },
        "id": "1OP4B-piZxnL",
        "outputId": "214db318-646b-4969-eb95-f98a3a6bd57e"
      },
      "source": [
        "X_train.shape, X_val.shape, y_train.shape, y_val.shape"
      ],
      "execution_count": 31,
      "outputs": [
        {
          "output_type": "execute_result",
          "data": {
            "text/plain": [
              "((1095, 261), (365, 261), (1095,), (365,))"
            ]
          },
          "metadata": {
            "tags": []
          },
          "execution_count": 31
        }
      ]
    },
    {
      "cell_type": "markdown",
      "metadata": {
        "id": "Xkq9wwKgUI7k"
      },
      "source": [
        "### Задание 6 <a id=\"task26\"></a>"
      ]
    },
    {
      "cell_type": "markdown",
      "metadata": {
        "id": "rfswcFJjUI7k"
      },
      "source": [
        "Перейдем к построению моделей машинного обучения с помощью `sklearn`. Обучите модель линейной регрессии на обучающей выборке и оцените качество по метрике **Root** Mean Squared Error (корень из MSE) на обучающей и валидационной выборках. Что вы наблюдаете? Как вы можете объяснить такой результат?"
      ]
    },
    {
      "cell_type": "code",
      "metadata": {
        "id": "9zXZX3XiUI7l",
        "colab": {
          "base_uri": "https://localhost:8080/"
        },
        "outputId": "8abb2d43-100d-4339-b9dd-f21044cc347b"
      },
      "source": [
        "simple_linear = LinearRegression(n_jobs=-1)\n",
        "simple_linear.fit(X_train,y_train)"
      ],
      "execution_count": 32,
      "outputs": [
        {
          "output_type": "execute_result",
          "data": {
            "text/plain": [
              "LinearRegression(copy_X=True, fit_intercept=True, n_jobs=-1, normalize=False)"
            ]
          },
          "metadata": {
            "tags": []
          },
          "execution_count": 32
        }
      ]
    },
    {
      "cell_type": "code",
      "metadata": {
        "colab": {
          "base_uri": "https://localhost:8080/"
        },
        "id": "qW2t8ZDHibV8",
        "outputId": "97dc6327-e9dd-4d52-ac51-e41b78bf09ef"
      },
      "source": [
        "y_hat_train = simple_linear.predict(X_train)\n",
        "print(mean_squared_error(y_train, y_hat_train, squared=False))\n",
        "\n",
        "\n",
        "y_hat_test = simple_linear.predict(X_val)\n",
        "print(mean_squared_error(y_val, y_hat_test, squared=False))"
      ],
      "execution_count": 33,
      "outputs": [
        {
          "output_type": "stream",
          "text": [
            "0.08377876834758559\n",
            "1567840255.3344536\n"
          ],
          "name": "stdout"
        }
      ]
    },
    {
      "cell_type": "code",
      "metadata": {
        "id": "FgVHmIgsx4UP",
        "outputId": "4086a7f0-62f1-4dd0-e010-0ddd612954d4",
        "colab": {
          "base_uri": "https://localhost:8080/"
        }
      },
      "source": [
        "y_hat_mean = pd.DataFrame(index=np.arange(len(y_val)))\n",
        "y_hat_mean['mean'] = y_train.mean()\n",
        "print(mean_squared_error(y_val, y_hat_mean, squared=False))"
      ],
      "execution_count": 34,
      "outputs": [
        {
          "output_type": "stream",
          "text": [
            "0.40693313326369857\n"
          ],
          "name": "stdout"
        }
      ]
    },
    {
      "cell_type": "markdown",
      "metadata": {
        "id": "0fVrePdloUhi"
      },
      "source": [
        "#### выводы\n",
        "глядя на RMSE - выглядит, что на обучающей выборке ($RMSE = 0.08$)модель работает нормально, но на тестовой ($RMSE = 1567840255.3$)- очень плохо (заполнение средними из train всех предсказаний на тестовой выборке дает $RMSE = 0.41$). На иллюстрациях ниже видно, что есть ограниченное число наблюдений, для которых модель работает очень плохо, на остальных - соотношение истиненного и оцененного значения хуже, чем для обучающего, но не так радикально отличается."
      ]
    },
    {
      "cell_type": "code",
      "metadata": {
        "id": "c63F6TQjnE3B"
      },
      "source": [
        "def add_identity(axes, *line_args, **line_kwargs):\n",
        "    identity, = axes.plot([], [], *line_args, **line_kwargs)\n",
        "    def callback(axes):\n",
        "        low_x, high_x = axes.get_xlim()\n",
        "        low_y, high_y = axes.get_ylim()\n",
        "        low = max(low_x, low_y)\n",
        "        high = min(high_x, high_y)\n",
        "        identity.set_data([low, high], [low, high])\n",
        "    callback(axes)\n",
        "    axes.callbacks.connect('xlim_changed', callback)\n",
        "    axes.callbacks.connect('ylim_changed', callback)\n",
        "    return axes"
      ],
      "execution_count": 35,
      "outputs": []
    },
    {
      "cell_type": "code",
      "metadata": {
        "colab": {
          "base_uri": "https://localhost:8080/",
          "height": 296
        },
        "id": "LA3XTLRJjYaO",
        "outputId": "5a8e2ca0-6515-49ee-d80c-3c9fb9d97ebe"
      },
      "source": [
        "fig, ax = plt.subplots()\n",
        "plt.scatter(y_val, y_hat_test)\n",
        "add_identity(ax, color='r', ls='--')\n",
        "\n",
        "plt.title('Test data (y_val vs. predict)')\n",
        "plt.xlabel('y_val')\n",
        "plt.ylabel('Prediction')\n",
        "\n",
        "plt.grid()\n",
        "plt.show()"
      ],
      "execution_count": 36,
      "outputs": [
        {
          "output_type": "display_data",
          "data": {
            "image/png": "[encoded data removed]",
            "text/plain": [
              "<Figure size 432x288 with 1 Axes>"
            ]
          },
          "metadata": {
            "tags": [],
            "needs_background": "light"
          }
        }
      ]
    },
    {
      "cell_type": "code",
      "metadata": {
        "colab": {
          "base_uri": "https://localhost:8080/",
          "height": 296
        },
        "id": "viXygfBInxiA",
        "outputId": "34561549-2f7d-4096-db35-eb0b85d17bc3"
      },
      "source": [
        "fig, ax = plt.subplots()\n",
        "plt.scatter(y_val, y_hat_test)\n",
        "add_identity(ax, color='r', ls='--')\n",
        "\n",
        "ax.set_ylim(10, 14)\n",
        "ax.set_xlim(10, 14)\n",
        "\n",
        "plt.title('Test data, closer look')\n",
        "plt.xlabel('y_val')\n",
        "plt.ylabel('Prediction')\n",
        "\n",
        "plt.grid()\n",
        "plt.show()"
      ],
      "execution_count": 37,
      "outputs": [
        {
          "output_type": "display_data",
          "data": {
            "image/png": "[encoded data removed]",
            "text/plain": [
              "<Figure size 432x288 with 1 Axes>"
            ]
          },
          "metadata": {
            "tags": [],
            "needs_background": "light"
          }
        }
      ]
    },
    {
      "cell_type": "code",
      "metadata": {
        "colab": {
          "base_uri": "https://localhost:8080/",
          "height": 296
        },
        "id": "YfzL5-d5kWQj",
        "outputId": "931adfe6-1a8f-44d1-9b7c-ba97c0e8a46b"
      },
      "source": [
        "fig, ax = plt.subplots()\n",
        "plt.scatter(y_train, y_hat_train)\n",
        "add_identity(ax, color='r', ls='--')\n",
        "\n",
        "ax.set_ylim(10, 14)\n",
        "ax.set_xlim(10, 14)\n",
        "\n",
        "plt.title('Train data')\n",
        "plt.xlabel('y_train')\n",
        "plt.ylabel('Prediction')\n",
        "\n",
        "plt.grid()\n",
        "plt.show()"
      ],
      "execution_count": 38,
      "outputs": [
        {
          "output_type": "display_data",
          "data": {
            "image/png": "[encoded data removed]",
            "text/plain": [
              "<Figure size 432x288 with 1 Axes>"
            ]
          },
          "metadata": {
            "tags": [],
            "needs_background": "light"
          }
        }
      ]
    },
    {
      "cell_type": "code",
      "metadata": {
        "colab": {
          "base_uri": "https://localhost:8080/"
        },
        "id": "FeoAz165qjXv",
        "outputId": "21dec6ca-3709-484b-f7c7-730f73dbd102"
      },
      "source": [
        "from sklearn.metrics import r2_score\n",
        "print(r2_score(y_train, y_hat_train))\n",
        "print(r2_score(y_val, y_hat_test))"
      ],
      "execution_count": 39,
      "outputs": [
        {
          "output_type": "stream",
          "text": [
            "0.9554198541679811\n",
            "-1.4889257185025264e+19\n"
          ],
          "name": "stdout"
        }
      ]
    },
    {
      "cell_type": "markdown",
      "metadata": {
        "id": "BGyEX4t5UI7l"
      },
      "source": [
        "Если мы смотрим $R^2$, также получаем что для тестовой выборки модель работает плохо, вероятно переобучение + плохая генерализация. Возможные причины - много скорреклированных факторов и большое число переменных относительно числа наблюдений."
      ]
    },
    {
      "cell_type": "markdown",
      "metadata": {
        "id": "7gMDETG0UI7l"
      },
      "source": [
        "### Задание 7 <a id=\"task27\"></a>"
      ]
    },
    {
      "cell_type": "markdown",
      "metadata": {
        "id": "CEkW9KktUI7l"
      },
      "source": [
        "Теперь примените методы линейной регрессии с регуляризацией - Lasso (L1) и Ridge (L2). \n",
        "\n",
        "Для подбора коэффициента регуляризации будем использовать росс-валидацию (вспомните, что такое кросс-валидация и зачем она нужна). \n",
        "\n",
        "`GridSearchCV` - это метод, который перебирает значения гиперпараметров (по заданной «сетке»), считает для каждого качество на кросс-валидации и позволяет выбрать лучший гиперпараметр. Более подробно вы можете познакомиться с методом в [документаци](https://scikit-learn.org/stable/modules/generated/sklearn.model_selection.GridSearchCV.html).\n",
        "\n",
        "1. Прочитайте документацию `sklearn.model_selection.GridSearchCV`\n",
        "2. Подбирите оптимальный гиперпараметр для LASSO:\n",
        "    - В качестве сетки используйте `np.logspace(-5, 1)`\n",
        "    - Используйте 5-Fold Cross-Validation\n",
        "3. Используя оптимельное значение гиперпаметра обучите модель на всей обучающей выборке, посчитайте ошибку на тренировочной и обучающей выборках\n",
        "4. Повторите п. 2-3 для модели Ridge"
      ]
    },
    {
      "cell_type": "code",
      "metadata": {
        "id": "CNlU0ciGUI7m",
        "colab": {
          "base_uri": "https://localhost:8080/"
        },
        "outputId": "12d48f00-b6c6-4f06-83ca-217dcf32911b"
      },
      "source": [
        "from sklearn.model_selection import GridSearchCV\n",
        "\n",
        "# пример \"сетки\"\n",
        "np.logspace(-5, 1)"
      ],
      "execution_count": 40,
      "outputs": [
        {
          "output_type": "execute_result",
          "data": {
            "text/plain": [
              "array([1.00000000e-05, 1.32571137e-05, 1.75751062e-05, 2.32995181e-05,\n",
              "       3.08884360e-05, 4.09491506e-05, 5.42867544e-05, 7.19685673e-05,\n",
              "       9.54095476e-05, 1.26485522e-04, 1.67683294e-04, 2.22299648e-04,\n",
              "       2.94705170e-04, 3.90693994e-04, 5.17947468e-04, 6.86648845e-04,\n",
              "       9.10298178e-04, 1.20679264e-03, 1.59985872e-03, 2.12095089e-03,\n",
              "       2.81176870e-03, 3.72759372e-03, 4.94171336e-03, 6.55128557e-03,\n",
              "       8.68511374e-03, 1.15139540e-02, 1.52641797e-02, 2.02358965e-02,\n",
              "       2.68269580e-02, 3.55648031e-02, 4.71486636e-02, 6.25055193e-02,\n",
              "       8.28642773e-02, 1.09854114e-01, 1.45634848e-01, 1.93069773e-01,\n",
              "       2.55954792e-01, 3.39322177e-01, 4.49843267e-01, 5.96362332e-01,\n",
              "       7.90604321e-01, 1.04811313e+00, 1.38949549e+00, 1.84206997e+00,\n",
              "       2.44205309e+00, 3.23745754e+00, 4.29193426e+00, 5.68986603e+00,\n",
              "       7.54312006e+00, 1.00000000e+01])"
            ]
          },
          "metadata": {
            "tags": []
          },
          "execution_count": 40
        }
      ]
    },
    {
      "cell_type": "code",
      "metadata": {
        "id": "tG-jskQ9UI7m"
      },
      "source": [
        "# your Lasso code here\n",
        "\n",
        "lasso_grid_searcher = GridSearchCV(\n",
        "    Lasso(max_iter=9000,  random_state=13),\n",
        "    param_grid={\n",
        "        'alpha': np.logspace(-5, 1)\n",
        "    },\n",
        "    cv=5,\n",
        "    scoring='neg_root_mean_squared_error'\n",
        ")\n",
        "\n",
        "lasso_grid_searcher.fit(X_train,y_train);\n"
      ],
      "execution_count": 41,
      "outputs": []
    },
    {
      "cell_type": "code",
      "metadata": {
        "colab": {
          "base_uri": "https://localhost:8080/"
        },
        "id": "AJxN0lIw_fPF",
        "outputId": "b62dfb10-24f6-4d3d-dea4-5f4df50b3abd"
      },
      "source": [
        "lasso_grid_searcher.best_params_"
      ],
      "execution_count": 42,
      "outputs": [
        {
          "output_type": "execute_result",
          "data": {
            "text/plain": [
              "{'alpha': 0.0003906939937054617}"
            ]
          },
          "metadata": {
            "tags": []
          },
          "execution_count": 42
        }
      ]
    },
    {
      "cell_type": "code",
      "metadata": {
        "colab": {
          "base_uri": "https://localhost:8080/"
        },
        "id": "TK3cUpmx_lbX",
        "outputId": "f094a726-3370-4317-ef8e-308e6ad5c6fe"
      },
      "source": [
        "lasso_grid_searcher.best_score_\n"
      ],
      "execution_count": 43,
      "outputs": [
        {
          "output_type": "execute_result",
          "data": {
            "text/plain": [
              "-0.11240880461721836"
            ]
          },
          "metadata": {
            "tags": []
          },
          "execution_count": 43
        }
      ]
    },
    {
      "cell_type": "code",
      "metadata": {
        "colab": {
          "base_uri": "https://localhost:8080/"
        },
        "id": "HxdTWw7I_u54",
        "outputId": "f7fa0300-bd71-45e3-9467-1122a4749918"
      },
      "source": [
        "lasso_ful = Lasso(alpha =lasso_grid_searcher.best_params_['alpha'], max_iter=9000,  random_state=13)\n",
        "lasso_ful.fit(X_train,y_train)\n",
        "y_hat_lasso_train = lasso_ful.predict(X_train)\n",
        "print(mean_squared_error(y_train, y_hat_lasso_train, squared=False))\n",
        "\n",
        "\n",
        "y_hat_lasso_test = lasso_ful.predict(X_val)\n",
        "print(mean_squared_error(y_val, y_hat_lasso_test, squared=False))"
      ],
      "execution_count": 44,
      "outputs": [
        {
          "output_type": "stream",
          "text": [
            "0.0951987656612501\n",
            "0.21884624826326227\n"
          ],
          "name": "stdout"
        }
      ]
    },
    {
      "cell_type": "code",
      "metadata": {
        "id": "GKP7iZ0QUI7m",
        "colab": {
          "base_uri": "https://localhost:8080/"
        },
        "outputId": "51afc957-cc79-4746-c66f-9dd296dbff59"
      },
      "source": [
        "# your Ridge code here\n",
        "ridge_grid_searcher = GridSearchCV(\n",
        "    Ridge(max_iter=9000,  random_state=13),\n",
        "    param_grid={\n",
        "        'alpha': np.logspace(-5, 1)\n",
        "    },\n",
        "    cv=5,\n",
        "    scoring='neg_root_mean_squared_error'\n",
        ")\n",
        "\n",
        "ridge_grid_searcher.fit(X_train,y_train);\n",
        "ridge_grid_searcher.best_params_"
      ],
      "execution_count": 45,
      "outputs": [
        {
          "output_type": "execute_result",
          "data": {
            "text/plain": [
              "{'alpha': 10.0}"
            ]
          },
          "metadata": {
            "tags": []
          },
          "execution_count": 45
        }
      ]
    },
    {
      "cell_type": "code",
      "metadata": {
        "colab": {
          "base_uri": "https://localhost:8080/"
        },
        "id": "PXHRF4VeEPYm",
        "outputId": "b4fffaaf-f5d0-4f84-abe8-7ffaa2b6b7e0"
      },
      "source": [
        "ridge_grid_searcher.best_score_\n"
      ],
      "execution_count": 46,
      "outputs": [
        {
          "output_type": "execute_result",
          "data": {
            "text/plain": [
              "-0.11219797411096584"
            ]
          },
          "metadata": {
            "tags": []
          },
          "execution_count": 46
        }
      ]
    },
    {
      "cell_type": "code",
      "metadata": {
        "colab": {
          "base_uri": "https://localhost:8080/"
        },
        "id": "OqbaX_3FGih1",
        "outputId": "a3ff63c2-b281-4b2f-b83d-20478b47fdc8"
      },
      "source": [
        "ridge_ful = Ridge(alpha=ridge_grid_searcher.best_params_['alpha'], max_iter=9000,  random_state=13)\n",
        "ridge_ful.fit(X_train,y_train)\n",
        "y_hat_ridge_train = ridge_ful.predict(X_train)\n",
        "print(mean_squared_error(y_train, y_hat_ridge_train, squared=False))\n",
        "\n",
        "\n",
        "y_hat_ridge_test = ridge_ful.predict(X_val)\n",
        "print(mean_squared_error(y_val, y_hat_ridge_test, squared=False))"
      ],
      "execution_count": 47,
      "outputs": [
        {
          "output_type": "stream",
          "text": [
            "0.09273154531506847\n",
            "0.2173944698996563\n"
          ],
          "name": "stdout"
        }
      ]
    },
    {
      "cell_type": "markdown",
      "metadata": {
        "id": "mXPOrkSWUI7n"
      },
      "source": [
        "### Задание 8 <a id=\"task28\"></a>"
      ]
    },
    {
      "cell_type": "markdown",
      "metadata": {
        "id": "Z0uT2Y90UI7n"
      },
      "source": [
        "Постройте гистограммы значений весов для линейной регрессии, Lasso и Ridge. Опишите наблюдения. В чем различия между полученными наборами весов и почему?"
      ]
    },
    {
      "cell_type": "code",
      "metadata": {
        "colab": {
          "base_uri": "https://localhost:8080/",
          "height": 0
        },
        "id": "RUla3nmIJ59P",
        "outputId": "522c74c5-7a88-4940-a7a6-b190a58a6861"
      },
      "source": [
        "plt.figure(figsize=(8, 5))\n",
        "plt.hist(simple_linear.coef_,bins=50)\n",
        "\n",
        "plt.title('Веса линейной регрессии')\n",
        "plt.xlabel('w')\n",
        "plt.ylabel('Count')\n",
        "plt.show()"
      ],
      "execution_count": 48,
      "outputs": [
        {
          "output_type": "display_data",
          "data": {
            "image/png": "[encoded data removed]",
            "text/plain": [
              "<Figure size 576x360 with 1 Axes>"
            ]
          },
          "metadata": {
            "tags": [],
            "needs_background": "light"
          }
        }
      ]
    },
    {
      "cell_type": "code",
      "metadata": {
        "colab": {
          "base_uri": "https://localhost:8080/",
          "height": 0
        },
        "id": "br0VDgsLHZPx",
        "outputId": "f406f9aa-dd39-4633-e308-2e936c7a7880"
      },
      "source": [
        "plt.figure(figsize=(8, 5))\n",
        "plt.hist(lasso_ful.coef_,bins=50)\n",
        "\n",
        "plt.title('Веса Lasso')\n",
        "plt.xlabel('w')\n",
        "plt.ylabel('Count')\n",
        "plt.show()"
      ],
      "execution_count": 49,
      "outputs": [
        {
          "output_type": "display_data",
          "data": {
            "image/png": "[encoded data removed]",
            "text/plain": [
              "<Figure size 576x360 with 1 Axes>"
            ]
          },
          "metadata": {
            "tags": [],
            "needs_background": "light"
          }
        }
      ]
    },
    {
      "cell_type": "code",
      "metadata": {
        "id": "WkW3TwdQUI7n",
        "colab": {
          "base_uri": "https://localhost:8080/",
          "height": 0
        },
        "outputId": "df07dec7-9e6a-4b0d-ee56-bd872a4422c6"
      },
      "source": [
        "plt.figure(figsize=(8, 5))\n",
        "plt.hist(ridge_ful.coef_,bins=50)\n",
        "\n",
        "plt.title('Веса Ridge')\n",
        "plt.xlabel('w')\n",
        "plt.ylabel('Count')\n",
        "plt.show()"
      ],
      "execution_count": 50,
      "outputs": [
        {
          "output_type": "display_data",
          "data": {
            "image/png": "[encoded data removed]",
            "text/plain": [
              "<Figure size 576x360 with 1 Axes>"
            ]
          },
          "metadata": {
            "tags": [],
            "needs_background": "light"
          }
        }
      ]
    },
    {
      "cell_type": "code",
      "metadata": {
        "colab": {
          "base_uri": "https://localhost:8080/",
          "height": 0
        },
        "id": "nAEjjr_SH-rY",
        "outputId": "3261662c-6a2d-46f7-c0e0-7f9094cc4888"
      },
      "source": [
        "comp_coef = pd.DataFrame(zip(X_train.columns,lasso_ful.coef_, ridge_ful.coef_,simple_linear.coef_), columns=['feature','lasso_coef', 'ridge_coef', 'linreg_coef'])\n",
        "\n",
        "comp_coef.sort_values(by=['linreg_coef'])"
      ],
      "execution_count": 51,
      "outputs": [
        {
          "output_type": "execute_result",
          "data": {
            "text/html": [
              "<div>\n",
              "<style scoped>\n",
              "    .dataframe tbody tr th:only-of-type {\n",
              "        vertical-align: middle;\n",
              "    }\n",
              "\n",
              "    .dataframe tbody tr th {\n",
              "        vertical-align: top;\n",
              "    }\n",
              "\n",
              "    .dataframe thead th {\n",
              "        text-align: right;\n",
              "    }\n",
              "</style>\n",
              "<table border=\"1\" class=\"dataframe\">\n",
              "  <thead>\n",
              "    <tr style=\"text-align: right;\">\n",
              "      <th></th>\n",
              "      <th>feature</th>\n",
              "      <th>lasso_coef</th>\n",
              "      <th>ridge_coef</th>\n",
              "      <th>linreg_coef</th>\n",
              "    </tr>\n",
              "  </thead>\n",
              "  <tbody>\n",
              "    <tr>\n",
              "      <th>15</th>\n",
              "      <td>GrLivArea</td>\n",
              "      <td>1.401414e-01</td>\n",
              "      <td>0.074379</td>\n",
              "      <td>-1.096819e+11</td>\n",
              "    </tr>\n",
              "    <tr>\n",
              "      <th>8</th>\n",
              "      <td>BsmtFinSF1</td>\n",
              "      <td>2.012670e-02</td>\n",
              "      <td>0.026920</td>\n",
              "      <td>-3.116802e+10</td>\n",
              "    </tr>\n",
              "    <tr>\n",
              "      <th>10</th>\n",
              "      <td>BsmtUnfSF</td>\n",
              "      <td>-0.000000e+00</td>\n",
              "      <td>0.006879</td>\n",
              "      <td>-3.019552e+10</td>\n",
              "    </tr>\n",
              "    <tr>\n",
              "      <th>234</th>\n",
              "      <td>GarageCond_TA</td>\n",
              "      <td>1.013733e-03</td>\n",
              "      <td>-0.003092</td>\n",
              "      <td>-1.234621e+10</td>\n",
              "    </tr>\n",
              "    <tr>\n",
              "      <th>230</th>\n",
              "      <td>GarageCond_Fa</td>\n",
              "      <td>-0.000000e+00</td>\n",
              "      <td>-0.010536</td>\n",
              "      <td>-1.234621e+10</td>\n",
              "    </tr>\n",
              "    <tr>\n",
              "      <th>...</th>\n",
              "      <td>...</td>\n",
              "      <td>...</td>\n",
              "      <td>...</td>\n",
              "      <td>...</td>\n",
              "    </tr>\n",
              "    <tr>\n",
              "      <th>222</th>\n",
              "      <td>GarageFinish_NaN</td>\n",
              "      <td>-8.703922e-19</td>\n",
              "      <td>-0.004636</td>\n",
              "      <td>4.166056e+09</td>\n",
              "    </tr>\n",
              "    <tr>\n",
              "      <th>14</th>\n",
              "      <td>LowQualFinSF</td>\n",
              "      <td>-9.042658e-03</td>\n",
              "      <td>-0.002665</td>\n",
              "      <td>1.014895e+10</td>\n",
              "    </tr>\n",
              "    <tr>\n",
              "      <th>11</th>\n",
              "      <td>TotalBsmtSF</td>\n",
              "      <td>4.522438e-02</td>\n",
              "      <td>0.038219</td>\n",
              "      <td>2.997946e+10</td>\n",
              "    </tr>\n",
              "    <tr>\n",
              "      <th>12</th>\n",
              "      <td>1stFlrSF</td>\n",
              "      <td>6.214382e-03</td>\n",
              "      <td>0.049204</td>\n",
              "      <td>8.069127e+10</td>\n",
              "    </tr>\n",
              "    <tr>\n",
              "      <th>13</th>\n",
              "      <td>2ndFlrSF</td>\n",
              "      <td>0.000000e+00</td>\n",
              "      <td>0.046258</td>\n",
              "      <td>9.111523e+10</td>\n",
              "    </tr>\n",
              "  </tbody>\n",
              "</table>\n",
              "<p>261 rows × 4 columns</p>\n",
              "</div>"
            ],
            "text/plain": [
              "              feature    lasso_coef  ridge_coef   linreg_coef\n",
              "15          GrLivArea  1.401414e-01    0.074379 -1.096819e+11\n",
              "8          BsmtFinSF1  2.012670e-02    0.026920 -3.116802e+10\n",
              "10          BsmtUnfSF -0.000000e+00    0.006879 -3.019552e+10\n",
              "234     GarageCond_TA  1.013733e-03   -0.003092 -1.234621e+10\n",
              "230     GarageCond_Fa -0.000000e+00   -0.010536 -1.234621e+10\n",
              "..                ...           ...         ...           ...\n",
              "222  GarageFinish_NaN -8.703922e-19   -0.004636  4.166056e+09\n",
              "14       LowQualFinSF -9.042658e-03   -0.002665  1.014895e+10\n",
              "11        TotalBsmtSF  4.522438e-02    0.038219  2.997946e+10\n",
              "12           1stFlrSF  6.214382e-03    0.049204  8.069127e+10\n",
              "13           2ndFlrSF  0.000000e+00    0.046258  9.111523e+10\n",
              "\n",
              "[261 rows x 4 columns]"
            ]
          },
          "metadata": {
            "tags": []
          },
          "execution_count": 51
        }
      ]
    },
    {
      "cell_type": "code",
      "metadata": {
        "colab": {
          "base_uri": "https://localhost:8080/"
        },
        "id": "dBuJBKgrObsZ",
        "outputId": "7e44059d-e3b2-4a50-994c-51db272141f4"
      },
      "source": [
        "len(lasso_ful.coef_[lasso_ful.coef_ == 0])"
      ],
      "execution_count": 52,
      "outputs": [
        {
          "output_type": "execute_result",
          "data": {
            "text/plain": [
              "137"
            ]
          },
          "metadata": {
            "tags": []
          },
          "execution_count": 52
        }
      ]
    },
    {
      "cell_type": "code",
      "metadata": {
        "colab": {
          "base_uri": "https://localhost:8080/"
        },
        "id": "SblvNgJHQCD5",
        "outputId": "9f4c92b3-7253-46b0-e23b-c511896b7267"
      },
      "source": [
        "len(ridge_ful.coef_[ridge_ful.coef_ == 0])"
      ],
      "execution_count": 53,
      "outputs": [
        {
          "output_type": "execute_result",
          "data": {
            "text/plain": [
              "8"
            ]
          },
          "metadata": {
            "tags": []
          },
          "execution_count": 53
        }
      ]
    },
    {
      "cell_type": "markdown",
      "metadata": {
        "id": "dRa0oEHAUI7n"
      },
      "source": [
        "#### Основные выводы:\n",
        "\n",
        "\n",
        "1.   При построении обычной линейной регрессии получаются веса, чьи коэффициенты отличаются на 11 порядков по размеру.\n",
        "2.   По гистограммам, и сравнивая значения весов, видно что L1 регуляризация работает - 137 коэффициентов в Lasso регрессии равны 0.\n",
        "\n",
        "3.   Эти же коэффициенты имеют низкие веса для Ridge регрессии.\n",
        "4.   Для Ridge нет такого строгово эффекта отбора переменных, строго нулевых коэффициентов только 8.\n",
        "4.   Для Lasso и Ridge - абсолютные значения весов стали все находится в интервале $\\pm 0.13$\n",
        "\n"
      ]
    },
    {
      "cell_type": "markdown",
      "metadata": {
        "id": "9Y5J2dJDUI7o"
      },
      "source": [
        "### Задание 9 (Бонус) <a id=\"task29\"></a>\n",
        "\n",
        "\n",
        "- Скачайте тестовые данные из соревнования [Kaggle](https://www.kaggle.com/c/house-prices-advanced-regression-techniques/data?select=test.csv)\n",
        "- Примените к ним те же шаги предобработки (заполнение пропусков, масштабирование, и т.д.)\n",
        "- Выберите лучшую модель, которую вам удалось обучить и предскажите с ее помощью цену \n",
        "- На забудьте, что ваша модель предсказывает логарифм (см. Задание 5), так что нужно применить обраное преобразование\n",
        "- Загрузите ваши прогнозы на Kaggle (`Submit Prediction`) и узнайте их точность. "
      ]
    },
    {
      "cell_type": "markdown",
      "metadata": {
        "id": "8eqgarPBp6-s"
      },
      "source": [
        "#### Получилось набрать Score = 0.13192 и войти в 33%.\n",
        "Лучшая регрессия - Ridge\n",
        "[https://www.kaggle.com/ksetdekov/competitions](https://www.kaggle.com/ksetdekov/competitions)\n",
        "\n",
        "реализация ниже, я скопировал исходные данные к себе в ветку на [github](https://github.com/ksetdekov/ml_dpo_2021/tree/master/hw/hw2)."
      ]
    },
    {
      "cell_type": "markdown",
      "metadata": {
        "id": "Sqn9-OvPqqaX"
      },
      "source": [
        "#### подготовка данных"
      ]
    },
    {
      "cell_type": "code",
      "metadata": {
        "id": "4RI8I6-3UI7o",
        "colab": {
          "base_uri": "https://localhost:8080/"
        },
        "outputId": "d16da05b-2170-4369-cc1a-231798742664"
      },
      "source": [
        "req = requests.get('https://raw.githubusercontent.com/ksetdekov/ml_dpo_2021/master/hw/hw2/kaggle_data/train.csv')\n",
        "url_content = req.content\n",
        "csv_file = open('k_train.csv', 'wb')\n",
        "\n",
        "csv_file.write(url_content)\n",
        "csv_file.close()\n",
        "\n",
        "data_tr = pd.read_csv('k_train.csv', header=0)\n",
        "data_tr.drop('Id', axis=1, inplace=True)\n",
        "data_tr.shape"
      ],
      "execution_count": 54,
      "outputs": [
        {
          "output_type": "execute_result",
          "data": {
            "text/plain": [
              "(1460, 80)"
            ]
          },
          "metadata": {
            "tags": []
          },
          "execution_count": 54
        }
      ]
    },
    {
      "cell_type": "code",
      "metadata": {
        "id": "va5ltF3hTMAA",
        "colab": {
          "base_uri": "https://localhost:8080/"
        },
        "outputId": "4251be34-47bd-4b2e-c0ea-4c90bc195218"
      },
      "source": [
        "# missings \n",
        "missratio = data_tr.isna().mean()\n",
        "print(missratio[missratio>0])\n",
        "\n",
        "cat_features_mask = (data_tr.dtypes == \"object\").values\n",
        "\n",
        "\n",
        "X_real = data_tr[data_tr.columns[~cat_features_mask]]\n",
        "X_cat = data_tr[data_tr.columns[cat_features_mask]]\n",
        "\n",
        "# для вещественнозначных признаков заполним пропуски средними значениями\n",
        "mis_replacer = SimpleImputer(strategy=\"mean\")\n",
        "\n",
        "# для категориальных - пустыми строками\n",
        "cat_replacer = SimpleImputer(strategy=\"constant\", fill_value=\"NaN\")\n",
        "\n",
        "\n",
        "X_no_nans_real = pd.DataFrame(data=mis_replacer.fit_transform(X_real), columns=X_real.columns) # your code here\n",
        "X_no_nans_cat = pd.DataFrame(data=cat_replacer.fit_transform(X_cat), columns=X_cat.columns) # your code here\n",
        "\n",
        "X_no_nans = pd.concat([X_no_nans_real, X_no_nans_cat], axis=1)\n",
        "\n",
        "upd_misratio = X_no_nans.isna().mean()\n",
        "upd_misratio[upd_misratio>0]"
      ],
      "execution_count": 55,
      "outputs": [
        {
          "output_type": "stream",
          "text": [
            "LotFrontage     0.177397\n",
            "Alley           0.937671\n",
            "MasVnrType      0.005479\n",
            "MasVnrArea      0.005479\n",
            "BsmtQual        0.025342\n",
            "BsmtCond        0.025342\n",
            "BsmtExposure    0.026027\n",
            "BsmtFinType1    0.025342\n",
            "BsmtFinType2    0.026027\n",
            "Electrical      0.000685\n",
            "FireplaceQu     0.472603\n",
            "GarageType      0.055479\n",
            "GarageYrBlt     0.055479\n",
            "GarageFinish    0.055479\n",
            "GarageQual      0.055479\n",
            "GarageCond      0.055479\n",
            "PoolQC          0.995205\n",
            "Fence           0.807534\n",
            "MiscFeature     0.963014\n",
            "dtype: float64\n"
          ],
          "name": "stdout"
        },
        {
          "output_type": "execute_result",
          "data": {
            "text/plain": [
              "Series([], dtype: float64)"
            ]
          },
          "metadata": {
            "tags": []
          },
          "execution_count": 55
        }
      ]
    },
    {
      "cell_type": "code",
      "metadata": {
        "id": "fm7-C8S7TjPf",
        "colab": {
          "base_uri": "https://localhost:8080/"
        },
        "outputId": "8e299c9f-d004-4ad3-804c-a3d8f6873bac"
      },
      "source": [
        "# scaled\n",
        "X_to_scale = X_no_nans_real.loc[:, X_no_nans_real.columns != 'SalePrice']\n",
        "\n",
        "\n",
        "scaler = StandardScaler()\n",
        "scaler.fit(X_to_scale)\n",
        "print(scaler.mean_)\n",
        "X_normalized = scaler.transform(X_to_scale)\n",
        "X_normalized = pd.DataFrame(X_normalized, columns = X_to_scale.columns)\n",
        "\n",
        "# one-hot\n",
        "drop_enc = OneHotEncoder(handle_unknown='ignore').fit(X_no_nans_cat)\n",
        "enc_output = drop_enc.transform(X_no_nans_cat).toarray()\n",
        "X_dum = pd.DataFrame(enc_output, columns = drop_enc.get_feature_names(X_no_nans_cat.columns))\n",
        "\n",
        "\n",
        "X_transformed = pd.concat([X_normalized, X_dum], axis=1)"
      ],
      "execution_count": 56,
      "outputs": [
        {
          "output_type": "stream",
          "text": [
            "[5.68972603e+01 7.00499584e+01 1.05168281e+04 6.09931507e+00\n",
            " 5.57534247e+00 1.97126781e+03 1.98486575e+03 1.03685262e+02\n",
            " 4.43639726e+02 4.65493151e+01 5.67240411e+02 1.05742945e+03\n",
            " 1.16262671e+03 3.46992466e+02 5.84452055e+00 1.51546370e+03\n",
            " 4.25342466e-01 5.75342466e-02 1.56506849e+00 3.82876712e-01\n",
            " 2.86643836e+00 1.04657534e+00 6.51780822e+00 6.13013699e-01\n",
            " 1.97850616e+03 1.76712329e+00 4.72980137e+02 9.42445205e+01\n",
            " 4.66602740e+01 2.19541096e+01 3.40958904e+00 1.50609589e+01\n",
            " 2.75890411e+00 4.34890411e+01 6.32191781e+00 2.00781575e+03]\n"
          ],
          "name": "stdout"
        }
      ]
    },
    {
      "cell_type": "code",
      "metadata": {
        "id": "mCZiBzH-fNnS",
        "colab": {
          "base_uri": "https://localhost:8080/"
        },
        "outputId": "93be3047-d66c-4eb3-8fce-9b40819a0579"
      },
      "source": [
        "X_transformed.shape"
      ],
      "execution_count": 57,
      "outputs": [
        {
          "output_type": "execute_result",
          "data": {
            "text/plain": [
              "(1460, 304)"
            ]
          },
          "metadata": {
            "tags": []
          },
          "execution_count": 57
        }
      ]
    },
    {
      "cell_type": "markdown",
      "metadata": {
        "id": "J9cMvt64ZJ_8"
      },
      "source": [
        "#### подготовка теста"
      ]
    },
    {
      "cell_type": "code",
      "metadata": {
        "id": "poO0PE_WZQuA",
        "colab": {
          "base_uri": "https://localhost:8080/"
        },
        "outputId": "16be612f-330c-47f8-be6b-607ad5329ec6"
      },
      "source": [
        "req = requests.get('https://raw.githubusercontent.com/ksetdekov/ml_dpo_2021/master/hw/hw2/kaggle_data/test.csv')\n",
        "url_content = req.content\n",
        "csv_file = open('k_test.csv', 'wb')\n",
        "\n",
        "csv_file.write(url_content)\n",
        "csv_file.close()\n",
        "\n",
        "data_tst = pd.read_csv('k_test.csv', header=0)\n",
        "id_output = data_tst.Id\n",
        "data_tst.drop('Id', axis=1, inplace=True)\n",
        "data_tst.shape"
      ],
      "execution_count": 58,
      "outputs": [
        {
          "output_type": "execute_result",
          "data": {
            "text/plain": [
              "(1459, 79)"
            ]
          },
          "metadata": {
            "tags": []
          },
          "execution_count": 58
        }
      ]
    },
    {
      "cell_type": "code",
      "metadata": {
        "id": "vpCOBzczZlBU",
        "colab": {
          "base_uri": "https://localhost:8080/"
        },
        "outputId": "bf2fe654-8c7d-460d-e4ce-9074a519f4fb"
      },
      "source": [
        "# missings \n",
        "missratio = data_tst.isna().mean()\n",
        "print(missratio[missratio>0])\n",
        "\n",
        "cat_features_mask = (data_tst.dtypes == \"object\").values\n",
        "\n",
        "X_real = data_tst[data_tst.columns[~cat_features_mask]]\n",
        "X_cat = data_tst[data_tst.columns[cat_features_mask]]\n",
        "\n",
        "\n",
        "X_no_nans_real = pd.DataFrame(data=mis_replacer.fit_transform(X_real), columns=X_real.columns) # your code here\n",
        "X_no_nans_cat = pd.DataFrame(data=cat_replacer.fit_transform(X_cat), columns=X_cat.columns) # your code here\n",
        "\n",
        "X_no_nans = pd.concat([X_no_nans_real, X_no_nans_cat], axis=1)\n",
        "\n",
        "upd_misratio = X_no_nans.isna().mean()\n",
        "upd_misratio[upd_misratio>0]\n"
      ],
      "execution_count": 59,
      "outputs": [
        {
          "output_type": "stream",
          "text": [
            "MSZoning        0.002742\n",
            "LotFrontage     0.155586\n",
            "Alley           0.926662\n",
            "Utilities       0.001371\n",
            "Exterior1st     0.000685\n",
            "Exterior2nd     0.000685\n",
            "MasVnrType      0.010966\n",
            "MasVnrArea      0.010281\n",
            "BsmtQual        0.030158\n",
            "BsmtCond        0.030843\n",
            "BsmtExposure    0.030158\n",
            "BsmtFinType1    0.028787\n",
            "BsmtFinSF1      0.000685\n",
            "BsmtFinType2    0.028787\n",
            "BsmtFinSF2      0.000685\n",
            "BsmtUnfSF       0.000685\n",
            "TotalBsmtSF     0.000685\n",
            "BsmtFullBath    0.001371\n",
            "BsmtHalfBath    0.001371\n",
            "KitchenQual     0.000685\n",
            "Functional      0.001371\n",
            "FireplaceQu     0.500343\n",
            "GarageType      0.052090\n",
            "GarageYrBlt     0.053461\n",
            "GarageFinish    0.053461\n",
            "GarageCars      0.000685\n",
            "GarageArea      0.000685\n",
            "GarageQual      0.053461\n",
            "GarageCond      0.053461\n",
            "PoolQC          0.997944\n",
            "Fence           0.801234\n",
            "MiscFeature     0.965045\n",
            "SaleType        0.000685\n",
            "dtype: float64\n"
          ],
          "name": "stdout"
        },
        {
          "output_type": "execute_result",
          "data": {
            "text/plain": [
              "Series([], dtype: float64)"
            ]
          },
          "metadata": {
            "tags": []
          },
          "execution_count": 59
        }
      ]
    },
    {
      "cell_type": "code",
      "metadata": {
        "id": "zg_TOdm-bkSC"
      },
      "source": [
        "# scaled\n",
        "X_to_scale = X_no_nans_real\n",
        "\n",
        "X_normalized = scaler.transform(X_to_scale)\n",
        "X_normalized = pd.DataFrame(X_normalized, columns = X_to_scale.columns)\n",
        "\n",
        "# one-hot\n",
        "enc_output = drop_enc.transform(X_no_nans_cat).toarray()\n",
        "X_dum = pd.DataFrame(enc_output, columns = drop_enc.get_feature_names(X_no_nans_cat.columns))\n",
        "\n",
        "\n",
        "X_test_transformed = pd.concat([X_normalized, X_dum], axis=1)"
      ],
      "execution_count": 60,
      "outputs": []
    },
    {
      "cell_type": "code",
      "metadata": {
        "id": "GR5qy3gjXKtg"
      },
      "source": [
        "y_log = np.log1p(data_tr.SalePrice)\n",
        "X_train, X_val, y_train = (X_transformed, X_test_transformed,y_log )\n"
      ],
      "execution_count": 61,
      "outputs": []
    },
    {
      "cell_type": "markdown",
      "metadata": {
        "id": "ON5gDYSnq7Ae"
      },
      "source": [
        "#### лассо"
      ]
    },
    {
      "cell_type": "code",
      "metadata": {
        "id": "Oy8hA-hed9AO",
        "colab": {
          "base_uri": "https://localhost:8080/"
        },
        "outputId": "d96feb11-2990-41ac-92a5-9887560c65f7"
      },
      "source": [
        "lasso_grid_searcher = GridSearchCV(\n",
        "    Lasso(max_iter=9000,  random_state=13),\n",
        "    param_grid={\n",
        "        'alpha': np.logspace(-5, 3, num=200)\n",
        "    },\n",
        "    cv=5,\n",
        "    scoring='neg_root_mean_squared_error'\n",
        ")\n",
        "\n",
        "lasso_grid_searcher.fit(X_train,y_train)\n",
        "lasso_grid_searcher.best_params_"
      ],
      "execution_count": 62,
      "outputs": [
        {
          "output_type": "execute_result",
          "data": {
            "text/plain": [
              "{'alpha': 0.0005872786613189483}"
            ]
          },
          "metadata": {
            "tags": []
          },
          "execution_count": 62
        }
      ]
    },
    {
      "cell_type": "code",
      "metadata": {
        "id": "HcY2kd4Te8EA",
        "colab": {
          "base_uri": "https://localhost:8080/"
        },
        "outputId": "520e0950-1ebf-4cda-a041-0fa64b1278c3"
      },
      "source": [
        "lasso_ful = Lasso(alpha =lasso_grid_searcher.best_params_['alpha'], max_iter=9000,  random_state=13)\n",
        "lasso_ful.fit(X_train,y_train)\n",
        "y_hat_lasso_train = lasso_ful.predict(X_train)\n",
        "print(mean_squared_error(y_train, y_hat_lasso_train, squared=False))\n",
        "\n",
        "\n",
        "y_hat_lasso_test = np.expm1(lasso_ful.predict(X_val))\n"
      ],
      "execution_count": 63,
      "outputs": [
        {
          "output_type": "stream",
          "text": [
            "0.10977047662533856\n"
          ],
          "name": "stdout"
        }
      ]
    },
    {
      "cell_type": "code",
      "metadata": {
        "id": "GHnoKK3NgmZx",
        "colab": {
          "base_uri": "https://localhost:8080/",
          "height": 419
        },
        "outputId": "49652ac4-fb48-43a9-f598-3431175e45ed"
      },
      "source": [
        "output_lasso = pd.DataFrame()\n",
        "output_lasso['Id'] = id_output\n",
        "output_lasso['SalePrice'] = y_hat_lasso_test\n",
        "output_lasso"
      ],
      "execution_count": 64,
      "outputs": [
        {
          "output_type": "execute_result",
          "data": {
            "text/html": [
              "<div>\n",
              "<style scoped>\n",
              "    .dataframe tbody tr th:only-of-type {\n",
              "        vertical-align: middle;\n",
              "    }\n",
              "\n",
              "    .dataframe tbody tr th {\n",
              "        vertical-align: top;\n",
              "    }\n",
              "\n",
              "    .dataframe thead th {\n",
              "        text-align: right;\n",
              "    }\n",
              "</style>\n",
              "<table border=\"1\" class=\"dataframe\">\n",
              "  <thead>\n",
              "    <tr style=\"text-align: right;\">\n",
              "      <th></th>\n",
              "      <th>Id</th>\n",
              "      <th>SalePrice</th>\n",
              "    </tr>\n",
              "  </thead>\n",
              "  <tbody>\n",
              "    <tr>\n",
              "      <th>0</th>\n",
              "      <td>1461</td>\n",
              "      <td>116986.413263</td>\n",
              "    </tr>\n",
              "    <tr>\n",
              "      <th>1</th>\n",
              "      <td>1462</td>\n",
              "      <td>146462.782329</td>\n",
              "    </tr>\n",
              "    <tr>\n",
              "      <th>2</th>\n",
              "      <td>1463</td>\n",
              "      <td>172448.173411</td>\n",
              "    </tr>\n",
              "    <tr>\n",
              "      <th>3</th>\n",
              "      <td>1464</td>\n",
              "      <td>199414.202245</td>\n",
              "    </tr>\n",
              "    <tr>\n",
              "      <th>4</th>\n",
              "      <td>1465</td>\n",
              "      <td>196182.353523</td>\n",
              "    </tr>\n",
              "    <tr>\n",
              "      <th>...</th>\n",
              "      <td>...</td>\n",
              "      <td>...</td>\n",
              "    </tr>\n",
              "    <tr>\n",
              "      <th>1454</th>\n",
              "      <td>2915</td>\n",
              "      <td>86557.341427</td>\n",
              "    </tr>\n",
              "    <tr>\n",
              "      <th>1455</th>\n",
              "      <td>2916</td>\n",
              "      <td>86163.299205</td>\n",
              "    </tr>\n",
              "    <tr>\n",
              "      <th>1456</th>\n",
              "      <td>2917</td>\n",
              "      <td>165465.648500</td>\n",
              "    </tr>\n",
              "    <tr>\n",
              "      <th>1457</th>\n",
              "      <td>2918</td>\n",
              "      <td>116308.743564</td>\n",
              "    </tr>\n",
              "    <tr>\n",
              "      <th>1458</th>\n",
              "      <td>2919</td>\n",
              "      <td>232921.707444</td>\n",
              "    </tr>\n",
              "  </tbody>\n",
              "</table>\n",
              "<p>1459 rows × 2 columns</p>\n",
              "</div>"
            ],
            "text/plain": [
              "        Id      SalePrice\n",
              "0     1461  116986.413263\n",
              "1     1462  146462.782329\n",
              "2     1463  172448.173411\n",
              "3     1464  199414.202245\n",
              "4     1465  196182.353523\n",
              "...    ...            ...\n",
              "1454  2915   86557.341427\n",
              "1455  2916   86163.299205\n",
              "1456  2917  165465.648500\n",
              "1457  2918  116308.743564\n",
              "1458  2919  232921.707444\n",
              "\n",
              "[1459 rows x 2 columns]"
            ]
          },
          "metadata": {
            "tags": []
          },
          "execution_count": 64
        }
      ]
    },
    {
      "cell_type": "code",
      "metadata": {
        "id": "dbj9xAvIhxIx"
      },
      "source": [
        "output_lasso.to_csv(\"lasso.csv\",index=False)"
      ],
      "execution_count": 65,
      "outputs": []
    },
    {
      "cell_type": "markdown",
      "metadata": {
        "id": "YBoTtBA3rBfH"
      },
      "source": [
        "#### Ridge"
      ]
    },
    {
      "cell_type": "code",
      "metadata": {
        "id": "YJioBzH1jP53",
        "colab": {
          "base_uri": "https://localhost:8080/"
        },
        "outputId": "d955915a-01a7-45a3-8aaa-996b99100c88"
      },
      "source": [
        "# your Ridge code here\n",
        "ridge_grid_searcher = GridSearchCV(\n",
        "    Ridge(max_iter=9000,  random_state=13),\n",
        "    param_grid={\n",
        "        'alpha': np.logspace(-5, 3, num=200)\n",
        "    },\n",
        "    cv=5,\n",
        "    scoring='neg_root_mean_squared_error'\n",
        ")\n",
        "\n",
        "ridge_grid_searcher.fit(X_train,y_train);\n",
        "ridge_grid_searcher.best_params_"
      ],
      "execution_count": 66,
      "outputs": [
        {
          "output_type": "execute_result",
          "data": {
            "text/plain": [
              "{'alpha': 17.027691722259014}"
            ]
          },
          "metadata": {
            "tags": []
          },
          "execution_count": 66
        }
      ]
    },
    {
      "cell_type": "code",
      "metadata": {
        "id": "TnAT2otqkM7k",
        "colab": {
          "base_uri": "https://localhost:8080/"
        },
        "outputId": "f59bae87-fe22-4758-b3f8-239d96e9263f"
      },
      "source": [
        "ridge_ful = Ridge(alpha=ridge_grid_searcher.best_params_['alpha'], max_iter=9000,  random_state=13, solver=\"saga\")\n",
        "ridge_ful.fit(X_train,y_train)\n",
        "y_hat_ridge_train = ridge_ful.predict(X_train)\n",
        "print(mean_squared_error(y_train, y_hat_ridge_train, squared=False))\n",
        "\n",
        "\n",
        "y_hat_ridge_test = np.expm1(ridge_ful.predict(X_val))\n"
      ],
      "execution_count": 67,
      "outputs": [
        {
          "output_type": "stream",
          "text": [
            "0.11457127143870902\n"
          ],
          "name": "stdout"
        }
      ]
    },
    {
      "cell_type": "code",
      "metadata": {
        "id": "QzbAg8p4ksYl"
      },
      "source": [
        "output_ridge = pd.DataFrame()\n",
        "output_ridge['Id'] = id_output\n",
        "output_ridge['SalePrice'] = y_hat_ridge_test\n",
        "output_ridge.to_csv(\"ridge.csv\",index=False)"
      ],
      "execution_count": 68,
      "outputs": []
    }
  ]
}