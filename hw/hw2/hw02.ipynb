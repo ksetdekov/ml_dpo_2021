{
  "nbformat": 4,
  "nbformat_minor": 0,
  "metadata": {
    "kernelspec": {
      "display_name": "BASE_ENV",
      "language": "python",
      "name": "base_env"
    },
    "language_info": {
      "codemirror_mode": {
        "name": "ipython",
        "version": 3
      },
      "file_extension": ".py",
      "mimetype": "text/x-python",
      "name": "python",
      "nbconvert_exporter": "python",
      "pygments_lexer": "ipython3",
      "version": "3.6.12"
    },
    "colab": {
      "name": "hw02.ipynb",
      "provenance": [],
      "include_colab_link": true
    }
  },
  "cells": [
    {
      "cell_type": "markdown",
      "metadata": {
        "id": "view-in-github",
        "colab_type": "text"
      },
      "source": [
        "<a href=\"https://colab.research.google.com/github/ksetdekov/ml_dpo_2021/blob/master/hw/hw2/hw02.ipynb\" target=\"_parent\"><img src=\"https://colab.research.google.com/assets/colab-badge.svg\" alt=\"Open In Colab\"/></a>"
      ]
    },
    {
      "cell_type": "markdown",
      "metadata": {
        "id": "1SHu26g4UI68"
      },
      "source": [
        "# Домашнее задание №2\n",
        "\n",
        "Задание выполнил: ```(Кирилл Сетдеков)```\n",
        "\n",
        "### Общая информация\n",
        "\n",
        "__Дата выдачи:__ 25.04.2021\n",
        "\n",
        "__Дедлайн:__ 05.05.2021 23:59\n",
        "\n",
        "# О задании\n",
        "\n",
        "В этом домашнем задании вы реализуете градиентный спуск и стохастический градиентный спуск для обучения линейной регрессии, попрактикуетесь в анализе данных и их обработке, а также примените модели линейной регрессии на практике и проанализируете результаты.\n",
        "\n",
        "Обратите внимание, что вам не только нужно написать код, но и в некоторых местах ответить на вопросы.\n",
        "\n",
        "\n",
        "### Оценивание и штрафы\n",
        "\n",
        "\n",
        "#### Gradient Descent [8 баллов]\n",
        "* [Задание 1](#task1) [1 балл]\n",
        "* [Задание 2](#task2) [2 балла]\n",
        "* [Задание 3](#task3) [3 балла]\n",
        "* [Задание 4](#task4) [2 балла]\n",
        "\n",
        "#### Linear Regression [8 баллов] + 2 бонусных\n",
        "* [Задание 1](#task21) [1 балл]\n",
        "* [Задание 2](#task22) [1 балл]\n",
        "* [Задание 3](#task23) [1 балл]\n",
        "* [Задание 4](#task24) [1 балл]\n",
        "* [Задание 5](#task25) [1 балл]\n",
        "* [Задание 6](#task26) [1 балл]\n",
        "* [Задание 7](#task27) [1 балл]\n",
        "* [Задание 8](#task28) [1 балл]\n",
        "* [Задание 9](#task29) [2 баллa]\n",
        "\n",
        "\n",
        "Итоговая оценка за домашнюю работу вычисляется по формуле: $$s \\cdot \\frac{10}{16},$$ где $s$ - сумма набранных балов. С учетом бонусов, за домашнее задание можно получить > 10 балов. \n",
        "\n",
        "За сдачу задания позже срока на итоговую оценку за задание накладывается штраф в размере 0.25 балла в день (от оценки в 10 бальной шкале), но получить отрицательную оценку нельзя.\n",
        "\n",
        "__Внимание!__ Домашнее задание выполняется самостоятельно. «Похожие» решения считаются плагиатом и все задействованные студенты (в том числе те, у кого списали) не могут получить за него больше 0 баллов.\n",
        "\n",
        "### Формат сдачи\n",
        "\n",
        "Загрузка файлов с решениями происходит в системе [Anytask](https://anytask.org/course/811). "
      ]
    },
    {
      "cell_type": "markdown",
      "metadata": {
        "id": "3JRnTcvqUI7I"
      },
      "source": [
        "## Часть 1. Gradient Descent\n",
        "\n",
        "Среднеквадратичная ошибка на всем датасете $(X, y) = \\{(x_1, y_1), \\ldots, (x_\\ell, y_\\ell)\\}$ для линейной регрессии с вектором весов $w$ (в предположении, что в данных есть единичный признак) представляется следующим образом:\n",
        "\n",
        "$$\n",
        "Q(w) = \\frac{1}{\\ell}\\|Xw - y\\|_2^2\n",
        "$$\n",
        "\n",
        "Градиент данного функционала потерь по $w$:\n",
        "\n",
        "$$\n",
        "\\nabla_w Q(w) = \\frac{2}{\\ell}X^T(Xw - y)\n",
        "$$"
      ]
    },
    {
      "cell_type": "code",
      "metadata": {
        "id": "RyAX4U9WUI7J"
      },
      "source": [
        "import matplotlib.pyplot as plt\n",
        "import numpy as np\n",
        "import pandas as pd\n",
        "\n",
        "%matplotlib inline"
      ],
      "execution_count": 1,
      "outputs": []
    },
    {
      "cell_type": "markdown",
      "metadata": {
        "id": "058cM0PqUI7K"
      },
      "source": [
        "Для тестирования реализованных вами методов будет использоваться датасет о ценах домов из `sklearn`."
      ]
    },
    {
      "cell_type": "code",
      "metadata": {
        "id": "UgtGf0m_UI7L"
      },
      "source": [
        "from sklearn.datasets import load_boston\n",
        "from sklearn.model_selection import train_test_split\n",
        "\n",
        "# загружаем данные\n",
        "data = load_boston()\n",
        "X = pd.DataFrame(data.data, columns=data.feature_names)\n",
        "y = data.target\n",
        "\n",
        "# делим данные на обучающую и тестовую часть\n",
        "X_train, X_test, y_train, y_test = train_test_split(np.array(X), y, test_size=0.3, random_state=10)"
      ],
      "execution_count": 2,
      "outputs": []
    },
    {
      "cell_type": "markdown",
      "metadata": {
        "id": "Ujjl1AFGUI7M"
      },
      "source": [
        "### Задание 1 <a id=\"task1\"></a>"
      ]
    },
    {
      "cell_type": "markdown",
      "metadata": {
        "id": "mwQksf3QUI7N"
      },
      "source": [
        "С линейной регрессией удобно работать в матрично-векторном виде, если предположить, что в данных есть единичный признак. Реализуйте функцию, которая принимает на вход матрицу объекты-признаки, и добавляет в нее столбец (первый), заполненный единицами. Примените написанную функцию к обучающей и тестовой части имеющихся данных.\n",
        "\n",
        "Например, если на вход подается матрица \n",
        "$$\n",
        "\\begin{pmatrix}\n",
        "2 & 4 & 4200\\\\\n",
        "0 & 10 & 5000\\\\\n",
        "2 & 2 & 1000\\\\\n",
        "\\end{pmatrix},\n",
        "$$\n",
        "то на выходе будет матрица\n",
        "$$\n",
        "\\begin{pmatrix}\n",
        "1 & 2 & 4 & 4200\\\\\n",
        "1 & 0 & 10 & 5000\\\\\n",
        "1 & 2 & 2 & 1000\\\\\n",
        "\\end{pmatrix}$$\n",
        "\n",
        "**Hint** \n",
        "- Вам могут пригодиться функции `np.concatenate`, `np.ones`"
      ]
    },
    {
      "cell_type": "code",
      "metadata": {
        "id": "nR77KVYjUI7N"
      },
      "source": [
        "# create function\n",
        "def add_identity_feature(X):\n",
        "    '''\n",
        "    INPUT:\n",
        "    X - np.array shape=(ℓ, d-1)\n",
        "    \n",
        "    OUTPUT:\n",
        "    X - np.array shape=(ℓ, d)\n",
        "    '''\n",
        "    leftmost = np.ones((X.shape[0], 1))\n",
        "    X = np.append(leftmost, X, axis=1)\n",
        "    return X\n",
        "\n",
        "X_train = add_identity_feature(X_train)\n",
        "X_test = add_identity_feature(X_test)\n"
      ],
      "execution_count": 3,
      "outputs": []
    },
    {
      "cell_type": "code",
      "metadata": {
        "id": "B6fyC3lBUI7O"
      },
      "source": [
        "# test yourself\n",
        "assert X_train.shape == (354, 14)\n",
        "assert len(X_train) == X_train.sum(axis=0)[0]\n",
        "\n",
        "assert X_test.shape == (152, 14)\n",
        "assert len(X_test) == X_test.sum(axis=0)[0]"
      ],
      "execution_count": 4,
      "outputs": []
    },
    {
      "cell_type": "markdown",
      "metadata": {
        "id": "rerObh2tUI7O"
      },
      "source": [
        "### Задание 2 <a id=\"task2\"></a>\n",
        "\n",
        "Реализуйте подсчет среднеквадратичной функции потерь и ее градиента по весам. Формулы должны быть реализованы в явном виде с помощью `numpy`, без использования циклов `for`."
      ]
    },
    {
      "cell_type": "markdown",
      "metadata": {
        "id": "8PyJmqSLUI7P"
      },
      "source": [
        "**Hint** \n",
        "- Для умножения матрицы на вектор (или матрицы на матрицу) можно использовать функцию `np.dot`. \n",
        "- Не забывайте, что оператор `*` используется только для поэлементного умножения.\n",
        "- Также может пригодиться функция `np.linalg.norm`"
      ]
    },
    {
      "cell_type": "code",
      "metadata": {
        "id": "Hj2nLG7xUI7P"
      },
      "source": [
        "def mse_loss(X, y, w):\n",
        "    \"\"\"\n",
        "    INPUT:\n",
        "    X - np.array shape=(ℓ, d)\n",
        "    y - np.array shape=(ℓ,)\n",
        "    w - np.array shape=(d,)\n",
        "    \n",
        "    OUTPUT:\n",
        "    loss - scalar\n",
        "    \"\"\"\n",
        "    \n",
        "    y_hat = X @ w\n",
        "    loss = np.linalg.norm(y - y_hat)\n",
        "    loss = (loss**2) / X.shape[0]\n",
        "\n",
        "    return loss\n",
        "\n",
        "\n",
        "def mse_grad(X, y, w):\n",
        "    \"\"\"\n",
        "    INPUT:\n",
        "    X - np.array shape=(ℓ, d)\n",
        "    y - np.array shape=(ℓ,)\n",
        "    w - np.array shape=(d,)\n",
        "    \n",
        "    OUTPUT:\n",
        "    grad - np.array shape=(d,)\n",
        "    \"\"\"\n",
        "\n",
        "    grad = (2/ X.shape[0]) *( X.T @ X @ w - X.T @ y)\n",
        "    return grad"
      ],
      "execution_count": 5,
      "outputs": []
    },
    {
      "cell_type": "markdown",
      "metadata": {
        "id": "foMHZhhgUI7Q"
      },
      "source": [
        "Посчитайте `result_mse_sklearn` используя функцию `mean_squared_error` из sklearn, чтобы сравнить c результатом вашей функции"
      ]
    },
    {
      "cell_type": "code",
      "metadata": {
        "id": "OiUrWE8qUI7R"
      },
      "source": [
        "from sklearn.metrics import mean_squared_error\n",
        "\n",
        "w = np.zeros(X_train.shape[1])\n",
        "\n",
        "result_mse_custom = mse_loss(X_train, y_train, w)\n",
        "result_mse_grad = mse_grad(X_train, y_train, w)\n",
        "\n",
        "\n",
        "result_mse_sklearn = mean_squared_error(y_train, np.dot(X_train,w))\n",
        "\n",
        "assert (X_train @ w).shape == y_train.shape\n",
        "assert np.allclose(result_mse_custom, result_mse_sklearn)\n",
        "assert np.allclose(result_mse_grad, np.array([-43.9424,  -99.9887, -675.8766, -444.0919,   -3.0395,  \n",
        "                                              -23.5569,   -282.6831,  -2829.3631,   -177.206 ,  -373.6983,\n",
        "                                              -16820.8966,   -796.6377, -16136.5175,   -477.6308]),rtol=1e-03)"
      ],
      "execution_count": 6,
      "outputs": []
    },
    {
      "cell_type": "markdown",
      "metadata": {
        "id": "dUcl44nwUI7S"
      },
      "source": [
        "### Задание 3  <a id=\"task3\"></a>\n",
        "\n",
        "Реализуйте класс для линейной регрессии. Он должен поддерживать обучение с помощью градиентного спуска (метод `fit`) и предсказание для выборки (метод `predict`).\n",
        "\n",
        "Метод `fit` должен возвращать список из значений функционала потерь на каждой итерации градиентного спуска. Напомним, что алгоритм градиентного спуска состоит из трех этапов:\n",
        "\n",
        "1. **Инициализация.** В данном случае вектор весов вы можете инициализировать нулями.\n",
        "2. **Шаг градиентного спуска.** Обновление весов с помощью антиградиента функционала потерь с заданной длиной шага (параметр `eta`). \n",
        "$$\n",
        "w^{t+1} = w^t - \\eta \\nabla Q(w^t)\n",
        "$$\n",
        "Для того, чтобы нарисовать график зависимости значения функционала потерь от номера итерации, необходимо на каждом шаге запоминать значение функционала потерь (обновлять список `self.loss_history`). На этом этапе вы можете использовать уже реализованные вами функции `mse_loss` и `mse_grad` из предыдущего задания.\n",
        "\n",
        "3. **Остановка.** В качестве критерия останова используйте $\\|w^t - w^{t - 1}\\| < \\varepsilon$ (значение $\\varepsilon$ задается параметром `tol`). В качестве дополнительного критерия останова используйте максимальное число итераций (параметр `max_iter`). Таким образом, даже если первый критерий не сработает, алгоритм все равно остановится после `max_iter` шагов."
      ]
    },
    {
      "cell_type": "code",
      "metadata": {
        "id": "ep78MfCDUI7U"
      },
      "source": [
        "class CustomLinearRegressionGD:\n",
        "    def __init__(self):\n",
        "        self.w = None\n",
        "        self.loss_history = None\n",
        "        \n",
        "    def fit(self, X, y, max_iter=100, tol=1e-6, eta=1e-6):\n",
        "        \"\"\"\n",
        "        ARGUMENTS:\n",
        "        max_iter - максимальное число шагов градиентного спуска\n",
        "        tol - значение эпсилон для критерия останова\n",
        "        eta - длина шага градиентного спуска (learning rate)\n",
        "        X - np.array of shape (ℓ, d)\n",
        "        y - np.array of shape (ℓ,)\n",
        "        \n",
        "        OUTPUT:\n",
        "        loss_hist - list \n",
        "        \"\"\"\n",
        "        \n",
        "        self.w = np.zeros(X.shape[1])\n",
        "        self.loss_history = [mse_loss(X, y, self.w)]\n",
        "        for t in range(max_iter):\n",
        "            next_w = self.w - eta * mse_grad(X, y, self.w)\n",
        "            if np.linalg.norm(next_w - self.w) < tol:\n",
        "                break\n",
        "          \n",
        "            self.w = next_w \n",
        "            self.loss_history.append(mse_loss(X, y, self.w))\n",
        "\n",
        "        \n",
        "        return self.loss_history\n",
        "        \n",
        "    def predict(self, X):\n",
        "        \"\"\"\n",
        "        ARGUMENTS:\n",
        "        X_test - np.array of shape (ℓ, d)\n",
        "        \n",
        "        OUTPUT:\n",
        "        y_pred - np.array of shape (ℓ,)\n",
        "        \"\"\"\n",
        "        y_pred = X @ self.w\n",
        "        return y_pred"
      ],
      "execution_count": 7,
      "outputs": []
    },
    {
      "cell_type": "markdown",
      "metadata": {
        "id": "bfIlvqz4UI7U"
      },
      "source": [
        "Проверьте работу вашего класса. \n",
        "- Обучите линейную регрессию на обучающей части выборки.\n",
        "- Постройте график зависимости значения функционала потерь от итерации градиентного спуска. \n",
        "- Подберите вручную оптимальную длину шага градиентного спуска и посчитайте MSE на тестовой части с помощью функции `mean_squared_error` из `sklearn`. \n",
        "- Добейтесь того, чтобы значение MSE не превышало 100."
      ]
    },
    {
      "cell_type": "code",
      "metadata": {
        "id": "NFgi9JJiUI7V",
        "colab": {
          "base_uri": "https://localhost:8080/"
        },
        "outputId": "0ebbf04b-4415-4e15-eada-ad98745394bd"
      },
      "source": [
        "lr = CustomLinearRegressionGD()\n",
        "lr.fit(X_train, y_train, max_iter=900,eta=2e-6)\n",
        "\n",
        "y_pred = lr.predict(X_test)\n",
        "from sklearn.metrics import mean_squared_error\n",
        "mean_squared_error(y_test, y_pred)"
      ],
      "execution_count": 8,
      "outputs": [
        {
          "output_type": "execute_result",
          "data": {
            "text/plain": [
              "88.4051822571095"
            ]
          },
          "metadata": {
            "tags": []
          },
          "execution_count": 8
        }
      ]
    },
    {
      "cell_type": "code",
      "metadata": {
        "id": "I_RgS6UIUI7V",
        "colab": {
          "base_uri": "https://localhost:8080/",
          "height": 404
        },
        "outputId": "5fc15069-4542-4415-d49b-4be05965bc67"
      },
      "source": [
        "plt.figure(figsize=(10, 6))\n",
        "plt.plot(lr.loss_history)\n",
        "plt.title('MSE loss dependence on GD iteration')\n",
        "plt.xlabel('GD iteration')\n",
        "plt.ylabel('Loss')\n",
        "plt.grid()\n",
        "plt.show()"
      ],
      "execution_count": 9,
      "outputs": [
        {
          "output_type": "display_data",
          "data": {
            "image/png": "[encoded data removed]",
            "text/plain": [
              "<Figure size 720x432 with 1 Axes>"
            ]
          },
          "metadata": {
            "tags": [],
            "needs_background": "light"
          }
        }
      ]
    },
    {
      "cell_type": "code",
      "metadata": {
        "id": "VMHmslsmUI7W",
        "colab": {
          "base_uri": "https://localhost:8080/"
        },
        "outputId": "ca56318a-e423-4f0b-9151-36c9f8278237"
      },
      "source": [
        "mse_test = mse_loss( X_test, y_test, lr.w)\n",
        "print(mse_test)\n",
        "assert len(lr.loss_history) <= 1000\n",
        "assert mse_test <= 100"
      ],
      "execution_count": 10,
      "outputs": [
        {
          "output_type": "stream",
          "text": [
            "88.40518225710953\n"
          ],
          "name": "stdout"
        }
      ]
    },
    {
      "cell_type": "markdown",
      "metadata": {
        "id": "z3rqBwb4UI7X"
      },
      "source": [
        "### Задание 4 <a id=\"task4\"></a>"
      ]
    },
    {
      "cell_type": "markdown",
      "metadata": {
        "id": "tEhVdvZpUI7Y"
      },
      "source": [
        "Как известно, масштабирование данных может помочь в сходимости градиентного спуска (вспомните, почему). Отмасштабируйте имеющиеся данные с помощью мин-макс шкалирования:\n",
        "\n",
        "$$\n",
        "x^j = \\frac{x^j - \\min(x^j)}{\\max(x^j) - \\min(x^j)},\n",
        "$$\n",
        "\n",
        "где $x^j$ - это вектор значений признака.\n",
        "\n",
        "Учтите, что единичный признак нормировать не надо (почему?). Так что либо придумайте способ, как отнормировать все столбцы, кроме единичного.\n",
        "\n",
        "Примените линейную регрессию с градиентным спуском к данным, подберите оптимальную длину шага. Добейтесь того, чтобы значение MSE не превышало 100.\n",
        "\n",
        "Опишите наблюдения. Изменилась ли ситуация?"
      ]
    },
    {
      "cell_type": "code",
      "metadata": {
        "id": "AwV-ouWEKeTw"
      },
      "source": [
        "class MinMaxCustom:\n",
        "    def __init__(self):\n",
        "        self.mins = None\n",
        "        self.maxs = None\n",
        "        \n",
        "    def fit(self, X):\n",
        "        \"\"\"\n",
        "        ARGUMENTS:\n",
        "        X - np.array of shape (ℓ, d)\n",
        "\n",
        "        OUTPUT:\n",
        "        (mins, maxs) - tuple of mins and maxs for columns \n",
        "        \"\"\"\n",
        "        \n",
        "        (ones,values) =np.hsplit(X, [1])\n",
        "        self.mins = values.min(axis=0)\n",
        "        self.maxs = values.max(axis=0)\n",
        "        return (self.mins, self.maxs)\n",
        "        \n",
        "    def predict(self, X):\n",
        "        \"\"\"\n",
        "        ARGUMENTS:\n",
        "        X_raw - np.array of shape (ℓ, d)\n",
        "        \n",
        "        OUTPUT:\n",
        "        X_transformed - np.array of shape (ℓ, d)\n",
        "        \"\"\"\n",
        "        (ones,values) =np.hsplit(X, [1])\n",
        "        values = (values - self.mins) / (self.maxs - self.mins)\n",
        "        y_pred = np.hstack((ones,values))\n",
        "        return y_pred"
      ],
      "execution_count": 11,
      "outputs": []
    },
    {
      "cell_type": "code",
      "metadata": {
        "id": "uP9a7wslUI7Y",
        "colab": {
          "base_uri": "https://localhost:8080/"
        },
        "outputId": "ac94bcb2-0737-4273-c61b-dfb51824c59c"
      },
      "source": [
        "# scale the data\n",
        "scaler = MinMaxCustom()\n",
        "scaler.fit(X_train)\n",
        "\n",
        "X_train_scaled = scaler.predict(X_train)\n",
        "X_test_scaled = scaler.predict(X_test)\n",
        "\n",
        "\n",
        "# train linear regression with gradient descent\n",
        "lr_scaled = CustomLinearRegressionGD()\n",
        "lr_scaled.fit(X_train_scaled, y_train, max_iter=900,eta=8e-2)"
      ],
      "execution_count": 12,
      "outputs": [
        {
          "output_type": "execute_result",
          "data": {
            "text/plain": [
              "[560.428813559322,\n",
              " 179.2945669490673,\n",
              " 116.14601202643587,\n",
              " 101.58952159549125,\n",
              " 94.89085375210979,\n",
              " 89.8431769344091,\n",
              " 85.45852844650892,\n",
              " 81.54245658314154,\n",
              " 78.02530960284058,\n",
              " 74.86072782456134,\n",
              " 72.00982665240093,\n",
              " 69.43837071616599,\n",
              " 67.11595773459742,\n",
              " 65.01554889432319,\n",
              " 63.11308988131684,\n",
              " 61.38717969397101,\n",
              " 59.818776991693106,\n",
              " 58.39093907596889,\n",
              " 57.08858977896346,\n",
              " 55.89831304296397,\n",
              " 54.80816934450038,\n",
              " 53.807532434203665,\n",
              " 52.886944143715425,\n",
              " 52.037985259914336,\n",
              " 51.253160688079696,\n",
              " 50.525797322458,\n",
              " 49.849953217755065,\n",
              " 49.22033681075533,\n",
              " 48.63223507971821,\n",
              " 48.0814496523234,\n",
              " 47.56423998243238,\n",
              " 47.07727281330717,\n",
              " 46.6175772315252,\n",
              " 46.18250469283895,\n",
              " 45.76969346971685,\n",
              " 45.37703703120815,\n",
              " 45.00265591993869,\n",
              " 44.64487273921407,\n",
              " 44.30218990604407,\n",
              " 43.97326986399813,\n",
              " 43.65691748368077,\n",
              " 43.352064408744944,\n",
              " 43.0577551321554,\n",
              " 42.77313461124288,\n",
              " 42.497437251280516,\n",
              " 42.229977106159254,\n",
              " 41.9701391614986,\n",
              " 41.71737158043343,\n",
              " 41.47117880557182,\n",
              " 41.231115422407065,\n",
              " 40.996780699949255,\n",
              " 40.76781373366465,\n",
              " 40.54388912410179,\n",
              " 40.32471313195592,\n",
              " 40.11002025688062,\n",
              " 39.899570193186705,\n",
              " 39.69314512075374,\n",
              " 39.49054729409195,\n",
              " 39.291596896593276,\n",
              " 39.09613013065764,\n",
              " 38.90399751762448,\n",
              " 38.71506238432423,\n",
              " 38.529199515629344,\n",
              " 38.34629395466693,\n",
              " 38.16623993438293,\n",
              " 37.98893992595278,\n",
              " 37.81430379113837,\n",
              " 37.64224802711756,\n",
              " 37.47269509358223,\n",
              " 37.305572813029364,\n",
              " 37.14081383617335,\n",
              " 36.97835516530049,\n",
              " 36.81813772918065,\n",
              " 36.660106003856946,\n",
              " 36.50420767426219,\n",
              " 36.350393332169595,\n",
              " 36.19861620648138,\n",
              " 36.04883192230109,\n",
              " 35.90099828562795,\n",
              " 35.75507509086085,\n",
              " 35.6110239486107,\n",
              " 35.468808131595644,\n",
              " 35.32839243663978,\n",
              " 35.189743061014426,\n",
              " 35.05282749155541,\n",
              " 34.91761440516265,\n",
              " 34.78407357944216,\n",
              " 34.65217581238743,\n",
              " 34.521892850118526,\n",
              " 34.39319732180554,\n",
              " 34.266062680999454,\n",
              " 34.14046315267875,\n",
              " 34.016373685396225,\n",
              " 33.89376990797863,\n",
              " 33.77262809029114,\n",
              " 33.65292510763322,\n",
              " 33.53463840837923,\n",
              " 33.41774598451996,\n",
              " 33.30222634479912,\n",
              " 33.188058490171585,\n",
              " 33.07522189134113,\n",
              " 32.963696468161,\n",
              " 32.85346257070476,\n",
              " 32.744500961835705,\n",
              " 32.636792801121864,\n",
              " 32.53031962996026,\n",
              " 32.42506335778872,\n",
              " 32.32100624927722,\n",
              " 32.218130912401406,\n",
              " 32.11642028731289,\n",
              " 32.015857635928604,\n",
              " 31.916426532170853,\n",
              " 31.818110852796778,\n",
              " 31.720894768762147,\n",
              " 31.624762737070558,\n",
              " 31.529699493064545,\n",
              " 31.435690043118885,\n",
              " 31.342719657701398,\n",
              " 31.250773864769833,\n",
              " 31.15983844347643,\n",
              " 31.069899418155188,\n",
              " 30.98094305256903,\n",
              " 30.892955844396617,\n",
              " 30.805924519940465,\n",
              " 30.719836029039996,\n",
              " 30.634677540174575,\n",
              " 30.55043643574348,\n",
              " 30.46710030751032,\n",
              " 30.3846569522014,\n",
              " 30.303094367248043,\n",
              " 30.222400746663983,\n",
              " 30.14256447704971,\n",
              " 30.063574133716383,\n",
              " 29.985418476922757,\n",
              " 29.908086448219006,\n",
              " 29.831567166891695,\n",
              " 29.75584992650513,\n",
              " 29.680924191534206,\n",
              " 29.606779594084458,\n",
              " 29.533405930695647,\n",
              " 29.460793159224934,\n",
              " 29.388931395806523,\n",
              " 29.317810911884568,\n",
              " 29.247422131316522,\n",
              " 29.177755627544325,\n",
              " 29.108802120830674,\n",
              " 29.040552475558513,\n",
              " 28.97299769759114,\n",
              " 28.906128931691075,\n",
              " 28.839937458995948,\n",
              " 28.774414694549222,\n",
              " 28.709552184884437,\n",
              " 28.64534160566113,\n",
              " 28.581774759351074,\n",
              " 28.518843572973196,\n",
              " 28.456540095876036,\n",
              " 28.394856497566288,\n",
              " 28.3337850655822,\n",
              " 28.273318203410714,\n",
              " 28.21344842844719,\n",
              " 28.154168369996427,\n",
              " 28.095470767314396,\n",
              " 28.037348467689114,\n",
              " 27.979794424560072,\n",
              " 27.922801695675282,\n",
              " 27.866363441284747,\n",
              " 27.810472922369872,\n",
              " 27.755123498907654,\n",
              " 27.700308628169076,\n",
              " 27.64602186305069,\n",
              " 27.592256850439,\n",
              " 27.539007329606346,\n",
              " 27.486267130638158,\n",
              " 27.434030172890594,\n",
              " 27.382290463477734,\n",
              " 27.331042095788092,\n",
              " 27.280279248029466,\n",
              " 27.229996181801592,\n",
              " 27.180187240696117,\n",
              " 27.13084684892317,\n",
              " 27.081969509964008,\n",
              " 27.03354980524914,\n",
              " 26.98558239286156,\n",
              " 26.938062006264186,\n",
              " 26.89098345305152,\n",
              " 26.84434161372449,\n",
              " 26.798131440488365,\n",
              " 26.752347956073105,\n",
              " 26.706986252575632,\n",
              " 26.662041490323734,\n",
              " 26.61750889676101,\n",
              " 26.573383765352496,\n",
              " 26.529661454510418,\n",
              " 26.486337386539958,\n",
              " 26.443407046604193,\n",
              " 26.4008659817083,\n",
              " 26.35870979970212,\n",
              " 26.316934168301202,\n",
              " 26.27553481412563,\n",
              " 26.234507521756324,\n",
              " 26.19384813280856,\n",
              " 26.15355254502236,\n",
              " 26.113616711369247,\n",
              " 26.074036639175205,\n",
              " 26.034808389259524,\n",
              " 25.995928075089104,\n",
              " 25.957391861947904,\n",
              " 25.919195966121414,\n",
              " 25.881336654095698,\n",
              " 25.843810241770658,\n",
              " 25.806613093687464,\n",
              " 25.7697416222697,\n",
              " 25.733192287077912,\n",
              " 25.696961594077546,\n",
              " 25.661046094919687,\n",
              " 25.62544238623459,\n",
              " 25.59014710893769,\n",
              " 25.555156947547758,\n",
              " 25.520468629517108,\n",
              " 25.48607892457349,\n",
              " 25.451984644073615,\n",
              " 25.418182640367757,\n",
              " 25.38466980617574,\n",
              " 25.35144307397352,\n",
              " 25.31849941539055,\n",
              " 25.285835840617597,\n",
              " 25.253449397824788,\n",
              " 25.221337172589678,\n",
              " 25.189496287335263,\n",
              " 25.15792390077755,\n",
              " 25.126617207382775,\n",
              " 25.095573436833767,\n",
              " 25.064789853505534,\n",
              " 25.034263755949794,\n",
              " 25.0039924763883,\n",
              " 24.973973380214805,\n",
              " 24.944203865505383,\n",
              " 24.91468136253722,\n",
              " 24.88540333331539,\n",
              " 24.856367271107782,\n",
              " 24.827570699987703,\n",
              " 24.799011174384265,\n",
              " 24.770686278640376,\n",
              " 24.74259362657804,\n",
              " 24.714730861070972,\n",
              " 24.687095653624368,\n",
              " 24.65968570396165,\n",
              " 24.632498739618114,\n",
              " 24.605532515541334,\n",
              " 24.57878481369812,\n",
              " 24.552253442688095,\n",
              " 24.525936237363542,\n",
              " 24.499831058455566,\n",
              " 24.473935792206444,\n",
              " 24.448248350007923,\n",
              " 24.422766668045544,\n",
              " 24.397488706948703,\n",
              " 24.37241245144644,\n",
              " 24.347535910028927,\n",
              " 24.322857114614305,\n",
              " 24.298374120221084,\n",
              " 24.274085004645755,\n",
              " 24.249987868145606,\n",
              " 24.22608083312679,\n",
              " 24.20236204383721,\n",
              " 24.178829666064555,\n",
              " 24.155481886839016,\n",
              " 24.13231691414084,\n",
              " 24.109332976612617,\n",
              " 24.086528323275992,\n",
              " 24.063901223253048,\n",
              " 24.041449965492035,\n",
              " 24.019172858497512,\n",
              " 23.99706823006467,\n",
              " 23.975134427017927,\n",
              " 23.953369814953646,\n",
              " 23.931772777986836,\n",
              " 23.910341718501954,\n",
              " 23.88907505690745,\n",
              " 23.86797123139429,\n",
              " 23.84702869769823,\n",
              " 23.826245928865745,\n",
              " 23.80562141502355,\n",
              " 23.785153663151945,\n",
              " 23.764841196861337,\n",
              " 23.744682556172492,\n",
              " 23.724676297300018,\n",
              " 23.70482099243924,\n",
              " 23.685115229556377,\n",
              " 23.665557612181914,\n",
              " 23.64614675920708,\n",
              " 23.626881304683593,\n",
              " 23.607759897626224,\n",
              " 23.588781201818673,\n",
              " 23.569943895622075,\n",
              " 23.551246671786615,\n",
              " 23.532688237266,\n",
              " 23.514267313034576,\n",
              " 23.49598263390735,\n",
              " 23.477832948362654,\n",
              " 23.459817018367506,\n",
              " 23.441933619205546,\n",
              " 23.42418153930756,\n",
              " 23.406559580084593,\n",
              " 23.389066555763424,\n",
              " 23.371701293224596,\n",
              " 23.354462631842775,\n",
              " 23.3373494233296,\n",
              " 23.320360531578626,\n",
              " 23.303494832512783,\n",
              " 23.28675121393398,\n",
              " 23.270128575374873,\n",
              " 23.253625827952906,\n",
              " 23.237241894226404,\n",
              " 23.22097570805278,\n",
              " 23.204826214448897,\n",
              " 23.188792369453328,\n",
              " 23.172873139990635,\n",
              " 23.157067503737796,\n",
              " 23.14137444899223,\n",
              " 23.125792974542065,\n",
              " 23.110322089538027,\n",
              " 23.094960813367276,\n",
              " 23.079708175529078,\n",
              " 23.06456321551216,\n",
              " 23.04952498267387,\n",
              " 23.034592536121067,\n",
              " 23.019764944592705,\n",
              " 23.005041286344003,\n",
              " 22.99042064903238,\n",
              " 22.975902129604922,\n",
              " 22.961484834187416,\n",
              " 22.947167877975012,\n",
              " 22.932950385124375,\n",
              " 22.918831488647353,\n",
              " 22.90481033030614,\n",
              " 22.8908860605099,\n",
              " 22.87705783821282,\n",
              " 22.86332483081355,\n",
              " 22.849686214056163,\n",
              " 22.836141171932276,\n",
              " 22.822688896584737,\n",
              " 22.809328588212463,\n",
              " 22.796059454976724,\n",
              " 22.782880712908597,\n",
              " 22.769791585817785,\n",
              " 22.75679130520258,\n",
              " 22.74387911016118,\n",
              " 22.731054247304066,\n",
              " 22.718315970667675,\n",
              " 22.70566354162925,\n",
              " 22.693096228822704,\n",
              " 22.680613308055772,\n",
              " 22.66821406222826,\n",
              " 22.65589778125124,\n",
              " 22.64366376196753,\n",
              " 22.63151130807312,\n",
              " 22.619439730039645,\n",
              " 22.60744834503795,\n",
              " 22.595536476862605,\n",
              " 22.58370345585749,\n",
              " 22.571948618842278,\n",
              " 22.560271309039983,\n",
              " 22.54867087600539,\n",
              " 22.537146675554446,\n",
              " 22.525698069694602,\n",
              " 22.51432442655603,\n",
              " 22.50302512032377,\n",
              " 22.49179953117072,\n",
              " 22.48064704519158,\n",
              " 22.46956705433751,\n",
              " 22.458558956351805,\n",
              " 22.447622154706266,\n",
              " 22.436756058538464,\n",
              " 22.425960082589793,\n",
              " 22.41523364714428,\n",
              " 22.404576177968266,\n",
              " 22.393987106250766,\n",
              " 22.38346586854466,\n",
              " 22.373011906708573,\n",
              " 22.362624667849527,\n",
              " 22.352303604266353,\n",
              " 22.342048173393753,\n",
              " 22.331857837747062,\n",
              " 22.321732064867835,\n",
              " 22.311670327269894,\n",
              " 22.301672102386327,\n",
              " 22.291736872516886,\n",
              " 22.281864124776217,\n",
              " 22.272053351042672,\n",
              " 22.262304047907755,\n",
              " 22.25261571662621,\n",
              " 22.242987863066737,\n",
              " 22.233419997663248,\n",
              " 22.223911635366886,\n",
              " 22.214462295598373,\n",
              " 22.205071502201264,\n",
              " 22.19573878339547,\n",
              " 22.186463671731584,\n",
              " 22.177245704045585,\n",
              " 22.16808442141425,\n",
              " 22.15897936911097,\n",
              " 22.149930096562223,\n",
              " 22.140936157304466,\n",
              " 22.13199710894164,\n",
              " 22.123112513103102,\n",
              " 22.11428193540214,\n",
              " 22.105504945394934,\n",
              " 22.096781116540036,\n",
              " 22.088110026158333,\n",
              " 22.079491255393428,\n",
              " 22.070924389172635,\n",
              " 22.062409016168246,\n",
              " 22.053944728759436,\n",
              " 22.04553112299449,\n",
              " 22.03716779855357,\n",
              " 22.028854358711822,\n",
              " 22.02059041030301,\n",
              " 22.01237556368355,\n",
              " 22.004209432696904,\n",
              " 21.996091634638482,\n",
              " 21.988021790220913,\n",
              " 21.979999523539654,\n",
              " 21.97202446203918,\n",
              " 21.964096236479303,\n",
              " 21.956214480902176,\n",
              " 21.948378832599396,\n",
              " 21.940588932079716,\n",
              " 21.93284442303697,\n",
              " 21.925144952318448,\n",
              " 21.91749016989364,\n",
              " 21.909879728823245,\n",
              " 21.902313285228644,\n",
              " 21.89479049826169,\n",
              " 21.887311030074766,\n",
              " 21.879874545791303,\n",
              " 21.872480713476538,\n",
              " 21.86512920410863,\n",
              " 21.857819691550134,\n",
              " 21.85055185251976,\n",
              " 21.843325366564425,\n",
              " 21.836139916031733,\n",
              " 21.828995186042558,\n",
              " 21.8218908644642,\n",
              " 21.814826641883563,\n",
              " 21.80780221158088,\n",
              " 21.800817269503526,\n",
              " 21.793871514240255,\n",
              " 21.78696464699568,\n",
              " 21.780096371565012,\n",
              " 21.77326639430911,\n",
              " 21.766474424129783,\n",
              " 21.759720172445384,\n",
              " 21.753003353166665,\n",
              " 21.746323682672866,\n",
              " 21.739680879788125,\n",
              " 21.733074665758068,\n",
              " 21.726504764226746,\n",
              " 21.71997090121374,\n",
              " 21.713472805091538,\n",
              " 21.70701020656321,\n",
              " 21.700582838640244,\n",
              " 21.694190436620637,\n",
              " 21.687832738067303,\n",
              " 21.6815094827866,\n",
              " 21.675220412807157,\n",
              " 21.6689652723589,\n",
              " 21.662743807852344,\n",
              " 21.65655576785799,\n",
              " 21.650400903086155,\n",
              " 21.644278966366738,\n",
              " 21.638189712629472,\n",
              " 21.63213289888419,\n",
              " 21.626108284201376,\n",
              " 21.620115629692965,\n",
              " 21.614154698493223,\n",
              " 21.608225255739956,\n",
              " 21.60232706855585,\n",
              " 21.596459906030013,\n",
              " 21.590623539199687,\n",
              " 21.584817741032246,\n",
              " 21.57904228640724,\n",
              " 21.573296952098765,\n",
              " 21.5675815167579,\n",
              " 21.56189576089542,\n",
              " 21.55623946686461,\n",
              " 21.55061241884431,\n",
              " 21.545014402822126,\n",
              " 21.539445206577803,\n",
              " 21.533904619666757,\n",
              " 21.5283924334038,\n",
              " 21.522908440847008,\n",
              " 21.517452436781824,\n",
              " 21.512024217705193,\n",
              " 21.50662358180999,\n",
              " 21.50125032896952,\n",
              " 21.495904260722227,\n",
              " 21.490585180256545,\n",
              " 21.48529289239585,\n",
              " 21.480027203583656,\n",
              " 21.47478792186892,\n",
              " 21.46957485689144,\n",
              " 21.46438781986751,\n",
              " 21.45922662357562,\n",
              " 21.454091082342348,\n",
              " 21.44898101202841,\n",
              " 21.44389623001477,\n",
              " 21.438836555189013,\n",
              " 21.433801807931737,\n",
              " 21.428791810103153,\n",
              " 21.423806385029774,\n",
              " 21.418845357491254,\n",
              " 21.413908553707415,\n",
              " 21.40899580132528,\n",
              " 21.404106929406314,\n",
              " 21.399241768413837,\n",
              " 21.39440015020043,\n",
              " 21.389581907995577,\n",
              " 21.384786876393406,\n",
              " 21.38001489134049,\n",
              " 21.375265790123855,\n",
              " 21.370539411359026,\n",
              " 21.365835594978286,\n",
              " 21.361154182218915,\n",
              " 21.356495015611685,\n",
              " 21.351857938969367,\n",
              " 21.347242797375397,\n",
              " 21.34264943717264,\n",
              " 21.33807770595227,\n",
              " 21.333527452542736,\n",
              " 21.328998526998856,\n",
              " 21.32449078059104,\n",
              " 21.320004065794517,\n",
              " 21.315538236278847,\n",
              " 21.3110931468973,\n",
              " 21.30666865367655,\n",
              " 21.302264613806347,\n",
              " 21.29788088562933,\n",
              " 21.293517328630912,\n",
              " 21.289173803429303,\n",
              " 21.284850171765562,\n",
              " 21.28054629649384,\n",
              " 21.276262041571627,\n",
              " 21.271997272050122,\n",
              " 21.26775185406473,\n",
              " 21.263525654825575,\n",
              " 21.25931854260818,\n",
              " 21.255130386744213,\n",
              " 21.250961057612248,\n",
              " 21.24681042662874,\n",
              " 21.242678366238987,\n",
              " 21.238564749908228,\n",
              " 21.23446945211278,\n",
              " 21.23039234833132,\n",
              " 21.226333315036182,\n",
              " 21.222292229684793,\n",
              " 21.21826897071114,\n",
              " 21.21426341751737,\n",
              " 21.21027545046542,\n",
              " 21.206304950868766,\n",
              " 21.20235180098418,\n",
              " 21.198415884003694,\n",
              " 21.19449708404647,\n",
              " 21.19059528615089,\n",
              " 21.186710376266642,\n",
              " 21.182842241246895,\n",
              " 21.178990768840563,\n",
              " 21.175155847684653,\n",
              " 21.17133736729658,\n",
              " 21.16753521806672,\n",
              " 21.16374929125092,\n",
              " 21.159979478963063,\n",
              " 21.156225674167782,\n",
              " 21.152487770673208,\n",
              " 21.14876566312371,\n",
              " 21.145059246992858,\n",
              " 21.141368418576306,\n",
              " 21.137693074984792,\n",
              " 21.134033114137235,\n",
              " 21.130388434753836,\n",
              " 21.126758936349297,\n",
              " 21.12314451922606,\n",
              " 21.11954508446763,\n",
              " 21.115960533931936,\n",
              " 21.112390770244815,\n",
              " 21.10883569679346,\n",
              " 21.10529521772,\n",
              " 21.1017692379151,\n",
              " 21.098257663011672,\n",
              " 21.09476039937858,\n",
              " 21.091277354114393,\n",
              " 21.087808435041314,\n",
              " 21.084353550698985,\n",
              " 21.080912610338537,\n",
              " 21.0774855239165,\n",
              " 21.074072202088946,\n",
              " 21.070672556205572,\n",
              " 21.06728649830387,\n",
              " 21.063913941103344,\n",
              " 21.060554797999817,\n",
              " 21.0572089830597,\n",
              " 21.053876411014446,\n",
              " 21.050556997254876,\n",
              " 21.047250657825767,\n",
              " 21.043957309420275,\n",
              " 21.040676869374593,\n",
              " 21.03740925566252,\n",
              " 21.034154386890165,\n",
              " 21.030912182290646,\n",
              " 21.027682561718844,\n",
              " 21.024465445646292,\n",
              " 21.021260755155918,\n",
              " 21.018068411937026,\n",
              " 21.014888338280254,\n",
              " 21.011720457072506,\n",
              " 21.008564691792042,\n",
              " 21.005420966503564,\n",
              " 21.0022892058533,\n",
              " 20.999169335064217,\n",
              " 20.99606127993119,\n",
              " 20.992964966816327,\n",
              " 20.989880322644186,\n",
              " 20.986807274897156,\n",
              " 20.98374575161082,\n",
              " 20.980695681369408,\n",
              " 20.977656993301196,\n",
              " 20.97462961707407,\n",
              " 20.971613482891037,\n",
              " 20.968608521485784,\n",
              " 20.965614664118327,\n",
              " 20.96263184257066,\n",
              " 20.95965998914245,\n",
              " 20.956699036646736,\n",
              " 20.95374891840577,\n",
              " 20.95080956824672,\n",
              " 20.947880920497628,\n",
              " 20.944962909983204,\n",
              " 20.94205547202077,\n",
              " 20.93915854241621,\n",
              " 20.936272057459977,\n",
              " 20.93339595392307,\n",
              " 20.930530169053117,\n",
              " 20.927674640570462,\n",
              " 20.924829306664293,\n",
              " 20.921994105988784,\n",
              " 20.91916897765931,\n",
              " 20.91635386124863,\n",
              " 20.9135486967832,\n",
              " 20.910753424739426,\n",
              " 20.907967986039957,\n",
              " 20.905192322050123,\n",
              " 20.902426374574233,\n",
              " 20.899670085852044,\n",
              " 20.89692339855519,\n",
              " 20.894186255783648,\n",
              " 20.89145860106225,\n",
              " 20.888740378337268,\n",
              " 20.886031531972904,\n",
              " 20.883332006747942,\n",
              " 20.880641747852348,\n",
              " 20.877960700883943,\n",
              " 20.87528881184508,\n",
              " 20.87262602713936,\n",
              " 20.869972293568356,\n",
              " 20.867327558328412,\n",
              " 20.86469176900742,\n",
              " 20.86206487358163,\n",
              " 20.85944682041254,\n",
              " 20.85683755824375,\n",
              " 20.85423703619787,\n",
              " 20.851645203773433,\n",
              " 20.8490620108419,\n",
              " 20.8464874076446,\n",
              " 20.84392134478975,\n",
              " 20.841363773249505,\n",
              " 20.83881464435702,\n",
              " 20.83627390980349,\n",
              " 20.833741521635318,\n",
              " 20.83121743225121,\n",
              " 20.82870159439938,\n",
              " 20.82619396117466,\n",
              " 20.82369448601577,\n",
              " 20.82120312270255,\n",
              " 20.81871982535316,\n",
              " 20.816244548421402,\n",
              " 20.813777246694013,\n",
              " 20.811317875287997,\n",
              " 20.808866389647932,\n",
              " 20.806422745543394,\n",
              " 20.803986899066313,\n",
              " 20.80155880662839,\n",
              " 20.79913842495855,\n",
              " 20.796725711100358,\n",
              " 20.794320622409558,\n",
              " 20.79192311655152,\n",
              " 20.789533151498787,\n",
              " 20.787150685528612,\n",
              " 20.784775677220512,\n",
              " 20.782408085453874,\n",
              " 20.78004786940551,\n",
              " 20.777694988547353,\n",
              " 20.77534940264403,\n",
              " 20.773011071750567,\n",
              " 20.77067995621006,\n",
              " 20.76835601665137,\n",
              " 20.766039213986865,\n",
              " 20.763729509410144,\n",
              " 20.761426864393798,\n",
              " 20.7591312406872,\n",
              " 20.756842600314275,\n",
              " 20.754560905571374,\n",
              " 20.752286119025033,\n",
              " 20.750018203509853,\n",
              " 20.747757122126433,\n",
              " 20.745502838239165,\n",
              " 20.74325531547416,\n",
              " 20.741014517717243,\n",
              " 20.738780409111797,\n",
              " 20.736552954056773,\n",
              " 20.73433211720468,\n",
              " 20.732117863459518,\n",
              " 20.72991015797485,\n",
              " 20.727708966151777,\n",
              " 20.72551425363702,\n",
              " 20.723325986320944,\n",
              " 20.721144130335656,\n",
              " 20.71896865205308,\n",
              " 20.716799518083075,\n",
              " 20.71463669527154,\n",
              " 20.712480150698582,\n",
              " 20.710329851676637,\n",
              " 20.708185765748645,\n",
              " 20.70604786068625,\n",
              " 20.703916104487984,\n",
              " 20.701790465377478,\n",
              " 20.6996709118017,\n",
              " 20.69755741242921,\n",
              " 20.69544993614838,\n",
              " 20.693348452065678,\n",
              " 20.691252929504017,\n",
              " 20.689163338000938,\n",
              " 20.687079647307037,\n",
              " 20.68500182738422,\n",
              " 20.682929848404083,\n",
              " 20.680863680746253,\n",
              " 20.678803294996758,\n",
              " 20.67674866194643,\n",
              " 20.67469975258926,\n",
              " 20.67265653812084,\n",
              " 20.67061898993679,\n",
              " 20.66858707963118,\n",
              " 20.666560778994956,\n",
              " 20.66454006001447,\n",
              " 20.662524894869872,\n",
              " 20.660515255933646,\n",
              " 20.658511115769112,\n",
              " 20.656512447128915,\n",
              " 20.65451922295356,\n",
              " 20.652531416369936,\n",
              " 20.650549000689896,\n",
              " 20.648571949408772,\n",
              " 20.646600236203984,\n",
              " 20.644633834933614,\n",
              " 20.64267271963498,\n",
              " 20.640716864523267,\n",
              " 20.638766243990144,\n",
              " 20.636820832602396,\n",
              " 20.634880605100513,\n",
              " 20.632945536397447,\n",
              " 20.631015601577165,\n",
              " 20.62909077589338,\n",
              " 20.627171034768242,\n",
              " 20.625256353791016,\n",
              " 20.623346708716756,\n",
              " 20.621442075465108,\n",
              " 20.61954243011893,\n",
              " 20.617647748923154,\n",
              " 20.615758008283382,\n",
              " 20.6138731847648,\n",
              " 20.611993255090816,\n",
              " 20.610118196141944,\n",
              " 20.608247984954506,\n",
              " 20.60638259871949,\n",
              " 20.604522014781327,\n",
              " 20.602666210636716,\n",
              " 20.60081516393347,\n",
              " 20.598968852469298,\n",
              " 20.59712725419074,\n",
              " 20.59529034719193,\n",
              " 20.59345810971354,\n",
              " 20.59163052014159,\n",
              " 20.58980755700636,\n",
              " 20.587989198981294,\n",
              " 20.586175424881898,\n",
              " 20.584366213664616,\n",
              " 20.5825615444258,\n",
              " 20.580761396400604,\n",
              " 20.57896574896192,\n",
              " 20.577174581619364,\n",
              " 20.57538787401816,\n",
              " 20.573605605938162,\n",
              " 20.57182775729283,\n",
              " 20.570054308128142,\n",
              " 20.56828523862166,\n",
              " 20.566520529081455,\n",
              " 20.564760159945187,\n",
              " 20.563004111779037,\n",
              " 20.561252365276793,\n",
              " 20.559504901258848,\n",
              " 20.557761700671215,\n",
              " 20.556022744584624,\n",
              " 20.554288014193524,\n",
              " 20.552557490815175,\n",
              " 20.550831155888694,\n",
              " 20.54910899097413,\n",
              " 20.54739097775156,\n",
              " 20.545677098020168,\n",
              " 20.543967333697342,\n",
              " 20.542261666817772,\n",
              " 20.540560079532575,\n",
              " 20.53886255410841,\n",
              " 20.537169072926595,\n",
              " 20.535479618482224,\n",
              " 20.533794173383345,\n",
              " 20.532112720350085,\n",
              " 20.530435242213798,\n",
              " 20.528761721916222,\n",
              " 20.527092142508675,\n",
              " 20.52542648715119,\n",
              " 20.523764739111716,\n",
              " 20.522106881765296,\n",
              " 20.520452898593277,\n",
              " 20.518802773182497,\n",
              " 20.517156489224455,\n",
              " 20.51551403051461,\n",
              " 20.513875380951525,\n",
              " 20.5122405245361,\n",
              " 20.510609445370843,\n",
              " 20.508982127659078,\n",
              " 20.50735855570418,\n",
              " 20.505738713908855,\n",
              " 20.504122586774354,\n",
              " 20.5025101588998,\n",
              " 20.500901414981353,\n",
              " 20.499296339811597,\n",
              " 20.497694918278746,\n",
              " 20.496097135365943,\n",
              " 20.494502976150557,\n",
              " 20.49291242580349,\n",
              " 20.49132546958845,\n",
              " 20.48974209286129,\n",
              " 20.4881622810693,\n",
              " 20.48658601975053,\n",
              " 20.485013294533108,\n",
              " 20.483444091134587,\n",
              " 20.481878395361264,\n",
              " 20.480316193107523,\n",
              " 20.478757470355195,\n",
              " 20.477202213172873,\n",
              " 20.475650407715314,\n",
              " 20.474102040222736,\n",
              " 20.472557097020264,\n",
              " 20.471015564517252,\n",
              " 20.469477429206634,\n",
              " 20.467942677664386,\n",
              " 20.46641129654881,\n",
              " 20.464883272600023,\n",
              " 20.463358592639278,\n",
              " 20.461837243568407,\n",
              " 20.460319212369196,\n",
              " 20.458804486102835,\n",
              " 20.457293051909282,\n",
              " 20.45578489700672,\n",
              " 20.45428000869096,\n",
              " 20.452778374334905,\n",
              " 20.451279981387906,\n",
              " 20.44978481737529,\n",
              " 20.44829286989775,\n",
              " 20.44680412663079,\n",
              " 20.44531857532418,\n",
              " 20.443836203801457,\n",
              " 20.4423569999593,\n",
              " 20.440880951767063,\n",
              " 20.439408047266188,\n",
              " 20.437938274569756,\n",
              " 20.436471621861866,\n",
              " 20.43500807739719,\n",
              " 20.433547629500417,\n",
              " 20.432090266565762,\n",
              " 20.430635977056436,\n",
              " 20.429184749504174,\n",
              " 20.427736572508714,\n",
              " 20.42629143473731,\n",
              " 20.424849324924203,\n",
              " 20.42341023187021,\n",
              " 20.42197414444217,\n",
              " 20.420541051572496,\n",
              " 20.419110942258698,\n",
              " 20.417683805562888,\n",
              " 20.41625963061135,\n",
              " 20.414838406594036]"
            ]
          },
          "metadata": {
            "tags": []
          },
          "execution_count": 12
        }
      ]
    },
    {
      "cell_type": "code",
      "metadata": {
        "id": "P6s8h52gUI7Z",
        "colab": {
          "base_uri": "https://localhost:8080/",
          "height": 404
        },
        "outputId": "54cdabdc-9aa5-4783-b2a9-c6138db19bbe"
      },
      "source": [
        "plt.figure(figsize=(10, 6))\n",
        "plt.plot(lr_scaled.loss_history)\n",
        "plt.title('MSE loss dependence on SGD iteration')\n",
        "plt.xlabel('SGD iteration')\n",
        "plt.ylabel('Loss')\n",
        "plt.grid()\n",
        "plt.show()"
      ],
      "execution_count": 13,
      "outputs": [
        {
          "output_type": "display_data",
          "data": {
            "image/png": "[encoded data removed]",
            "text/plain": [
              "<Figure size 720x432 with 1 Axes>"
            ]
          },
          "metadata": {
            "tags": [],
            "needs_background": "light"
          }
        }
      ]
    },
    {
      "cell_type": "markdown",
      "metadata": {
        "id": "0--vVXZRVbWl"
      },
      "source": [
        "### Наблюдения\n",
        "Сейчас трансформация применяется.\n",
        "Можно отметить, что на масштабированных данных получилось использовать скорость\n",
        "обучения $\\eta$ на 3 порядка больше, чем при исходном подходе в задании 3, при \n",
        "этом все равно решение сходится.\n",
        "\n",
        "Если применить $\\eta =0,08$ для исходных данных, то алгоритм не находит решение для $w$\n",
        "\n",
        "При этом получилось на тесте добиться меньшей ошибки $\\Rightarrow$ одни плюсы."
      ]
    },
    {
      "cell_type": "code",
      "metadata": {
        "id": "MdwmhibtUI7a",
        "colab": {
          "base_uri": "https://localhost:8080/"
        },
        "outputId": "35de096a-7047-46b4-c4e3-930642d38255"
      },
      "source": [
        "mse_test = mse_loss(X_test_scaled, y_test, lr_scaled.w)\n",
        "print(mse_test)\n",
        "assert mse_test <= 100"
      ],
      "execution_count": 14,
      "outputs": [
        {
          "output_type": "stream",
          "text": [
            "29.58966403346496\n"
          ],
          "name": "stdout"
        }
      ]
    },
    {
      "cell_type": "markdown",
      "metadata": {
        "id": "ASEVyc2oUI7b"
      },
      "source": [
        "# Часть 2 "
      ]
    },
    {
      "cell_type": "code",
      "metadata": {
        "id": "BY22qq7jUI7c"
      },
      "source": [
        "import matplotlib.pyplot as plt\n",
        "import matplotlib.lines as lines\n",
        "\n",
        "import numpy as np\n",
        "import pandas as pd\n",
        "import requests\n",
        "\n",
        "from sklearn.linear_model import LinearRegression, Lasso, Ridge\n",
        "from sklearn.metrics import mean_squared_error\n",
        "from sklearn.model_selection import train_test_split, GridSearchCV\n",
        "from sklearn.preprocessing import MinMaxScaler, StandardScaler\n",
        "from sklearn.impute import SimpleImputer\n",
        "from itertools import combinations\n",
        "\n",
        "%matplotlib inline"
      ],
      "execution_count": 15,
      "outputs": []
    },
    {
      "cell_type": "markdown",
      "metadata": {
        "id": "nTQYYTWIrpC5"
      },
      "source": [
        "В этой части вы поработаете с данными из другого соревнования на Kaggle: https://www.kaggle.com/c/house-prices-advanced-regression-techniques. Задача - предсказание цены дома.\n",
        "\n",
        "Данные можно скачать [тут](https://raw.githubusercontent.com/WeaselCMC/ml_dpo_2021/master/hw/hw2/train.csv)"
      ]
    },
    {
      "cell_type": "code",
      "metadata": {
        "id": "45lqIuKrUI7e",
        "colab": {
          "base_uri": "https://localhost:8080/"
        },
        "outputId": "43ad804b-2c53-42f6-cce1-043c34cb2cd7"
      },
      "source": [
        "req = requests.get('https://raw.githubusercontent.com/WeaselCMC/ml_dpo_2021/master/hw/hw2/train.csv')\n",
        "url_content = req.content\n",
        "csv_file = open('train.csv', 'wb')\n",
        "\n",
        "csv_file.write(url_content)\n",
        "csv_file.close()\n",
        "\n",
        "data = pd.read_csv('train.csv', header=0)\n",
        "data.drop('Id', axis=1, inplace=True)\n",
        "data.shape"
      ],
      "execution_count": 16,
      "outputs": [
        {
          "output_type": "execute_result",
          "data": {
            "text/plain": [
              "(1460, 80)"
            ]
          },
          "metadata": {
            "tags": []
          },
          "execution_count": 16
        }
      ]
    },
    {
      "cell_type": "code",
      "metadata": {
        "id": "brKRqJm5UI7e",
        "colab": {
          "base_uri": "https://localhost:8080/",
          "height": 224
        },
        "outputId": "78728fea-790c-408c-d3f8-9c405df14b14"
      },
      "source": [
        "data.head()"
      ],
      "execution_count": 17,
      "outputs": [
        {
          "output_type": "execute_result",
          "data": {
            "text/html": [
              "<div>\n",
              "<style scoped>\n",
              "    .dataframe tbody tr th:only-of-type {\n",
              "        vertical-align: middle;\n",
              "    }\n",
              "\n",
              "    .dataframe tbody tr th {\n",
              "        vertical-align: top;\n",
              "    }\n",
              "\n",
              "    .dataframe thead th {\n",
              "        text-align: right;\n",
              "    }\n",
              "</style>\n",
              "<table border=\"1\" class=\"dataframe\">\n",
              "  <thead>\n",
              "    <tr style=\"text-align: right;\">\n",
              "      <th></th>\n",
              "      <th>MSSubClass</th>\n",
              "      <th>MSZoning</th>\n",
              "      <th>LotFrontage</th>\n",
              "      <th>LotArea</th>\n",
              "      <th>Street</th>\n",
              "      <th>Alley</th>\n",
              "      <th>LotShape</th>\n",
              "      <th>LandContour</th>\n",
              "      <th>Utilities</th>\n",
              "      <th>LotConfig</th>\n",
              "      <th>LandSlope</th>\n",
              "      <th>Neighborhood</th>\n",
              "      <th>Condition1</th>\n",
              "      <th>Condition2</th>\n",
              "      <th>BldgType</th>\n",
              "      <th>HouseStyle</th>\n",
              "      <th>OverallQual</th>\n",
              "      <th>OverallCond</th>\n",
              "      <th>YearBuilt</th>\n",
              "      <th>YearRemodAdd</th>\n",
              "      <th>RoofStyle</th>\n",
              "      <th>RoofMatl</th>\n",
              "      <th>Exterior1st</th>\n",
              "      <th>Exterior2nd</th>\n",
              "      <th>MasVnrType</th>\n",
              "      <th>MasVnrArea</th>\n",
              "      <th>ExterQual</th>\n",
              "      <th>ExterCond</th>\n",
              "      <th>Foundation</th>\n",
              "      <th>BsmtQual</th>\n",
              "      <th>BsmtCond</th>\n",
              "      <th>BsmtExposure</th>\n",
              "      <th>BsmtFinType1</th>\n",
              "      <th>BsmtFinSF1</th>\n",
              "      <th>BsmtFinType2</th>\n",
              "      <th>BsmtFinSF2</th>\n",
              "      <th>BsmtUnfSF</th>\n",
              "      <th>TotalBsmtSF</th>\n",
              "      <th>Heating</th>\n",
              "      <th>HeatingQC</th>\n",
              "      <th>CentralAir</th>\n",
              "      <th>Electrical</th>\n",
              "      <th>1stFlrSF</th>\n",
              "      <th>2ndFlrSF</th>\n",
              "      <th>LowQualFinSF</th>\n",
              "      <th>GrLivArea</th>\n",
              "      <th>BsmtFullBath</th>\n",
              "      <th>BsmtHalfBath</th>\n",
              "      <th>FullBath</th>\n",
              "      <th>HalfBath</th>\n",
              "      <th>BedroomAbvGr</th>\n",
              "      <th>KitchenAbvGr</th>\n",
              "      <th>KitchenQual</th>\n",
              "      <th>TotRmsAbvGrd</th>\n",
              "      <th>Functional</th>\n",
              "      <th>Fireplaces</th>\n",
              "      <th>FireplaceQu</th>\n",
              "      <th>GarageType</th>\n",
              "      <th>GarageYrBlt</th>\n",
              "      <th>GarageFinish</th>\n",
              "      <th>GarageCars</th>\n",
              "      <th>GarageArea</th>\n",
              "      <th>GarageQual</th>\n",
              "      <th>GarageCond</th>\n",
              "      <th>PavedDrive</th>\n",
              "      <th>WoodDeckSF</th>\n",
              "      <th>OpenPorchSF</th>\n",
              "      <th>EnclosedPorch</th>\n",
              "      <th>3SsnPorch</th>\n",
              "      <th>ScreenPorch</th>\n",
              "      <th>PoolArea</th>\n",
              "      <th>PoolQC</th>\n",
              "      <th>Fence</th>\n",
              "      <th>MiscFeature</th>\n",
              "      <th>MiscVal</th>\n",
              "      <th>MoSold</th>\n",
              "      <th>YrSold</th>\n",
              "      <th>SaleType</th>\n",
              "      <th>SaleCondition</th>\n",
              "      <th>SalePrice</th>\n",
              "    </tr>\n",
              "  </thead>\n",
              "  <tbody>\n",
              "    <tr>\n",
              "      <th>0</th>\n",
              "      <td>60</td>\n",
              "      <td>RL</td>\n",
              "      <td>65.0</td>\n",
              "      <td>8450</td>\n",
              "      <td>Pave</td>\n",
              "      <td>NaN</td>\n",
              "      <td>Reg</td>\n",
              "      <td>Lvl</td>\n",
              "      <td>AllPub</td>\n",
              "      <td>Inside</td>\n",
              "      <td>Gtl</td>\n",
              "      <td>CollgCr</td>\n",
              "      <td>Norm</td>\n",
              "      <td>Norm</td>\n",
              "      <td>1Fam</td>\n",
              "      <td>2Story</td>\n",
              "      <td>7</td>\n",
              "      <td>5</td>\n",
              "      <td>2003</td>\n",
              "      <td>2003</td>\n",
              "      <td>Gable</td>\n",
              "      <td>CompShg</td>\n",
              "      <td>VinylSd</td>\n",
              "      <td>VinylSd</td>\n",
              "      <td>BrkFace</td>\n",
              "      <td>196.0</td>\n",
              "      <td>Gd</td>\n",
              "      <td>TA</td>\n",
              "      <td>PConc</td>\n",
              "      <td>Gd</td>\n",
              "      <td>TA</td>\n",
              "      <td>No</td>\n",
              "      <td>GLQ</td>\n",
              "      <td>706</td>\n",
              "      <td>Unf</td>\n",
              "      <td>0</td>\n",
              "      <td>150</td>\n",
              "      <td>856</td>\n",
              "      <td>GasA</td>\n",
              "      <td>Ex</td>\n",
              "      <td>Y</td>\n",
              "      <td>SBrkr</td>\n",
              "      <td>856</td>\n",
              "      <td>854</td>\n",
              "      <td>0</td>\n",
              "      <td>1710</td>\n",
              "      <td>1</td>\n",
              "      <td>0</td>\n",
              "      <td>2</td>\n",
              "      <td>1</td>\n",
              "      <td>3</td>\n",
              "      <td>1</td>\n",
              "      <td>Gd</td>\n",
              "      <td>8</td>\n",
              "      <td>Typ</td>\n",
              "      <td>0</td>\n",
              "      <td>NaN</td>\n",
              "      <td>Attchd</td>\n",
              "      <td>2003.0</td>\n",
              "      <td>RFn</td>\n",
              "      <td>2</td>\n",
              "      <td>548</td>\n",
              "      <td>TA</td>\n",
              "      <td>TA</td>\n",
              "      <td>Y</td>\n",
              "      <td>0</td>\n",
              "      <td>61</td>\n",
              "      <td>0</td>\n",
              "      <td>0</td>\n",
              "      <td>0</td>\n",
              "      <td>0</td>\n",
              "      <td>NaN</td>\n",
              "      <td>NaN</td>\n",
              "      <td>NaN</td>\n",
              "      <td>0</td>\n",
              "      <td>2</td>\n",
              "      <td>2008</td>\n",
              "      <td>WD</td>\n",
              "      <td>Normal</td>\n",
              "      <td>208500</td>\n",
              "    </tr>\n",
              "    <tr>\n",
              "      <th>1</th>\n",
              "      <td>20</td>\n",
              "      <td>RL</td>\n",
              "      <td>80.0</td>\n",
              "      <td>9600</td>\n",
              "      <td>Pave</td>\n",
              "      <td>NaN</td>\n",
              "      <td>Reg</td>\n",
              "      <td>Lvl</td>\n",
              "      <td>AllPub</td>\n",
              "      <td>FR2</td>\n",
              "      <td>Gtl</td>\n",
              "      <td>Veenker</td>\n",
              "      <td>Feedr</td>\n",
              "      <td>Norm</td>\n",
              "      <td>1Fam</td>\n",
              "      <td>1Story</td>\n",
              "      <td>6</td>\n",
              "      <td>8</td>\n",
              "      <td>1976</td>\n",
              "      <td>1976</td>\n",
              "      <td>Gable</td>\n",
              "      <td>CompShg</td>\n",
              "      <td>MetalSd</td>\n",
              "      <td>MetalSd</td>\n",
              "      <td>None</td>\n",
              "      <td>0.0</td>\n",
              "      <td>TA</td>\n",
              "      <td>TA</td>\n",
              "      <td>CBlock</td>\n",
              "      <td>Gd</td>\n",
              "      <td>TA</td>\n",
              "      <td>Gd</td>\n",
              "      <td>ALQ</td>\n",
              "      <td>978</td>\n",
              "      <td>Unf</td>\n",
              "      <td>0</td>\n",
              "      <td>284</td>\n",
              "      <td>1262</td>\n",
              "      <td>GasA</td>\n",
              "      <td>Ex</td>\n",
              "      <td>Y</td>\n",
              "      <td>SBrkr</td>\n",
              "      <td>1262</td>\n",
              "      <td>0</td>\n",
              "      <td>0</td>\n",
              "      <td>1262</td>\n",
              "      <td>0</td>\n",
              "      <td>1</td>\n",
              "      <td>2</td>\n",
              "      <td>0</td>\n",
              "      <td>3</td>\n",
              "      <td>1</td>\n",
              "      <td>TA</td>\n",
              "      <td>6</td>\n",
              "      <td>Typ</td>\n",
              "      <td>1</td>\n",
              "      <td>TA</td>\n",
              "      <td>Attchd</td>\n",
              "      <td>1976.0</td>\n",
              "      <td>RFn</td>\n",
              "      <td>2</td>\n",
              "      <td>460</td>\n",
              "      <td>TA</td>\n",
              "      <td>TA</td>\n",
              "      <td>Y</td>\n",
              "      <td>298</td>\n",
              "      <td>0</td>\n",
              "      <td>0</td>\n",
              "      <td>0</td>\n",
              "      <td>0</td>\n",
              "      <td>0</td>\n",
              "      <td>NaN</td>\n",
              "      <td>NaN</td>\n",
              "      <td>NaN</td>\n",
              "      <td>0</td>\n",
              "      <td>5</td>\n",
              "      <td>2007</td>\n",
              "      <td>WD</td>\n",
              "      <td>Normal</td>\n",
              "      <td>181500</td>\n",
              "    </tr>\n",
              "    <tr>\n",
              "      <th>2</th>\n",
              "      <td>60</td>\n",
              "      <td>RL</td>\n",
              "      <td>68.0</td>\n",
              "      <td>11250</td>\n",
              "      <td>Pave</td>\n",
              "      <td>NaN</td>\n",
              "      <td>IR1</td>\n",
              "      <td>Lvl</td>\n",
              "      <td>AllPub</td>\n",
              "      <td>Inside</td>\n",
              "      <td>Gtl</td>\n",
              "      <td>CollgCr</td>\n",
              "      <td>Norm</td>\n",
              "      <td>Norm</td>\n",
              "      <td>1Fam</td>\n",
              "      <td>2Story</td>\n",
              "      <td>7</td>\n",
              "      <td>5</td>\n",
              "      <td>2001</td>\n",
              "      <td>2002</td>\n",
              "      <td>Gable</td>\n",
              "      <td>CompShg</td>\n",
              "      <td>VinylSd</td>\n",
              "      <td>VinylSd</td>\n",
              "      <td>BrkFace</td>\n",
              "      <td>162.0</td>\n",
              "      <td>Gd</td>\n",
              "      <td>TA</td>\n",
              "      <td>PConc</td>\n",
              "      <td>Gd</td>\n",
              "      <td>TA</td>\n",
              "      <td>Mn</td>\n",
              "      <td>GLQ</td>\n",
              "      <td>486</td>\n",
              "      <td>Unf</td>\n",
              "      <td>0</td>\n",
              "      <td>434</td>\n",
              "      <td>920</td>\n",
              "      <td>GasA</td>\n",
              "      <td>Ex</td>\n",
              "      <td>Y</td>\n",
              "      <td>SBrkr</td>\n",
              "      <td>920</td>\n",
              "      <td>866</td>\n",
              "      <td>0</td>\n",
              "      <td>1786</td>\n",
              "      <td>1</td>\n",
              "      <td>0</td>\n",
              "      <td>2</td>\n",
              "      <td>1</td>\n",
              "      <td>3</td>\n",
              "      <td>1</td>\n",
              "      <td>Gd</td>\n",
              "      <td>6</td>\n",
              "      <td>Typ</td>\n",
              "      <td>1</td>\n",
              "      <td>TA</td>\n",
              "      <td>Attchd</td>\n",
              "      <td>2001.0</td>\n",
              "      <td>RFn</td>\n",
              "      <td>2</td>\n",
              "      <td>608</td>\n",
              "      <td>TA</td>\n",
              "      <td>TA</td>\n",
              "      <td>Y</td>\n",
              "      <td>0</td>\n",
              "      <td>42</td>\n",
              "      <td>0</td>\n",
              "      <td>0</td>\n",
              "      <td>0</td>\n",
              "      <td>0</td>\n",
              "      <td>NaN</td>\n",
              "      <td>NaN</td>\n",
              "      <td>NaN</td>\n",
              "      <td>0</td>\n",
              "      <td>9</td>\n",
              "      <td>2008</td>\n",
              "      <td>WD</td>\n",
              "      <td>Normal</td>\n",
              "      <td>223500</td>\n",
              "    </tr>\n",
              "    <tr>\n",
              "      <th>3</th>\n",
              "      <td>70</td>\n",
              "      <td>RL</td>\n",
              "      <td>60.0</td>\n",
              "      <td>9550</td>\n",
              "      <td>Pave</td>\n",
              "      <td>NaN</td>\n",
              "      <td>IR1</td>\n",
              "      <td>Lvl</td>\n",
              "      <td>AllPub</td>\n",
              "      <td>Corner</td>\n",
              "      <td>Gtl</td>\n",
              "      <td>Crawfor</td>\n",
              "      <td>Norm</td>\n",
              "      <td>Norm</td>\n",
              "      <td>1Fam</td>\n",
              "      <td>2Story</td>\n",
              "      <td>7</td>\n",
              "      <td>5</td>\n",
              "      <td>1915</td>\n",
              "      <td>1970</td>\n",
              "      <td>Gable</td>\n",
              "      <td>CompShg</td>\n",
              "      <td>Wd Sdng</td>\n",
              "      <td>Wd Shng</td>\n",
              "      <td>None</td>\n",
              "      <td>0.0</td>\n",
              "      <td>TA</td>\n",
              "      <td>TA</td>\n",
              "      <td>BrkTil</td>\n",
              "      <td>TA</td>\n",
              "      <td>Gd</td>\n",
              "      <td>No</td>\n",
              "      <td>ALQ</td>\n",
              "      <td>216</td>\n",
              "      <td>Unf</td>\n",
              "      <td>0</td>\n",
              "      <td>540</td>\n",
              "      <td>756</td>\n",
              "      <td>GasA</td>\n",
              "      <td>Gd</td>\n",
              "      <td>Y</td>\n",
              "      <td>SBrkr</td>\n",
              "      <td>961</td>\n",
              "      <td>756</td>\n",
              "      <td>0</td>\n",
              "      <td>1717</td>\n",
              "      <td>1</td>\n",
              "      <td>0</td>\n",
              "      <td>1</td>\n",
              "      <td>0</td>\n",
              "      <td>3</td>\n",
              "      <td>1</td>\n",
              "      <td>Gd</td>\n",
              "      <td>7</td>\n",
              "      <td>Typ</td>\n",
              "      <td>1</td>\n",
              "      <td>Gd</td>\n",
              "      <td>Detchd</td>\n",
              "      <td>1998.0</td>\n",
              "      <td>Unf</td>\n",
              "      <td>3</td>\n",
              "      <td>642</td>\n",
              "      <td>TA</td>\n",
              "      <td>TA</td>\n",
              "      <td>Y</td>\n",
              "      <td>0</td>\n",
              "      <td>35</td>\n",
              "      <td>272</td>\n",
              "      <td>0</td>\n",
              "      <td>0</td>\n",
              "      <td>0</td>\n",
              "      <td>NaN</td>\n",
              "      <td>NaN</td>\n",
              "      <td>NaN</td>\n",
              "      <td>0</td>\n",
              "      <td>2</td>\n",
              "      <td>2006</td>\n",
              "      <td>WD</td>\n",
              "      <td>Abnorml</td>\n",
              "      <td>140000</td>\n",
              "    </tr>\n",
              "    <tr>\n",
              "      <th>4</th>\n",
              "      <td>60</td>\n",
              "      <td>RL</td>\n",
              "      <td>84.0</td>\n",
              "      <td>14260</td>\n",
              "      <td>Pave</td>\n",
              "      <td>NaN</td>\n",
              "      <td>IR1</td>\n",
              "      <td>Lvl</td>\n",
              "      <td>AllPub</td>\n",
              "      <td>FR2</td>\n",
              "      <td>Gtl</td>\n",
              "      <td>NoRidge</td>\n",
              "      <td>Norm</td>\n",
              "      <td>Norm</td>\n",
              "      <td>1Fam</td>\n",
              "      <td>2Story</td>\n",
              "      <td>8</td>\n",
              "      <td>5</td>\n",
              "      <td>2000</td>\n",
              "      <td>2000</td>\n",
              "      <td>Gable</td>\n",
              "      <td>CompShg</td>\n",
              "      <td>VinylSd</td>\n",
              "      <td>VinylSd</td>\n",
              "      <td>BrkFace</td>\n",
              "      <td>350.0</td>\n",
              "      <td>Gd</td>\n",
              "      <td>TA</td>\n",
              "      <td>PConc</td>\n",
              "      <td>Gd</td>\n",
              "      <td>TA</td>\n",
              "      <td>Av</td>\n",
              "      <td>GLQ</td>\n",
              "      <td>655</td>\n",
              "      <td>Unf</td>\n",
              "      <td>0</td>\n",
              "      <td>490</td>\n",
              "      <td>1145</td>\n",
              "      <td>GasA</td>\n",
              "      <td>Ex</td>\n",
              "      <td>Y</td>\n",
              "      <td>SBrkr</td>\n",
              "      <td>1145</td>\n",
              "      <td>1053</td>\n",
              "      <td>0</td>\n",
              "      <td>2198</td>\n",
              "      <td>1</td>\n",
              "      <td>0</td>\n",
              "      <td>2</td>\n",
              "      <td>1</td>\n",
              "      <td>4</td>\n",
              "      <td>1</td>\n",
              "      <td>Gd</td>\n",
              "      <td>9</td>\n",
              "      <td>Typ</td>\n",
              "      <td>1</td>\n",
              "      <td>TA</td>\n",
              "      <td>Attchd</td>\n",
              "      <td>2000.0</td>\n",
              "      <td>RFn</td>\n",
              "      <td>3</td>\n",
              "      <td>836</td>\n",
              "      <td>TA</td>\n",
              "      <td>TA</td>\n",
              "      <td>Y</td>\n",
              "      <td>192</td>\n",
              "      <td>84</td>\n",
              "      <td>0</td>\n",
              "      <td>0</td>\n",
              "      <td>0</td>\n",
              "      <td>0</td>\n",
              "      <td>NaN</td>\n",
              "      <td>NaN</td>\n",
              "      <td>NaN</td>\n",
              "      <td>0</td>\n",
              "      <td>12</td>\n",
              "      <td>2008</td>\n",
              "      <td>WD</td>\n",
              "      <td>Normal</td>\n",
              "      <td>250000</td>\n",
              "    </tr>\n",
              "  </tbody>\n",
              "</table>\n",
              "</div>"
            ],
            "text/plain": [
              "   MSSubClass MSZoning  LotFrontage  ...  SaleType SaleCondition SalePrice\n",
              "0          60       RL         65.0  ...        WD        Normal    208500\n",
              "1          20       RL         80.0  ...        WD        Normal    181500\n",
              "2          60       RL         68.0  ...        WD        Normal    223500\n",
              "3          70       RL         60.0  ...        WD       Abnorml    140000\n",
              "4          60       RL         84.0  ...        WD        Normal    250000\n",
              "\n",
              "[5 rows x 80 columns]"
            ]
          },
          "metadata": {
            "tags": []
          },
          "execution_count": 17
        }
      ]
    },
    {
      "cell_type": "markdown",
      "metadata": {
        "id": "ZqH86-aoUI7f"
      },
      "source": [
        "### Задание 1 <a id=\"task21\"></a>"
      ]
    },
    {
      "cell_type": "markdown",
      "metadata": {
        "id": "UDhWjVyMUI7f"
      },
      "source": [
        "Есть ли в данных пропуски? Если да, то для каждого столбца, в котором они имеются, посчитайте их количество и их долю от общего числа значений. Что вы наблюдаете?"
      ]
    },
    {
      "cell_type": "code",
      "metadata": {
        "id": "PMSzy6x0UI7g",
        "colab": {
          "base_uri": "https://localhost:8080/"
        },
        "outputId": "0c9c2025-b1a5-4922-cffb-f6f96358a4ab"
      },
      "source": [
        "misscount = data.isna().sum()\n",
        "misscount[misscount>0]"
      ],
      "execution_count": 18,
      "outputs": [
        {
          "output_type": "execute_result",
          "data": {
            "text/plain": [
              "LotFrontage      259\n",
              "Alley           1369\n",
              "MasVnrType         8\n",
              "MasVnrArea         8\n",
              "BsmtQual          37\n",
              "BsmtCond          37\n",
              "BsmtExposure      38\n",
              "BsmtFinType1      37\n",
              "BsmtFinType2      38\n",
              "Electrical         1\n",
              "FireplaceQu      690\n",
              "GarageType        81\n",
              "GarageYrBlt       81\n",
              "GarageFinish      81\n",
              "GarageQual        81\n",
              "GarageCond        81\n",
              "PoolQC          1453\n",
              "Fence           1179\n",
              "MiscFeature     1406\n",
              "dtype: int64"
            ]
          },
          "metadata": {
            "tags": []
          },
          "execution_count": 18
        }
      ]
    },
    {
      "cell_type": "code",
      "metadata": {
        "colab": {
          "base_uri": "https://localhost:8080/"
        },
        "id": "1ky-Li-KogTi",
        "outputId": "4b3f3f15-a05b-4b66-a507-608ba719a230"
      },
      "source": [
        "missratio = data.isna().mean()\n",
        "missratio[missratio>0]"
      ],
      "execution_count": 19,
      "outputs": [
        {
          "output_type": "execute_result",
          "data": {
            "text/plain": [
              "LotFrontage     0.177397\n",
              "Alley           0.937671\n",
              "MasVnrType      0.005479\n",
              "MasVnrArea      0.005479\n",
              "BsmtQual        0.025342\n",
              "BsmtCond        0.025342\n",
              "BsmtExposure    0.026027\n",
              "BsmtFinType1    0.025342\n",
              "BsmtFinType2    0.026027\n",
              "Electrical      0.000685\n",
              "FireplaceQu     0.472603\n",
              "GarageType      0.055479\n",
              "GarageYrBlt     0.055479\n",
              "GarageFinish    0.055479\n",
              "GarageQual      0.055479\n",
              "GarageCond      0.055479\n",
              "PoolQC          0.995205\n",
              "Fence           0.807534\n",
              "MiscFeature     0.963014\n",
              "dtype: float64"
            ]
          },
          "metadata": {
            "tags": []
          },
          "execution_count": 19
        }
      ]
    },
    {
      "cell_type": "markdown",
      "metadata": {
        "id": "MUSIdxIsUI7g"
      },
      "source": [
        "###  Наблюдения:\n",
        "Из 80 штук, есть 19 признаков, где существуют пропуски."
      ]
    },
    {
      "cell_type": "markdown",
      "metadata": {
        "id": "6VZxR2N7UI7g"
      },
      "source": [
        "### Задание 2 <a id=\"task22\"></a>"
      ]
    },
    {
      "cell_type": "markdown",
      "metadata": {
        "id": "JC_0pu24UI7g"
      },
      "source": [
        "Избавьтесь от пропусков. Заполните пропуски в колонках со значениями типа `object` (это можно проверить методом `.dtype` или `.dtypes`) отдельной категорией 'NaN', а в остальных (типа `float64` и `int64`) - средним по колонке.\n",
        "\n",
        "Проверьте, что вы действительно избавились от пропусков."
      ]
    },
    {
      "cell_type": "code",
      "metadata": {
        "id": "6fM6ABwBUI7h",
        "colab": {
          "base_uri": "https://localhost:8080/"
        },
        "outputId": "cb63f0b2-08d9-4aa4-c9d8-00bc50a093ca"
      },
      "source": [
        "cat_features_mask = (data.dtypes == \"object\").values\n",
        "\n",
        "\n",
        "X_real = data[data.columns[~cat_features_mask]]\n",
        "X_cat = data[data.columns[cat_features_mask]]\n",
        "\n",
        "# для вещественнозначных признаков заполним пропуски средними значениями\n",
        "mis_replacer = SimpleImputer(strategy=\"mean\")\n",
        "\n",
        "# для категориальных - пустыми строками\n",
        "cat_replacer = SimpleImputer(strategy=\"constant\", fill_value=\"NaN\")\n",
        "\n",
        "\n",
        "X_no_nans_real = pd.DataFrame(data=mis_replacer.fit_transform(X_real), columns=X_real.columns) # your code here\n",
        "X_no_nans_cat = pd.DataFrame(data=cat_replacer.fit_transform(X_cat), columns=X_cat.columns) # your code here\n",
        "\n",
        "X_no_nans = pd.concat([X_no_nans_real, X_no_nans_cat], axis=1)\n",
        "\n",
        "upd_misratio = X_no_nans.isna().mean()\n",
        "upd_misratio[upd_misratio>0]"
      ],
      "execution_count": 20,
      "outputs": [
        {
          "output_type": "execute_result",
          "data": {
            "text/plain": [
              "Series([], dtype: float64)"
            ]
          },
          "metadata": {
            "tags": []
          },
          "execution_count": 20
        }
      ]
    },
    {
      "cell_type": "markdown",
      "metadata": {
        "id": "_CAELJMapNMF"
      },
      "source": [
        "Мы получили пустую колонку в ```upd_misratio```, следовательно сейчас пропусков\n",
        "нет\n",
        "\n"
      ]
    },
    {
      "cell_type": "markdown",
      "metadata": {
        "id": "xYCeQ_GhUI7h"
      },
      "source": [
        "### Задание 3 <a id=\"task23\"></a>"
      ]
    },
    {
      "cell_type": "markdown",
      "metadata": {
        "id": "lC7oIeGAUI7h"
      },
      "source": [
        "Для каждой колонки, выраженной числами (типа `float64` и `int64`), постройте гистограмму ее значений. Сильно ли отличается масштаб признаков? Отмасштабируйте признаки каким-нибудь методом (например, `StandardScaler` или `MinMaxScaler` из `sklearn`). \n",
        "\n",
        "**Не забудьте, что целевая переменная (столбец `'SalePrice'`) не входит в признаки!**"
      ]
    },
    {
      "cell_type": "code",
      "metadata": {
        "id": "tgNGoyMyUI7h",
        "colab": {
          "base_uri": "https://localhost:8080/",
          "height": 1000
        },
        "outputId": "bfbeaeb5-c44d-4852-b998-528393aae97f"
      },
      "source": [
        "X_to_scale = X_no_nans_real.loc[:, X_no_nans_real.columns != 'SalePrice']\n",
        "y = X_no_nans_real.SalePrice\n",
        "\n",
        "\n",
        "fig, axes = plt.subplots(len(X_to_scale.columns)//3, 3, figsize=(12, 48))\n",
        "\n",
        "i = 0\n",
        "for triaxis in axes:\n",
        "    for axis in triaxis:\n",
        "        X_to_scale.hist(column = X_to_scale.columns[i], bins = 25, ax=axis)\n",
        "        i = i+1"
      ],
      "execution_count": 21,
      "outputs": [
        {
          "output_type": "display_data",
          "data": {
            "image/png": "[encoded data removed]",
            "text/plain": [
              "<Figure size 864x3456 with 36 Axes>"
            ]
          },
          "metadata": {
            "tags": [],
            "needs_background": "light"
          }
        }
      ]
    },
    {
      "cell_type": "markdown",
      "metadata": {
        "id": "Y44u0BU2NUWH"
      },
      "source": [
        "Разница масштаба переменных примерно 4 порядка\n",
        "\n",
        "Есть штуки (число ванных комнат или очагов), есть сотни тысяч - площадь участка\n",
        "в квадратных футах.\n",
        "\n",
        "Сделаю стандартизацию."
      ]
    },
    {
      "cell_type": "code",
      "metadata": {
        "colab": {
          "base_uri": "https://localhost:8080/"
        },
        "id": "D0H2py2uOhuz",
        "outputId": "51ec219f-3212-4992-853d-475b83999d5a"
      },
      "source": [
        "scaler = StandardScaler()\n",
        "scaler.fit(X_to_scale)\n",
        "print(scaler.mean_)\n",
        "X_normalized = scaler.transform(X_to_scale)\n",
        "X_normalized = pd.DataFrame(X_normalized, columns = X_to_scale.columns)"
      ],
      "execution_count": 22,
      "outputs": [
        {
          "output_type": "stream",
          "text": [
            "[5.68972603e+01 7.00499584e+01 1.05168281e+04 6.09931507e+00\n",
            " 5.57534247e+00 1.97126781e+03 1.98486575e+03 1.03685262e+02\n",
            " 4.43639726e+02 4.65493151e+01 5.67240411e+02 1.05742945e+03\n",
            " 1.16262671e+03 3.46992466e+02 5.84452055e+00 1.51546370e+03\n",
            " 4.25342466e-01 5.75342466e-02 1.56506849e+00 3.82876712e-01\n",
            " 2.86643836e+00 1.04657534e+00 6.51780822e+00 6.13013699e-01\n",
            " 1.97850616e+03 1.76712329e+00 4.72980137e+02 9.42445205e+01\n",
            " 4.66602740e+01 2.19541096e+01 3.40958904e+00 1.50609589e+01\n",
            " 2.75890411e+00 4.34890411e+01 6.32191781e+00 2.00781575e+03]\n"
          ],
          "name": "stdout"
        }
      ]
    },
    {
      "cell_type": "code",
      "metadata": {
        "colab": {
          "base_uri": "https://localhost:8080/",
          "height": 439
        },
        "id": "2zkoTEg-PTDr",
        "outputId": "7da2d2e7-1ee1-4d64-b98f-a476006b3c3a"
      },
      "source": [
        "X_normalized"
      ],
      "execution_count": 23,
      "outputs": [
        {
          "output_type": "execute_result",
          "data": {
            "text/html": [
              "<div>\n",
              "<style scoped>\n",
              "    .dataframe tbody tr th:only-of-type {\n",
              "        vertical-align: middle;\n",
              "    }\n",
              "\n",
              "    .dataframe tbody tr th {\n",
              "        vertical-align: top;\n",
              "    }\n",
              "\n",
              "    .dataframe thead th {\n",
              "        text-align: right;\n",
              "    }\n",
              "</style>\n",
              "<table border=\"1\" class=\"dataframe\">\n",
              "  <thead>\n",
              "    <tr style=\"text-align: right;\">\n",
              "      <th></th>\n",
              "      <th>MSSubClass</th>\n",
              "      <th>LotFrontage</th>\n",
              "      <th>LotArea</th>\n",
              "      <th>OverallQual</th>\n",
              "      <th>OverallCond</th>\n",
              "      <th>YearBuilt</th>\n",
              "      <th>YearRemodAdd</th>\n",
              "      <th>MasVnrArea</th>\n",
              "      <th>BsmtFinSF1</th>\n",
              "      <th>BsmtFinSF2</th>\n",
              "      <th>BsmtUnfSF</th>\n",
              "      <th>TotalBsmtSF</th>\n",
              "      <th>1stFlrSF</th>\n",
              "      <th>2ndFlrSF</th>\n",
              "      <th>LowQualFinSF</th>\n",
              "      <th>GrLivArea</th>\n",
              "      <th>BsmtFullBath</th>\n",
              "      <th>BsmtHalfBath</th>\n",
              "      <th>FullBath</th>\n",
              "      <th>HalfBath</th>\n",
              "      <th>BedroomAbvGr</th>\n",
              "      <th>KitchenAbvGr</th>\n",
              "      <th>TotRmsAbvGrd</th>\n",
              "      <th>Fireplaces</th>\n",
              "      <th>GarageYrBlt</th>\n",
              "      <th>GarageCars</th>\n",
              "      <th>GarageArea</th>\n",
              "      <th>WoodDeckSF</th>\n",
              "      <th>OpenPorchSF</th>\n",
              "      <th>EnclosedPorch</th>\n",
              "      <th>3SsnPorch</th>\n",
              "      <th>ScreenPorch</th>\n",
              "      <th>PoolArea</th>\n",
              "      <th>MiscVal</th>\n",
              "      <th>MoSold</th>\n",
              "      <th>YrSold</th>\n",
              "    </tr>\n",
              "  </thead>\n",
              "  <tbody>\n",
              "    <tr>\n",
              "      <th>0</th>\n",
              "      <td>0.073375</td>\n",
              "      <td>-0.229372</td>\n",
              "      <td>-0.207142</td>\n",
              "      <td>0.651479</td>\n",
              "      <td>-0.517200</td>\n",
              "      <td>1.050994</td>\n",
              "      <td>0.878668</td>\n",
              "      <td>0.511418</td>\n",
              "      <td>0.575425</td>\n",
              "      <td>-0.288653</td>\n",
              "      <td>-0.944591</td>\n",
              "      <td>-0.459303</td>\n",
              "      <td>-0.793434</td>\n",
              "      <td>1.161852</td>\n",
              "      <td>-0.120242</td>\n",
              "      <td>0.370333</td>\n",
              "      <td>1.107810</td>\n",
              "      <td>-0.241061</td>\n",
              "      <td>0.789741</td>\n",
              "      <td>1.227585</td>\n",
              "      <td>0.163779</td>\n",
              "      <td>-0.211454</td>\n",
              "      <td>0.912210</td>\n",
              "      <td>-0.951226</td>\n",
              "      <td>1.021157</td>\n",
              "      <td>0.311725</td>\n",
              "      <td>0.351000</td>\n",
              "      <td>-0.752176</td>\n",
              "      <td>0.216503</td>\n",
              "      <td>-0.359325</td>\n",
              "      <td>-0.116339</td>\n",
              "      <td>-0.270208</td>\n",
              "      <td>-0.068692</td>\n",
              "      <td>-0.087688</td>\n",
              "      <td>-1.599111</td>\n",
              "      <td>0.138777</td>\n",
              "    </tr>\n",
              "    <tr>\n",
              "      <th>1</th>\n",
              "      <td>-0.872563</td>\n",
              "      <td>0.451936</td>\n",
              "      <td>-0.091886</td>\n",
              "      <td>-0.071836</td>\n",
              "      <td>2.179628</td>\n",
              "      <td>0.156734</td>\n",
              "      <td>-0.429577</td>\n",
              "      <td>-0.574410</td>\n",
              "      <td>1.171992</td>\n",
              "      <td>-0.288653</td>\n",
              "      <td>-0.641228</td>\n",
              "      <td>0.466465</td>\n",
              "      <td>0.257140</td>\n",
              "      <td>-0.795163</td>\n",
              "      <td>-0.120242</td>\n",
              "      <td>-0.482512</td>\n",
              "      <td>-0.819964</td>\n",
              "      <td>3.948809</td>\n",
              "      <td>0.789741</td>\n",
              "      <td>-0.761621</td>\n",
              "      <td>0.163779</td>\n",
              "      <td>-0.211454</td>\n",
              "      <td>-0.318683</td>\n",
              "      <td>0.600495</td>\n",
              "      <td>-0.104483</td>\n",
              "      <td>0.311725</td>\n",
              "      <td>-0.060731</td>\n",
              "      <td>1.626195</td>\n",
              "      <td>-0.704483</td>\n",
              "      <td>-0.359325</td>\n",
              "      <td>-0.116339</td>\n",
              "      <td>-0.270208</td>\n",
              "      <td>-0.068692</td>\n",
              "      <td>-0.087688</td>\n",
              "      <td>-0.489110</td>\n",
              "      <td>-0.614439</td>\n",
              "    </tr>\n",
              "    <tr>\n",
              "      <th>2</th>\n",
              "      <td>0.073375</td>\n",
              "      <td>-0.093110</td>\n",
              "      <td>0.073480</td>\n",
              "      <td>0.651479</td>\n",
              "      <td>-0.517200</td>\n",
              "      <td>0.984752</td>\n",
              "      <td>0.830215</td>\n",
              "      <td>0.323060</td>\n",
              "      <td>0.092907</td>\n",
              "      <td>-0.288653</td>\n",
              "      <td>-0.301643</td>\n",
              "      <td>-0.313369</td>\n",
              "      <td>-0.627826</td>\n",
              "      <td>1.189351</td>\n",
              "      <td>-0.120242</td>\n",
              "      <td>0.515013</td>\n",
              "      <td>1.107810</td>\n",
              "      <td>-0.241061</td>\n",
              "      <td>0.789741</td>\n",
              "      <td>1.227585</td>\n",
              "      <td>0.163779</td>\n",
              "      <td>-0.211454</td>\n",
              "      <td>-0.318683</td>\n",
              "      <td>0.600495</td>\n",
              "      <td>0.937776</td>\n",
              "      <td>0.311725</td>\n",
              "      <td>0.631726</td>\n",
              "      <td>-0.752176</td>\n",
              "      <td>-0.070361</td>\n",
              "      <td>-0.359325</td>\n",
              "      <td>-0.116339</td>\n",
              "      <td>-0.270208</td>\n",
              "      <td>-0.068692</td>\n",
              "      <td>-0.087688</td>\n",
              "      <td>0.990891</td>\n",
              "      <td>0.138777</td>\n",
              "    </tr>\n",
              "    <tr>\n",
              "      <th>3</th>\n",
              "      <td>0.309859</td>\n",
              "      <td>-0.456474</td>\n",
              "      <td>-0.096897</td>\n",
              "      <td>0.651479</td>\n",
              "      <td>-0.517200</td>\n",
              "      <td>-1.863632</td>\n",
              "      <td>-0.720298</td>\n",
              "      <td>-0.574410</td>\n",
              "      <td>-0.499274</td>\n",
              "      <td>-0.288653</td>\n",
              "      <td>-0.061670</td>\n",
              "      <td>-0.687324</td>\n",
              "      <td>-0.521734</td>\n",
              "      <td>0.937276</td>\n",
              "      <td>-0.120242</td>\n",
              "      <td>0.383659</td>\n",
              "      <td>1.107810</td>\n",
              "      <td>-0.241061</td>\n",
              "      <td>-1.026041</td>\n",
              "      <td>-0.761621</td>\n",
              "      <td>0.163779</td>\n",
              "      <td>-0.211454</td>\n",
              "      <td>0.296763</td>\n",
              "      <td>0.600495</td>\n",
              "      <td>0.812705</td>\n",
              "      <td>1.650307</td>\n",
              "      <td>0.790804</td>\n",
              "      <td>-0.752176</td>\n",
              "      <td>-0.176048</td>\n",
              "      <td>4.092524</td>\n",
              "      <td>-0.116339</td>\n",
              "      <td>-0.270208</td>\n",
              "      <td>-0.068692</td>\n",
              "      <td>-0.087688</td>\n",
              "      <td>-1.599111</td>\n",
              "      <td>-1.367655</td>\n",
              "    </tr>\n",
              "    <tr>\n",
              "      <th>4</th>\n",
              "      <td>0.073375</td>\n",
              "      <td>0.633618</td>\n",
              "      <td>0.375148</td>\n",
              "      <td>1.374795</td>\n",
              "      <td>-0.517200</td>\n",
              "      <td>0.951632</td>\n",
              "      <td>0.733308</td>\n",
              "      <td>1.364570</td>\n",
              "      <td>0.463568</td>\n",
              "      <td>-0.288653</td>\n",
              "      <td>-0.174865</td>\n",
              "      <td>0.199680</td>\n",
              "      <td>-0.045611</td>\n",
              "      <td>1.617877</td>\n",
              "      <td>-0.120242</td>\n",
              "      <td>1.299326</td>\n",
              "      <td>1.107810</td>\n",
              "      <td>-0.241061</td>\n",
              "      <td>0.789741</td>\n",
              "      <td>1.227585</td>\n",
              "      <td>1.390023</td>\n",
              "      <td>-0.211454</td>\n",
              "      <td>1.527656</td>\n",
              "      <td>0.600495</td>\n",
              "      <td>0.896086</td>\n",
              "      <td>1.650307</td>\n",
              "      <td>1.698485</td>\n",
              "      <td>0.780197</td>\n",
              "      <td>0.563760</td>\n",
              "      <td>-0.359325</td>\n",
              "      <td>-0.116339</td>\n",
              "      <td>-0.270208</td>\n",
              "      <td>-0.068692</td>\n",
              "      <td>-0.087688</td>\n",
              "      <td>2.100892</td>\n",
              "      <td>0.138777</td>\n",
              "    </tr>\n",
              "    <tr>\n",
              "      <th>...</th>\n",
              "      <td>...</td>\n",
              "      <td>...</td>\n",
              "      <td>...</td>\n",
              "      <td>...</td>\n",
              "      <td>...</td>\n",
              "      <td>...</td>\n",
              "      <td>...</td>\n",
              "      <td>...</td>\n",
              "      <td>...</td>\n",
              "      <td>...</td>\n",
              "      <td>...</td>\n",
              "      <td>...</td>\n",
              "      <td>...</td>\n",
              "      <td>...</td>\n",
              "      <td>...</td>\n",
              "      <td>...</td>\n",
              "      <td>...</td>\n",
              "      <td>...</td>\n",
              "      <td>...</td>\n",
              "      <td>...</td>\n",
              "      <td>...</td>\n",
              "      <td>...</td>\n",
              "      <td>...</td>\n",
              "      <td>...</td>\n",
              "      <td>...</td>\n",
              "      <td>...</td>\n",
              "      <td>...</td>\n",
              "      <td>...</td>\n",
              "      <td>...</td>\n",
              "      <td>...</td>\n",
              "      <td>...</td>\n",
              "      <td>...</td>\n",
              "      <td>...</td>\n",
              "      <td>...</td>\n",
              "      <td>...</td>\n",
              "      <td>...</td>\n",
              "    </tr>\n",
              "    <tr>\n",
              "      <th>1455</th>\n",
              "      <td>0.073375</td>\n",
              "      <td>-0.365633</td>\n",
              "      <td>-0.260560</td>\n",
              "      <td>-0.071836</td>\n",
              "      <td>-0.517200</td>\n",
              "      <td>0.918511</td>\n",
              "      <td>0.733308</td>\n",
              "      <td>-0.574410</td>\n",
              "      <td>-0.973018</td>\n",
              "      <td>-0.288653</td>\n",
              "      <td>0.873321</td>\n",
              "      <td>-0.238122</td>\n",
              "      <td>-0.542435</td>\n",
              "      <td>0.795198</td>\n",
              "      <td>-0.120242</td>\n",
              "      <td>0.250402</td>\n",
              "      <td>-0.819964</td>\n",
              "      <td>-0.241061</td>\n",
              "      <td>0.789741</td>\n",
              "      <td>1.227585</td>\n",
              "      <td>0.163779</td>\n",
              "      <td>-0.211454</td>\n",
              "      <td>0.296763</td>\n",
              "      <td>0.600495</td>\n",
              "      <td>0.854395</td>\n",
              "      <td>0.311725</td>\n",
              "      <td>-0.060731</td>\n",
              "      <td>-0.752176</td>\n",
              "      <td>-0.100558</td>\n",
              "      <td>-0.359325</td>\n",
              "      <td>-0.116339</td>\n",
              "      <td>-0.270208</td>\n",
              "      <td>-0.068692</td>\n",
              "      <td>-0.087688</td>\n",
              "      <td>0.620891</td>\n",
              "      <td>-0.614439</td>\n",
              "    </tr>\n",
              "    <tr>\n",
              "      <th>1456</th>\n",
              "      <td>-0.872563</td>\n",
              "      <td>0.679039</td>\n",
              "      <td>0.266407</td>\n",
              "      <td>-0.071836</td>\n",
              "      <td>0.381743</td>\n",
              "      <td>0.222975</td>\n",
              "      <td>0.151865</td>\n",
              "      <td>0.084843</td>\n",
              "      <td>0.759659</td>\n",
              "      <td>0.722112</td>\n",
              "      <td>0.049262</td>\n",
              "      <td>1.104925</td>\n",
              "      <td>2.355701</td>\n",
              "      <td>-0.795163</td>\n",
              "      <td>-0.120242</td>\n",
              "      <td>1.061367</td>\n",
              "      <td>1.107810</td>\n",
              "      <td>-0.241061</td>\n",
              "      <td>0.789741</td>\n",
              "      <td>-0.761621</td>\n",
              "      <td>0.163779</td>\n",
              "      <td>-0.211454</td>\n",
              "      <td>0.296763</td>\n",
              "      <td>2.152216</td>\n",
              "      <td>-0.021102</td>\n",
              "      <td>0.311725</td>\n",
              "      <td>0.126420</td>\n",
              "      <td>2.033231</td>\n",
              "      <td>-0.704483</td>\n",
              "      <td>-0.359325</td>\n",
              "      <td>-0.116339</td>\n",
              "      <td>-0.270208</td>\n",
              "      <td>-0.068692</td>\n",
              "      <td>-0.087688</td>\n",
              "      <td>-1.599111</td>\n",
              "      <td>1.645210</td>\n",
              "    </tr>\n",
              "    <tr>\n",
              "      <th>1457</th>\n",
              "      <td>0.309859</td>\n",
              "      <td>-0.183951</td>\n",
              "      <td>-0.147810</td>\n",
              "      <td>0.651479</td>\n",
              "      <td>3.078570</td>\n",
              "      <td>-1.002492</td>\n",
              "      <td>1.024029</td>\n",
              "      <td>-0.574410</td>\n",
              "      <td>-0.369871</td>\n",
              "      <td>-0.288653</td>\n",
              "      <td>0.701265</td>\n",
              "      <td>0.215641</td>\n",
              "      <td>0.065656</td>\n",
              "      <td>1.844744</td>\n",
              "      <td>-0.120242</td>\n",
              "      <td>1.569647</td>\n",
              "      <td>-0.819964</td>\n",
              "      <td>-0.241061</td>\n",
              "      <td>0.789741</td>\n",
              "      <td>-0.761621</td>\n",
              "      <td>1.390023</td>\n",
              "      <td>-0.211454</td>\n",
              "      <td>1.527656</td>\n",
              "      <td>2.152216</td>\n",
              "      <td>-1.563645</td>\n",
              "      <td>-1.026858</td>\n",
              "      <td>-1.033914</td>\n",
              "      <td>-0.752176</td>\n",
              "      <td>0.201405</td>\n",
              "      <td>-0.359325</td>\n",
              "      <td>-0.116339</td>\n",
              "      <td>-0.270208</td>\n",
              "      <td>-0.068692</td>\n",
              "      <td>4.953112</td>\n",
              "      <td>-0.489110</td>\n",
              "      <td>1.645210</td>\n",
              "    </tr>\n",
              "    <tr>\n",
              "      <th>1458</th>\n",
              "      <td>-0.872563</td>\n",
              "      <td>-0.093110</td>\n",
              "      <td>-0.080160</td>\n",
              "      <td>-0.795151</td>\n",
              "      <td>0.381743</td>\n",
              "      <td>-0.704406</td>\n",
              "      <td>0.539493</td>\n",
              "      <td>-0.574410</td>\n",
              "      <td>-0.865548</td>\n",
              "      <td>6.092188</td>\n",
              "      <td>-1.284176</td>\n",
              "      <td>0.046905</td>\n",
              "      <td>-0.218982</td>\n",
              "      <td>-0.795163</td>\n",
              "      <td>-0.120242</td>\n",
              "      <td>-0.832788</td>\n",
              "      <td>1.107810</td>\n",
              "      <td>-0.241061</td>\n",
              "      <td>-1.026041</td>\n",
              "      <td>-0.761621</td>\n",
              "      <td>-1.062465</td>\n",
              "      <td>-0.211454</td>\n",
              "      <td>-0.934130</td>\n",
              "      <td>-0.951226</td>\n",
              "      <td>-1.188432</td>\n",
              "      <td>-1.026858</td>\n",
              "      <td>-1.090059</td>\n",
              "      <td>2.168910</td>\n",
              "      <td>-0.704483</td>\n",
              "      <td>1.473789</td>\n",
              "      <td>-0.116339</td>\n",
              "      <td>-0.270208</td>\n",
              "      <td>-0.068692</td>\n",
              "      <td>-0.087688</td>\n",
              "      <td>-0.859110</td>\n",
              "      <td>1.645210</td>\n",
              "    </tr>\n",
              "    <tr>\n",
              "      <th>1459</th>\n",
              "      <td>-0.872563</td>\n",
              "      <td>0.224833</td>\n",
              "      <td>-0.058112</td>\n",
              "      <td>-0.795151</td>\n",
              "      <td>0.381743</td>\n",
              "      <td>-0.207594</td>\n",
              "      <td>-0.962566</td>\n",
              "      <td>-0.574410</td>\n",
              "      <td>0.847389</td>\n",
              "      <td>1.509640</td>\n",
              "      <td>-0.976285</td>\n",
              "      <td>0.452784</td>\n",
              "      <td>0.241615</td>\n",
              "      <td>-0.795163</td>\n",
              "      <td>-0.120242</td>\n",
              "      <td>-0.493934</td>\n",
              "      <td>1.107810</td>\n",
              "      <td>-0.241061</td>\n",
              "      <td>-1.026041</td>\n",
              "      <td>1.227585</td>\n",
              "      <td>0.163779</td>\n",
              "      <td>-0.211454</td>\n",
              "      <td>-0.318683</td>\n",
              "      <td>-0.951226</td>\n",
              "      <td>-0.563077</td>\n",
              "      <td>-1.026858</td>\n",
              "      <td>-0.921624</td>\n",
              "      <td>5.121921</td>\n",
              "      <td>0.322190</td>\n",
              "      <td>-0.359325</td>\n",
              "      <td>-0.116339</td>\n",
              "      <td>-0.270208</td>\n",
              "      <td>-0.068692</td>\n",
              "      <td>-0.087688</td>\n",
              "      <td>-0.119110</td>\n",
              "      <td>0.138777</td>\n",
              "    </tr>\n",
              "  </tbody>\n",
              "</table>\n",
              "<p>1460 rows × 36 columns</p>\n",
              "</div>"
            ],
            "text/plain": [
              "      MSSubClass  LotFrontage   LotArea  ...   MiscVal    MoSold    YrSold\n",
              "0       0.073375    -0.229372 -0.207142  ... -0.087688 -1.599111  0.138777\n",
              "1      -0.872563     0.451936 -0.091886  ... -0.087688 -0.489110 -0.614439\n",
              "2       0.073375    -0.093110  0.073480  ... -0.087688  0.990891  0.138777\n",
              "3       0.309859    -0.456474 -0.096897  ... -0.087688 -1.599111 -1.367655\n",
              "4       0.073375     0.633618  0.375148  ... -0.087688  2.100892  0.138777\n",
              "...          ...          ...       ...  ...       ...       ...       ...\n",
              "1455    0.073375    -0.365633 -0.260560  ... -0.087688  0.620891 -0.614439\n",
              "1456   -0.872563     0.679039  0.266407  ... -0.087688 -1.599111  1.645210\n",
              "1457    0.309859    -0.183951 -0.147810  ...  4.953112 -0.489110  1.645210\n",
              "1458   -0.872563    -0.093110 -0.080160  ... -0.087688 -0.859110  1.645210\n",
              "1459   -0.872563     0.224833 -0.058112  ... -0.087688 -0.119110  0.138777\n",
              "\n",
              "[1460 rows x 36 columns]"
            ]
          },
          "metadata": {
            "tags": []
          },
          "execution_count": 23
        }
      ]
    },
    {
      "cell_type": "markdown",
      "metadata": {
        "id": "3aM57RfLUI7h"
      },
      "source": [
        "### Задание 4 <a id=\"task24\"></a>"
      ]
    },
    {
      "cell_type": "markdown",
      "metadata": {
        "id": "FFMWeWLjUI7i"
      },
      "source": [
        "Обработайте категориальные признаки. Примените к ним one-hot кодирование. Сколько получилось колонок у итогового датасета?"
      ]
    },
    {
      "cell_type": "code",
      "metadata": {
        "colab": {
          "base_uri": "https://localhost:8080/",
          "height": 1000
        },
        "id": "iM-WEmF4Se_h",
        "outputId": "e94a2784-caa3-4602-bcba-67c5012f0429"
      },
      "source": [
        "fig, axes = plt.subplots(len(X_no_nans_cat.columns)//3, 3, figsize=(12, 48))\n",
        "\n",
        "i = 0\n",
        "for triaxis in axes:\n",
        "    for axis in triaxis:\n",
        "        # X_no_nans_cat.hist(column = X_no_nans_cat.columns[i], ax=axis)\n",
        "        X_no_nans_cat[X_no_nans_cat.columns[i]].value_counts().plot(kind='bar', title=X_no_nans_cat.columns[i], ax=axis)\n",
        "        i = i+1\n",
        "\n",
        "plt.tight_layout()"
      ],
      "execution_count": 24,
      "outputs": [
        {
          "output_type": "display_data",
          "data": {
            "image/png": "[encoded data removed]",
            "text/plain": [
              "<Figure size 864x3456 with 42 Axes>"
            ]
          },
          "metadata": {
            "tags": [],
            "needs_background": "light"
          }
        }
      ]
    },
    {
      "cell_type": "code",
      "metadata": {
        "id": "rUJmsT79UI7i",
        "colab": {
          "base_uri": "https://localhost:8080/"
        },
        "outputId": "fd9f5815-9ff8-4a25-8003-7473dad2a02e"
      },
      "source": [
        "X_dum = pd.get_dummies(X_no_nans_cat, drop_first=True)\n",
        "print(X_dum.shape)"
      ],
      "execution_count": 25,
      "outputs": [
        {
          "output_type": "stream",
          "text": [
            "(1460, 225)\n"
          ],
          "name": "stdout"
        }
      ]
    },
    {
      "cell_type": "code",
      "metadata": {
        "colab": {
          "base_uri": "https://localhost:8080/"
        },
        "id": "r9K88KOmWbsE",
        "outputId": "6d19f313-f940-4dea-e779-dffc952dab85"
      },
      "source": [
        "print(f\"Мы получили суммарно {X_dum.shape[1]} дамми переменных из {X_no_nans_cat.shape[1]} исходных категориальных.\")"
      ],
      "execution_count": 26,
      "outputs": [
        {
          "output_type": "stream",
          "text": [
            "Мы получили суммарно 225 дамми переменных из 43 исходных категориальных.\n"
          ],
          "name": "stdout"
        }
      ]
    },
    {
      "cell_type": "markdown",
      "metadata": {
        "id": "pTfGyjB9aYB1"
      },
      "source": [
        "соберем обратно данные всех признаков в 1 таблицу"
      ]
    },
    {
      "cell_type": "code",
      "metadata": {
        "colab": {
          "base_uri": "https://localhost:8080/",
          "height": 253
        },
        "id": "lKf0nKcZacQ3",
        "outputId": "44494362-82f1-4f37-c0b8-72ca795b238a"
      },
      "source": [
        "X_transformed = pd.concat([X_normalized, X_dum], axis=1)\n",
        "X_transformed.head()"
      ],
      "execution_count": 27,
      "outputs": [
        {
          "output_type": "execute_result",
          "data": {
            "text/html": [
              "<div>\n",
              "<style scoped>\n",
              "    .dataframe tbody tr th:only-of-type {\n",
              "        vertical-align: middle;\n",
              "    }\n",
              "\n",
              "    .dataframe tbody tr th {\n",
              "        vertical-align: top;\n",
              "    }\n",
              "\n",
              "    .dataframe thead th {\n",
              "        text-align: right;\n",
              "    }\n",
              "</style>\n",
              "<table border=\"1\" class=\"dataframe\">\n",
              "  <thead>\n",
              "    <tr style=\"text-align: right;\">\n",
              "      <th></th>\n",
              "      <th>MSSubClass</th>\n",
              "      <th>LotFrontage</th>\n",
              "      <th>LotArea</th>\n",
              "      <th>OverallQual</th>\n",
              "      <th>OverallCond</th>\n",
              "      <th>YearBuilt</th>\n",
              "      <th>YearRemodAdd</th>\n",
              "      <th>MasVnrArea</th>\n",
              "      <th>BsmtFinSF1</th>\n",
              "      <th>BsmtFinSF2</th>\n",
              "      <th>BsmtUnfSF</th>\n",
              "      <th>TotalBsmtSF</th>\n",
              "      <th>1stFlrSF</th>\n",
              "      <th>2ndFlrSF</th>\n",
              "      <th>LowQualFinSF</th>\n",
              "      <th>GrLivArea</th>\n",
              "      <th>BsmtFullBath</th>\n",
              "      <th>BsmtHalfBath</th>\n",
              "      <th>FullBath</th>\n",
              "      <th>HalfBath</th>\n",
              "      <th>BedroomAbvGr</th>\n",
              "      <th>KitchenAbvGr</th>\n",
              "      <th>TotRmsAbvGrd</th>\n",
              "      <th>Fireplaces</th>\n",
              "      <th>GarageYrBlt</th>\n",
              "      <th>GarageCars</th>\n",
              "      <th>GarageArea</th>\n",
              "      <th>WoodDeckSF</th>\n",
              "      <th>OpenPorchSF</th>\n",
              "      <th>EnclosedPorch</th>\n",
              "      <th>3SsnPorch</th>\n",
              "      <th>ScreenPorch</th>\n",
              "      <th>PoolArea</th>\n",
              "      <th>MiscVal</th>\n",
              "      <th>MoSold</th>\n",
              "      <th>YrSold</th>\n",
              "      <th>MSZoning_FV</th>\n",
              "      <th>MSZoning_RH</th>\n",
              "      <th>MSZoning_RL</th>\n",
              "      <th>MSZoning_RM</th>\n",
              "      <th>...</th>\n",
              "      <th>GarageType_NaN</th>\n",
              "      <th>GarageFinish_NaN</th>\n",
              "      <th>GarageFinish_RFn</th>\n",
              "      <th>GarageFinish_Unf</th>\n",
              "      <th>GarageQual_Fa</th>\n",
              "      <th>GarageQual_Gd</th>\n",
              "      <th>GarageQual_NaN</th>\n",
              "      <th>GarageQual_Po</th>\n",
              "      <th>GarageQual_TA</th>\n",
              "      <th>GarageCond_Fa</th>\n",
              "      <th>GarageCond_Gd</th>\n",
              "      <th>GarageCond_NaN</th>\n",
              "      <th>GarageCond_Po</th>\n",
              "      <th>GarageCond_TA</th>\n",
              "      <th>PavedDrive_P</th>\n",
              "      <th>PavedDrive_Y</th>\n",
              "      <th>PoolQC_Fa</th>\n",
              "      <th>PoolQC_Gd</th>\n",
              "      <th>PoolQC_NaN</th>\n",
              "      <th>Fence_GdWo</th>\n",
              "      <th>Fence_MnPrv</th>\n",
              "      <th>Fence_MnWw</th>\n",
              "      <th>Fence_NaN</th>\n",
              "      <th>MiscFeature_NaN</th>\n",
              "      <th>MiscFeature_Othr</th>\n",
              "      <th>MiscFeature_Shed</th>\n",
              "      <th>MiscFeature_TenC</th>\n",
              "      <th>SaleType_CWD</th>\n",
              "      <th>SaleType_Con</th>\n",
              "      <th>SaleType_ConLD</th>\n",
              "      <th>SaleType_ConLI</th>\n",
              "      <th>SaleType_ConLw</th>\n",
              "      <th>SaleType_New</th>\n",
              "      <th>SaleType_Oth</th>\n",
              "      <th>SaleType_WD</th>\n",
              "      <th>SaleCondition_AdjLand</th>\n",
              "      <th>SaleCondition_Alloca</th>\n",
              "      <th>SaleCondition_Family</th>\n",
              "      <th>SaleCondition_Normal</th>\n",
              "      <th>SaleCondition_Partial</th>\n",
              "    </tr>\n",
              "  </thead>\n",
              "  <tbody>\n",
              "    <tr>\n",
              "      <th>0</th>\n",
              "      <td>0.073375</td>\n",
              "      <td>-0.229372</td>\n",
              "      <td>-0.207142</td>\n",
              "      <td>0.651479</td>\n",
              "      <td>-0.517200</td>\n",
              "      <td>1.050994</td>\n",
              "      <td>0.878668</td>\n",
              "      <td>0.511418</td>\n",
              "      <td>0.575425</td>\n",
              "      <td>-0.288653</td>\n",
              "      <td>-0.944591</td>\n",
              "      <td>-0.459303</td>\n",
              "      <td>-0.793434</td>\n",
              "      <td>1.161852</td>\n",
              "      <td>-0.120242</td>\n",
              "      <td>0.370333</td>\n",
              "      <td>1.107810</td>\n",
              "      <td>-0.241061</td>\n",
              "      <td>0.789741</td>\n",
              "      <td>1.227585</td>\n",
              "      <td>0.163779</td>\n",
              "      <td>-0.211454</td>\n",
              "      <td>0.912210</td>\n",
              "      <td>-0.951226</td>\n",
              "      <td>1.021157</td>\n",
              "      <td>0.311725</td>\n",
              "      <td>0.351000</td>\n",
              "      <td>-0.752176</td>\n",
              "      <td>0.216503</td>\n",
              "      <td>-0.359325</td>\n",
              "      <td>-0.116339</td>\n",
              "      <td>-0.270208</td>\n",
              "      <td>-0.068692</td>\n",
              "      <td>-0.087688</td>\n",
              "      <td>-1.599111</td>\n",
              "      <td>0.138777</td>\n",
              "      <td>0</td>\n",
              "      <td>0</td>\n",
              "      <td>1</td>\n",
              "      <td>0</td>\n",
              "      <td>...</td>\n",
              "      <td>0</td>\n",
              "      <td>0</td>\n",
              "      <td>1</td>\n",
              "      <td>0</td>\n",
              "      <td>0</td>\n",
              "      <td>0</td>\n",
              "      <td>0</td>\n",
              "      <td>0</td>\n",
              "      <td>1</td>\n",
              "      <td>0</td>\n",
              "      <td>0</td>\n",
              "      <td>0</td>\n",
              "      <td>0</td>\n",
              "      <td>1</td>\n",
              "      <td>0</td>\n",
              "      <td>1</td>\n",
              "      <td>0</td>\n",
              "      <td>0</td>\n",
              "      <td>1</td>\n",
              "      <td>0</td>\n",
              "      <td>0</td>\n",
              "      <td>0</td>\n",
              "      <td>1</td>\n",
              "      <td>1</td>\n",
              "      <td>0</td>\n",
              "      <td>0</td>\n",
              "      <td>0</td>\n",
              "      <td>0</td>\n",
              "      <td>0</td>\n",
              "      <td>0</td>\n",
              "      <td>0</td>\n",
              "      <td>0</td>\n",
              "      <td>0</td>\n",
              "      <td>0</td>\n",
              "      <td>1</td>\n",
              "      <td>0</td>\n",
              "      <td>0</td>\n",
              "      <td>0</td>\n",
              "      <td>1</td>\n",
              "      <td>0</td>\n",
              "    </tr>\n",
              "    <tr>\n",
              "      <th>1</th>\n",
              "      <td>-0.872563</td>\n",
              "      <td>0.451936</td>\n",
              "      <td>-0.091886</td>\n",
              "      <td>-0.071836</td>\n",
              "      <td>2.179628</td>\n",
              "      <td>0.156734</td>\n",
              "      <td>-0.429577</td>\n",
              "      <td>-0.574410</td>\n",
              "      <td>1.171992</td>\n",
              "      <td>-0.288653</td>\n",
              "      <td>-0.641228</td>\n",
              "      <td>0.466465</td>\n",
              "      <td>0.257140</td>\n",
              "      <td>-0.795163</td>\n",
              "      <td>-0.120242</td>\n",
              "      <td>-0.482512</td>\n",
              "      <td>-0.819964</td>\n",
              "      <td>3.948809</td>\n",
              "      <td>0.789741</td>\n",
              "      <td>-0.761621</td>\n",
              "      <td>0.163779</td>\n",
              "      <td>-0.211454</td>\n",
              "      <td>-0.318683</td>\n",
              "      <td>0.600495</td>\n",
              "      <td>-0.104483</td>\n",
              "      <td>0.311725</td>\n",
              "      <td>-0.060731</td>\n",
              "      <td>1.626195</td>\n",
              "      <td>-0.704483</td>\n",
              "      <td>-0.359325</td>\n",
              "      <td>-0.116339</td>\n",
              "      <td>-0.270208</td>\n",
              "      <td>-0.068692</td>\n",
              "      <td>-0.087688</td>\n",
              "      <td>-0.489110</td>\n",
              "      <td>-0.614439</td>\n",
              "      <td>0</td>\n",
              "      <td>0</td>\n",
              "      <td>1</td>\n",
              "      <td>0</td>\n",
              "      <td>...</td>\n",
              "      <td>0</td>\n",
              "      <td>0</td>\n",
              "      <td>1</td>\n",
              "      <td>0</td>\n",
              "      <td>0</td>\n",
              "      <td>0</td>\n",
              "      <td>0</td>\n",
              "      <td>0</td>\n",
              "      <td>1</td>\n",
              "      <td>0</td>\n",
              "      <td>0</td>\n",
              "      <td>0</td>\n",
              "      <td>0</td>\n",
              "      <td>1</td>\n",
              "      <td>0</td>\n",
              "      <td>1</td>\n",
              "      <td>0</td>\n",
              "      <td>0</td>\n",
              "      <td>1</td>\n",
              "      <td>0</td>\n",
              "      <td>0</td>\n",
              "      <td>0</td>\n",
              "      <td>1</td>\n",
              "      <td>1</td>\n",
              "      <td>0</td>\n",
              "      <td>0</td>\n",
              "      <td>0</td>\n",
              "      <td>0</td>\n",
              "      <td>0</td>\n",
              "      <td>0</td>\n",
              "      <td>0</td>\n",
              "      <td>0</td>\n",
              "      <td>0</td>\n",
              "      <td>0</td>\n",
              "      <td>1</td>\n",
              "      <td>0</td>\n",
              "      <td>0</td>\n",
              "      <td>0</td>\n",
              "      <td>1</td>\n",
              "      <td>0</td>\n",
              "    </tr>\n",
              "    <tr>\n",
              "      <th>2</th>\n",
              "      <td>0.073375</td>\n",
              "      <td>-0.093110</td>\n",
              "      <td>0.073480</td>\n",
              "      <td>0.651479</td>\n",
              "      <td>-0.517200</td>\n",
              "      <td>0.984752</td>\n",
              "      <td>0.830215</td>\n",
              "      <td>0.323060</td>\n",
              "      <td>0.092907</td>\n",
              "      <td>-0.288653</td>\n",
              "      <td>-0.301643</td>\n",
              "      <td>-0.313369</td>\n",
              "      <td>-0.627826</td>\n",
              "      <td>1.189351</td>\n",
              "      <td>-0.120242</td>\n",
              "      <td>0.515013</td>\n",
              "      <td>1.107810</td>\n",
              "      <td>-0.241061</td>\n",
              "      <td>0.789741</td>\n",
              "      <td>1.227585</td>\n",
              "      <td>0.163779</td>\n",
              "      <td>-0.211454</td>\n",
              "      <td>-0.318683</td>\n",
              "      <td>0.600495</td>\n",
              "      <td>0.937776</td>\n",
              "      <td>0.311725</td>\n",
              "      <td>0.631726</td>\n",
              "      <td>-0.752176</td>\n",
              "      <td>-0.070361</td>\n",
              "      <td>-0.359325</td>\n",
              "      <td>-0.116339</td>\n",
              "      <td>-0.270208</td>\n",
              "      <td>-0.068692</td>\n",
              "      <td>-0.087688</td>\n",
              "      <td>0.990891</td>\n",
              "      <td>0.138777</td>\n",
              "      <td>0</td>\n",
              "      <td>0</td>\n",
              "      <td>1</td>\n",
              "      <td>0</td>\n",
              "      <td>...</td>\n",
              "      <td>0</td>\n",
              "      <td>0</td>\n",
              "      <td>1</td>\n",
              "      <td>0</td>\n",
              "      <td>0</td>\n",
              "      <td>0</td>\n",
              "      <td>0</td>\n",
              "      <td>0</td>\n",
              "      <td>1</td>\n",
              "      <td>0</td>\n",
              "      <td>0</td>\n",
              "      <td>0</td>\n",
              "      <td>0</td>\n",
              "      <td>1</td>\n",
              "      <td>0</td>\n",
              "      <td>1</td>\n",
              "      <td>0</td>\n",
              "      <td>0</td>\n",
              "      <td>1</td>\n",
              "      <td>0</td>\n",
              "      <td>0</td>\n",
              "      <td>0</td>\n",
              "      <td>1</td>\n",
              "      <td>1</td>\n",
              "      <td>0</td>\n",
              "      <td>0</td>\n",
              "      <td>0</td>\n",
              "      <td>0</td>\n",
              "      <td>0</td>\n",
              "      <td>0</td>\n",
              "      <td>0</td>\n",
              "      <td>0</td>\n",
              "      <td>0</td>\n",
              "      <td>0</td>\n",
              "      <td>1</td>\n",
              "      <td>0</td>\n",
              "      <td>0</td>\n",
              "      <td>0</td>\n",
              "      <td>1</td>\n",
              "      <td>0</td>\n",
              "    </tr>\n",
              "    <tr>\n",
              "      <th>3</th>\n",
              "      <td>0.309859</td>\n",
              "      <td>-0.456474</td>\n",
              "      <td>-0.096897</td>\n",
              "      <td>0.651479</td>\n",
              "      <td>-0.517200</td>\n",
              "      <td>-1.863632</td>\n",
              "      <td>-0.720298</td>\n",
              "      <td>-0.574410</td>\n",
              "      <td>-0.499274</td>\n",
              "      <td>-0.288653</td>\n",
              "      <td>-0.061670</td>\n",
              "      <td>-0.687324</td>\n",
              "      <td>-0.521734</td>\n",
              "      <td>0.937276</td>\n",
              "      <td>-0.120242</td>\n",
              "      <td>0.383659</td>\n",
              "      <td>1.107810</td>\n",
              "      <td>-0.241061</td>\n",
              "      <td>-1.026041</td>\n",
              "      <td>-0.761621</td>\n",
              "      <td>0.163779</td>\n",
              "      <td>-0.211454</td>\n",
              "      <td>0.296763</td>\n",
              "      <td>0.600495</td>\n",
              "      <td>0.812705</td>\n",
              "      <td>1.650307</td>\n",
              "      <td>0.790804</td>\n",
              "      <td>-0.752176</td>\n",
              "      <td>-0.176048</td>\n",
              "      <td>4.092524</td>\n",
              "      <td>-0.116339</td>\n",
              "      <td>-0.270208</td>\n",
              "      <td>-0.068692</td>\n",
              "      <td>-0.087688</td>\n",
              "      <td>-1.599111</td>\n",
              "      <td>-1.367655</td>\n",
              "      <td>0</td>\n",
              "      <td>0</td>\n",
              "      <td>1</td>\n",
              "      <td>0</td>\n",
              "      <td>...</td>\n",
              "      <td>0</td>\n",
              "      <td>0</td>\n",
              "      <td>0</td>\n",
              "      <td>1</td>\n",
              "      <td>0</td>\n",
              "      <td>0</td>\n",
              "      <td>0</td>\n",
              "      <td>0</td>\n",
              "      <td>1</td>\n",
              "      <td>0</td>\n",
              "      <td>0</td>\n",
              "      <td>0</td>\n",
              "      <td>0</td>\n",
              "      <td>1</td>\n",
              "      <td>0</td>\n",
              "      <td>1</td>\n",
              "      <td>0</td>\n",
              "      <td>0</td>\n",
              "      <td>1</td>\n",
              "      <td>0</td>\n",
              "      <td>0</td>\n",
              "      <td>0</td>\n",
              "      <td>1</td>\n",
              "      <td>1</td>\n",
              "      <td>0</td>\n",
              "      <td>0</td>\n",
              "      <td>0</td>\n",
              "      <td>0</td>\n",
              "      <td>0</td>\n",
              "      <td>0</td>\n",
              "      <td>0</td>\n",
              "      <td>0</td>\n",
              "      <td>0</td>\n",
              "      <td>0</td>\n",
              "      <td>1</td>\n",
              "      <td>0</td>\n",
              "      <td>0</td>\n",
              "      <td>0</td>\n",
              "      <td>0</td>\n",
              "      <td>0</td>\n",
              "    </tr>\n",
              "    <tr>\n",
              "      <th>4</th>\n",
              "      <td>0.073375</td>\n",
              "      <td>0.633618</td>\n",
              "      <td>0.375148</td>\n",
              "      <td>1.374795</td>\n",
              "      <td>-0.517200</td>\n",
              "      <td>0.951632</td>\n",
              "      <td>0.733308</td>\n",
              "      <td>1.364570</td>\n",
              "      <td>0.463568</td>\n",
              "      <td>-0.288653</td>\n",
              "      <td>-0.174865</td>\n",
              "      <td>0.199680</td>\n",
              "      <td>-0.045611</td>\n",
              "      <td>1.617877</td>\n",
              "      <td>-0.120242</td>\n",
              "      <td>1.299326</td>\n",
              "      <td>1.107810</td>\n",
              "      <td>-0.241061</td>\n",
              "      <td>0.789741</td>\n",
              "      <td>1.227585</td>\n",
              "      <td>1.390023</td>\n",
              "      <td>-0.211454</td>\n",
              "      <td>1.527656</td>\n",
              "      <td>0.600495</td>\n",
              "      <td>0.896086</td>\n",
              "      <td>1.650307</td>\n",
              "      <td>1.698485</td>\n",
              "      <td>0.780197</td>\n",
              "      <td>0.563760</td>\n",
              "      <td>-0.359325</td>\n",
              "      <td>-0.116339</td>\n",
              "      <td>-0.270208</td>\n",
              "      <td>-0.068692</td>\n",
              "      <td>-0.087688</td>\n",
              "      <td>2.100892</td>\n",
              "      <td>0.138777</td>\n",
              "      <td>0</td>\n",
              "      <td>0</td>\n",
              "      <td>1</td>\n",
              "      <td>0</td>\n",
              "      <td>...</td>\n",
              "      <td>0</td>\n",
              "      <td>0</td>\n",
              "      <td>1</td>\n",
              "      <td>0</td>\n",
              "      <td>0</td>\n",
              "      <td>0</td>\n",
              "      <td>0</td>\n",
              "      <td>0</td>\n",
              "      <td>1</td>\n",
              "      <td>0</td>\n",
              "      <td>0</td>\n",
              "      <td>0</td>\n",
              "      <td>0</td>\n",
              "      <td>1</td>\n",
              "      <td>0</td>\n",
              "      <td>1</td>\n",
              "      <td>0</td>\n",
              "      <td>0</td>\n",
              "      <td>1</td>\n",
              "      <td>0</td>\n",
              "      <td>0</td>\n",
              "      <td>0</td>\n",
              "      <td>1</td>\n",
              "      <td>1</td>\n",
              "      <td>0</td>\n",
              "      <td>0</td>\n",
              "      <td>0</td>\n",
              "      <td>0</td>\n",
              "      <td>0</td>\n",
              "      <td>0</td>\n",
              "      <td>0</td>\n",
              "      <td>0</td>\n",
              "      <td>0</td>\n",
              "      <td>0</td>\n",
              "      <td>1</td>\n",
              "      <td>0</td>\n",
              "      <td>0</td>\n",
              "      <td>0</td>\n",
              "      <td>1</td>\n",
              "      <td>0</td>\n",
              "    </tr>\n",
              "  </tbody>\n",
              "</table>\n",
              "<p>5 rows × 261 columns</p>\n",
              "</div>"
            ],
            "text/plain": [
              "   MSSubClass  LotFrontage  ...  SaleCondition_Normal  SaleCondition_Partial\n",
              "0    0.073375    -0.229372  ...                     1                      0\n",
              "1   -0.872563     0.451936  ...                     1                      0\n",
              "2    0.073375    -0.093110  ...                     1                      0\n",
              "3    0.309859    -0.456474  ...                     0                      0\n",
              "4    0.073375     0.633618  ...                     1                      0\n",
              "\n",
              "[5 rows x 261 columns]"
            ]
          },
          "metadata": {
            "tags": []
          },
          "execution_count": 27
        }
      ]
    },
    {
      "cell_type": "markdown",
      "metadata": {
        "id": "ZJiVd4_KV55Y"
      },
      "source": [
        "### Задание 5"
      ]
    },
    {
      "cell_type": "markdown",
      "metadata": {
        "id": "7wqBy6qaUI7i"
      },
      "source": [
        "- Постройте гистограмму распределения предсказываемого значения. \n",
        "- Для избавления от разницы в масштабах, а также «смещения» распределения переменной в сторону нормального (что бывает полезно при статистическом анализе), можно прологарифмировать ее (это обратимое преобразование, поэтому целевую переменную легко восстановить). В данном случае воспользуйтесь `np.log1p`, чтобы сделать преобразование $y \\to \\ln\\left(1 + y\\right)$. \n",
        "- Постройте гистограмму распределения от нового предсказываемого значения. Опишите наблюдения.\n",
        "\n",
        "*В дальнейшем используйте в качестве предсказываемого значения вектор, который получился после логарифмирования.*"
      ]
    },
    {
      "cell_type": "code",
      "metadata": {
        "id": "cjXqC1c1UI7j",
        "colab": {
          "base_uri": "https://localhost:8080/",
          "height": 404
        },
        "outputId": "03e148cd-58e4-4da0-84db-65a058818867"
      },
      "source": [
        "plt.figure(figsize=(10, 6))\n",
        "plt.hist(y)\n",
        "plt.title('Price distribution')\n",
        "plt.xlabel('Price')\n",
        "plt.ylabel('Count')\n",
        "plt.grid()\n",
        "plt.show()"
      ],
      "execution_count": 28,
      "outputs": [
        {
          "output_type": "display_data",
          "data": {
            "image/png": "[encoded data removed]",
            "text/plain": [
              "<Figure size 720x432 with 1 Axes>"
            ]
          },
          "metadata": {
            "tags": [],
            "needs_background": "light"
          }
        }
      ]
    },
    {
      "cell_type": "code",
      "metadata": {
        "colab": {
          "base_uri": "https://localhost:8080/",
          "height": 404
        },
        "id": "6kPKPg10ZO6f",
        "outputId": "9b874e6f-fbd2-49d3-939d-1ea43a2a9541"
      },
      "source": [
        "y_log = np.log1p(y)\n",
        "plt.figure(figsize=(10, 6))\n",
        "plt.hist(y_log)\n",
        "plt.title('logPrice distribution')\n",
        "plt.xlabel('ln(Price)')\n",
        "plt.ylabel('Count')\n",
        "plt.grid()\n",
        "plt.show()"
      ],
      "execution_count": 29,
      "outputs": [
        {
          "output_type": "display_data",
          "data": {
            "image/png": "[encoded data removed]",
            "text/plain": [
              "<Figure size 720x432 with 1 Axes>"
            ]
          },
          "metadata": {
            "tags": [],
            "needs_background": "light"
          }
        }
      ]
    },
    {
      "cell_type": "markdown",
      "metadata": {
        "id": "C7ZTWPpOUI7j"
      },
      "source": [
        "После транформиации мы получили более симметричное распределение значений целевого признака, вероятно это поможет нам снизить влияние самых дорогих объектов на коэффициенты."
      ]
    },
    {
      "cell_type": "markdown",
      "metadata": {
        "id": "fDb2goh-UI7j"
      },
      "source": [
        "---\n",
        "Перейдем непосредственно к построению моделей. Разобьем выборку на обучение и контроль.\n",
        "\n",
        "*Пожалуйста, **не меняйте** значение `random_state` в следующей ячейке.*"
      ]
    },
    {
      "cell_type": "code",
      "metadata": {
        "id": "JlTuB_MIUI7k"
      },
      "source": [
        "X_train, X_val, y_train, y_val = train_test_split(X_transformed, np.log1p(data['SalePrice']), random_state=13)"
      ],
      "execution_count": 30,
      "outputs": []
    },
    {
      "cell_type": "code",
      "metadata": {
        "colab": {
          "base_uri": "https://localhost:8080/"
        },
        "id": "1OP4B-piZxnL",
        "outputId": "672ba812-443d-402c-a785-601fd67cf7ca"
      },
      "source": [
        "X_train.shape, X_val.shape, y_train.shape, y_val.shape"
      ],
      "execution_count": 31,
      "outputs": [
        {
          "output_type": "execute_result",
          "data": {
            "text/plain": [
              "((1095, 261), (365, 261), (1095,), (365,))"
            ]
          },
          "metadata": {
            "tags": []
          },
          "execution_count": 31
        }
      ]
    },
    {
      "cell_type": "markdown",
      "metadata": {
        "id": "Xkq9wwKgUI7k"
      },
      "source": [
        "### Задание 6 <a id=\"task26\"></a>"
      ]
    },
    {
      "cell_type": "markdown",
      "metadata": {
        "id": "rfswcFJjUI7k"
      },
      "source": [
        "Перейдем к построению моделей машинного обучения с помощью `sklearn`. Обучите модель линейной регрессии на обучающей выборке и оцените качество по метрике **Root** Mean Squared Error (корень из MSE) на обучающей и валидационной выборках. Что вы наблюдаете? Как вы можете объяснить такой результат?"
      ]
    },
    {
      "cell_type": "code",
      "metadata": {
        "id": "9zXZX3XiUI7l",
        "colab": {
          "base_uri": "https://localhost:8080/"
        },
        "outputId": "47e50e33-4154-43d3-d11d-b8de0150720a"
      },
      "source": [
        "simple_linear = LinearRegression(n_jobs=-1)\n",
        "simple_linear.fit(X_train,y_train)"
      ],
      "execution_count": 32,
      "outputs": [
        {
          "output_type": "execute_result",
          "data": {
            "text/plain": [
              "LinearRegression(copy_X=True, fit_intercept=True, n_jobs=-1, normalize=False)"
            ]
          },
          "metadata": {
            "tags": []
          },
          "execution_count": 32
        }
      ]
    },
    {
      "cell_type": "code",
      "metadata": {
        "colab": {
          "base_uri": "https://localhost:8080/"
        },
        "id": "qW2t8ZDHibV8",
        "outputId": "0a49cbd8-8c82-4474-cf0a-45a8472e21d7"
      },
      "source": [
        "y_hat_train = simple_linear.predict(X_train)\n",
        "print(mean_squared_error(y_train, y_hat_train, squared=False))\n",
        "\n",
        "\n",
        "y_hat_test = simple_linear.predict(X_val)\n",
        "print(mean_squared_error(y_val, y_hat_test, squared=False))"
      ],
      "execution_count": 33,
      "outputs": [
        {
          "output_type": "stream",
          "text": [
            "0.08377843154469293\n",
            "1567840255.3344545\n"
          ],
          "name": "stdout"
        }
      ]
    },
    {
      "cell_type": "markdown",
      "metadata": {
        "id": "0fVrePdloUhi"
      },
      "source": [
        "### выводы\n",
        "глядя на RMSE - выглядит, что на обучающей выборке ($RMSE = 0.08$)модель работает нормально, но на тестовой ($RMSE = 1567840255.3$)- очень плохо. На иллюстрациях ниже видно, что есть ограниченное число наблюдений, для которых модель работает очень плохо, на остальных - соотношение истиненного и оцененного значения хуже, чем для обучающего, но не так радикально отличается."
      ]
    },
    {
      "cell_type": "code",
      "metadata": {
        "id": "c63F6TQjnE3B"
      },
      "source": [
        "def add_identity(axes, *line_args, **line_kwargs):\n",
        "    identity, = axes.plot([], [], *line_args, **line_kwargs)\n",
        "    def callback(axes):\n",
        "        low_x, high_x = axes.get_xlim()\n",
        "        low_y, high_y = axes.get_ylim()\n",
        "        low = max(low_x, low_y)\n",
        "        high = min(high_x, high_y)\n",
        "        identity.set_data([low, high], [low, high])\n",
        "    callback(axes)\n",
        "    axes.callbacks.connect('xlim_changed', callback)\n",
        "    axes.callbacks.connect('ylim_changed', callback)\n",
        "    return axes"
      ],
      "execution_count": 34,
      "outputs": []
    },
    {
      "cell_type": "code",
      "metadata": {
        "colab": {
          "base_uri": "https://localhost:8080/",
          "height": 296
        },
        "id": "LA3XTLRJjYaO",
        "outputId": "f793ee2e-2f3f-42cc-e609-f63d5a03fc2a"
      },
      "source": [
        "fig, ax = plt.subplots()\n",
        "plt.scatter(y_val, y_hat_test)\n",
        "add_identity(ax, color='r', ls='--')\n",
        "\n",
        "plt.title('Test data (y_val vs. predict)')\n",
        "plt.xlabel('y_val')\n",
        "plt.ylabel('Prediction')\n",
        "\n",
        "plt.grid()\n",
        "plt.show()"
      ],
      "execution_count": 35,
      "outputs": [
        {
          "output_type": "display_data",
          "data": {
            "image/png": "[encoded data removed]",
            "text/plain": [
              "<Figure size 432x288 with 1 Axes>"
            ]
          },
          "metadata": {
            "tags": [],
            "needs_background": "light"
          }
        }
      ]
    },
    {
      "cell_type": "code",
      "metadata": {
        "colab": {
          "base_uri": "https://localhost:8080/",
          "height": 296
        },
        "id": "viXygfBInxiA",
        "outputId": "7a1a3e7f-d442-41e1-96e1-7f5efb0805f2"
      },
      "source": [
        "fig, ax = plt.subplots()\n",
        "plt.scatter(y_val, y_hat_test)\n",
        "add_identity(ax, color='r', ls='--')\n",
        "\n",
        "ax.set_ylim(10, 14)\n",
        "ax.set_xlim(10, 14)\n",
        "\n",
        "plt.title('Test data, closer look')\n",
        "plt.xlabel('y_val')\n",
        "plt.ylabel('Prediction')\n",
        "\n",
        "plt.grid()\n",
        "plt.show()"
      ],
      "execution_count": 36,
      "outputs": [
        {
          "output_type": "display_data",
          "data": {
            "image/png": "[encoded data removed]",
            "text/plain": [
              "<Figure size 432x288 with 1 Axes>"
            ]
          },
          "metadata": {
            "tags": [],
            "needs_background": "light"
          }
        }
      ]
    },
    {
      "cell_type": "code",
      "metadata": {
        "colab": {
          "base_uri": "https://localhost:8080/",
          "height": 296
        },
        "id": "YfzL5-d5kWQj",
        "outputId": "59bdbb8d-14ce-461f-d0e7-e31f4726a289"
      },
      "source": [
        "fig, ax = plt.subplots()\n",
        "plt.scatter(y_train, y_hat_train)\n",
        "add_identity(ax, color='r', ls='--')\n",
        "\n",
        "ax.set_ylim(10, 14)\n",
        "ax.set_xlim(10, 14)\n",
        "\n",
        "plt.title('Train data')\n",
        "plt.xlabel('y_train')\n",
        "plt.ylabel('Prediction')\n",
        "\n",
        "plt.grid()\n",
        "plt.show()"
      ],
      "execution_count": 37,
      "outputs": [
        {
          "output_type": "display_data",
          "data": {
            "image/png": "[encoded data removed]",
            "text/plain": [
              "<Figure size 432x288 with 1 Axes>"
            ]
          },
          "metadata": {
            "tags": [],
            "needs_background": "light"
          }
        }
      ]
    },
    {
      "cell_type": "code",
      "metadata": {
        "colab": {
          "base_uri": "https://localhost:8080/"
        },
        "id": "FeoAz165qjXv",
        "outputId": "273b8cc7-2f8f-46c7-afd5-66389d9a49ca"
      },
      "source": [
        "from sklearn.metrics import r2_score\n",
        "print(r2_score(y_train, y_hat_train))\n",
        "print(r2_score(y_val, y_hat_test))"
      ],
      "execution_count": 38,
      "outputs": [
        {
          "output_type": "stream",
          "text": [
            "0.9554202126046635\n",
            "-1.488925718502528e+19\n"
          ],
          "name": "stdout"
        }
      ]
    },
    {
      "cell_type": "markdown",
      "metadata": {
        "id": "BGyEX4t5UI7l"
      },
      "source": [
        "Если мы смотрим $R^2$, также получаем что для тестовой выборки модель работает плохо, вероятно переобучение + плохая генерализация. Возможные причины - много скорреклированных факторов и большое число переменных относительно числа наблюдений."
      ]
    },
    {
      "cell_type": "markdown",
      "metadata": {
        "id": "7gMDETG0UI7l"
      },
      "source": [
        "### Задание 7 <a id=\"task27\"></a>"
      ]
    },
    {
      "cell_type": "markdown",
      "metadata": {
        "id": "CEkW9KktUI7l"
      },
      "source": [
        "Теперь примените методы линейной регрессии с регуляризацией - Lasso (L1) и Ridge (L2). \n",
        "\n",
        "Для подбора коэффициента регуляризации будем использовать росс-валидацию (вспомните, что такое кросс-валидация и зачем она нужна). \n",
        "\n",
        "`GridSearchCV` - это метод, который перебирает значения гиперпараметров (по заданной «сетке»), считает для каждого качество на кросс-валидации и позволяет выбрать лучший гиперпараметр. Более подробно вы можете познакомиться с методом в [документаци](https://scikit-learn.org/stable/modules/generated/sklearn.model_selection.GridSearchCV.html).\n",
        "\n",
        "1. Прочитайте документацию `sklearn.model_selection.GridSearchCV`\n",
        "2. Подбирите оптимальный гиперпараметр для LASSO:\n",
        "    - В качестве сетки используйте `np.logspace(-5, 1)`\n",
        "    - Используйте 5-Fold Cross-Validation\n",
        "3. Используя оптимельное значение гиперпаметра обучите модель на всей обучающей выборке, посчитайте ошибку на тренировочной и обучающей выборках\n",
        "4. Повторите п. 2-3 для модели Ridge"
      ]
    },
    {
      "cell_type": "code",
      "metadata": {
        "id": "CNlU0ciGUI7m",
        "colab": {
          "base_uri": "https://localhost:8080/"
        },
        "outputId": "acbf1972-2a57-4980-e5b5-e9d66d3e2801"
      },
      "source": [
        "from sklearn.model_selection import GridSearchCV\n",
        "\n",
        "# пример \"сетки\"\n",
        "np.logspace(-5, 1)"
      ],
      "execution_count": 39,
      "outputs": [
        {
          "output_type": "execute_result",
          "data": {
            "text/plain": [
              "array([1.00000000e-05, 1.32571137e-05, 1.75751062e-05, 2.32995181e-05,\n",
              "       3.08884360e-05, 4.09491506e-05, 5.42867544e-05, 7.19685673e-05,\n",
              "       9.54095476e-05, 1.26485522e-04, 1.67683294e-04, 2.22299648e-04,\n",
              "       2.94705170e-04, 3.90693994e-04, 5.17947468e-04, 6.86648845e-04,\n",
              "       9.10298178e-04, 1.20679264e-03, 1.59985872e-03, 2.12095089e-03,\n",
              "       2.81176870e-03, 3.72759372e-03, 4.94171336e-03, 6.55128557e-03,\n",
              "       8.68511374e-03, 1.15139540e-02, 1.52641797e-02, 2.02358965e-02,\n",
              "       2.68269580e-02, 3.55648031e-02, 4.71486636e-02, 6.25055193e-02,\n",
              "       8.28642773e-02, 1.09854114e-01, 1.45634848e-01, 1.93069773e-01,\n",
              "       2.55954792e-01, 3.39322177e-01, 4.49843267e-01, 5.96362332e-01,\n",
              "       7.90604321e-01, 1.04811313e+00, 1.38949549e+00, 1.84206997e+00,\n",
              "       2.44205309e+00, 3.23745754e+00, 4.29193426e+00, 5.68986603e+00,\n",
              "       7.54312006e+00, 1.00000000e+01])"
            ]
          },
          "metadata": {
            "tags": []
          },
          "execution_count": 39
        }
      ]
    },
    {
      "cell_type": "code",
      "metadata": {
        "id": "tG-jskQ9UI7m"
      },
      "source": [
        "# your Lasso code here\n",
        "\n",
        "lasso_grid_searcher = GridSearchCV(\n",
        "    Lasso(max_iter=9000,  random_state=13),\n",
        "    param_grid={\n",
        "        'alpha': np.logspace(-5, 1)\n",
        "    },\n",
        "    cv=5,\n",
        "    scoring='neg_root_mean_squared_error'\n",
        ")\n",
        "\n",
        "lasso_grid_searcher.fit(X_train,y_train);\n"
      ],
      "execution_count": 40,
      "outputs": []
    },
    {
      "cell_type": "code",
      "metadata": {
        "id": "AJxN0lIw_fPF",
        "outputId": "0a802c7e-90ed-4807-b121-2e0b0ccb84b8",
        "colab": {
          "base_uri": "https://localhost:8080/"
        }
      },
      "source": [
        "lasso_grid_searcher.best_params_"
      ],
      "execution_count": 41,
      "outputs": [
        {
          "output_type": "execute_result",
          "data": {
            "text/plain": [
              "{'alpha': 0.0003906939937054617}"
            ]
          },
          "metadata": {
            "tags": []
          },
          "execution_count": 41
        }
      ]
    },
    {
      "cell_type": "code",
      "metadata": {
        "id": "TK3cUpmx_lbX",
        "outputId": "85ba9b81-3879-4fe5-afab-7eb44e3b938e",
        "colab": {
          "base_uri": "https://localhost:8080/"
        }
      },
      "source": [
        "lasso_grid_searcher.best_score_\n"
      ],
      "execution_count": 42,
      "outputs": [
        {
          "output_type": "execute_result",
          "data": {
            "text/plain": [
              "-0.11240880461721839"
            ]
          },
          "metadata": {
            "tags": []
          },
          "execution_count": 42
        }
      ]
    },
    {
      "cell_type": "code",
      "metadata": {
        "id": "HxdTWw7I_u54",
        "outputId": "3fa78aab-1df2-4458-9dd9-1f5933bc7969",
        "colab": {
          "base_uri": "https://localhost:8080/"
        }
      },
      "source": [
        "lasso_ful = Lasso(alpha =lasso_grid_searcher.best_params_['alpha'], max_iter=9000,  random_state=13)\n",
        "lasso_ful.fit(X_train,y_train)\n",
        "y_hat_lasso_train = lasso_ful.predict(X_train)\n",
        "print(mean_squared_error(y_train, y_hat_lasso_train, squared=False))\n",
        "\n",
        "\n",
        "y_hat_lasso_test = lasso_ful.predict(X_val)\n",
        "print(mean_squared_error(y_val, y_hat_lasso_test, squared=False))"
      ],
      "execution_count": 43,
      "outputs": [
        {
          "output_type": "stream",
          "text": [
            "0.09519876566125009\n",
            "0.21884624826326227\n"
          ],
          "name": "stdout"
        }
      ]
    },
    {
      "cell_type": "code",
      "metadata": {
        "id": "GKP7iZ0QUI7m",
        "colab": {
          "base_uri": "https://localhost:8080/"
        },
        "outputId": "0fb386f2-6232-498b-f7d4-e308103a1474"
      },
      "source": [
        "# your Ridge code here\n",
        "ridge_grid_searcher = GridSearchCV(\n",
        "    Ridge(max_iter=9000,  random_state=13),\n",
        "    param_grid={\n",
        "        'alpha': np.logspace(-5, 1)\n",
        "    },\n",
        "    cv=5,\n",
        "    scoring='neg_root_mean_squared_error'\n",
        ")\n",
        "\n",
        "ridge_grid_searcher.fit(X_train,y_train);\n",
        "ridge_grid_searcher.best_params_"
      ],
      "execution_count": 44,
      "outputs": [
        {
          "output_type": "execute_result",
          "data": {
            "text/plain": [
              "{'alpha': 10.0}"
            ]
          },
          "metadata": {
            "tags": []
          },
          "execution_count": 44
        }
      ]
    },
    {
      "cell_type": "code",
      "metadata": {
        "id": "PXHRF4VeEPYm",
        "outputId": "5f54fd3d-17bb-4b39-b598-f005f33947da",
        "colab": {
          "base_uri": "https://localhost:8080/"
        }
      },
      "source": [
        "ridge_grid_searcher.best_score_\n"
      ],
      "execution_count": 45,
      "outputs": [
        {
          "output_type": "execute_result",
          "data": {
            "text/plain": [
              "-0.11219797411096588"
            ]
          },
          "metadata": {
            "tags": []
          },
          "execution_count": 45
        }
      ]
    },
    {
      "cell_type": "code",
      "metadata": {
        "id": "OqbaX_3FGih1",
        "outputId": "ac9b2f60-13e6-4888-81db-13d1df4118b7",
        "colab": {
          "base_uri": "https://localhost:8080/"
        }
      },
      "source": [
        "ridge_ful = Ridge(alpha=ridge_grid_searcher.best_params_['alpha'], max_iter=9000,  random_state=13)\n",
        "ridge_ful.fit(X_train,y_train)\n",
        "y_hat_ridge_train = ridge_ful.predict(X_train)\n",
        "print(mean_squared_error(y_train, y_hat_ridge_train, squared=False))\n",
        "\n",
        "\n",
        "y_hat_ridge_test = ridge_ful.predict(X_val)\n",
        "print(mean_squared_error(y_val, y_hat_ridge_test, squared=False))"
      ],
      "execution_count": 46,
      "outputs": [
        {
          "output_type": "stream",
          "text": [
            "0.09273154531506851\n",
            "0.21739446989965602\n"
          ],
          "name": "stdout"
        }
      ]
    },
    {
      "cell_type": "markdown",
      "metadata": {
        "id": "mXPOrkSWUI7n"
      },
      "source": [
        "### Задание 8 <a id=\"task28\"></a>"
      ]
    },
    {
      "cell_type": "markdown",
      "metadata": {
        "id": "Z0uT2Y90UI7n"
      },
      "source": [
        "Постройте гистограммы значений весов для линейной регрессии, Lasso и Ridge. Опишите наблюдения. В чем различия между полученными наборами весов и почему?"
      ]
    },
    {
      "cell_type": "code",
      "metadata": {
        "id": "RUla3nmIJ59P",
        "outputId": "bd3f7cd2-0130-4402-a4fb-0ccc066d5620",
        "colab": {
          "base_uri": "https://localhost:8080/",
          "height": 350
        }
      },
      "source": [
        "plt.figure(figsize=(8, 5))\n",
        "plt.hist(simple_linear.coef_,bins=50)\n",
        "\n",
        "plt.title('Веса линейной регрессии')\n",
        "plt.xlabel('w')\n",
        "plt.ylabel('Count')\n",
        "plt.show()"
      ],
      "execution_count": 47,
      "outputs": [
        {
          "output_type": "display_data",
          "data": {
            "image/png": "[encoded data removed]",
            "text/plain": [
              "<Figure size 576x360 with 1 Axes>"
            ]
          },
          "metadata": {
            "tags": [],
            "needs_background": "light"
          }
        }
      ]
    },
    {
      "cell_type": "code",
      "metadata": {
        "id": "br0VDgsLHZPx",
        "outputId": "0fb44555-8969-4121-96dd-268cb4e68263",
        "colab": {
          "base_uri": "https://localhost:8080/",
          "height": 350
        }
      },
      "source": [
        "plt.figure(figsize=(8, 5))\n",
        "plt.hist(lasso_ful.coef_,bins=50)\n",
        "\n",
        "plt.title('Веса Lasso')\n",
        "plt.xlabel('w')\n",
        "plt.ylabel('Count')\n",
        "plt.show()"
      ],
      "execution_count": 48,
      "outputs": [
        {
          "output_type": "display_data",
          "data": {
            "image/png": "[encoded data removed]",
            "text/plain": [
              "<Figure size 576x360 with 1 Axes>"
            ]
          },
          "metadata": {
            "tags": [],
            "needs_background": "light"
          }
        }
      ]
    },
    {
      "cell_type": "code",
      "metadata": {
        "id": "WkW3TwdQUI7n",
        "colab": {
          "base_uri": "https://localhost:8080/",
          "height": 350
        },
        "outputId": "46d20f1f-f413-485b-9212-eadd33d319bb"
      },
      "source": [
        "plt.figure(figsize=(8, 5))\n",
        "plt.hist(ridge_ful.coef_,bins=50)\n",
        "\n",
        "plt.title('Веса Ridge')\n",
        "plt.xlabel('w')\n",
        "plt.ylabel('Count')\n",
        "plt.show()"
      ],
      "execution_count": 49,
      "outputs": [
        {
          "output_type": "display_data",
          "data": {
            "image/png": "[encoded data removed]",
            "text/plain": [
              "<Figure size 576x360 with 1 Axes>"
            ]
          },
          "metadata": {
            "tags": [],
            "needs_background": "light"
          }
        }
      ]
    },
    {
      "cell_type": "code",
      "metadata": {
        "id": "nAEjjr_SH-rY",
        "outputId": "a174831a-0b3e-4331-a0e5-4a2b9719034c",
        "colab": {
          "base_uri": "https://localhost:8080/",
          "height": 419
        }
      },
      "source": [
        "comp_coef = pd.DataFrame(zip(X_train.columns,lasso_ful.coef_, ridge_ful.coef_,simple_linear.coef_), columns=['feature','lasso_coef', 'ridge_coef', 'linreg_coef'])\n",
        "\n",
        "comp_coef.sort_values(by=['linreg_coef'])"
      ],
      "execution_count": 50,
      "outputs": [
        {
          "output_type": "execute_result",
          "data": {
            "text/html": [
              "<div>\n",
              "<style scoped>\n",
              "    .dataframe tbody tr th:only-of-type {\n",
              "        vertical-align: middle;\n",
              "    }\n",
              "\n",
              "    .dataframe tbody tr th {\n",
              "        vertical-align: top;\n",
              "    }\n",
              "\n",
              "    .dataframe thead th {\n",
              "        text-align: right;\n",
              "    }\n",
              "</style>\n",
              "<table border=\"1\" class=\"dataframe\">\n",
              "  <thead>\n",
              "    <tr style=\"text-align: right;\">\n",
              "      <th></th>\n",
              "      <th>feature</th>\n",
              "      <th>lasso_coef</th>\n",
              "      <th>ridge_coef</th>\n",
              "      <th>linreg_coef</th>\n",
              "    </tr>\n",
              "  </thead>\n",
              "  <tbody>\n",
              "    <tr>\n",
              "      <th>15</th>\n",
              "      <td>GrLivArea</td>\n",
              "      <td>1.401414e-01</td>\n",
              "      <td>0.074379</td>\n",
              "      <td>-1.096819e+11</td>\n",
              "    </tr>\n",
              "    <tr>\n",
              "      <th>8</th>\n",
              "      <td>BsmtFinSF1</td>\n",
              "      <td>2.012670e-02</td>\n",
              "      <td>0.026920</td>\n",
              "      <td>-3.116802e+10</td>\n",
              "    </tr>\n",
              "    <tr>\n",
              "      <th>10</th>\n",
              "      <td>BsmtUnfSF</td>\n",
              "      <td>-0.000000e+00</td>\n",
              "      <td>0.006879</td>\n",
              "      <td>-3.019552e+10</td>\n",
              "    </tr>\n",
              "    <tr>\n",
              "      <th>234</th>\n",
              "      <td>GarageCond_TA</td>\n",
              "      <td>1.013733e-03</td>\n",
              "      <td>-0.003092</td>\n",
              "      <td>-1.234621e+10</td>\n",
              "    </tr>\n",
              "    <tr>\n",
              "      <th>230</th>\n",
              "      <td>GarageCond_Fa</td>\n",
              "      <td>-0.000000e+00</td>\n",
              "      <td>-0.010536</td>\n",
              "      <td>-1.234621e+10</td>\n",
              "    </tr>\n",
              "    <tr>\n",
              "      <th>...</th>\n",
              "      <td>...</td>\n",
              "      <td>...</td>\n",
              "      <td>...</td>\n",
              "      <td>...</td>\n",
              "    </tr>\n",
              "    <tr>\n",
              "      <th>222</th>\n",
              "      <td>GarageFinish_NaN</td>\n",
              "      <td>-8.703922e-19</td>\n",
              "      <td>-0.004636</td>\n",
              "      <td>4.166056e+09</td>\n",
              "    </tr>\n",
              "    <tr>\n",
              "      <th>14</th>\n",
              "      <td>LowQualFinSF</td>\n",
              "      <td>-9.042658e-03</td>\n",
              "      <td>-0.002665</td>\n",
              "      <td>1.014895e+10</td>\n",
              "    </tr>\n",
              "    <tr>\n",
              "      <th>11</th>\n",
              "      <td>TotalBsmtSF</td>\n",
              "      <td>4.522438e-02</td>\n",
              "      <td>0.038219</td>\n",
              "      <td>2.997946e+10</td>\n",
              "    </tr>\n",
              "    <tr>\n",
              "      <th>12</th>\n",
              "      <td>1stFlrSF</td>\n",
              "      <td>6.214382e-03</td>\n",
              "      <td>0.049204</td>\n",
              "      <td>8.069127e+10</td>\n",
              "    </tr>\n",
              "    <tr>\n",
              "      <th>13</th>\n",
              "      <td>2ndFlrSF</td>\n",
              "      <td>0.000000e+00</td>\n",
              "      <td>0.046258</td>\n",
              "      <td>9.111523e+10</td>\n",
              "    </tr>\n",
              "  </tbody>\n",
              "</table>\n",
              "<p>261 rows × 4 columns</p>\n",
              "</div>"
            ],
            "text/plain": [
              "              feature    lasso_coef  ridge_coef   linreg_coef\n",
              "15          GrLivArea  1.401414e-01    0.074379 -1.096819e+11\n",
              "8          BsmtFinSF1  2.012670e-02    0.026920 -3.116802e+10\n",
              "10          BsmtUnfSF -0.000000e+00    0.006879 -3.019552e+10\n",
              "234     GarageCond_TA  1.013733e-03   -0.003092 -1.234621e+10\n",
              "230     GarageCond_Fa -0.000000e+00   -0.010536 -1.234621e+10\n",
              "..                ...           ...         ...           ...\n",
              "222  GarageFinish_NaN -8.703922e-19   -0.004636  4.166056e+09\n",
              "14       LowQualFinSF -9.042658e-03   -0.002665  1.014895e+10\n",
              "11        TotalBsmtSF  4.522438e-02    0.038219  2.997946e+10\n",
              "12           1stFlrSF  6.214382e-03    0.049204  8.069127e+10\n",
              "13           2ndFlrSF  0.000000e+00    0.046258  9.111523e+10\n",
              "\n",
              "[261 rows x 4 columns]"
            ]
          },
          "metadata": {
            "tags": []
          },
          "execution_count": 50
        }
      ]
    },
    {
      "cell_type": "code",
      "metadata": {
        "id": "dBuJBKgrObsZ",
        "outputId": "4c4969b2-bac5-4456-c113-980786187df0",
        "colab": {
          "base_uri": "https://localhost:8080/"
        }
      },
      "source": [
        "len(lasso_ful.coef_[lasso_ful.coef_ == 0])"
      ],
      "execution_count": 51,
      "outputs": [
        {
          "output_type": "execute_result",
          "data": {
            "text/plain": [
              "137"
            ]
          },
          "metadata": {
            "tags": []
          },
          "execution_count": 51
        }
      ]
    },
    {
      "cell_type": "code",
      "metadata": {
        "id": "SblvNgJHQCD5",
        "outputId": "6e998f39-c249-4a34-dd43-c7742675f4b1",
        "colab": {
          "base_uri": "https://localhost:8080/"
        }
      },
      "source": [
        "len(ridge_ful.coef_[ridge_ful.coef_ == 0])"
      ],
      "execution_count": 52,
      "outputs": [
        {
          "output_type": "execute_result",
          "data": {
            "text/plain": [
              "8"
            ]
          },
          "metadata": {
            "tags": []
          },
          "execution_count": 52
        }
      ]
    },
    {
      "cell_type": "markdown",
      "metadata": {
        "id": "dRa0oEHAUI7n"
      },
      "source": [
        "### Основные выводы:\n",
        "\n",
        "\n",
        "1.   При построении обычной линейной регрессии получаются веса, чьи коэффициенты отличаются на 11 порядков по размеру.\n",
        "2.   По гистограммам, и сравнивая значения весов, видно что L1 регуляризация работает - 137 коэффициентов в Lasso регрессии равны 0.\n",
        "\n",
        "3.   Эти же коэффициенты имеют низкие веса для Ridge регрессии.\n",
        "4.   Для Ridge нет такого строгово эффекта отбора переменных, строго нулевых коэффициентов только 8.\n",
        "4.   Для Lasso и Ridge - абсолютные значения весов стали все находится в интервале $\\pm 0.13$\n",
        "\n"
      ]
    },
    {
      "cell_type": "markdown",
      "metadata": {
        "id": "9Y5J2dJDUI7o"
      },
      "source": [
        "### Задание 9 (Бонус) <a id=\"task29\"></a>\n",
        "\n",
        "\n",
        "- Скачайте тестовые данные из соревнования [Kaggle](https://www.kaggle.com/c/house-prices-advanced-regression-techniques/data?select=test.csv)\n",
        "- Примените к ним те же шаги предобработки (заполнение пропусков, масштабирование, и т.д.)\n",
        "- Выберите лучшую модель, которую вам удалось обучить и предскажите с ее помощью цену \n",
        "- На забудьте, что ваша модель предсказывает логарифм (см. Задание 5), так что нужно применить обраное преобразование\n",
        "- Загрузите ваши прогнозы на Kaggle (`Submit Prediction`) и узнайте их точность. "
      ]
    },
    {
      "cell_type": "code",
      "metadata": {
        "id": "4RI8I6-3UI7o"
      },
      "source": [
        "# your code here"
      ],
      "execution_count": 53,
      "outputs": []
    }
  ]
}