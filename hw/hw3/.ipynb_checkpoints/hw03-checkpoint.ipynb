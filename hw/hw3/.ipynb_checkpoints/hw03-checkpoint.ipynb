{
 "cells": [
  {
   "cell_type": "markdown",
   "metadata": {
    "colab_type": "text",
    "id": "view-in-github"
   },
   "source": [
    "<a href=\"https://colab.research.google.com/github/ksetdekov/ml_dpo_2021/blob/master/hw/hw3/hw03.ipynb\" target=\"_parent\"><img src=\"https://colab.research.google.com/assets/colab-badge.svg\" alt=\"Open In Colab\"/></a>"
   ]
  },
  {
   "cell_type": "markdown",
   "metadata": {
    "id": "NqondohTwa7r"
   },
   "source": [
    "# Домашнее задание №3\n",
    "\n",
    "Задание выполнил(а): _Сетдеков Кирилл_\n",
    "\n",
    "### Общая информация\n",
    "\n",
    "__Дата выдачи:__ 29.05.2021\n",
    "\n",
    "__Дедлайн:__ 07.06.2021\n",
    "\n",
    "### О задании\n",
    "\n",
    "Часть 1 содержит теоретические задачи на линейные методы классификации и метрики качества классификации.\n",
    "\n",
    "Часть 2 содержит практические задания на применение линейных методов классификации, подсчет метрик качества классификации и анализ результатов.\n",
    "\n",
    "Обратите внимание, что вам не только нужно написать код, но и в некоторых местах ответить на вопросы.\n",
    "\n",
    "### Оценивание и штрафы\n",
    "\n",
    "\n",
    "#### Theory  [10 баллов]\n",
    "* [Задание 1](#task1) [1 балл]\n",
    "* [Задание 2](#task2) [1 балл]\n",
    "* [Задание 3](#task3) [1 балл]\n",
    "* [Задание 4](#task4) [1 балл]\n",
    "* [Задание 5](#task5) [1 балл]\n",
    "* [Задание 6](#task6) [1 балл]\n",
    "* [Задание 7](#task7) [1 балл]\n",
    "* [Задание 8](#task8) [1 балл]\n",
    "* [Задание 9](#task9) [1 балл]\n",
    "* [Задание 10](#task10) [1 балл]\n",
    "\n",
    "#### Linear Classification [13 баллов]\n",
    "* [Задание 1](#task2_1) [1 балл]\n",
    "* [Задание 2](#task2_2) [1 балл]\n",
    "* [Задание 3](#task2_3) [1 балл]\n",
    "* [Задание 4](#task2_4) [1 балл]\n",
    "* [Задание 5](#task2_5) [1 балл]\n",
    "* [Задание 6](#task2_6) [1 балл]\n",
    "* [Задание 7](#task2_7) [1 балл]\n",
    "* [Задание 8](#task2_8) [1 балл]\n",
    "* [Задание 9](#task2_9) [1 балл]\n",
    "* [Задание 10](#task2_10) [1 балл]\n",
    "* [Задание 11](#task2_11) [1 балл]\n",
    "* [Задание 12](#task2_12) [1 балл]\n",
    "* [Задание 13](#task2_13) [1 балл]\n",
    "\n",
    "\n",
    "Итоговая оценка за домашнюю работу вычисляется по формуле: $$s \\cdot \\frac{10}{23},$$ где $s$ - сумма набранных балов. \n",
    "\n",
    "За сдачу задания позже срока на итоговую оценку за задание накладывается штраф в размере 0.25 балла в день (от оценки в 10 бальной шкале), но получить отрицательную оценку нельзя.\n",
    "\n",
    "__Внимание!__ Домашнее задание выполняется самостоятельно. «Похожие» решения считаются плагиатом и все задействованные студенты (в том числе те, у кого списали) не могут получить за него больше 0 баллов.\n",
    "\n",
    "### Формат сдачи\n",
    "\n",
    "Загрузка файлов с решениями происходит в системе [Anytask](https://anytask.org/course/811). "
   ]
  },
  {
   "cell_type": "markdown",
   "metadata": {
    "id": "VlrAJLonwa7u"
   },
   "source": [
    "# Часть 1. Теоретическая"
   ]
  },
  {
   "cell_type": "code",
   "execution_count": 1,
   "metadata": {
    "id": "Mps3e04-JOLL"
   },
   "outputs": [],
   "source": [
    "# import all\n",
    "import numpy as np\n",
    "import pandas as pd\n",
    "import multiprocessing\n",
    "\n",
    "from sklearn.model_selection import train_test_split, GridSearchCV\n",
    "from sklearn.linear_model import LogisticRegression\n",
    "from sklearn.metrics import roc_auc_score\n",
    "from sklearn import svm"
   ]
  },
  {
   "cell_type": "markdown",
   "metadata": {
    "id": "pRJ4Fguvwa7v"
   },
   "source": [
    "### Задание 1 <a id=\"task1\"></a>"
   ]
  },
  {
   "cell_type": "markdown",
   "metadata": {
    "id": "rckW4tmXwa7v"
   },
   "source": [
    "Какой из представленных графиков соответствует графику функции потерь в логистической регрессии? Тот же вопрос про метод опорных векторов.\n",
    "\n",
    "![loss.png](https://github.com/ksetdekov/ml_dpo_2021/raw/master/hw/hw3/loss.png)"
   ]
  },
  {
   "cell_type": "markdown",
   "metadata": {
    "id": "22ubvQAbwa7v"
   },
   "source": [
    "**Ответ:**\n",
    "- Логистическая регрессия: график № 2, оранжевый\n",
    "- Метод опорных векторов: график № 3, зеленый"
   ]
  },
  {
   "cell_type": "markdown",
   "metadata": {
    "id": "x-WIDuHcwa7w"
   },
   "source": [
    "### Задание 2 <a id=\"task2\"></a>"
   ]
  },
  {
   "cell_type": "markdown",
   "metadata": {
    "id": "FmRAzXH4wa7w"
   },
   "source": [
    "При решении задачи бинарной классификации алгоритм на отложенной выборке верно предсказывает 100 из 400 объектов класса 0 и 75 из 100 объектов класса 1. Найдите долю правильных ответов данного классификатора."
   ]
  },
  {
   "cell_type": "code",
   "execution_count": 2,
   "metadata": {
    "colab": {
     "base_uri": "https://localhost:8080/"
    },
    "id": "NeJ5oSa6zf8W",
    "outputId": "113d2f2c-65b9-4d48-ecda-a79338f18c9d"
   },
   "outputs": [
    {
     "data": {
      "text/plain": [
       "0.35"
      ]
     },
     "execution_count": 2,
     "metadata": {},
     "output_type": "execute_result"
    }
   ],
   "source": [
    "175/500"
   ]
  },
  {
   "cell_type": "markdown",
   "metadata": {
    "id": "YFFShL88wa7w"
   },
   "source": [
    "**Ответ:** Всего есть $Total= N+P=400+100=500$ объектов, из которых верно предсказаны $TN+TP = 100+75=175$ штук. Вопрос доли правильных ответов классификатора - найти accuracy.\n",
    "$$ACC=\\frac{TN+TP}{Total}=\\frac{175}{500}=0.35$$"
   ]
  },
  {
   "cell_type": "markdown",
   "metadata": {
    "id": "kb9Vxlwhwa7w"
   },
   "source": [
    "### Задание 3 <a id=\"task3\"></a>"
   ]
  },
  {
   "cell_type": "markdown",
   "metadata": {
    "id": "-DDiVtP5wa7x"
   },
   "source": [
    "Точность алгоритма классификации равна 0.6, а полнота равна 0.9. Чему в таком случае равно значение F-меры?"
   ]
  },
  {
   "cell_type": "code",
   "execution_count": 3,
   "metadata": {
    "colab": {
     "base_uri": "https://localhost:8080/"
    },
    "id": "iyQKC4ZR0Yjx",
    "outputId": "dc1cd51c-03c4-4094-a86c-0bdea9011955"
   },
   "outputs": [
    {
     "data": {
      "text/plain": [
       "0.7200000000000001"
      ]
     },
     "execution_count": 3,
     "metadata": {},
     "output_type": "execute_result"
    }
   ],
   "source": [
    "2*(0.6*0.9)/(0.6+0.9)"
   ]
  },
  {
   "cell_type": "markdown",
   "metadata": {
    "id": "Uh9_YRpjwa7x"
   },
   "source": [
    "Нам даны точность (precision) и полнота (recall).\n",
    "$$F=2\\frac{precision\\cdot recall}{precision+recall}=2\\frac{0.6\\cdot0.9}{0.6+0.9}=0.72$$\n",
    "\n",
    "**Ответ:** 0.72\n"
   ]
  },
  {
   "cell_type": "markdown",
   "metadata": {
    "id": "f5-zQo_8wa7x"
   },
   "source": [
    "### Задание 4 <a id=\"task4\"></a>"
   ]
  },
  {
   "cell_type": "markdown",
   "metadata": {
    "id": "Ek8qyw-Dwa7x"
   },
   "source": [
    "При решении задачи бинарной классификации использовались данные с двумя признаками. На данных была обучена логистическая регрессия. Известно, что после обучения вектор весов $(w_0, w_1, w_2) = (0.2, 0.7, 0.1)$ (вес $w_0$ соответствует единичному признаку). Для объекта $x$ с признаковым описанием $(3, 5)$ посчитайте модуль отступа.\n",
    "\n",
    "_Не перепутайте с отступом классификатора - шириной разделяющей гиперплоскости. Это термин, более применимый к SVM. А отступ объекта (то, что требуется тут) - это немного другое, он показывает, ошибается ли классификатор на данном объекте и насколько._"
   ]
  },
  {
   "cell_type": "code",
   "execution_count": 4,
   "metadata": {
    "colab": {
     "base_uri": "https://localhost:8080/"
    },
    "id": "K752PrOhxRqo",
    "outputId": "bc8f90ef-ec0f-487e-ebbb-0f3c35d2e948"
   },
   "outputs": [
    {
     "name": "stdout",
     "output_type": "stream",
     "text": [
      "2.8\n"
     ]
    }
   ],
   "source": [
    "weights_4 = [0.2, 0.7, 0.1]\n",
    "x_4 = [1, 3, 5]\n",
    "otstup = np.dot(weights_4, x_4)\n",
    "print(otstup)"
   ]
  },
  {
   "cell_type": "markdown",
   "metadata": {
    "id": "TFlTCvxLwa7y"
   },
   "source": [
    "Отступ - это скалярное произведение весов на признаки, умноженное на индикатор класса. Модуль отступа будет положительный и будет равен скалярному произведению $<w,x_i> = <(0.2,0.7,0.1),(1,3,5)> = 2.8$\n",
    "\n",
    "**Ответ:** 2.8\n"
   ]
  },
  {
   "cell_type": "markdown",
   "metadata": {
    "id": "EtILk7Aqwa7y"
   },
   "source": [
    "### Задание 5 <a id=\"task5\"></a>"
   ]
  },
  {
   "cell_type": "markdown",
   "metadata": {
    "id": "yboPqUtTwa7y"
   },
   "source": [
    "При решении задачи бинарной классификации использовались данные с двумя признаками. На данных была обучена логистическая регрессия. Известно, что после обучения вектор весов $(w_0, w_1, w_2) = (0.2, 0.7, 0.1)$ (вес $w_0$ соответствует единичному признаку). Для объекта $x$ с признаковым описанием $(3, 5)$ вычислите предсказание вероятности принадлежности классу 1. Ответ округлите до двух знаков после запятой."
   ]
  },
  {
   "cell_type": "code",
   "execution_count": 5,
   "metadata": {
    "colab": {
     "base_uri": "https://localhost:8080/"
    },
    "id": "VoFDl7uV1F-I",
    "outputId": "ad0ebde1-a3bb-4dcd-f2de-0e1dc3ebe113"
   },
   "outputs": [
    {
     "name": "stdout",
     "output_type": "stream",
     "text": [
      "p = 0.94\n"
     ]
    }
   ],
   "source": [
    "print(f'p = {1 / (1+np.exp(-otstup)):.2f}')"
   ]
  },
  {
   "cell_type": "markdown",
   "metadata": {
    "id": "O5oFkP1ywa7y"
   },
   "source": [
    " $$P(y_i = 1) = \\sigma(<w,x_i>)=\\frac{1}{1+exp(-<w,x_i>)}=\\frac{1}{1+exp(-\n",
    " 2.8)}=0.94$$\n",
    "\n",
    " **Ответ:**0.94"
   ]
  },
  {
   "cell_type": "markdown",
   "metadata": {
    "id": "qWxTgomVwa7z"
   },
   "source": [
    "### Задание 6 <a id=\"task6\"></a>"
   ]
  },
  {
   "cell_type": "markdown",
   "metadata": {
    "id": "9XBqqSk7wa7z"
   },
   "source": [
    "Какой из представленных графиков соответствует обученной логистической регрессии, для которой не настраивался свободный коэффициент - то есть $w_0 = 0$ (в `sklearn` это гиперпараметр `fit_intercept = False`)?\n",
    "\n",
    "![logregs.png](https://raw.githubusercontent.com/ksetdekov/ml_dpo_2021/master/hw/hw3/img6.png)"
   ]
  },
  {
   "cell_type": "markdown",
   "metadata": {
    "id": "cp-sIB0uwa7z"
   },
   "source": [
    "**Ответ:** график № 2, так как разделяющая прямая проходит через точку 0, 0 для двух признаков."
   ]
  },
  {
   "cell_type": "markdown",
   "metadata": {
    "id": "-sns7H_iwa7z"
   },
   "source": [
    "### Задание 7 <a id=\"task7\"></a>"
   ]
  },
  {
   "cell_type": "markdown",
   "metadata": {
    "id": "aT7a7ZZQwa7z"
   },
   "source": [
    "В задаче имеется 100 объектов. У каждого объекта 20 признаков. Сколько параметров (весов) будет настроено логистической регрессией в процессе обучения, учитывая свободный коэффициент?"
   ]
  },
  {
   "cell_type": "markdown",
   "metadata": {
    "id": "PmyvyMp3wa70"
   },
   "source": [
    "**Ответ:** Будет построено 21 параметра (20 признаков и 1 свободный член)"
   ]
  },
  {
   "cell_type": "markdown",
   "metadata": {
    "id": "6C74Kmqgwa70"
   },
   "source": [
    "### Задание 8 <a id=\"task8\"></a>"
   ]
  },
  {
   "cell_type": "markdown",
   "metadata": {
    "id": "-w0SIhafwa70"
   },
   "source": [
    "Вы решаете задачу бинарной линейной классификации в трехмерном признаковом пространстве. Соответственно, решающее правило имеет вид:\n",
    "\n",
    "$$\n",
    "a(x) = \\text{sign}(w_0 + w_1x_1 + w_2x_2 + w_3x_3)\n",
    "$$\n",
    "\n",
    "У вас есть следующая выборка:\n",
    "\n",
    "| $x_1$ | $x_2$ | $x_3$ | $y$ |\n",
    "|------|------|------|-----|\n",
    "| 0.2 | 0.4 | 0 | +1|\n",
    "| 0.5 | 0.9 | 0 | +1|\n",
    "| 0.3 | 0.3 | 0 | +1|\n",
    "| 0.1 | 0.8 | 1 | -1|\n",
    "| 0.5 | 0.7 | 1 | -1|\n",
    "| 0.9 | 0.9 | 1 | -1|\n",
    "| 0.1 | 0.3 | 1 | -1|\n",
    "\n",
    "а) Сколько существует наборов коэффициентов $w = (w_0, w_1, w_2, w_3)$, при которых задача будет решена идеально (с accuracy = 1)?\n",
    "\n",
    "б) Если ответ в п. а) - 0, пропустите это задание. Если ответ в п. а) - 1 или 2, запишите этот набор коэффициентов (или два набора соответственно). Иначе приведите хотя бы три таких набора коэффициентов."
   ]
  },
  {
   "cell_type": "code",
   "execution_count": 6,
   "metadata": {
    "colab": {
     "base_uri": "https://localhost:8080/"
    },
    "id": "OZ3ht9uq6IzH",
    "outputId": "94bcf403-3995-427f-c1ad-b7f605460b74"
   },
   "outputs": [
    {
     "name": "stdout",
     "output_type": "stream",
     "text": [
      "accuracy is 1.0\n"
     ]
    },
    {
     "data": {
      "text/plain": [
       "(array([[ 0.23572938,  0.22551457, -4.96556729]]), array([1.89441577]))"
      ]
     },
     "execution_count": 6,
     "metadata": {},
     "output_type": "execute_result"
    }
   ],
   "source": [
    "from sklearn.linear_model import SGDClassifier\n",
    "from sklearn.metrics import accuracy_score\n",
    "import pandas as pd\n",
    "Xss = [[0.2, 0.4, 0],\n",
    "       [0.5, 0.9, 0],\n",
    "       [0.3, 0.3, 0],\n",
    "       [0.1, 0.8, 1],\n",
    "       [0.5, 0.7, 1],\n",
    "       [0.9, 0.9, 1],\n",
    "       [0.1, 0.3, 1]]\n",
    "X = pd.DataFrame(Xss ,columns = ['x1','x2','x3'])\n",
    "y = np.array([1,1,1,-1,-1,-1,-1])\n",
    "\n",
    "\n",
    "clf = SGDClassifier(loss='log', learning_rate='constant', eta0=0.1, random_state=13)\n",
    "clf.fit(X, y)\n",
    "y_pred_sgdclf = clf.predict(X)\n",
    "\n",
    "print(f'accuracy is {accuracy_score(y, y_pred_sgdclf)}')\n",
    "clf.coef_, clf.intercept_\n"
   ]
  },
  {
   "cell_type": "code",
   "execution_count": 7,
   "metadata": {
    "colab": {
     "base_uri": "https://localhost:8080/"
    },
    "id": "jJ8lRB3D9ElG",
    "outputId": "70d9351e-613b-42c1-e1ba-09138ccdbef5"
   },
   "outputs": [
    {
     "name": "stdout",
     "output_type": "stream",
     "text": [
      "higher w0 predictions = [ 1.  1.  1. -1. -1. -1. -1.]\n",
      "lower w0 predictions = [ 1.  1.  1. -1. -1. -1. -1.]\n",
      "sgdfit = [ 1.  1.  1. -1. -1. -1. -1.]\n"
     ]
    }
   ],
   "source": [
    "ones = np.ones((7, 1))\n",
    "with_ones = np.append(ones, Xss, axis=1)\n",
    "\n",
    "weights_8high = [ 2, 0.23572938,  0.22551457, -4.96556729]\n",
    "print(f'higher w0 predictions = {np.sign(np.dot(with_ones, weights_8high))}')\n",
    "weights_8low = [ 1.8, 0.23572938,  0.22551457, -4.96556729]\n",
    "print(f'lower w0 predictions = {np.sign(np.dot(with_ones, weights_8low))}')\n",
    "weights_8fit = np.concatenate((clf.intercept_, clf.coef_[0]))\n",
    "print(f'sgdfit = {np.sign(np.dot(with_ones, weights_8fit))}')"
   ]
  },
  {
   "cell_type": "markdown",
   "metadata": {
    "id": "UxeEDzFswa71"
   },
   "source": [
    "**Ответ:**\n",
    "\n",
    "а) существует бесконечно много наборов коэффициентов, которымми можно получить 100% accuracy для этих данных так как классы линейно разделимы множеством способов.\n",
    "\n",
    "б) примером трех наборов $w = (w_0, w_1, w_2, w_3)$ будут:\n",
    "  * оценка весов, найденная SGDClassifier : $(1.89441577, 0.23572938,  0.22551457, -4.96556729)$\n",
    "  * оценка с более низким значением параметра  $w_0: (1.8, 0.23572938,  0.22551457, -4.96556729)$\n",
    "  * оценка с более высоким значением параметра  $w_0: (2, 0.23572938,  0.22551457, -4.96556729)$\n",
    "\n",
    "  все 3 дают точность 100%, выше построены прогнозы классов, которые совпадают с исходными."
   ]
  },
  {
   "cell_type": "markdown",
   "metadata": {
    "id": "8WTn0PK7wa71"
   },
   "source": [
    "### Задание 9 <a id=\"task9\"></a>"
   ]
  },
  {
   "cell_type": "markdown",
   "metadata": {
    "id": "A9WjFhdgwa71"
   },
   "source": [
    "Петя на работе построил алгоритм бинарной классификации $a(x)$, AUC-ROC которого равен 0.96. После этого Петя пошел обедать, а его коллега Вася, решив пошутить над Петей, сел за его компьютер и изменил код алгоритма так, чтобы вместо положительного класса алгоритм всегда предсказывал отрицательный, и наоборот – вместо отрицательного положительный. Какое значение AUC-ROC алгоритма обнаружил Вася, вернувшись с обеда?"
   ]
  },
  {
   "cell_type": "markdown",
   "metadata": {
    "id": "lISocRWqwa71"
   },
   "source": [
    "Так как идеальный классификатор даст AUC 1, а идеально угадывающий наборот - 0, то происходит вычетание из 1 результата, если мы меняем классы с отрицательного на положительный. В этом примере: $1-0.96=0.04$\n",
    "\n",
    "**Ответ:** 0.04"
   ]
  },
  {
   "cell_type": "markdown",
   "metadata": {
    "id": "BIIyIsM2wa72"
   },
   "source": [
    "### Задание 10 <a id=\"task10\"></a>"
   ]
  },
  {
   "cell_type": "markdown",
   "metadata": {
    "id": "RspSYKYFwa72"
   },
   "source": [
    "Александр построил алгоритм бинарной классификации $a(x)$, AUC-ROC которого равен 0.66. Михаил построил алгоритм $b(x) = \\frac{a(x)}{3}$. То есть для каждого объекта алгоритм $b(x)$ выдает вероятность, которая в три раза меньше, чем вероятность, выданная алгоритмом $a(x)$. Чему равно значение AUC-ROC алгоритма $b(x)$?"
   ]
  },
  {
   "cell_type": "markdown",
   "metadata": {
    "id": "A7QvyMPAwa72"
   },
   "source": [
    "**Ответ:** Так как сам алгоритм не поменялся, значение AUC-ROC не изменилось и будет равно 0.66. Будет отличаться в 3 раза меньшую сторону порог, при котором TPR(b) = TPR(a)"
   ]
  },
  {
   "cell_type": "markdown",
   "metadata": {
    "id": "MubwWVCLwa72"
   },
   "source": [
    "# Часть 2. Практическая"
   ]
  },
  {
   "cell_type": "markdown",
   "metadata": {
    "id": "xD-c-cFBwa73"
   },
   "source": [
    "В этом задании вы будете работать с [данными о пациентах, у части которых есть заболевание сердца](https://www.kaggle.com/ronitf/heart-disease-uci). Вам нужно построить модель, классифицирующую пациентов на больных этим заболеванием и тех, у кого его нет, а также проанализировать результаты."
   ]
  },
  {
   "cell_type": "code",
   "execution_count": 8,
   "metadata": {
    "colab": {
     "base_uri": "https://localhost:8080/",
     "height": 204
    },
    "id": "CUiqyo8Twa73",
    "outputId": "4a43d9ec-9343-48e8-d064-b7c6a3865060"
   },
   "outputs": [
    {
     "data": {
      "text/html": [
       "<div>\n",
       "<style scoped>\n",
       "    .dataframe tbody tr th:only-of-type {\n",
       "        vertical-align: middle;\n",
       "    }\n",
       "\n",
       "    .dataframe tbody tr th {\n",
       "        vertical-align: top;\n",
       "    }\n",
       "\n",
       "    .dataframe thead th {\n",
       "        text-align: right;\n",
       "    }\n",
       "</style>\n",
       "<table border=\"1\" class=\"dataframe\">\n",
       "  <thead>\n",
       "    <tr style=\"text-align: right;\">\n",
       "      <th></th>\n",
       "      <th>age</th>\n",
       "      <th>sex</th>\n",
       "      <th>cp</th>\n",
       "      <th>trestbps</th>\n",
       "      <th>chol</th>\n",
       "      <th>fbs</th>\n",
       "      <th>restecg</th>\n",
       "      <th>thalach</th>\n",
       "      <th>exang</th>\n",
       "      <th>oldpeak</th>\n",
       "      <th>slope</th>\n",
       "      <th>ca</th>\n",
       "      <th>thal</th>\n",
       "      <th>target</th>\n",
       "    </tr>\n",
       "  </thead>\n",
       "  <tbody>\n",
       "    <tr>\n",
       "      <th>0</th>\n",
       "      <td>63</td>\n",
       "      <td>1</td>\n",
       "      <td>3</td>\n",
       "      <td>145</td>\n",
       "      <td>233</td>\n",
       "      <td>1</td>\n",
       "      <td>0</td>\n",
       "      <td>150</td>\n",
       "      <td>0</td>\n",
       "      <td>2.3</td>\n",
       "      <td>0</td>\n",
       "      <td>0</td>\n",
       "      <td>1</td>\n",
       "      <td>1</td>\n",
       "    </tr>\n",
       "    <tr>\n",
       "      <th>1</th>\n",
       "      <td>37</td>\n",
       "      <td>1</td>\n",
       "      <td>2</td>\n",
       "      <td>130</td>\n",
       "      <td>250</td>\n",
       "      <td>0</td>\n",
       "      <td>1</td>\n",
       "      <td>187</td>\n",
       "      <td>0</td>\n",
       "      <td>3.5</td>\n",
       "      <td>0</td>\n",
       "      <td>0</td>\n",
       "      <td>2</td>\n",
       "      <td>1</td>\n",
       "    </tr>\n",
       "    <tr>\n",
       "      <th>2</th>\n",
       "      <td>41</td>\n",
       "      <td>0</td>\n",
       "      <td>1</td>\n",
       "      <td>130</td>\n",
       "      <td>204</td>\n",
       "      <td>0</td>\n",
       "      <td>0</td>\n",
       "      <td>172</td>\n",
       "      <td>0</td>\n",
       "      <td>1.4</td>\n",
       "      <td>2</td>\n",
       "      <td>0</td>\n",
       "      <td>2</td>\n",
       "      <td>1</td>\n",
       "    </tr>\n",
       "    <tr>\n",
       "      <th>3</th>\n",
       "      <td>56</td>\n",
       "      <td>1</td>\n",
       "      <td>1</td>\n",
       "      <td>120</td>\n",
       "      <td>236</td>\n",
       "      <td>0</td>\n",
       "      <td>1</td>\n",
       "      <td>178</td>\n",
       "      <td>0</td>\n",
       "      <td>0.8</td>\n",
       "      <td>2</td>\n",
       "      <td>0</td>\n",
       "      <td>2</td>\n",
       "      <td>1</td>\n",
       "    </tr>\n",
       "    <tr>\n",
       "      <th>4</th>\n",
       "      <td>57</td>\n",
       "      <td>0</td>\n",
       "      <td>0</td>\n",
       "      <td>120</td>\n",
       "      <td>354</td>\n",
       "      <td>0</td>\n",
       "      <td>1</td>\n",
       "      <td>163</td>\n",
       "      <td>1</td>\n",
       "      <td>0.6</td>\n",
       "      <td>2</td>\n",
       "      <td>0</td>\n",
       "      <td>2</td>\n",
       "      <td>1</td>\n",
       "    </tr>\n",
       "  </tbody>\n",
       "</table>\n",
       "</div>"
      ],
      "text/plain": [
       "   age  sex  cp  trestbps  chol  fbs  restecg  thalach  exang  oldpeak  slope  \\\n",
       "0   63    1   3       145   233    1        0      150      0      2.3      0   \n",
       "1   37    1   2       130   250    0        1      187      0      3.5      0   \n",
       "2   41    0   1       130   204    0        0      172      0      1.4      2   \n",
       "3   56    1   1       120   236    0        1      178      0      0.8      2   \n",
       "4   57    0   0       120   354    0        1      163      1      0.6      2   \n",
       "\n",
       "   ca  thal  target  \n",
       "0   0     1       1  \n",
       "1   0     2       1  \n",
       "2   0     2       1  \n",
       "3   0     2       1  \n",
       "4   0     2       1  "
      ]
     },
     "execution_count": 8,
     "metadata": {},
     "output_type": "execute_result"
    }
   ],
   "source": [
    "data = pd.read_csv('https://raw.githubusercontent.com/ksetdekov/ml_dpo_2021/master/hw/hw3/heart.csv')\n",
    "data.head()"
   ]
  },
  {
   "cell_type": "markdown",
   "metadata": {
    "id": "xeP8GPqpwa74"
   },
   "source": [
    "Пациенты описываются следующими признаками:\n",
    "\n",
    "- age\n",
    "- sex\n",
    "- chest pain type (4 values)\n",
    "- resting blood pressure\n",
    "- serum cholestoral in mg/dl\n",
    "- fasting blood sugar > 120 mg/dl\n",
    "- resting electrocardiographic results (values 0,1,2)\n",
    "- maximum heart rate achieved\n",
    "- exercise induced angina\n",
    "- oldpeak = ST depression induced by exercise relative to rest\n",
    "- the slope of the peak exercise ST segment\n",
    "- number of major vessels (0-3) colored by flourosopy\n",
    "- thal: 3 = normal; 6 = fixed defect; 7 = reversable defect\n",
    "\n",
    "Целевая переменная:\n",
    "\n",
    "- target (0 or 1)"
   ]
  },
  {
   "cell_type": "markdown",
   "metadata": {
    "id": "zNdMtDMawa74"
   },
   "source": [
    "### Задание 1 <a id=\"task2_1\"></a>"
   ]
  },
  {
   "cell_type": "markdown",
   "metadata": {
    "id": "hLOa7beEwa75"
   },
   "source": [
    "Какой процент пациентов из представленных в данных имеет заболевание сердца (`'target' = 1`)?"
   ]
  },
  {
   "cell_type": "code",
   "execution_count": 9,
   "metadata": {
    "colab": {
     "base_uri": "https://localhost:8080/"
    },
    "id": "s1HXmQlowa75",
    "outputId": "2ae59652-b808-4dbe-f931-753b71d1b8da"
   },
   "outputs": [
    {
     "data": {
      "text/plain": [
       "0.5445544554455446"
      ]
     },
     "execution_count": 9,
     "metadata": {},
     "output_type": "execute_result"
    }
   ],
   "source": [
    "data['target'].mean()\n",
    "\n"
   ]
  },
  {
   "cell_type": "markdown",
   "metadata": {
    "id": "PGlhkDsLwa75"
   },
   "source": [
    "-----\n",
    "\n",
    "Разделим данную выборку случайным образом на обучающую и тестовую части в отношении 3:1."
   ]
  },
  {
   "cell_type": "code",
   "execution_count": 10,
   "metadata": {
    "colab": {
     "base_uri": "https://localhost:8080/"
    },
    "id": "byP5muZAwa75",
    "outputId": "c78b4c14-66fc-43a7-d876-aaebe5315cfc"
   },
   "outputs": [
    {
     "data": {
      "text/plain": [
       "((227, 13), (76, 13))"
      ]
     },
     "execution_count": 10,
     "metadata": {},
     "output_type": "execute_result"
    }
   ],
   "source": [
    "X_train, X_test, y_train, y_test = train_test_split(data.drop('target', axis=1), data['target'], test_size=0.25, random_state=13)\n",
    "X_train.shape, X_test.shape"
   ]
  },
  {
   "cell_type": "markdown",
   "metadata": {
    "id": "x4qdhbabwa75"
   },
   "source": [
    "### Задание 2 <a id=\"task2_2\"></a>"
   ]
  },
  {
   "cell_type": "markdown",
   "metadata": {
    "id": "V4zlXGSpwa76"
   },
   "source": [
    "Обучите логистическую регрессию из `sklearn` (`sklearn.linear_model.LogisticRegression`) со следующими гиперпараметрами:\n",
    "\n",
    "   - максимальное число итераций: `max_iter=1000`\n",
    "   - без регуляризации: `penalty='none'`\n",
    "   - сид: `random_state=13`\n",
    "   - остальные гиперпараметры оставьте равными по умолчанию\n",
    "\n",
    "Подробнее о параметрах можно почитать в [документации](https://scikit-learn.org/stable/modules/generated/sklearn.linear_model.LogisticRegression.html).\n",
    "\n",
    "Какое значение свободного коэффициента у полученной логистической регрессии? А какое получилось значение остальных весов?"
   ]
  },
  {
   "cell_type": "code",
   "execution_count": 11,
   "metadata": {
    "colab": {
     "base_uri": "https://localhost:8080/",
     "height": 469
    },
    "id": "-K6bqemBwa76",
    "outputId": "305a0916-ddd9-4936-c07c-1d19dd6b63f8"
   },
   "outputs": [
    {
     "name": "stdout",
     "output_type": "stream",
     "text": [
      "intercept = 4.322721561487964\n"
     ]
    },
    {
     "data": {
      "text/html": [
       "<div>\n",
       "<style scoped>\n",
       "    .dataframe tbody tr th:only-of-type {\n",
       "        vertical-align: middle;\n",
       "    }\n",
       "\n",
       "    .dataframe tbody tr th {\n",
       "        vertical-align: top;\n",
       "    }\n",
       "\n",
       "    .dataframe thead th {\n",
       "        text-align: right;\n",
       "    }\n",
       "</style>\n",
       "<table border=\"1\" class=\"dataframe\">\n",
       "  <thead>\n",
       "    <tr style=\"text-align: right;\">\n",
       "      <th></th>\n",
       "      <th>feature</th>\n",
       "      <th>base_log_coef</th>\n",
       "    </tr>\n",
       "  </thead>\n",
       "  <tbody>\n",
       "    <tr>\n",
       "      <th>0</th>\n",
       "      <td>age</td>\n",
       "      <td>-0.034230</td>\n",
       "    </tr>\n",
       "    <tr>\n",
       "      <th>1</th>\n",
       "      <td>sex</td>\n",
       "      <td>-1.908201</td>\n",
       "    </tr>\n",
       "    <tr>\n",
       "      <th>2</th>\n",
       "      <td>cp</td>\n",
       "      <td>0.750179</td>\n",
       "    </tr>\n",
       "    <tr>\n",
       "      <th>3</th>\n",
       "      <td>trestbps</td>\n",
       "      <td>-0.008768</td>\n",
       "    </tr>\n",
       "    <tr>\n",
       "      <th>4</th>\n",
       "      <td>chol</td>\n",
       "      <td>-0.003535</td>\n",
       "    </tr>\n",
       "    <tr>\n",
       "      <th>5</th>\n",
       "      <td>fbs</td>\n",
       "      <td>0.274738</td>\n",
       "    </tr>\n",
       "    <tr>\n",
       "      <th>6</th>\n",
       "      <td>restecg</td>\n",
       "      <td>0.486992</td>\n",
       "    </tr>\n",
       "    <tr>\n",
       "      <th>7</th>\n",
       "      <td>thalach</td>\n",
       "      <td>0.017089</td>\n",
       "    </tr>\n",
       "    <tr>\n",
       "      <th>8</th>\n",
       "      <td>exang</td>\n",
       "      <td>-1.086535</td>\n",
       "    </tr>\n",
       "    <tr>\n",
       "      <th>9</th>\n",
       "      <td>oldpeak</td>\n",
       "      <td>-0.459881</td>\n",
       "    </tr>\n",
       "    <tr>\n",
       "      <th>10</th>\n",
       "      <td>slope</td>\n",
       "      <td>0.827333</td>\n",
       "    </tr>\n",
       "    <tr>\n",
       "      <th>11</th>\n",
       "      <td>ca</td>\n",
       "      <td>-0.759362</td>\n",
       "    </tr>\n",
       "    <tr>\n",
       "      <th>12</th>\n",
       "      <td>thal</td>\n",
       "      <td>-1.031600</td>\n",
       "    </tr>\n",
       "  </tbody>\n",
       "</table>\n",
       "</div>"
      ],
      "text/plain": [
       "     feature  base_log_coef\n",
       "0        age      -0.034230\n",
       "1        sex      -1.908201\n",
       "2         cp       0.750179\n",
       "3   trestbps      -0.008768\n",
       "4       chol      -0.003535\n",
       "5        fbs       0.274738\n",
       "6    restecg       0.486992\n",
       "7    thalach       0.017089\n",
       "8      exang      -1.086535\n",
       "9    oldpeak      -0.459881\n",
       "10     slope       0.827333\n",
       "11        ca      -0.759362\n",
       "12      thal      -1.031600"
      ]
     },
     "execution_count": 11,
     "metadata": {},
     "output_type": "execute_result"
    }
   ],
   "source": [
    "logreg = LogisticRegression(penalty='none', random_state=13, max_iter=1000)\n",
    "\n",
    "logreg.fit(X_train, y_train)\n",
    "print(f'intercept = {logreg.intercept_[0]}')\n",
    "\n",
    "valzip = zip(X_train.columns, logreg.coef_[0]) \n",
    "named_coef_base = pd.DataFrame(valzip, columns=['feature', 'base_log_coef'])\n",
    "named_coef_base"
   ]
  },
  {
   "cell_type": "markdown",
   "metadata": {
    "id": "YN5FChLZwa76"
   },
   "source": [
    "### Задание 3 <a id=\"task2_3\"></a>"
   ]
  },
  {
   "cell_type": "markdown",
   "metadata": {
    "id": "mjMiDEuEwa77"
   },
   "source": [
    "Какое значение L2-нормы вектора весов (без учета свободного коэффициента) у полученного линейного классификатора?\n",
    "\n",
    "_Напоминание. L2-норма вектора $v = (v_1, \\ldots, v_n)$ - это корень из суммы квадратов его элементов:_\n",
    "\n",
    "$$\n",
    "\\|v\\|_2 = \\sqrt{\\sum\\limits_{i=1}^nv_i^2}\n",
    "$$"
   ]
  },
  {
   "cell_type": "code",
   "execution_count": 12,
   "metadata": {
    "colab": {
     "base_uri": "https://localhost:8080/"
    },
    "id": "F60835rDwa77",
    "outputId": "680bc9a6-24db-446e-94dd-b680f5af4205"
   },
   "outputs": [
    {
     "name": "stdout",
     "output_type": "stream",
     "text": [
      "L2-норма вектора весов: 2.8698\n"
     ]
    }
   ],
   "source": [
    "print(f'L2-норма вектора весов: {np.linalg.norm(logreg.coef_):.4f}')"
   ]
  },
  {
   "cell_type": "markdown",
   "metadata": {
    "id": "9J0MYbT4wa77"
   },
   "source": [
    "### Задание 4 <a id=\"task2_4\"></a>"
   ]
  },
  {
   "cell_type": "markdown",
   "metadata": {
    "id": "mOqfAUR5wa77"
   },
   "source": [
    "Найдите долю правильных ответов (accuracy) классификатора на тестовой части выборки."
   ]
  },
  {
   "cell_type": "code",
   "execution_count": 13,
   "metadata": {
    "colab": {
     "base_uri": "https://localhost:8080/"
    },
    "id": "VrQdNpXWwa77",
    "outputId": "58799b9c-e4fc-4843-8f1a-f79a50147c57"
   },
   "outputs": [
    {
     "name": "stdout",
     "output_type": "stream",
     "text": [
      "доля правильных ответов на тесте: 0.8158\n"
     ]
    }
   ],
   "source": [
    "y_hat_test = logreg.predict(X_test)\n",
    "\n",
    "print(f'доля правильных ответов на тесте: {accuracy_score(y_test, y_hat_test):.4f}')"
   ]
  },
  {
   "cell_type": "markdown",
   "metadata": {
    "id": "1lo1H3rRwa78"
   },
   "source": [
    "### Задание 5 <a id=\"task2_5\"></a>"
   ]
  },
  {
   "cell_type": "markdown",
   "metadata": {
    "id": "0zHn0Zp9wa78"
   },
   "source": [
    "В задаче классификации, как и в задаче регрессии, для оптимизации линейных моделей можно применять регуляризацию. Этот метод реализован и в `sklearn.linear_model.LogisticRegression` - гиперпараметр, отвечающий за регуляризацию - это `C`, принимающее положительные значения. Класс реализован таким образом, что `C` является обратным значением к коэффициенту регуляризации - то есть чем меньше `C`, тем сильнее регуляризация, и наоборот. За тип регуляризации (нет регуляризации, L1, L2 или обе сразу) отвечает параметр `penalty`. Также для справки - есть гиперпараметр `solver`, задающий алгоритм, решающий оптимизационную проблему. Такие алгоритмы умеют работать не со всеми типами регуляризации, так что если, например, вы хотите обучить логистическую регрессию с L1-регуляризацией, но оставите гиперпараметр `solver` равным по умолчанию (`'lbfgs'`), то у вас возникнет ошибка (можете проверить).\n",
    "\n",
    "Обучите логистическую регрессию заново со следующими гиперпараметрами:\n",
    "   \n",
    "   - максимальное число итераций: `max_iter=1000`\n",
    "   - с L1-регуляризацией: `penalty='l1'`\n",
    "   - с коэффициентом `C=0.1`\n",
    "   - алгоритм оптимизации: `solver='liblinear'`\n",
    "   - сид: `random_state=13`\n",
    "   - остальные гиперпараметры оставьте равными по умолчанию\n",
    "   \n",
    "Отличается ли качество полученного классификатора от качества первого? Какая доля правильных ответов получается теперь на тестовой выборке?"
   ]
  },
  {
   "cell_type": "code",
   "execution_count": 14,
   "metadata": {
    "colab": {
     "base_uri": "https://localhost:8080/"
    },
    "id": "3QM1VeH7wa78",
    "outputId": "86ad78e2-374d-42eb-b5f2-ca3189939a05"
   },
   "outputs": [
    {
     "name": "stdout",
     "output_type": "stream",
     "text": [
      "доля правильных ответов на тесте для L1 регуляризации: 0.8289\n",
      "ROC AUC исходная модель: 0.8922\n",
      "ROC AUC для L1 регуляризации: 0.9020\n"
     ]
    }
   ],
   "source": [
    "logreg_l1 = LogisticRegression(penalty='l1', C=0.1, random_state=13, solver='liblinear', max_iter=1000)\n",
    "logreg_l1.fit(X_train, y_train)\n",
    "\n",
    "y_hatl1_test = logreg_l1.predict(X_test)\n",
    "\n",
    "print(f'доля правильных ответов на тесте для L1 регуляризации: {accuracy_score(y_test, y_hatl1_test):.4f}')\n",
    "\n",
    "print(f'ROC AUC исходная модель: {roc_auc_score(y_test, logreg.predict_proba(X_test)[:, 1]):.4f}')\n",
    "\n",
    "print(f'ROC AUC для L1 регуляризации: {roc_auc_score(y_test, logreg_l1.predict_proba(X_test)[:, 1]):.4f}')\n",
    "\n"
   ]
  },
  {
   "cell_type": "markdown",
   "metadata": {
    "id": "jhmSGz-9q_PV"
   },
   "source": [
    "Доля правильных ответов на тесте выроста с 0,816 до 0,829.\n",
    "По метрике ROC AUC, также происходит улучшение модели на тесте с 0.89 до 0,90"
   ]
  },
  {
   "cell_type": "markdown",
   "metadata": {
    "id": "zUcK-I_Rwa78"
   },
   "source": [
    "### Задание 6 <a id=\"task2_6\"></a>"
   ]
  },
  {
   "cell_type": "markdown",
   "metadata": {
    "id": "7xBaAgbJwa78"
   },
   "source": [
    "Выведите значения весов новой обученной логистической регрессии и сравните их с весами изначальной логистической регрессии. Что вы наблюдаете?\n",
    "\n",
    "Найдите L2-норму вектора весов (без учета свободного коэффициента) для полученного классификатора. Как на нее повлияла регуляризация?"
   ]
  },
  {
   "cell_type": "code",
   "execution_count": 15,
   "metadata": {
    "colab": {
     "base_uri": "https://localhost:8080/",
     "height": 486
    },
    "id": "zigJ2lrlwa79",
    "outputId": "9193f4a7-298a-4681-b0d6-c8a44cbd3b69"
   },
   "outputs": [
    {
     "name": "stdout",
     "output_type": "stream",
     "text": [
      "intercept = 0.0\n",
      "L2-норма вектора весов: 0.9158\n"
     ]
    },
    {
     "data": {
      "text/html": [
       "<div>\n",
       "<style scoped>\n",
       "    .dataframe tbody tr th:only-of-type {\n",
       "        vertical-align: middle;\n",
       "    }\n",
       "\n",
       "    .dataframe tbody tr th {\n",
       "        vertical-align: top;\n",
       "    }\n",
       "\n",
       "    .dataframe thead th {\n",
       "        text-align: right;\n",
       "    }\n",
       "</style>\n",
       "<table border=\"1\" class=\"dataframe\">\n",
       "  <thead>\n",
       "    <tr style=\"text-align: right;\">\n",
       "      <th></th>\n",
       "      <th>feature</th>\n",
       "      <th>base_log_coef</th>\n",
       "      <th>L2_coef</th>\n",
       "    </tr>\n",
       "  </thead>\n",
       "  <tbody>\n",
       "    <tr>\n",
       "      <th>0</th>\n",
       "      <td>age</td>\n",
       "      <td>-0.034230</td>\n",
       "      <td>-0.011207</td>\n",
       "    </tr>\n",
       "    <tr>\n",
       "      <th>1</th>\n",
       "      <td>sex</td>\n",
       "      <td>-1.908201</td>\n",
       "      <td>-0.246272</td>\n",
       "    </tr>\n",
       "    <tr>\n",
       "      <th>2</th>\n",
       "      <td>cp</td>\n",
       "      <td>0.750179</td>\n",
       "      <td>0.540712</td>\n",
       "    </tr>\n",
       "    <tr>\n",
       "      <th>3</th>\n",
       "      <td>trestbps</td>\n",
       "      <td>-0.008768</td>\n",
       "      <td>-0.008941</td>\n",
       "    </tr>\n",
       "    <tr>\n",
       "      <th>4</th>\n",
       "      <td>chol</td>\n",
       "      <td>-0.003535</td>\n",
       "      <td>-0.002120</td>\n",
       "    </tr>\n",
       "    <tr>\n",
       "      <th>5</th>\n",
       "      <td>fbs</td>\n",
       "      <td>0.274738</td>\n",
       "      <td>0.000000</td>\n",
       "    </tr>\n",
       "    <tr>\n",
       "      <th>6</th>\n",
       "      <td>restecg</td>\n",
       "      <td>0.486992</td>\n",
       "      <td>0.000000</td>\n",
       "    </tr>\n",
       "    <tr>\n",
       "      <th>7</th>\n",
       "      <td>thalach</td>\n",
       "      <td>0.017089</td>\n",
       "      <td>0.025368</td>\n",
       "    </tr>\n",
       "    <tr>\n",
       "      <th>8</th>\n",
       "      <td>exang</td>\n",
       "      <td>-1.086535</td>\n",
       "      <td>0.000000</td>\n",
       "    </tr>\n",
       "    <tr>\n",
       "      <th>9</th>\n",
       "      <td>oldpeak</td>\n",
       "      <td>-0.459881</td>\n",
       "      <td>-0.382580</td>\n",
       "    </tr>\n",
       "    <tr>\n",
       "      <th>10</th>\n",
       "      <td>slope</td>\n",
       "      <td>0.827333</td>\n",
       "      <td>0.000000</td>\n",
       "    </tr>\n",
       "    <tr>\n",
       "      <th>11</th>\n",
       "      <td>ca</td>\n",
       "      <td>-0.759362</td>\n",
       "      <td>-0.402675</td>\n",
       "    </tr>\n",
       "    <tr>\n",
       "      <th>12</th>\n",
       "      <td>thal</td>\n",
       "      <td>-1.031600</td>\n",
       "      <td>-0.419915</td>\n",
       "    </tr>\n",
       "  </tbody>\n",
       "</table>\n",
       "</div>"
      ],
      "text/plain": [
       "     feature  base_log_coef   L2_coef\n",
       "0        age      -0.034230 -0.011207\n",
       "1        sex      -1.908201 -0.246272\n",
       "2         cp       0.750179  0.540712\n",
       "3   trestbps      -0.008768 -0.008941\n",
       "4       chol      -0.003535 -0.002120\n",
       "5        fbs       0.274738  0.000000\n",
       "6    restecg       0.486992  0.000000\n",
       "7    thalach       0.017089  0.025368\n",
       "8      exang      -1.086535  0.000000\n",
       "9    oldpeak      -0.459881 -0.382580\n",
       "10     slope       0.827333  0.000000\n",
       "11        ca      -0.759362 -0.402675\n",
       "12      thal      -1.031600 -0.419915"
      ]
     },
     "execution_count": 15,
     "metadata": {},
     "output_type": "execute_result"
    }
   ],
   "source": [
    "print(f'intercept = {logreg_l1.intercept_[0]}')\n",
    "valzipl1 = zip(X_train.columns, logreg_l1.coef_[0]) \n",
    "named_coef_base\n",
    "named_coef_l1 = pd.DataFrame(valzipl1, columns=['feature', 'L2_coef'])\n",
    "\n",
    "result = pd.merge(named_coef_base, named_coef_l1)\n",
    "print(f'L2-норма вектора весов: {np.linalg.norm(logreg_l1.coef_):.4f}')\n",
    "result"
   ]
  },
  {
   "cell_type": "markdown",
   "metadata": {
    "id": "3oXHun_tB2Rq"
   },
   "source": [
    "Содержательно - с L1 регуляризацией, пересечение и 4 коэффициента стали нулевыми. L2-норма вектора весов стала 0.9158 (против 2.87) на исходной оценке. $\\Rightarrow$ регуляризация работает так как мы ожидаем, минимизуруя веса."
   ]
  },
  {
   "cell_type": "markdown",
   "metadata": {
    "id": "s9jF5uKOwa79"
   },
   "source": [
    "### Задание 7 <a id=\"task2_7\"></a>"
   ]
  },
  {
   "cell_type": "markdown",
   "metadata": {
    "id": "OdRAihKqwa79"
   },
   "source": [
    "Построим третью модель - метод опорных векторов (SVM). В `sklearn` этот метод реализован в классе [`sklearn.svm.SVC`](https://scikit-learn.org/stable/modules/generated/sklearn.svm.SVC.html). Мы проходили только линейную версию SVM (где мы рисуем гиперплоскость, разделяющую два класса) - ей соответствует гиперпараметр `kernel='linear'`.\n",
    "\n",
    "Обучите SVM со следующими гиперпараметрами:\n",
    "\n",
    "   - с коэффициентом `C=1`\n",
    "   - с линейным ядром: `kernel='linear'`\n",
    "   - сид: `random_state=13`\n",
    "   - остальные гиперпараметры оставьте равными по умолчанию\n",
    "\n",
    "Посчитайте долю правильных ответов построенного классификатора на тестовой выборке. Отличается ли оно от результатов двух построенных логистических регрессий?"
   ]
  },
  {
   "cell_type": "code",
   "execution_count": 16,
   "metadata": {
    "colab": {
     "base_uri": "https://localhost:8080/"
    },
    "id": "QHZSXGn7wa79",
    "outputId": "ac44b592-3cab-4db3-c919-6f59464e56fd"
   },
   "outputs": [
    {
     "name": "stdout",
     "output_type": "stream",
     "text": [
      "доля правильных ответов на тесте для базового SVM: 0.8421\n"
     ]
    }
   ],
   "source": [
    "svm_base = svm.SVC(C=1, kernel='linear', random_state=13)\n",
    "svm_base.fit(X_train, y_train)\n",
    "\n",
    "y_hatsvm_test = svm_base.predict(X_test)\n",
    "\n",
    "print(f'доля правильных ответов на тесте для базового SVM: {accuracy_score(y_test, y_hatsvm_test):.4f}')"
   ]
  },
  {
   "cell_type": "markdown",
   "metadata": {
    "id": "yy1hHw-xx0fs"
   },
   "source": [
    "Мы получили долю правильных ответов, которая выше (0,8421), чем у двух вариантов логистических регрессий (от 0,816 до 0,829)."
   ]
  },
  {
   "cell_type": "markdown",
   "metadata": {
    "id": "rxWtnKA8wa79"
   },
   "source": [
    "### Задание 8 <a id=\"task2_8\"></a>"
   ]
  },
  {
   "cell_type": "markdown",
   "metadata": {
    "id": "ByraKThawa7-"
   },
   "source": [
    "Наконец, проверьте, как полученные классификаторы предсказывают не классы, а вероятности классов. В принципе, не все классификаторы позволяют предсказывать вероятности классов, но логистическая регрессия умеет это делать. Посмотрите на вероятности, которые выдает первая логистическая регрессия (обученный без регуляризации) на тестовой части выборки. В этом вам поможет метод [`predict_proba`](https://scikit-learn.org/stable/modules/generated/sklearn.linear_model.LogisticRegression.html#sklearn.linear_model.LogisticRegression.predict_proba). Результатом его работы будет список размера $\\ell\\times 2$, где $\\ell$ - это число объектов. В каждом столбце списка находятся вероятности соответствующего класса для объектов. Поэтому если вам нужен положительный класс, вас интересует последний столбец.\n",
    "\n",
    "Какое получается значение AUC-ROC?"
   ]
  },
  {
   "cell_type": "code",
   "execution_count": 17,
   "metadata": {
    "colab": {
     "base_uri": "https://localhost:8080/"
    },
    "id": "V0Br3KWwwa7-",
    "outputId": "8a0b9553-aebb-4efa-9c17-ac96dc688f55"
   },
   "outputs": [
    {
     "name": "stdout",
     "output_type": "stream",
     "text": [
      "ROC AUC исходной логистической регрессии : 0.8922\n"
     ]
    }
   ],
   "source": [
    "print(f'ROC AUC исходной логистической регрессии : {roc_auc_score(y_test, logreg.predict_proba(X_test)[:, 1]):.4f}')\n"
   ]
  },
  {
   "cell_type": "markdown",
   "metadata": {
    "id": "YeAweZrWwa7-"
   },
   "source": [
    "### Задание 9 <a id=\"task2_9\"></a>"
   ]
  },
  {
   "cell_type": "markdown",
   "metadata": {
    "id": "UL_r8ddIwa7-"
   },
   "source": [
    "Посчитайте значение AUC-ROC для второй логистической регрессии (которая была обучена с L1-регуляризацией). Отличается ли оно от AUC-ROC первой логистической регрессии?"
   ]
  },
  {
   "cell_type": "code",
   "execution_count": 18,
   "metadata": {
    "colab": {
     "base_uri": "https://localhost:8080/"
    },
    "id": "RyI4sBg6wa7-",
    "outputId": "453578cf-c8f1-471d-dd31-811e432497a4"
   },
   "outputs": [
    {
     "name": "stdout",
     "output_type": "stream",
     "text": [
      "ROC AUC для L1 регуляризации: 0.9020\n"
     ]
    }
   ],
   "source": [
    "\n",
    "print(f'ROC AUC для L1 регуляризации: {roc_auc_score(y_test, logreg_l1.predict_proba(X_test)[:, 1]):.4f}')"
   ]
  },
  {
   "cell_type": "markdown",
   "metadata": {
    "id": "oCpykxSq8bBy"
   },
   "source": [
    "Да, регуляризация улучшает качество модели, ROC AUC увеличивается."
   ]
  },
  {
   "cell_type": "markdown",
   "metadata": {
    "id": "TOk1m7Kzwa7_"
   },
   "source": [
    "### Задание 10 <a id=\"task2_10\"></a>"
   ]
  },
  {
   "cell_type": "markdown",
   "metadata": {
    "id": "f9GlewuOwa7_"
   },
   "source": [
    "Наконец, посчитаем значение AUC-ROC для метода опорных векторов. По умолчанию SVM не умеет выдавать вероятности. Однако вспомните, что значение AUC-ROC зависит только от того, как отранжированы объекты - но не от самих значений, выдаваемых классификатором. Поэтому на самом деле AUC-ROC необязательно подсчитывать только для вероятностей - его можно посчитать, даже если классификатор выдает вещественные числа не из интервала $[0, 1]$.\n",
    "\n",
    "В случае SVM мы можем посчитать расстояние от объектов до разделяющей гиперплоскости (со знаком минус, если объект относится к отрицательному классу, и плюс - если к положительному). В `sklearn` это реализовано с помощью метода [`decision_function`](https://scikit-learn.org/stable/modules/generated/sklearn.svm.SVC.html#sklearn.svm.SVC.decision_function). В отличие от метода `predict_proba` в логистической регрессии, данный метод выдает не массив размера $\\ell\\times 2$, а массив из $\\ell$ элементов.\n",
    "\n",
    "Примените метод `decision_function` для уже обученного SVM на тестовой выборке. Посмотрите на то, что выдает этот метод.\n",
    "\n",
    "Посчитайте значение AUC-ROC для полученного результата. Что в итоге в этой задаче сработало лучше - SVM или логистическая регрессия?"
   ]
  },
  {
   "cell_type": "code",
   "execution_count": 19,
   "metadata": {
    "colab": {
     "base_uri": "https://localhost:8080/"
    },
    "id": "vD6n6IqU9UdB",
    "outputId": "6613944d-6b31-40eb-9a08-68570da69f5b"
   },
   "outputs": [
    {
     "name": "stdout",
     "output_type": "stream",
     "text": [
      "ROC AUC для базовой SVM модели: 0.9035\n"
     ]
    }
   ],
   "source": [
    "print(f'ROC AUC для базовой SVM модели: {roc_auc_score(y_test, svm_base.decision_function(X_test)):.4f}')\n"
   ]
  },
  {
   "cell_type": "markdown",
   "metadata": {
    "id": "TJ5yfah89qaK"
   },
   "source": [
    "На данном примере, на тестовой выборке, подход SVM показал более высокую долю верных ответов и более высокое значение AUC ROC чем два варианта логистических регрессий"
   ]
  },
  {
   "cell_type": "markdown",
   "metadata": {
    "id": "uaKUXdMmwa7_"
   },
   "source": [
    "### Задание 11 <a id=\"task2_11\"></a>\n",
    "\n",
    "Подберите оптимальные параметры модели SVM на кросс-валидации (используя разные значения параметра `C`). Для сравнения разных моделей используйте класс `GridSearchCV`, кросс-валидацию с 5 фолдами и ROC-AUC в качестве критерия качества. Выведите значени `C` лучшей модели."
   ]
  },
  {
   "cell_type": "code",
   "execution_count": null,
   "metadata": {
    "colab": {
     "base_uri": "https://localhost:8080/"
    },
    "id": "XmD0bmTnwa7_",
    "outputId": "275dcc2e-df17-4bbb-b3a5-8354823b28e8"
   },
   "outputs": [
    {
     "name": "stdout",
     "output_type": "stream",
     "text": [
      "Fitting 5 folds for each of 1000 candidates, totalling 5000 fits\n"
     ]
    },
    {
     "name": "stderr",
     "output_type": "stream",
     "text": [
      "[Parallel(n_jobs=12)]: Using backend LokyBackend with 12 concurrent workers.\n",
      "[Parallel(n_jobs=12)]: Done   1 tasks      | elapsed:    2.6s\n",
      "[Parallel(n_jobs=12)]: Done   8 tasks      | elapsed:    2.7s\n",
      "[Parallel(n_jobs=12)]: Done  17 tasks      | elapsed:    2.8s\n",
      "[Parallel(n_jobs=12)]: Done  26 tasks      | elapsed:    2.9s\n",
      "[Parallel(n_jobs=12)]: Done  37 tasks      | elapsed:    3.0s\n",
      "[Parallel(n_jobs=12)]: Done  48 tasks      | elapsed:    3.1s\n",
      "[Parallel(n_jobs=12)]: Done  61 tasks      | elapsed:    3.2s\n",
      "[Parallel(n_jobs=12)]: Batch computation too fast (0.1956s.) Setting batch_size=2.\n",
      "[Parallel(n_jobs=12)]: Done  74 tasks      | elapsed:    3.3s\n",
      "[Parallel(n_jobs=12)]: Done  89 tasks      | elapsed:    3.5s\n",
      "[Parallel(n_jobs=12)]: Done 112 tasks      | elapsed:    3.7s\n",
      "[Parallel(n_jobs=12)]: Done 146 tasks      | elapsed:    4.0s\n",
      "[Parallel(n_jobs=12)]: Done 180 tasks      | elapsed:    4.3s\n",
      "[Parallel(n_jobs=12)]: Done 218 tasks      | elapsed:    4.6s\n",
      "[Parallel(n_jobs=12)]: Done 256 tasks      | elapsed:    5.0s\n",
      "[Parallel(n_jobs=12)]: Done 298 tasks      | elapsed:    5.3s\n",
      "[Parallel(n_jobs=12)]: Done 340 tasks      | elapsed:    5.7s\n",
      "[Parallel(n_jobs=12)]: Done 386 tasks      | elapsed:    6.2s\n",
      "[Parallel(n_jobs=12)]: Done 432 tasks      | elapsed:    6.7s\n",
      "[Parallel(n_jobs=12)]: Done 482 tasks      | elapsed:    7.2s\n",
      "[Parallel(n_jobs=12)]: Done 532 tasks      | elapsed:    7.7s\n",
      "[Parallel(n_jobs=12)]: Done 586 tasks      | elapsed:    8.4s\n",
      "[Parallel(n_jobs=12)]: Done 640 tasks      | elapsed:    9.4s\n",
      "[Parallel(n_jobs=12)]: Done 698 tasks      | elapsed:   10.3s\n",
      "[Parallel(n_jobs=12)]: Done 756 tasks      | elapsed:   11.1s\n",
      "[Parallel(n_jobs=12)]: Done 818 tasks      | elapsed:   12.0s\n",
      "[Parallel(n_jobs=12)]: Done 880 tasks      | elapsed:   13.1s\n",
      "[Parallel(n_jobs=12)]: Done 946 tasks      | elapsed:   14.4s\n",
      "[Parallel(n_jobs=12)]: Done 1012 tasks      | elapsed:   16.0s\n",
      "[Parallel(n_jobs=12)]: Done 1082 tasks      | elapsed:   17.9s\n",
      "[Parallel(n_jobs=12)]: Done 1152 tasks      | elapsed:   20.2s\n",
      "[Parallel(n_jobs=12)]: Done 1226 tasks      | elapsed:   23.0s\n",
      "[Parallel(n_jobs=12)]: Done 1300 tasks      | elapsed:   26.0s\n",
      "[Parallel(n_jobs=12)]: Batch computation too slow (2.0346s.) Setting batch_size=1.\n",
      "[Parallel(n_jobs=12)]: Done 1371 tasks      | elapsed:   28.9s\n",
      "[Parallel(n_jobs=12)]: Done 1412 tasks      | elapsed:   31.1s\n",
      "[Parallel(n_jobs=12)]: Done 1453 tasks      | elapsed:   33.0s\n",
      "[Parallel(n_jobs=12)]: Done 1494 tasks      | elapsed:   35.0s\n",
      "[Parallel(n_jobs=12)]: Done 1537 tasks      | elapsed:   37.2s\n",
      "[Parallel(n_jobs=12)]: Done 1580 tasks      | elapsed:   39.7s\n",
      "[Parallel(n_jobs=12)]: Done 1625 tasks      | elapsed:   41.9s\n",
      "[Parallel(n_jobs=12)]: Done 1670 tasks      | elapsed:   44.6s\n",
      "[Parallel(n_jobs=12)]: Done 1717 tasks      | elapsed:   47.1s\n",
      "[Parallel(n_jobs=12)]: Done 1764 tasks      | elapsed:   49.7s\n",
      "[Parallel(n_jobs=12)]: Done 1813 tasks      | elapsed:   52.6s\n",
      "[Parallel(n_jobs=12)]: Done 1862 tasks      | elapsed:   55.9s\n",
      "[Parallel(n_jobs=12)]: Done 1913 tasks      | elapsed:   59.4s\n",
      "[Parallel(n_jobs=12)]: Done 1964 tasks      | elapsed:  1.1min\n",
      "[Parallel(n_jobs=12)]: Done 2017 tasks      | elapsed:  1.1min\n",
      "[Parallel(n_jobs=12)]: Done 2070 tasks      | elapsed:  1.2min\n",
      "[Parallel(n_jobs=12)]: Done 2125 tasks      | elapsed:  1.3min\n",
      "[Parallel(n_jobs=12)]: Done 2180 tasks      | elapsed:  1.4min\n",
      "[Parallel(n_jobs=12)]: Done 2237 tasks      | elapsed:  1.4min\n",
      "[Parallel(n_jobs=12)]: Done 2294 tasks      | elapsed:  1.5min\n"
     ]
    }
   ],
   "source": [
    "svm_grid_searcher = GridSearchCV(\n",
    "    svm.SVC(kernel='linear', random_state=13),\n",
    "    param_grid={\n",
    "        'C': np.logspace(-1, 2, num=1000)\n",
    "    },\n",
    "    scoring='roc_auc',\n",
    "    n_jobs=multiprocessing.cpu_count(),\n",
    "    cv=5,\n",
    "    verbose=10\n",
    ")\n",
    "\n",
    "svm_grid_searcher.fit(X_train, y_train)"
   ]
  },
  {
   "cell_type": "markdown",
   "metadata": {
    "id": "CgpkUmtxJwjJ"
   },
   "source": [
    "Значение C для лучшей модели:"
   ]
  },
  {
   "cell_type": "code",
   "execution_count": null,
   "metadata": {
    "colab": {
     "base_uri": "https://localhost:8080/"
    },
    "id": "CaNm8z4LFuTE",
    "outputId": "42bafeff-7d4d-4215-b0f4-eafd586309da"
   },
   "outputs": [],
   "source": [
    "svm_grid_searcher.best_params_"
   ]
  },
  {
   "cell_type": "markdown",
   "metadata": {
    "id": "fke9B_t4wa8A"
   },
   "source": [
    "### Задание 12 <a id=\"task2_12\"></a>\n",
    "\n",
    "Для лучшей модели из предыдущего задания посчитайте ROC-AUC на тестовой выборке."
   ]
  },
  {
   "cell_type": "code",
   "execution_count": null,
   "metadata": {
    "colab": {
     "base_uri": "https://localhost:8080/"
    },
    "id": "LrPHptVMwa8A",
    "outputId": "3f7b5adb-0a85-4fa1-e9a2-29117b9a64f3"
   },
   "outputs": [],
   "source": [
    "print(f'ROC AUC для оптимизированной SVM модели: {roc_auc_score(y_test, svm_grid_searcher.decision_function(X_test)):.4f}')\n"
   ]
  },
  {
   "cell_type": "markdown",
   "metadata": {
    "id": "rpQHeCIHwa8A"
   },
   "source": [
    "### Задание 13 <a id=\"task2_13\"></a>\n",
    "\n",
    "Для лучшей модели из предыдущего задания сопоставьте признаки в данных со значениями весов обученной модели (метод `.coef_`). \n",
    "\n",
    "Посчитайте, какой признак является самым важным для принятия решения (то есть имеет наибольший по модулю коэффициент). Выведите название соответствующего столбца."
   ]
  },
  {
   "cell_type": "code",
   "execution_count": null,
   "metadata": {
    "colab": {
     "base_uri": "https://localhost:8080/",
     "height": 452
    },
    "id": "Az2IWbRCwa8A",
    "outputId": "474d621d-bc34-41c5-d458-0dc4f6b12c66"
   },
   "outputs": [],
   "source": [
    "valzipsvm = zip(X_train.columns, svm_grid_searcher.best_estimator_.coef_[0]) \n",
    "\n",
    "named_coef_svm = pd.DataFrame(valzipsvm, columns=['feature', 'svm_coef'])\n",
    "named_coef_svm.sort_values(by=['svm_coef'], ascending=False, inplace=True, key=lambda x:  np.absolute(x))\n",
    "named_coef_svm"
   ]
  },
  {
   "cell_type": "code",
   "execution_count": null,
   "metadata": {
    "colab": {
     "base_uri": "https://localhost:8080/"
    },
    "id": "KcMbxMwcIBz8",
    "outputId": "a2c6275f-0b24-4731-eff1-b1a879edcbb1"
   },
   "outputs": [],
   "source": [
    "print(f'Самый важный фактор для модели получился: {named_coef_svm.feature[0]}')"
   ]
  }
 ],
 "metadata": {
  "colab": {
   "include_colab_link": true,
   "name": "hw03.ipynb",
   "provenance": []
  },
  "kernelspec": {
   "display_name": "Python 3",
   "language": "python",
   "name": "python3"
  },
  "language_info": {
   "codemirror_mode": {
    "name": "ipython",
    "version": 3
   },
   "file_extension": ".py",
   "mimetype": "text/x-python",
   "name": "python",
   "nbconvert_exporter": "python",
   "pygments_lexer": "ipython3",
   "version": "3.8.3"
  }
 },
 "nbformat": 4,
 "nbformat_minor": 1
}
