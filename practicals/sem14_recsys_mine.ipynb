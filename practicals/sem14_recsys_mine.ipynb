{
  "nbformat": 4,
  "nbformat_minor": 0,
  "metadata": {
    "colab": {
      "name": "sem14_recsys_mine.ipynb",
      "provenance": [],
      "collapsed_sections": [],
      "machine_shape": "hm",
      "include_colab_link": true
    },
    "kernelspec": {
      "display_name": "Python 3",
      "language": "python",
      "name": "python3"
    },
    "language_info": {
      "codemirror_mode": {
        "name": "ipython",
        "version": 3
      },
      "file_extension": ".py",
      "mimetype": "text/x-python",
      "name": "python",
      "nbconvert_exporter": "python",
      "pygments_lexer": "ipython3",
      "version": "3.6.3"
    }
  },
  "cells": [
    {
      "cell_type": "markdown",
      "metadata": {
        "id": "view-in-github",
        "colab_type": "text"
      },
      "source": [
        "<a href=\"https://colab.research.google.com/github/ksetdekov/ml_dpo_2021/blob/master/practicals/sem14_recsys_mine.ipynb\" target=\"_parent\"><img src=\"https://colab.research.google.com/assets/colab-badge.svg\" alt=\"Open In Colab\"/></a>"
      ]
    },
    {
      "cell_type": "markdown",
      "metadata": {
        "id": "oNqRKj5c4AXO"
      },
      "source": [
        "# Рекомендательные системы"
      ]
    },
    {
      "cell_type": "markdown",
      "metadata": {
        "id": "ychQcodwwgfp"
      },
      "source": [
        "В этом ноутбуке мы применим алгоритм коллаборативной фильтрации на item-base подходе. Работать мы будем с датасетом MovieLens, который содержит в себе информацию об оценках фильмов пользователями одноименного сайта."
      ]
    },
    {
      "cell_type": "markdown",
      "metadata": {
        "id": "KGJjO0IwxAfE"
      },
      "source": [
        "Давайте загрузим необходимые библиотеки."
      ]
    },
    {
      "cell_type": "code",
      "metadata": {
        "id": "HLW7bd6zw9zr"
      },
      "source": [
        "import pickle as pkl\n",
        "from collections import defaultdict, Counter\n",
        "import datetime\n",
        "\n",
        "from scipy import linalg\n",
        "import scipy.sparse as sps\n",
        "import numpy as np\n",
        "import matplotlib.pyplot as plt"
      ],
      "execution_count": 1,
      "outputs": []
    },
    {
      "cell_type": "markdown",
      "metadata": {
        "id": "KGIcZaM-49C1"
      },
      "source": [
        "Загрузим предобработанные данные."
      ]
    },
    {
      "cell_type": "code",
      "metadata": {
        "id": "impNIb5349C2"
      },
      "source": [
        "with open('data.pkl', 'rb') as f:\n",
        "    data = pkl.load(f)\n",
        "users = data['users']\n",
        "movies = data['movies']\n",
        "ratings = data['ratings']"
      ],
      "execution_count": 2,
      "outputs": []
    },
    {
      "cell_type": "markdown",
      "metadata": {
        "id": "zb4bgay23z5f"
      },
      "source": [
        "### Посмотрим на данные"
      ]
    },
    {
      "cell_type": "code",
      "metadata": {
        "colab": {
          "base_uri": "https://localhost:8080/"
        },
        "id": "I-YIPJnR49C3",
        "outputId": "c2a55ccd-bb75-4747-b6cc-fb0a328761d7"
      },
      "source": [
        "print('Number of users:', len(users))\n",
        "print('Number of movies:', len(movies))"
      ],
      "execution_count": 3,
      "outputs": [
        {
          "output_type": "stream",
          "text": [
            "Number of users: 6040\n",
            "Number of movies: 3883\n"
          ],
          "name": "stdout"
        }
      ]
    },
    {
      "cell_type": "markdown",
      "metadata": {
        "id": "cDrokcG849C5"
      },
      "source": [
        "О пользователях нам известен пол (F, M), возраст, закодированная информация о трудоустройстве и zip-code."
      ]
    },
    {
      "cell_type": "code",
      "metadata": {
        "colab": {
          "base_uri": "https://localhost:8080/"
        },
        "id": "D9IJmfac49C6",
        "outputId": "351dc50a-2372-4663-8615-a066b00b2162"
      },
      "source": [
        "users[1001]"
      ],
      "execution_count": 4,
      "outputs": [
        {
          "output_type": "execute_result",
          "data": {
            "text/plain": [
              "{'Age': '50', 'Gender': 'M', 'Occupation': 11, 'Zip-code': '07043'}"
            ]
          },
          "metadata": {
            "tags": []
          },
          "execution_count": 4
        }
      ]
    },
    {
      "cell_type": "markdown",
      "metadata": {
        "id": "q05VNgaL49C7"
      },
      "source": [
        "Про фильм известны название и список жанров."
      ]
    },
    {
      "cell_type": "code",
      "metadata": {
        "colab": {
          "base_uri": "https://localhost:8080/"
        },
        "id": "P31ainWQ49C7",
        "outputId": "870d81b7-c43b-4f6f-f811-a4f8e293b314"
      },
      "source": [
        "movies[1001]"
      ],
      "execution_count": 5,
      "outputs": [
        {
          "output_type": "execute_result",
          "data": {
            "text/plain": [
              "{'Genres': [\"Children's\", 'Comedy', 'Drama'], 'Title': 'Pollyanna (1960)'}"
            ]
          },
          "metadata": {
            "tags": []
          },
          "execution_count": 5
        }
      ]
    },
    {
      "cell_type": "markdown",
      "metadata": {
        "id": "oR2dI1SU49C8"
      },
      "source": [
        "В словаре ratings хранится список оценок для каждого пользователя.\n",
        "Каждая оценка - это кортеж из movieId, самой оценки (числа от 1 до 5) и момента времени, когда оценка была сделана."
      ]
    },
    {
      "cell_type": "code",
      "metadata": {
        "colab": {
          "base_uri": "https://localhost:8080/"
        },
        "id": "CuTfmpcI3Oal",
        "outputId": "aa0df346-761a-417b-d677-d0058f4b8240"
      },
      "source": [
        "print('Number of ratings for user 1001:', len(ratings[1001]))\n",
        "print(ratings[1001][0])"
      ],
      "execution_count": 6,
      "outputs": [
        {
          "output_type": "stream",
          "text": [
            "Number of ratings for user 1001: 66\n",
            "(2918, 4, datetime.datetime(2000, 11, 24, 7, 31, 27))\n"
          ],
          "name": "stdout"
        }
      ]
    },
    {
      "cell_type": "markdown",
      "metadata": {
        "id": "L8Y5wWqe49C9"
      },
      "source": [
        "Посчитаем, сколько всего оценок у нас есть."
      ]
    },
    {
      "cell_type": "code",
      "metadata": {
        "colab": {
          "base_uri": "https://localhost:8080/"
        },
        "id": "x1cebSo349C9",
        "outputId": "9385cf02-2713-4cc9-d06a-426b76b0eb8d"
      },
      "source": [
        "print('Number of ratings:', sum(len(user_ratings) for user_ratings in ratings))"
      ],
      "execution_count": 7,
      "outputs": [
        {
          "output_type": "stream",
          "text": [
            "Number of ratings: 1000209\n"
          ],
          "name": "stdout"
        }
      ]
    },
    {
      "cell_type": "markdown",
      "metadata": {
        "id": "w7ljEchH49C9"
      },
      "source": [
        "Напечатаем, какие фильмы посмотрел пользователь 1001..."
      ]
    },
    {
      "cell_type": "code",
      "metadata": {
        "colab": {
          "base_uri": "https://localhost:8080/"
        },
        "id": "ryxcQGu_49C-",
        "outputId": "1e60cac4-30a4-46a7-a42b-7da167264353"
      },
      "source": [
        "print([movies[r[0]]['Title'] for r in ratings[1001]])"
      ],
      "execution_count": 8,
      "outputs": [
        {
          "output_type": "stream",
          "text": [
            "['Who Framed Roger Rabbit? (1988)', 'Being John Malkovich (1999)', 'Insider, The (1999)', 'Roger & Me (1989)', 'Dances with Wolves (1990)', 'Contender, The (2000)', 'Back to the Future (1985)', 'Moonstruck (1987)', 'Private Parts (1997)', 'Player, The (1992)', 'Big Night (1996)', 'Boogie Nights (1997)', \"She's Gotta Have It (1986)\", 'Do the Right Thing (1989)', 'Amistad (1997)', 'Superman (1978)', 'Ed Wood (1994)', 'Outbreak (1995)', 'Pulp Fiction (1994)', 'American Beauty (1999)', 'People vs. Larry Flynt, The (1996)', 'Fargo (1996)', 'Three Kings (1999)', 'Jurassic Park (1993)', 'When Harry Met Sally... (1989)', 'English Patient, The (1996)', 'Thin Blue Line, The (1988)', 'Almost Famous (2000)', 'Jerry Maguire (1996)', 'Cider House Rules, The (1999)', 'Big Chill, The (1983)', 'Good Will Hunting (1997)', 'Wonder Boys (2000)', 'Any Given Sunday (1999)', 'Talented Mr. Ripley, The (1999)', 'Horse Whisperer, The (1998)', 'Jackie Brown (1997)', 'Life and Times of Hank Greenberg, The (1998)', 'Rushmore (1998)', 'Shakespeare in Love (1998)', 'In the Company of Men (1997)', 'Summer of Sam (1999)', 'Apollo 13 (1995)', 'Quiz Show (1994)', 'JFK (1991)', 'Diner (1982)', 'Get Shorty (1995)', 'Leaving Las Vegas (1995)', 'Sixth Sense, The (1999)', 'Rain Man (1988)', 'Dead Man Walking (1995)', 'Secrets & Lies (1996)', 'Postino, Il (The Postman) (1994)', 'Searching for Bobby Fischer (1993)', 'GoodFellas (1990)', 'Fish Called Wanda, A (1988)', 'Godfather: Part II, The (1974)', 'Full Metal Jacket (1987)', 'Amadeus (1984)', 'Saving Private Ryan (1998)', 'Straight Story, The (1999)', 'Remember the Titans (2000)', 'Right Stuff, The (1983)', 'Local Hero (1983)', 'Doors, The (1991)', 'Crying Game, The (1992)']\n"
          ],
          "name": "stdout"
        }
      ]
    },
    {
      "cell_type": "markdown",
      "metadata": {
        "id": "A0Kig4j949C-"
      },
      "source": [
        "... и к каким жанрам они относятся."
      ]
    },
    {
      "cell_type": "code",
      "metadata": {
        "colab": {
          "base_uri": "https://localhost:8080/"
        },
        "id": "pFBjB7rV49C-",
        "outputId": "16e042a1-ffe8-4eaf-b4ac-0510981e9be1"
      },
      "source": [
        "g1001 = defaultdict(int)\n",
        "for r in ratings[1001]:\n",
        "    for genre in movies[r[0]]['Genres']:\n",
        "        g1001[genre] += 1\n",
        "g1001"
      ],
      "execution_count": 10,
      "outputs": [
        {
          "output_type": "execute_result",
          "data": {
            "text/plain": [
              "defaultdict(int,\n",
              "            {'Action': 7,\n",
              "             'Adventure': 4,\n",
              "             'Animation': 1,\n",
              "             'Comedy': 20,\n",
              "             'Crime': 5,\n",
              "             'Documentary': 3,\n",
              "             'Drama': 50,\n",
              "             'Film-Noir': 1,\n",
              "             'Musical': 1,\n",
              "             'Mystery': 2,\n",
              "             'Romance': 8,\n",
              "             'Sci-Fi': 3,\n",
              "             'Thriller': 5,\n",
              "             'War': 5,\n",
              "             'Western': 1})"
            ]
          },
          "metadata": {
            "tags": []
          },
          "execution_count": 10
        }
      ]
    },
    {
      "cell_type": "markdown",
      "metadata": {
        "id": "DRhrR41349C_"
      },
      "source": [
        "### Валидация"
      ]
    },
    {
      "cell_type": "markdown",
      "metadata": {
        "id": "HiIzOAdn4hdU"
      },
      "source": [
        "Разобьем данные на тренировочную и тестовую выборку. Разбивать будем рейтинги по времени. Для начала найдем дату, в которую уже было выставлено 80% рейтингов в датасете. И все рейтинги, что были до, попадут в train, а остальные в test."
      ]
    },
    {
      "cell_type": "code",
      "metadata": {
        "id": "a-raaLKQ5NcU"
      },
      "source": [
        "times = []\n",
        "for user_ratings in ratings:\n",
        "    times.extend([x[2] for x in user_ratings])"
      ],
      "execution_count": 11,
      "outputs": []
    },
    {
      "cell_type": "code",
      "metadata": {
        "id": "wgkiECze5ZI_"
      },
      "source": [
        "times = sorted(times)"
      ],
      "execution_count": 13,
      "outputs": []
    },
    {
      "cell_type": "code",
      "metadata": {
        "id": "bxt0kai75iYf"
      },
      "source": [
        "threshold_time = times[int(0.8 * len(times))]"
      ],
      "execution_count": 14,
      "outputs": []
    },
    {
      "cell_type": "code",
      "metadata": {
        "colab": {
          "base_uri": "https://localhost:8080/"
        },
        "id": "x-JKj56U3myp",
        "outputId": "474848cd-1925-4684-dcb2-d3943ba9a99b"
      },
      "source": [
        "train = []\n",
        "test = []\n",
        "for user_id, user_ratings in enumerate(ratings):\n",
        "    train.extend((user_id, rating[0], rating[1] / 5.0) for rating in user_ratings if rating[2] <= threshold_time)\n",
        "    test.extend((user_id, rating[0], rating[1] / 5.0) for rating in user_ratings if rating[2] > threshold_time)\n",
        "print(\"ratings in train:\", len(train))\n",
        "print(\"ratings in test:\", len(test))"
      ],
      "execution_count": 16,
      "outputs": [
        {
          "output_type": "stream",
          "text": [
            "ratings in train: 800168\n",
            "ratings in test: 200041\n"
          ],
          "name": "stdout"
        }
      ]
    },
    {
      "cell_type": "code",
      "metadata": {
        "id": "Qc9CbtQZ2XPd"
      },
      "source": [
        "train_by_user = defaultdict(list)\n",
        "test_by_user = defaultdict(list)\n",
        "for u, i, r in train:\n",
        "    train_by_user[u].append((i, r))\n",
        "for u, i, r in test:\n",
        "    test_by_user[u].append((i, r))"
      ],
      "execution_count": 17,
      "outputs": []
    },
    {
      "cell_type": "markdown",
      "metadata": {
        "id": "wQCyaLlN49DB"
      },
      "source": [
        "Научимся считать тестовую метрику (MSE) для предсказаний."
      ]
    },
    {
      "cell_type": "code",
      "metadata": {
        "id": "n426kBIS49DB"
      },
      "source": [
        "def recom_mse(recom_func):\n",
        "    mse = 0\n",
        "    cnt = 0\n",
        "    for uid in range(len(users)):\n",
        "        recoms = recom_func(uid)\n",
        "        tbu = test_by_user[uid]\n",
        "        test_items = [e[0] for e in tbu]\n",
        "        test_ratings = np.array([e[1] for e in tbu])        \n",
        "        errors = np.square(recoms[test_items] - test_ratings)\n",
        "        mse += sum(errors)\n",
        "        cnt += len(errors)\n",
        "    return mse / cnt"
      ],
      "execution_count": 18,
      "outputs": []
    },
    {
      "cell_type": "markdown",
      "metadata": {
        "id": "tsvoPesR49DB"
      },
      "source": [
        "Посмотрим характерное значение метрики для случайного предсказания."
      ]
    },
    {
      "cell_type": "code",
      "metadata": {
        "id": "Rz2N3jTv49DC"
      },
      "source": [
        "def random_recom_func(uid):\n",
        "    return np.random.rand(len(movies))"
      ],
      "execution_count": 19,
      "outputs": []
    },
    {
      "cell_type": "code",
      "metadata": {
        "colab": {
          "base_uri": "https://localhost:8080/"
        },
        "id": "QmjhFwRG49DC",
        "outputId": "749aaeec-0553-40de-914c-f8d843912739"
      },
      "source": [
        "recom_mse(random_recom_func)"
      ],
      "execution_count": 20,
      "outputs": [
        {
          "output_type": "execute_result",
          "data": {
            "text/plain": [
              "0.17540677314078243"
            ]
          },
          "metadata": {
            "tags": []
          },
          "execution_count": 20
        }
      ]
    },
    {
      "cell_type": "markdown",
      "metadata": {
        "id": "5SXfqKwE49DC"
      },
      "source": [
        "### Item-based коллаборативная фильтрация"
      ]
    },
    {
      "cell_type": "markdown",
      "metadata": {
        "id": "XvCb2Yvw49DC"
      },
      "source": [
        "Item-based коллаборативная фильтрация - это почти как user-based, только item :)\n",
        "\n",
        "В user-based мы считали похожесть пользователей (строк матрицы) и вычисляли оценку пользователя U на фильм I как взвешенное среднее оценок остальных пользователей, где вес - степень похожести на пользователя U.\n",
        "$$ \\hat{r}(u_5, i_1) = \\sum_{u \\in \\{1, 2, 6\\}} sim(u_5, u) \\cdot r(u, i_1) $$\n",
        "$$ \\sum_{u \\in \\{1, 2, 6\\}} sim(u_5, u) = 1 $$\n",
        "\n",
        "В item-based мы считаем похожесть фильмов (столбцов матрицы) и вычисляем оценку пользователя U на фильм I как взвешенное среднее оценок пользователя U на остальные фильмы, где вес - степень похожести на фильм I:\n",
        "$$ \\hat{r}(u_5, i_1) = \\sum_{i \\in \\{3, 4, 5\\}} sim(i_1, i) \\cdot r(u_5, i) $$\n",
        "$$ \\sum_{i \\in \\{3, 4, 5\\}} sim(i_1, i) = 1 $$"
      ]
    },
    {
      "cell_type": "markdown",
      "metadata": {
        "id": "FVl-hIP149DD"
      },
      "source": [
        "<img src=\"https://hsto.org/files/827/8c7/4dc/8278c74dce8b45e992220121e8a08ae5.png\" width=\"50%\"/>"
      ]
    },
    {
      "cell_type": "markdown",
      "metadata": {
        "id": "vI6qnPa-xt_L"
      },
      "source": [
        "Сейчас мы хотим посчитать похожесть по фильмам.\n",
        "\n",
        "Для этого нам сначала нужно посчитать средний рейтинг каждого пользователя (потом мы будем центрировать на него оценки этого пользователя)."
      ]
    },
    {
      "cell_type": "code",
      "metadata": {
        "id": "IeBL3nByzR4r"
      },
      "source": [
        "user_average = defaultdict(list)\n",
        "for user_id, user_ratings in train_by_user.items():\n",
        "  rating_sum = 0.\n",
        "  total_ratings = len(user_ratings)\n",
        "  for movie_id, rating in user_ratings:\n",
        "    rating_sum += rating\n",
        "  user_average_rating = rating_sum / total_ratings\n",
        "  user_average[user_id] = user_average_rating"
      ],
      "execution_count": 21,
      "outputs": []
    },
    {
      "cell_type": "markdown",
      "metadata": {
        "id": "kXPICdTr49DD"
      },
      "source": [
        "Построим матрицу user-item."
      ]
    },
    {
      "cell_type": "code",
      "metadata": {
        "id": "haOzNlNJ49DE"
      },
      "source": [
        "user_item = np.zeros([len(users), len(movies)])\n",
        "for u, i, r in train:\n",
        "    user_item[u, i] = r - user_average[u]"
      ],
      "execution_count": 22,
      "outputs": []
    },
    {
      "cell_type": "markdown",
      "metadata": {
        "id": "nryAAha149DE"
      },
      "source": [
        "Посчитаем норму каждого фильма (столбца) в этой матрице. Сделаем копию матрицы user-item с нормированными столбцами."
      ]
    },
    {
      "cell_type": "code",
      "metadata": {
        "id": "C3uksMF049DE"
      },
      "source": [
        "item_norms = np.linalg.norm(user_item, axis = 0)\n",
        "\n",
        "user_item_normed = user_item / (item_norms[np.newaxis, :] + 1e-6)"
      ],
      "execution_count": 24,
      "outputs": []
    },
    {
      "cell_type": "code",
      "metadata": {
        "colab": {
          "base_uri": "https://localhost:8080/"
        },
        "id": "-CHLySSm9ftH",
        "outputId": "017fffee-d778-4f53-a45f-63219b8253da"
      },
      "source": [
        "user_item_normed.shape"
      ],
      "execution_count": 26,
      "outputs": [
        {
          "output_type": "execute_result",
          "data": {
            "text/plain": [
              "(6040, 3883)"
            ]
          },
          "metadata": {
            "tags": []
          },
          "execution_count": 26
        }
      ]
    },
    {
      "cell_type": "markdown",
      "metadata": {
        "id": "t0K6XJO10vyc"
      },
      "source": [
        "Похожестью фильмов будем считать скалярное произведение их нормированных столбцов.\n",
        "\n",
        "(Без нормирования популярные фильмы были бы наиболее похожи на все остальные фильмы)."
      ]
    },
    {
      "cell_type": "code",
      "metadata": {
        "id": "S3Wlzw6B49DF"
      },
      "source": [
        "item_item_similarity = user_item_normed.T @ user_item_normed"
      ],
      "execution_count": 25,
      "outputs": []
    },
    {
      "cell_type": "code",
      "metadata": {
        "colab": {
          "base_uri": "https://localhost:8080/",
          "height": 288
        },
        "id": "UKcsPDTX9h4J",
        "outputId": "d815f4c8-5313-45fb-9a59-ba94d9b5319c"
      },
      "source": [
        "plt.figure(figsize=(10,10));\n",
        "plt.matshow(item_item_similarity);\n",
        "plt.axis('off')"
      ],
      "execution_count": 27,
      "outputs": [
        {
          "output_type": "execute_result",
          "data": {
            "text/plain": [
              "(-0.5, 3882.5, 3882.5, -0.5)"
            ]
          },
          "metadata": {
            "tags": []
          },
          "execution_count": 27
        },
        {
          "output_type": "display_data",
          "data": {
            "text/plain": [
              "<Figure size 720x720 with 0 Axes>"
            ]
          },
          "metadata": {
            "tags": []
          }
        },
        {
          "output_type": "display_data",
          "data": {
            "image/png": "[encoded data removed]",
            "text/plain": [
              "<Figure size 288x288 with 1 Axes>"
            ]
          },
          "metadata": {
            "tags": [],
            "needs_background": "light"
          }
        }
      ]
    },
    {
      "cell_type": "markdown",
      "metadata": {
        "id": "tbj6zhu_2KOY"
      },
      "source": [
        "Давайте обнулим те похожести, которые меньше 0. Это означает, что если угол между векторами больше 90 градусов, то мы считаем их совсем не похожими."
      ]
    },
    {
      "cell_type": "code",
      "metadata": {
        "id": "u4YU4f5C1ngw"
      },
      "source": [
        "item_item_similarity[item_item_similarity < 0 ] = 0."
      ],
      "execution_count": 28,
      "outputs": []
    },
    {
      "cell_type": "code",
      "metadata": {
        "colab": {
          "base_uri": "https://localhost:8080/",
          "height": 288
        },
        "id": "uIlpgR1Q94RY",
        "outputId": "f6fd7751-a210-46da-a559-43e4519b01e6"
      },
      "source": [
        "plt.figure(figsize=(10,10));\n",
        "plt.matshow(item_item_similarity);\n",
        "plt.axis('off')"
      ],
      "execution_count": 29,
      "outputs": [
        {
          "output_type": "execute_result",
          "data": {
            "text/plain": [
              "(-0.5, 3882.5, 3882.5, -0.5)"
            ]
          },
          "metadata": {
            "tags": []
          },
          "execution_count": 29
        },
        {
          "output_type": "display_data",
          "data": {
            "text/plain": [
              "<Figure size 720x720 with 0 Axes>"
            ]
          },
          "metadata": {
            "tags": []
          }
        },
        {
          "output_type": "display_data",
          "data": {
            "image/png": "[encoded data removed]",
            "text/plain": [
              "<Figure size 288x288 with 1 Axes>"
            ]
          },
          "metadata": {
            "tags": [],
            "needs_background": "light"
          }
        }
      ]
    },
    {
      "cell_type": "markdown",
      "metadata": {
        "id": "arqNuget49DF"
      },
      "source": [
        "Напишем функцию, вычисляющую рекомендации для пользователя."
      ]
    },
    {
      "cell_type": "code",
      "metadata": {
        "id": "Ub-blRTJ49DF"
      },
      "source": [
        "def item_based_recoms(uid):\n",
        "    user_ratings = train_by_user[uid]\n",
        "    if len(user_ratings) == 0:\n",
        "        return np.random.rand(len(movies))\n",
        "    user_rated_items = [e[0] for e in user_ratings]\n",
        "    user_rated_ratings = np.array([[e[1]] for e in user_ratings])\n",
        "    # столбцы в матрице похожести, которые соответствуют оцененным фильмам\n",
        "    similar_items = item_item_similarity[:, user_rated_items]\n",
        "    # смешаем пользовательские рейтинги с весами похожести фильмов и таким образом получим предсказанные рейтинги\n",
        "    recoms = similar_items.dot(user_rated_ratings)[:, 0] / (similar_items.sum(axis=1) + 1e-6)\n",
        "    return recoms"
      ],
      "execution_count": 30,
      "outputs": []
    },
    {
      "cell_type": "markdown",
      "metadata": {
        "id": "DqPGSHLr49DG"
      },
      "source": [
        "Посмотрим, какие фильмы рекомендуются пользователю 1001."
      ]
    },
    {
      "cell_type": "code",
      "metadata": {
        "colab": {
          "base_uri": "https://localhost:8080/"
        },
        "id": "HfbBcvdU49DG",
        "outputId": "ae99b7cf-3dcc-4234-b225-45f7832b09a5"
      },
      "source": [
        "recoms1001 = item_based_recoms(1001)\n",
        "print(recoms1001)\n",
        "print(len(recoms1001))"
      ],
      "execution_count": 32,
      "outputs": [
        {
          "output_type": "stream",
          "text": [
            "[0.80629559 0.59598739 0.42865171 ... 0.87984804 0.86532725 0.81723548]\n",
            "3883\n"
          ],
          "name": "stdout"
        }
      ]
    },
    {
      "cell_type": "code",
      "metadata": {
        "colab": {
          "base_uri": "https://localhost:8080/"
        },
        "id": "3OYv6n2N49DG",
        "outputId": "bcbd54a2-88b3-42af-f93e-84a2ebe0a7c9"
      },
      "source": [
        "top_movies = np.argsort(-recoms1001)\n",
        "user_1001_rated_items = [e[0] for e in train_by_user[1001]]\n",
        "top_movies_ids = [i for i in top_movies if i not in user_1001_rated_items][:20]\n",
        "top_movies_names = [movies[mid]['Title'] for mid in top_movies_ids]\n",
        "print(top_movies_names)"
      ],
      "execution_count": 33,
      "outputs": [
        {
          "output_type": "stream",
          "text": [
            "['Talk of Angels (1998)', 'Time of the Gypsies (Dom za vesanje) (1989)', 'Bittersweet Motel (2000)', 'Beyond Silence (1996)', 'Year of the Horse (1997)', 'Ballad of Narayama, The (Narayama Bushiko) (1958)', 'Midaq Alley (Callejón de los milagros, El) (1995)', 'Silence of the Palace, The (Saimt el Qusur) (1994)', 'Gay Deceivers, The (1969)', 'Detroit 9000 (1973)', 'Modern Affair, A (1995)', '1-900 (1994)', 'Paralyzing Fear: The Story of Polio in America, A (1998)', 'Schlafes Bruder (Brother of Sleep) (1995)', 'Steamboat Willie (1940)', 'Outside Ozona (1998)', 'Broadway Damage (1997)', 'Ulysses (Ulisse) (1954)', 'Naked Man, The (1998)', 'Captives (1994)']\n"
          ],
          "name": "stdout"
        }
      ]
    },
    {
      "cell_type": "code",
      "metadata": {
        "colab": {
          "base_uri": "https://localhost:8080/"
        },
        "id": "cyjDdfQb49DG",
        "outputId": "7c6750bb-9037-4895-f594-a17093611503"
      },
      "source": [
        "g1001 = defaultdict(int)\n",
        "for mid in top_movies_ids:\n",
        "    for genre in movies[mid]['Genres']:\n",
        "        g1001[genre] += 1\n",
        "g1001"
      ],
      "execution_count": 34,
      "outputs": [
        {
          "output_type": "execute_result",
          "data": {
            "text/plain": [
              "defaultdict(int,\n",
              "            {'Action': 1,\n",
              "             'Adventure': 1,\n",
              "             'Animation': 1,\n",
              "             \"Children's\": 1,\n",
              "             'Comedy': 3,\n",
              "             'Crime': 1,\n",
              "             'Documentary': 3,\n",
              "             'Drama': 10,\n",
              "             'Musical': 1,\n",
              "             'Romance': 2,\n",
              "             'Thriller': 1})"
            ]
          },
          "metadata": {
            "tags": []
          },
          "execution_count": 34
        }
      ]
    },
    {
      "cell_type": "markdown",
      "metadata": {
        "id": "arhg2-1w49DG"
      },
      "source": [
        "Видно, что по жанрам предлагаемые фильмы похожи на то, что любит пользователь, хотя информация о жанрах никак не использовалась в модели."
      ]
    },
    {
      "cell_type": "markdown",
      "metadata": {
        "id": "RDas8Bv8-j9X"
      },
      "source": [
        "Можем посмотреть на рейтинги в тесте этого пользователя и сравнить с предсказанными."
      ]
    },
    {
      "cell_type": "code",
      "metadata": {
        "id": "JxLvx5_V-xBc"
      },
      "source": [
        "test_user_rated_items = [e[0] for e in test_by_user[1001]]\n",
        "test_user_rated_ratings = np.array([[e[1]] for e in test_by_user[1001]])"
      ],
      "execution_count": 35,
      "outputs": []
    },
    {
      "cell_type": "code",
      "metadata": {
        "colab": {
          "base_uri": "https://localhost:8080/"
        },
        "id": "KuLeyrlIBgrV",
        "outputId": "c1904f79-b31f-426c-b788-f800e1590d91"
      },
      "source": [
        "np.array(recoms1001[test_user_rated_items])"
      ],
      "execution_count": 36,
      "outputs": [
        {
          "output_type": "execute_result",
          "data": {
            "text/plain": [
              "array([0.8618182 , 0.88490002, 0.8234007 , 0.88595563, 0.70044489,\n",
              "       0.87474672, 0.87713363, 0.8886971 , 0.65266484, 0.87585753,\n",
              "       0.79001147, 0.86045879, 0.53676937, 0.87375567, 0.84208953,\n",
              "       0.88465361, 0.84346753, 0.84003731, 0.89812404, 0.89971263,\n",
              "       0.82395376, 0.8507473 , 0.8690104 , 0.84956161, 0.87531474,\n",
              "       0.52185757, 0.70771292, 0.83390207, 0.78662905, 0.85312482,\n",
              "       0.8107856 , 0.85831591, 0.80888691, 0.83363116, 0.86502365,\n",
              "       0.87067897, 0.89304359, 0.87833356, 0.84292542, 0.88060632,\n",
              "       0.84581618, 0.86394076, 0.88061128, 0.83182246, 0.88351248,\n",
              "       0.81123365, 0.84279952, 0.90251491, 0.88472636])"
            ]
          },
          "metadata": {
            "tags": []
          },
          "execution_count": 36
        }
      ]
    },
    {
      "cell_type": "code",
      "metadata": {
        "colab": {
          "base_uri": "https://localhost:8080/"
        },
        "id": "Znxgt6Q6CsCa",
        "outputId": "ecfb63dd-eeb5-42cb-b835-974a35f61abd"
      },
      "source": [
        "test_user_rated_ratings[:, 0]"
      ],
      "execution_count": 37,
      "outputs": [
        {
          "output_type": "execute_result",
          "data": {
            "text/plain": [
              "array([1. , 1. , 0.8, 0.8, 0.8, 1. , 0.8, 0.8, 0.8, 1. , 0.8, 0.8, 0.6,\n",
              "       1. , 0.8, 1. , 0.8, 1. , 0.6, 1. , 1. , 0.8, 1. , 0.8, 0.8, 0.4,\n",
              "       0.4, 0.8, 0.8, 0.8, 1. , 1. , 0.6, 0.8, 0.8, 0.8, 1. , 0.8, 0.8,\n",
              "       1. , 1. , 1. , 1. , 0.8, 0.6, 0.6, 1. , 0.8, 1. ])"
            ]
          },
          "metadata": {
            "tags": []
          },
          "execution_count": 37
        }
      ]
    },
    {
      "cell_type": "markdown",
      "metadata": {
        "id": "4KRZLU8qDQUi"
      },
      "source": [
        "Видно, что какая-то корреляция с правильным ответом есть."
      ]
    },
    {
      "cell_type": "markdown",
      "metadata": {
        "id": "mDVd9IWd9D0U"
      },
      "source": [
        "Посчитаем MSE."
      ]
    },
    {
      "cell_type": "code",
      "metadata": {
        "colab": {
          "base_uri": "https://localhost:8080/"
        },
        "id": "g944brZT2rg7",
        "outputId": "7ddd3c2d-31fd-4006-b3ba-7c58476cea85"
      },
      "source": [
        "recom_mse(item_based_recoms)"
      ],
      "execution_count": 38,
      "outputs": [
        {
          "output_type": "execute_result",
          "data": {
            "text/plain": [
              "0.10675692942944676"
            ]
          },
          "metadata": {
            "tags": []
          },
          "execution_count": 38
        }
      ]
    },
    {
      "cell_type": "markdown",
      "metadata": {
        "id": "NyRMWaxa49DI"
      },
      "source": [
        "Видим, что результат лучше случайного."
      ]
    },
    {
      "cell_type": "markdown",
      "metadata": {
        "id": "d6l6m4ow49DI"
      },
      "source": [
        "## Бонус-треки"
      ]
    },
    {
      "cell_type": "markdown",
      "metadata": {
        "id": "cecONk3r49DI"
      },
      "source": [
        "### Cold start problem"
      ]
    },
    {
      "cell_type": "markdown",
      "metadata": {
        "id": "zXig3S4y49DI"
      },
      "source": [
        "Есть новые пользователи, которые пока что не поставили ни одной оценки, есть фильмы (новые или просто унылые), которые пока никто не оценил. Нужно думать что с ними делать."
      ]
    },
    {
      "cell_type": "code",
      "metadata": {
        "colab": {
          "base_uri": "https://localhost:8080/",
          "height": 355
        },
        "id": "n64EMNTb49DI",
        "outputId": "b7ee2991-c7ea-4287-c087-6c78efe9e452"
      },
      "source": [
        "fig, axes = plt.subplots(1, 2, figsize=(15, 5))\n",
        "\n",
        "plt.sca(axes[0])\n",
        "plt.hist([len(user_ratings) for user_ratings in ratings], bins=64)\n",
        "plt.xlabel('Number of ratings by one user', fontsize=14)\n",
        "plt.ylabel('Number of such users', fontsize=14)\n",
        "\n",
        "plt.sca(axes[1])\n",
        "plt.hist([len(user_ratings) for user_ratings in ratings if len(user_ratings) < 50], bins=64)\n",
        "plt.xlabel('Number of ratings by one user', fontsize=14)\n",
        "plt.ylabel('Number of such users', fontsize=14)\n",
        "\n",
        "print('Все пользователи в датасете сделали хотя бы по 20 оценок')"
      ],
      "execution_count": 40,
      "outputs": [
        {
          "output_type": "stream",
          "text": [
            "Все пользователи в датасете сделали хотя бы по 20 оценок\n"
          ],
          "name": "stdout"
        },
        {
          "output_type": "display_data",
          "data": {
            "image/png": "[encoded data removed]",
            "text/plain": [
              "<Figure size 1080x360 with 2 Axes>"
            ]
          },
          "metadata": {
            "tags": [],
            "needs_background": "light"
          }
        }
      ]
    },
    {
      "cell_type": "code",
      "metadata": {
        "colab": {
          "base_uri": "https://localhost:8080/",
          "height": 355
        },
        "id": "d9It7eQm49DJ",
        "outputId": "384d38ac-2fbc-4867-a46f-f8243139ffe0"
      },
      "source": [
        "fig, axes = plt.subplots(1, 2, figsize=(15, 5))\n",
        "\n",
        "plt.sca(axes[0])\n",
        "plt.hist([len(user_ratings) for user_ratings in train_by_user.values()], bins=64)\n",
        "plt.xlabel('Number of ratings by one user', fontsize=14)\n",
        "plt.ylabel('Number of such users', fontsize=14)\n",
        "\n",
        "plt.sca(axes[1])\n",
        "plt.hist([len(user_ratings) for user_ratings in train_by_user.values() if len(user_ratings) < 50], bins=64)\n",
        "plt.xlabel('Number of ratings by one user', fontsize=14)\n",
        "plt.ylabel('Number of such users', fontsize=14)\n",
        "\n",
        "print(\"Но на момент времени, разделяющий обучающую и валидационную выборку \"\n",
        "      \"600 пользователей не сделали ни одной оценки\")"
      ],
      "execution_count": 41,
      "outputs": [
        {
          "output_type": "stream",
          "text": [
            "Но на момент времени, разделяющий обучающую и валидационную выборку 600 пользователей не сделали ни одной оценки\n"
          ],
          "name": "stdout"
        },
        {
          "output_type": "display_data",
          "data": {
            "image/png": "[encoded data removed]",
            "text/plain": [
              "<Figure size 1080x360 with 2 Axes>"
            ]
          },
          "metadata": {
            "tags": [],
            "needs_background": "light"
          }
        }
      ]
    },
    {
      "cell_type": "code",
      "metadata": {
        "id": "ixYsQpkk49DJ"
      },
      "source": [
        "movie_rates_cnt = {i: 0 for i in range(len(movies))}\n",
        "for user_ratings in ratings:\n",
        "    for rating in user_ratings:\n",
        "        movie_rates_cnt[rating[0]] += 1"
      ],
      "execution_count": 42,
      "outputs": []
    },
    {
      "cell_type": "code",
      "metadata": {
        "colab": {
          "base_uri": "https://localhost:8080/",
          "height": 355
        },
        "id": "fbXMuW6B49DJ",
        "outputId": "23cf39af-9c37-4309-ce8e-8e09831527fb"
      },
      "source": [
        "fig, axes = plt.subplots(1, 2, figsize=(15, 5))\n",
        "\n",
        "plt.sca(axes[0])\n",
        "plt.hist([i for i in movie_rates_cnt.values()], bins=64)\n",
        "plt.xlabel('Number of ratings by one user', fontsize=14)\n",
        "plt.ylabel('Number of such users', fontsize=14)\n",
        "\n",
        "plt.sca(axes[1])\n",
        "plt.hist([i for i in movie_rates_cnt.values() if i < 50], bins=64)\n",
        "plt.xlabel('Number of ratings by one user', fontsize=14)\n",
        "plt.ylabel('Number of such users', fontsize=14)\n",
        "\n",
        "print(\"175 фильмов не имеют ни одной оценки\")"
      ],
      "execution_count": 43,
      "outputs": [
        {
          "output_type": "stream",
          "text": [
            "175 фильмов не имеют ни одной оценки\n"
          ],
          "name": "stdout"
        },
        {
          "output_type": "display_data",
          "data": {
            "image/png": "[encoded data removed]",
            "text/plain": [
              "<Figure size 1080x360 with 2 Axes>"
            ]
          },
          "metadata": {
            "tags": [],
            "needs_background": "light"
          }
        }
      ]
    },
    {
      "cell_type": "code",
      "metadata": {
        "colab": {
          "base_uri": "https://localhost:8080/"
        },
        "id": "yJBU2Ewj49DK",
        "outputId": "7809aac0-cfaa-46b3-ff3f-531ebfcb8a4b"
      },
      "source": [
        "print('Это их названия:', [movies[mid]['Title'] for mid in range(len(movies)) if movie_rates_cnt[mid] == 0])"
      ],
      "execution_count": 44,
      "outputs": [
        {
          "output_type": "stream",
          "text": [
            "Это их названия: ['Guardian Angel (1994)', 'Headless Body in Topless Bar (1995)', 'Happiness Is in the Field (1995)', 'Gospa (1995)', 'New York Cop (1996)', 'Beyond Bedlam (1993)', 'Desert Winds (1995)', 'Girl in the Cadillac (1995)', 'Homage (1995)', 'Two Crimes (1995)', 'Criminals (1996)', 'Scream of Stone (Schrei aus Stein) (1991)', 'Asfour Stah (1990)', 'Rude (1995)', 'Frisk (1995)', 'Und keiner weint mir nach (1996)', 'Hostile Intentions (1994)', 'They Bite (1996)', \"Eye of Vichy, The (Oeil de Vichy, L') (1993)\", 'Under the Domin Tree (Etz Hadomim Tafus) (1994)', 'To Cross the Rubicon (1991)', 'Of Love and Shadows (1994)', 'Halfmoon (Paul Bowles - Halbmond) (1995)', 'Two Friends (1986)', 'War Stories (1995)', 'Garcu, Le (1995)', 'Honigmond (1996)', 'Vermont Is For Lovers (1992)', \"Someone Else's America (1995)\", 'Costa Brava (1946)', 'Quartier Mozart (1992)', 'Touki Bouki (Journey of the Hyena) (1973)', \"Pharaoh's Army (1995)\", 'Midnight Dancers (Sibak) (1994)', 'Somebody to Love (1994)', 'Old Lady Who Walked in the Sea, The (Vieille qui marchait dans la mer, La) (1991)', 'Magic Hunter (1994)', 'Two Deaths (1995)', 'Stefano Quantestorie (1993)', 'Hedd Wyn (1992)', 'Echte Kerle (1996)', 'Day the Sun Turned Cold, The (Tianguo niezi) (1994)', 'Every Other Weekend (1990)', 'Mille bolle blu (1993)', 'Crows and Sparrows (1949)', \"Lover's Knot (1996)\", 'Shadow of Angels (Schatten der Engel) (1976)', 'Baton Rouge (1988)', 'Liebelei (1933)', 'Nothing Personal (1995)', 'Madagascar Skin (1995)', \"Associate, The (L'Associe)(1982)\", 'Love Is All There Is (1996)', 'Proprietor, The (1996)', 'Woman in Question, The (1950)', 'Sexual Life of the Belgians, The (1994)', 'Leopard Son, The (1996)', 'Prerokbe Ognja (1995)', \"Charm's Incidents (1996)\", 'Bird of Prey (1996)', 'Plutonium Circus (1995)', 'Hustler White (1996)', 'Entertaining Angels: The Dorothy Day Story (1996)', 'Hoogste tijd (1995)', 'Three Lives and Only One Death (1996)', \"Curtis's Charm (1995)\", 'Invitation, The (Zaproszenie) (1986)', 'Children Are Watching us, The (Bambini ci guardano, I) (1942)', 'Symphonie pastorale, La (1946)', 'Here Comes Cookie (1935)', 'Love in Bloom (1935)', 'Farmer & Chase (1995)', 'I Shot a Man in Vegas (1995)', 'Parallel Sons (1995)', 'Breathing Room (1996)', 'Blue Juice (1995)', 'Kids of Survival (1993)', 'Forbidden Christ, The (Cristo proibito, Il) (1950)', 'Somebody is Waiting (1996)', 'Inside (1996)', 'Tickle in the Heart, A (1996)', 'Fire on the Mountain (1996)', 'Unforgotten: Twenty-Five Years After Willowbrook (1996)', 'Salut cousin! (1996)', 'Turning, The (1992)', 'Squeeze (1996)', 'Next Step, The (1995)', 'MURDER and murder (1996)', 'Mondo (1996)', 'Innocent Sleep, The (1995)', 'Locusts, The (1997)', 'Big Bang Theory, The (1994)', 'Boys, Les (1997)', 'Guy (1996)', 'Harlem River Drive (1996)', 'Ill Gotten Gains (1997)', 'Man of Her Dreams (1996)', 'Other Voices, Other Rooms (1997)', 'Twisted (1996)', 'Vermin (1998)', 'Men of Means (1998)', 'Caught Up (1998)', 'Duoluo tianshi (1995)', 'Letter From Death Row, A (1998)', \"Mat' i syn (1997)\", 'Mass Transit (1998)', 'Ride (1998)', 'Further Gesture, A (1996)', 'Sadness of Sex, The (1995)', 'Storefront Hitchcock (1997)', 'Ratchet (1996)', 'East Palace West Palace (Dong gong xi gong) (1997)', 'Phoenix (1998)', 'Skin Game, The (1931)', 'Manxman, The (1929)', 'Champagne (1928)', 'Downhill (1927)', 'Easy Virtue (1927)', 'Mountain Eagle, The (1926)', 'Pleasure Garden, The (1925)', 'Always Tell Your Wife (1923)', 'Century of Cinema, A (1994)', \"Lilian's Story (1995)\", 'Reach the Rock (1997)', 'Spanish Fly (1998)', 'Breaks, The (1999)', 'Harvest (1998)', 'Empty Mirror, The (1999)', 'Clubland (1998)', 'Photographer (Fotoamator) (1998)', 'Little Bit of Soul, A (1998)', 'Nô (1998)', 'Let it Come Down: The Life of Paul Bowles (1998)', 'Floating (1997)', 'Taxman (1999)', 'Zone 39 (1997)', 'Lost Son, The (1999)', 'I Woke Up Early the Day I Died (1998)', \"Ennui, L' (1998)\", 'Penitentiary (1979)', 'Sparrows (1926)', 'Naturally Native (1998)', 'Men Cry Bullets (1997)', 'Portraits Chinois (1996)', 'My Best Girl (1927)', 'British Intelligence (1940)', 'Goodbye, 20th Century (Zbogum na dvadesetiot vek) (1998)', 'Hi-Yo Silver (1940)', 'Quarry, The (1998)', 'Creature (1999)', 'Tess of the Storm Country (1922)', 'Hellhounds on My Trail (1999)', 'Not Love, Just Frenzy (Más que amor, frenesí) (1996)', 'Saphead, The (1920)', 'Train Ride to Hollywood (1978)', 'Gendernauts (1999)', 'Knockout (1999)', 'Legend of Lobo, The (1962)', 'Night Visitor, The (1970)', 'Condo Painting (2000)', 'Any Number Can Win (Mélodie en sous-sol ) (1963)', 'Big Fella (1937)', 'Babymother (1998)', 'Buddy Boy (1999)', 'Third World Cop (1999)', 'Law, The (Le Legge) (1958)', 'Phantom Love (Ai No Borei) (1978)', \"Stacy's Knights (1982)\", 'Jails, Hospitals & Hip-Hop (2000)', 'Black Tights (Les Collants Noirs) (1960)', 'Kill, Baby... Kill! (Operazione Paura) (1966)', \"House of Exorcism, The (La Casa dell'esorcismo) (1974)\", 'Anguish (Angustia) (1986)', \"Boricua's Bond (2000)\", 'Mad About Mambo (2000)', 'Autumn Heart (1999)', 'Prince of Central Park, The (1999)']\n"
          ],
          "name": "stdout"
        }
      ]
    },
    {
      "cell_type": "markdown",
      "metadata": {
        "id": "WaaFRKs149DK"
      },
      "source": [
        "Простейшее решение cold start problem: для новых пользователей предлагаем просто самые популярные фильмы (popularity-based approach)."
      ]
    },
    {
      "cell_type": "code",
      "metadata": {
        "id": "WbQ3iM6T49DK"
      },
      "source": [
        "# считаем средний рейтинг каждого фильма\n",
        "movies_rating = defaultdict(list)\n",
        "for u, i, r in train:\n",
        "    movies_rating[i].append(r)\n",
        "for mid in range(len(movies)):\n",
        "    movies_rating[mid] = sum(movies_rating[mid]) / (len(movies_rating[mid]) + 1e-6)\n",
        "movies_rating = np.array([movies_rating[mid] for mid in range(len(movies))])"
      ],
      "execution_count": null,
      "outputs": []
    },
    {
      "cell_type": "code",
      "metadata": {
        "id": "robus0Ce49DK"
      },
      "source": [
        "def item_based_recoms_with_popularity_based_cold_start(uid):\n",
        "    user_ratings = train_by_user[uid]\n",
        "    if len(user_ratings) == 0:\n",
        "        return movies_rating\n",
        "    user_rated_items = [e[0] for e in user_ratings]\n",
        "    user_rated_ratings = np.array([[e[1]] for e in user_ratings])\n",
        "    # столбцы в матрице похожести, которые соответствуют оцененным фильмам\n",
        "    similar_items = item_item_similarity[:, user_rated_items]\n",
        "    # смешаем пользовательские рейтинги с весами похожести фильмов и таким образом получим предсказанные рейтинги\n",
        "    recoms = similar_items.dot(user_rated_ratings)[:, 0] / (similar_items.sum(axis=1) + 1e-6)\n",
        "    return recoms"
      ],
      "execution_count": null,
      "outputs": []
    },
    {
      "cell_type": "code",
      "metadata": {
        "id": "TQU_teYW49DL",
        "outputId": "a5092037-f374-48f1-9e95-853a0f5a5fa1"
      },
      "source": [
        "recom_mse(item_based_recoms_with_popularity_based_cold_start)"
      ],
      "execution_count": null,
      "outputs": [
        {
          "output_type": "execute_result",
          "data": {
            "text/plain": [
              "0.03804089438208653"
            ]
          },
          "metadata": {
            "tags": []
          },
          "execution_count": 38
        }
      ]
    },
    {
      "cell_type": "markdown",
      "metadata": {
        "id": "P-xsSRD849DL"
      },
      "source": [
        "Видим, что даже такой простой трюк значительно улучшает MSE."
      ]
    }
  ]
}